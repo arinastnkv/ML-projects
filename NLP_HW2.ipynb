{
  "nbformat": 4,
  "nbformat_minor": 0,
  "metadata": {
    "colab": {
      "name": "Copy of Copy of hw2_nlp.ipynb",
      "provenance": [],
      "collapsed_sections": []
    },
    "kernelspec": {
      "name": "python3",
      "display_name": "Python 3"
    },
    "accelerator": "GPU"
  },
  "cells": [
    {
      "cell_type": "markdown",
      "metadata": {
        "id": "HfaqKEdH_NL6",
        "colab_type": "text"
      },
      "source": [
        "# Home Assignment 2"
      ]
    },
    {
      "cell_type": "code",
      "metadata": {
        "id": "GF32EDRs-_IE",
        "colab_type": "code",
        "outputId": "40b8fe30-0b08-421c-9336-3bc903b53d6a",
        "colab": {
          "base_uri": "https://localhost:8080/",
          "height": 202
        }
      },
      "source": [
        "!wget http://paraphraser.ru/download/get?file_id=1"
      ],
      "execution_count": 0,
      "outputs": [
        {
          "output_type": "stream",
          "text": [
            "--2018-12-26 11:21:02--  http://paraphraser.ru/download/get?file_id=1\n",
            "Resolving paraphraser.ru (paraphraser.ru)... 89.223.87.180\n",
            "Connecting to paraphraser.ru (paraphraser.ru)|89.223.87.180|:80... connected.\n",
            "HTTP request sent, awaiting response... 200 OK\n",
            "Length: 1155237 (1.1M) [application/x-download]\n",
            "Saving to: ‘get?file_id=1’\n",
            "\n",
            "get?file_id=1       100%[===================>]   1.10M   518KB/s    in 2.2s    \n",
            "\n",
            "2018-12-26 11:21:05 (518 KB/s) - ‘get?file_id=1’ saved [1155237/1155237]\n",
            "\n"
          ],
          "name": "stdout"
        }
      ]
    },
    {
      "cell_type": "code",
      "metadata": {
        "id": "6FV8syBKKQKA",
        "colab_type": "code",
        "outputId": "f0bd8187-ba27-4031-8d1f-f7e02970c057",
        "colab": {
          "base_uri": "https://localhost:8080/",
          "height": 84
        }
      },
      "source": [
        "! unzip get?file_id=1"
      ],
      "execution_count": 0,
      "outputs": [
        {
          "output_type": "stream",
          "text": [
            "Archive:  get?file_id=1\n",
            "  inflating: LICENSE                 \n",
            "  inflating: corpus.xml              \n",
            "  inflating: paraphrases.xml         \n"
          ],
          "name": "stdout"
        }
      ]
    },
    {
      "cell_type": "code",
      "metadata": {
        "id": "vBinCNw2R-ku",
        "colab_type": "code",
        "outputId": "bbd0d972-a3c0-4625-fd99-1c41241a6fbb",
        "colab": {
          "base_uri": "https://localhost:8080/",
          "height": 222
        }
      },
      "source": [
        "!pip install pymorphy2"
      ],
      "execution_count": 0,
      "outputs": [
        {
          "output_type": "stream",
          "text": [
            "Collecting pymorphy2\n",
            "\u001b[?25l  Downloading https://files.pythonhosted.org/packages/a3/33/fff9675c68b5f6c63ec8c6e6ff57827dda28a1fa5b2c2d727dffff92dd47/pymorphy2-0.8-py2.py3-none-any.whl (46kB)\n",
            "\u001b[K    100% |████████████████████████████████| 51kB 2.5MB/s \n",
            "\u001b[?25hCollecting dawg-python>=0.7 (from pymorphy2)\n",
            "  Downloading https://files.pythonhosted.org/packages/6a/84/ff1ce2071d4c650ec85745766c0047ccc3b5036f1d03559fd46bb38b5eeb/DAWG_Python-0.7.2-py2.py3-none-any.whl\n",
            "Requirement already satisfied: docopt>=0.6 in /usr/local/lib/python3.6/dist-packages (from pymorphy2) (0.6.2)\n",
            "Collecting pymorphy2-dicts<3.0,>=2.4 (from pymorphy2)\n",
            "\u001b[?25l  Downloading https://files.pythonhosted.org/packages/02/51/2465fd4f72328ab50877b54777764d928da8cb15b74e2680fc1bd8cb3173/pymorphy2_dicts-2.4.393442.3710985-py2.py3-none-any.whl (7.1MB)\n",
            "\u001b[K    100% |████████████████████████████████| 7.1MB 6.4MB/s \n",
            "\u001b[?25hInstalling collected packages: dawg-python, pymorphy2-dicts, pymorphy2\n",
            "Successfully installed dawg-python-0.7.2 pymorphy2-0.8 pymorphy2-dicts-2.4.393442.3710985\n"
          ],
          "name": "stdout"
        }
      ]
    },
    {
      "cell_type": "code",
      "metadata": {
        "id": "g4aMKrXbB02u",
        "colab_type": "code",
        "outputId": "59e817a4-377e-4a75-d074-35860f0b0da2",
        "colab": {
          "base_uri": "https://localhost:8080/",
          "height": 339
        }
      },
      "source": [
        "!pip install gensim"
      ],
      "execution_count": 0,
      "outputs": [
        {
          "output_type": "stream",
          "text": [
            "Requirement already satisfied: gensim in /usr/local/lib/python3.6/dist-packages (3.6.0)\n",
            "Requirement already satisfied: smart-open>=1.2.1 in /usr/local/lib/python3.6/dist-packages (from gensim) (1.7.1)\n",
            "Requirement already satisfied: six>=1.5.0 in /usr/local/lib/python3.6/dist-packages (from gensim) (1.11.0)\n",
            "Requirement already satisfied: numpy>=1.11.3 in /usr/local/lib/python3.6/dist-packages (from gensim) (1.14.6)\n",
            "Requirement already satisfied: scipy>=0.18.1 in /usr/local/lib/python3.6/dist-packages (from gensim) (1.1.0)\n",
            "Requirement already satisfied: boto>=2.32 in /usr/local/lib/python3.6/dist-packages (from smart-open>=1.2.1->gensim) (2.49.0)\n",
            "Requirement already satisfied: bz2file in /usr/local/lib/python3.6/dist-packages (from smart-open>=1.2.1->gensim) (0.98)\n",
            "Requirement already satisfied: requests in /usr/local/lib/python3.6/dist-packages (from smart-open>=1.2.1->gensim) (2.18.4)\n",
            "Requirement already satisfied: boto3 in /usr/local/lib/python3.6/dist-packages (from smart-open>=1.2.1->gensim) (1.9.67)\n",
            "Requirement already satisfied: certifi>=2017.4.17 in /usr/local/lib/python3.6/dist-packages (from requests->smart-open>=1.2.1->gensim) (2018.11.29)\n",
            "Requirement already satisfied: urllib3<1.23,>=1.21.1 in /usr/local/lib/python3.6/dist-packages (from requests->smart-open>=1.2.1->gensim) (1.22)\n",
            "Requirement already satisfied: chardet<3.1.0,>=3.0.2 in /usr/local/lib/python3.6/dist-packages (from requests->smart-open>=1.2.1->gensim) (3.0.4)\n",
            "Requirement already satisfied: idna<2.7,>=2.5 in /usr/local/lib/python3.6/dist-packages (from requests->smart-open>=1.2.1->gensim) (2.6)\n",
            "Requirement already satisfied: jmespath<1.0.0,>=0.7.1 in /usr/local/lib/python3.6/dist-packages (from boto3->smart-open>=1.2.1->gensim) (0.9.3)\n",
            "Requirement already satisfied: botocore<1.13.0,>=1.12.67 in /usr/local/lib/python3.6/dist-packages (from boto3->smart-open>=1.2.1->gensim) (1.12.67)\n",
            "Requirement already satisfied: s3transfer<0.2.0,>=0.1.10 in /usr/local/lib/python3.6/dist-packages (from boto3->smart-open>=1.2.1->gensim) (0.1.13)\n",
            "Requirement already satisfied: docutils>=0.10 in /usr/local/lib/python3.6/dist-packages (from botocore<1.13.0,>=1.12.67->boto3->smart-open>=1.2.1->gensim) (0.14)\n",
            "Requirement already satisfied: python-dateutil<3.0.0,>=2.1; python_version >= \"2.7\" in /usr/local/lib/python3.6/dist-packages (from botocore<1.13.0,>=1.12.67->boto3->smart-open>=1.2.1->gensim) (2.5.3)\n"
          ],
          "name": "stdout"
        }
      ]
    },
    {
      "cell_type": "code",
      "metadata": {
        "id": "dN7bQJBE_WR8",
        "colab_type": "code",
        "outputId": "947fe3ab-6e32-45aa-ebf3-ac82adaeda72",
        "colab": {
          "base_uri": "https://localhost:8080/",
          "height": 202
        }
      },
      "source": [
        "!pip install glove-python"
      ],
      "execution_count": 0,
      "outputs": [
        {
          "output_type": "stream",
          "text": [
            "Collecting glove-python\n",
            "\u001b[?25l  Downloading https://files.pythonhosted.org/packages/3e/79/7e7e548dd9dcb741935d031117f4bed133276c2a047aadad42f1552d1771/glove_python-0.1.0.tar.gz (263kB)\n",
            "\u001b[K    100% |████████████████████████████████| 266kB 8.9MB/s \n",
            "\u001b[?25hRequirement already satisfied: numpy in /usr/local/lib/python3.6/dist-packages (from glove-python) (1.14.6)\n",
            "Requirement already satisfied: scipy in /usr/local/lib/python3.6/dist-packages (from glove-python) (1.1.0)\n",
            "Building wheels for collected packages: glove-python\n",
            "  Running setup.py bdist_wheel for glove-python ... \u001b[?25l-\b \b\\\b \b|\b \b/\b \b-\b \b\\\b \b|\b \bdone\n",
            "\u001b[?25h  Stored in directory: /root/.cache/pip/wheels/88/4b/6d/10c0d2ad32c9d9d68beec9694a6f0b6e83ab1662a90a089a4b\n",
            "Successfully built glove-python\n",
            "Installing collected packages: glove-python\n",
            "Successfully installed glove-python-0.1.0\n"
          ],
          "name": "stdout"
        }
      ]
    },
    {
      "cell_type": "markdown",
      "metadata": {
        "id": "McMVScbu_UYk",
        "colab_type": "text"
      },
      "source": [
        "### Задание 1"
      ]
    },
    {
      "cell_type": "markdown",
      "metadata": {
        "id": "6VUFInJnjKsM",
        "colab_type": "text"
      },
      "source": [
        "Сначала импортируем данные из XML-файлов."
      ]
    },
    {
      "cell_type": "code",
      "metadata": {
        "id": "XpoloNttKVKh",
        "colab_type": "code",
        "colab": {}
      },
      "source": [
        "import xml.etree.ElementTree as ET\n",
        "parser = ET.XMLParser(encoding = 'UTF-8')\n",
        "tree = ET.parse('paraphrases.xml', parser = parser)\n",
        "root = tree.getroot()"
      ],
      "execution_count": 0,
      "outputs": []
    },
    {
      "cell_type": "code",
      "metadata": {
        "id": "Rk4TBkc4_H4y",
        "colab_type": "code",
        "colab": {}
      },
      "source": [
        "parser_corpus = ET.XMLParser(encoding = 'UTF-8')\n",
        "tree_corpus = ET.parse('corpus.xml', parser = parser_corpus)\n",
        "root_corpus = tree_corpus.getroot()"
      ],
      "execution_count": 0,
      "outputs": []
    },
    {
      "cell_type": "markdown",
      "metadata": {
        "id": "ZWPYIEipjS-h",
        "colab_type": "text"
      },
      "source": [
        "Чтобы избавиться от многоклассовости, присоединим класс '0' к классу '1'. Таким образом останется 2 класса - парафразы и не-парафразы. На этом же шаге мы сохраняем заголовки из файла с парами и из файла с общим корпусом."
      ]
    },
    {
      "cell_type": "code",
      "metadata": {
        "id": "nPn5tkADClV8",
        "colab_type": "code",
        "colab": {}
      },
      "source": [
        "import numpy as np\n",
        "paraphrases, classes, corpus = [], [], []\n",
        "for child in root[1]:\n",
        "  paraphrases.append([child[3].text, child[4].text])\n",
        "  classes.append(child[6].text)\n",
        "classes = np.array([1 if i == '0' or i == '1' else 0 for i in classes])\n",
        "\n",
        "for child in root_corpus[1]:\n",
        "  corpus.append(child[1].text)"
      ],
      "execution_count": 0,
      "outputs": []
    },
    {
      "cell_type": "markdown",
      "metadata": {
        "id": "JzCh3ZIjn0hW",
        "colab_type": "text"
      },
      "source": [
        "Отлично, мы вытащили предложения из xml. Положим потенциальные парафразы и их классы в один массив и попробуем их предобработать - убрать стоп-слова и лемматизировать."
      ]
    },
    {
      "cell_type": "code",
      "metadata": {
        "id": "olOhti17mNks",
        "colab_type": "code",
        "outputId": "763aab38-8ed2-48a9-95b5-7c073fccd84f",
        "colab": {
          "base_uri": "https://localhost:8080/",
          "height": 101
        }
      },
      "source": [
        "import nltk\n",
        "nltk.download('stopwords')\n",
        "nltk.download('punkt')\n",
        "from nltk.corpus import stopwords\n",
        "from nltk.tokenize import word_tokenize\n",
        "import string\n",
        "from tqdm import tqdm\n",
        "from pymorphy2 import MorphAnalyzer\n",
        "from pymystem3 import Mystem\n",
        "mystem_analyzer = Mystem()"
      ],
      "execution_count": 0,
      "outputs": [
        {
          "output_type": "stream",
          "text": [
            "[nltk_data] Downloading package stopwords to /root/nltk_data...\n",
            "[nltk_data]   Unzipping corpora/stopwords.zip.\n",
            "[nltk_data] Downloading package punkt to /root/nltk_data...\n",
            "[nltk_data]   Unzipping tokenizers/punkt.zip.\n"
          ],
          "name": "stdout"
        },
        {
          "output_type": "stream",
          "text": [
            "Installing mystem to /root/.local/bin/mystem from http://download.cdn.yandex.net/mystem/mystem-3.1-linux-64bit.tar.gz\n"
          ],
          "name": "stderr"
        }
      ]
    },
    {
      "cell_type": "markdown",
      "metadata": {
        "id": "DsJ-pe5Ukses",
        "colab_type": "text"
      },
      "source": [
        "Загруженный корпус с предобученными векторами содержит слова с добавленными к ним POS-тегами. Для работы с этими векторами сделаем токены с POS-тегами."
      ]
    },
    {
      "cell_type": "code",
      "metadata": {
        "id": "PaXdy8QwmPzg",
        "colab_type": "code",
        "colab": {}
      },
      "source": [
        "pym2 = MorphAnalyzer()\n",
        "noise = stopwords.words('russian') + list(string.punctuation) + ['«', '»'] \n",
        "tokens, tokens_corpus, tokens_wo_pos, tokens_corpus_wo_pos = [], [], [], []\n",
        "for i in paraphrases:\n",
        "    tokens.append([[pym2.parse(j)[0].normal_form + '_' + str(pym2.parse(pym2.parse(j)[0].normal_form)[0].tag.POS)\n",
        "                    for j in word_tokenize(i[0].lower()) if (j not in noise) and (pym2.parse(j)[0].tag.POS) is not None], \n",
        "                   [pym2.parse(j)[0].normal_form + '_' + str(pym2.parse(pym2.parse(j)[0].normal_form)[0].tag.POS)\n",
        "                    for j in word_tokenize(i[1].lower()) if j not in noise and (pym2.parse(j)[0].tag.POS) is not None]])\n",
        "for i in corpus:\n",
        "  tokens_corpus.append([pym2.parse(j)[0].normal_form + '_' + str(pym2.parse(pym2.parse(j)[0].normal_form)[0].tag.POS)\n",
        "                    for j in word_tokenize(i.lower()) if (j not in noise) and (pym2.parse(j)[0].tag.POS) is not None])\n",
        "  "
      ],
      "execution_count": 0,
      "outputs": []
    },
    {
      "cell_type": "markdown",
      "metadata": {
        "id": "mO-YtLWprl6A",
        "colab_type": "text"
      },
      "source": [
        "Теги из pymystem и универсальные POS-теги не совпадают - приведём теги к универсальному виду. Кроме того, сразу найдём индексы заголовков из пар в корпусе - это может пригодиться позже."
      ]
    },
    {
      "cell_type": "code",
      "metadata": {
        "id": "RD-DY-iRUBbu",
        "colab_type": "code",
        "colab": {}
      },
      "source": [
        "def replace_all(text, dic):\n",
        "    for i, j in dic.items():\n",
        "        text = text.replace(i, j)\n",
        "    return text\n",
        "d = {'_ADJF' : '_ADJ', '_ADJS' : '_ADJ', '_ADVB' : '_ADV', '_INFN' : '_VERB', '_PRTF' : '_ADJ', '_PRTS' : 'ADJ'}\n",
        "\n",
        "index_in_corpus = np.array([])\n",
        "for i in range(len(tokens_corpus)):\n",
        "    for j in range(len(tokens_corpus[i])):\n",
        "      tokens_corpus[i][j] = replace_all(tokens_corpus[i][j], d)\n",
        "\n",
        "for i in range(len(tokens)):\n",
        "  for j in range(len(tokens[i])):\n",
        "    for k in range(len(tokens[i][j])):\n",
        "      tokens[i][j][k] = replace_all(tokens[i][j][k], d)\n",
        "    index_in_corpus = np.append(index_in_corpus, tokens_corpus.index(tokens[i][j]))\n",
        "index_in_corpus = index_in_corpus.reshape(len(tokens), 2)\n",
        "      \n"
      ],
      "execution_count": 0,
      "outputs": []
    },
    {
      "cell_type": "markdown",
      "metadata": {
        "id": "HRrV6WmPs2WR",
        "colab_type": "text"
      },
      "source": [
        "Загрузим модель с предобученными векторами и посчитаем WMD для пар векторов."
      ]
    },
    {
      "cell_type": "code",
      "metadata": {
        "id": "rdrCZOQZp5vf",
        "colab_type": "code",
        "outputId": "3801b7f8-20d7-4ca3-ffc8-989d82476beb",
        "colab": {
          "base_uri": "https://localhost:8080/",
          "height": 34
        }
      },
      "source": [
        "import gensim\n",
        "import pymorphy2\n",
        "import gensim.downloader as api\n",
        "\n",
        "model_rus = api.load(\"word2vec-ruscorpora-300\")"
      ],
      "execution_count": 0,
      "outputs": [
        {
          "output_type": "stream",
          "text": [
            "[==================================================] 100.0% 198.8/198.8MB downloaded\n"
          ],
          "name": "stdout"
        }
      ]
    },
    {
      "cell_type": "code",
      "metadata": {
        "id": "-qP-xNm2UAvv",
        "colab_type": "code",
        "colab": {}
      },
      "source": [
        "distances = np.array([])\n",
        "for i in tokens:\n",
        "  distances = np.append(distances, model_rus.wmdistance(i[0], i[1]))\n",
        "distances[distances > 1.5] = 2"
      ],
      "execution_count": 0,
      "outputs": []
    },
    {
      "cell_type": "markdown",
      "metadata": {
        "id": "2aMzNgd9s9VV",
        "colab_type": "text"
      },
      "source": [
        "Найдем эмпирически лучший порог разделения парафразов от не-парафразов по дистанции."
      ]
    },
    {
      "cell_type": "code",
      "metadata": {
        "id": "wti1F9VzqItO",
        "colab_type": "code",
        "outputId": "c38089ba-f029-4e6f-ed00-2fa43d79b27b",
        "colab": {
          "base_uri": "https://localhost:8080/",
          "height": 571
        }
      },
      "source": [
        "from sklearn.metrics import roc_auc_score, f1_score, accuracy_score\n",
        "import matplotlib.pyplot as plt\n",
        "for i in [0.65, 0.67, 0.69, 0.71, 0.73, 0.75, 0.77, 0.79, 0.81, 0.83, 0.85]:\n",
        "  distance_binary = [1 if j <= i else 0 for j in distances]\n",
        "  print('threshold:', i)\n",
        "  print('accuracy:', np.round(accuracy_score(classes, np.round(distance_binary)), 3))\n",
        "  print('F1:', np.round(f1_score(classes, distance_binary, average = 'macro'), 3))"
      ],
      "execution_count": 0,
      "outputs": [
        {
          "output_type": "stream",
          "text": [
            "threshold: 0.65\n",
            "accuracy: 0.743\n",
            "F1: 0.717\n",
            "threshold: 0.67\n",
            "accuracy: 0.749\n",
            "F1: 0.72\n",
            "threshold: 0.69\n",
            "accuracy: 0.754\n",
            "F1: 0.721\n",
            "threshold: 0.71\n",
            "accuracy: 0.756\n",
            "F1: 0.719\n",
            "threshold: 0.73\n",
            "accuracy: 0.759\n",
            "F1: 0.717\n",
            "threshold: 0.75\n",
            "accuracy: 0.76\n",
            "F1: 0.713\n",
            "threshold: 0.77\n",
            "accuracy: 0.761\n",
            "F1: 0.709\n",
            "threshold: 0.79\n",
            "accuracy: 0.761\n",
            "F1: 0.705\n",
            "threshold: 0.81\n",
            "accuracy: 0.762\n",
            "F1: 0.702\n",
            "threshold: 0.83\n",
            "accuracy: 0.761\n",
            "F1: 0.697\n",
            "threshold: 0.85\n",
            "accuracy: 0.762\n",
            "F1: 0.695\n"
          ],
          "name": "stdout"
        }
      ]
    },
    {
      "cell_type": "markdown",
      "metadata": {
        "id": "9VxjZvO2WeMk",
        "colab_type": "text"
      },
      "source": [
        "А если бы мы обучились на корпусе и потом считали бы расстояние по его векторам? Было бы лучше? Сейчас посмотрим."
      ]
    },
    {
      "cell_type": "code",
      "metadata": {
        "id": "L-PohESnUd5A",
        "colab_type": "code",
        "outputId": "34989664-22fb-4851-b38a-a6c25bc4e1ff",
        "colab": {
          "base_uri": "https://localhost:8080/",
          "height": 34
        }
      },
      "source": [
        "model = gensim.models.Word2Vec(\n",
        "        tokens_corpus,\n",
        "        size=150,\n",
        "        window=5,\n",
        "        min_count=1,\n",
        "        workers=10)\n",
        "model.train(tokens_corpus, total_examples=len(tokens_corpus), epochs=10)"
      ],
      "execution_count": 0,
      "outputs": [
        {
          "output_type": "execute_result",
          "data": {
            "text/plain": [
              "(696018, 722830)"
            ]
          },
          "metadata": {
            "tags": []
          },
          "execution_count": 16
        }
      ]
    },
    {
      "cell_type": "code",
      "metadata": {
        "id": "RnlJvUk2UfpD",
        "colab_type": "code",
        "outputId": "851bf34d-9059-4b72-c2ef-f4adc7e8d430",
        "colab": {
          "base_uri": "https://localhost:8080/",
          "height": 625
        }
      },
      "source": [
        "distances_local = np.array([])\n",
        "for i in tokens:\n",
        "  distances_local = np.append(distances_local, model.wmdistance(i[0], i[1]))\n",
        "distances_local[distances_local > 1.5] = 2\n",
        "for i in [0.85, 0.87, 0.89, 0.91, 0.93, 0.95, 0.97, 0.99, 1.01, 1.03, 1.05]:\n",
        "  distance_binary = [1 if j <= i else 0 for j in distances_local]\n",
        "  print('threshold:', i)\n",
        "  print('accuracy:', np.round(accuracy_score(classes, np.round(distance_binary)), 3))\n",
        "  print('F1:', np.round(f1_score(classes, distance_binary, average = 'macro'), 3))"
      ],
      "execution_count": 0,
      "outputs": [
        {
          "output_type": "stream",
          "text": [
            "/usr/local/lib/python3.6/dist-packages/ipykernel_launcher.py:3: DeprecationWarning: Call to deprecated `wmdistance` (Method will be removed in 4.0.0, use self.wv.wmdistance() instead).\n",
            "  This is separate from the ipykernel package so we can avoid doing imports until\n"
          ],
          "name": "stderr"
        },
        {
          "output_type": "stream",
          "text": [
            "threshold: 0.85\n",
            "accuracy: 0.665\n",
            "F1: 0.658\n",
            "threshold: 0.87\n",
            "accuracy: 0.671\n",
            "F1: 0.663\n",
            "threshold: 0.89\n",
            "accuracy: 0.675\n",
            "F1: 0.666\n",
            "threshold: 0.91\n",
            "accuracy: 0.679\n",
            "F1: 0.668\n",
            "threshold: 0.93\n",
            "accuracy: 0.683\n",
            "F1: 0.67\n",
            "threshold: 0.95\n",
            "accuracy: 0.687\n",
            "F1: 0.673\n",
            "threshold: 0.97\n",
            "accuracy: 0.692\n",
            "F1: 0.676\n",
            "threshold: 0.99\n",
            "accuracy: 0.695\n",
            "F1: 0.677\n",
            "threshold: 1.01\n",
            "accuracy: 0.695\n",
            "F1: 0.676\n",
            "threshold: 1.03\n",
            "accuracy: 0.7\n",
            "F1: 0.678\n",
            "threshold: 1.05\n",
            "accuracy: 0.7\n",
            "F1: 0.676\n"
          ],
          "name": "stdout"
        }
      ]
    },
    {
      "cell_type": "markdown",
      "metadata": {
        "id": "lsRGQDM0XYuZ",
        "colab_type": "text"
      },
      "source": [
        "Нет, так не будет лучше :( \n",
        "Качество уступает предобученным на большом корпусе эмбеддингам.\n",
        "Ниже финальный лучший результат."
      ]
    },
    {
      "cell_type": "code",
      "metadata": {
        "id": "1_mivJurXna1",
        "colab_type": "code",
        "outputId": "590d5d15-afa6-4de7-c969-fee35fe1abf0",
        "colab": {
          "base_uri": "https://localhost:8080/",
          "height": 67
        }
      },
      "source": [
        "distance_binary = [1 if j <= 0.75 else 0 for j in distances]\n",
        "print('threshold:', 0.75)\n",
        "print('accuracy:', np.round(accuracy_score(classes, np.round(distance_binary)), 3))\n",
        "print('F1:', np.round(f1_score(classes, distance_binary, average = 'macro'), 3))"
      ],
      "execution_count": 0,
      "outputs": [
        {
          "output_type": "stream",
          "text": [
            "threshold: 0.75\n",
            "accuracy: 0.76\n",
            "F1: 0.713\n"
          ],
          "name": "stdout"
        }
      ]
    },
    {
      "cell_type": "markdown",
      "metadata": {
        "id": "Oit4w59a-PAb",
        "colab_type": "text"
      },
      "source": [
        "### Задание 2"
      ]
    },
    {
      "cell_type": "markdown",
      "metadata": {
        "id": "0M-YEY8H-U9y",
        "colab_type": "text"
      },
      "source": [
        "#### 2.1. Word2Vec, усредненные вектора"
      ]
    },
    {
      "cell_type": "code",
      "metadata": {
        "id": "e0NxzNluYkk8",
        "colab_type": "code",
        "colab": {}
      },
      "source": [
        "for i in range(len(tokens)):\n",
        "  for j in range(len(tokens[i])):\n",
        "    tokens[i][j] = [i for i in tokens[i][j] if i in model.wv.vocab.keys()]"
      ],
      "execution_count": 0,
      "outputs": []
    },
    {
      "cell_type": "code",
      "metadata": {
        "id": "SUjAnKt6Z2Lp",
        "colab_type": "code",
        "outputId": "c4d6831e-91f6-4f0b-901c-7d69b2f30ab0",
        "colab": {
          "base_uri": "https://localhost:8080/",
          "height": 70
        }
      },
      "source": [
        "w2v_avg = np.zeros(150).reshape(-1, 1)\n",
        "for pairs in tokens:\n",
        "  for i in pairs:\n",
        "    w2v_avg = np.append(w2v_avg, np.mean(model[i], axis = 0).reshape(-1, 1), axis = 1)\n",
        "w2v_avg = w2v_avg[:, 1:].reshape(len(tokens), 2, 150)\n",
        "  "
      ],
      "execution_count": 0,
      "outputs": [
        {
          "output_type": "stream",
          "text": [
            "/usr/local/lib/python3.6/dist-packages/ipykernel_launcher.py:4: DeprecationWarning: Call to deprecated `__getitem__` (Method will be removed in 4.0.0, use self.wv.__getitem__() instead).\n",
            "  after removing the cwd from sys.path.\n"
          ],
          "name": "stderr"
        }
      ]
    },
    {
      "cell_type": "code",
      "metadata": {
        "id": "ptPZnJn3bNZH",
        "colab_type": "code",
        "colab": {}
      },
      "source": [
        "from scipy.spatial.distance import cosine\n",
        "from scipy.stats import entropy\n",
        "import pandas as pd\n",
        "\n",
        "def vector_pair_features(vectors):\n",
        "  cosine_dist, dot_product, entropia = [], [], []\n",
        "  for i in vectors:\n",
        "    cosine_dist.append(cosine(i[0], i[1]))\n",
        "    dot_product.append(np.dot(i[0], i[1]))\n",
        "  vectors_combined = vectors.reshape(-1, 300)\n",
        "  df = pd.DataFrame(vectors_combined)\n",
        "  df['cosine_dist'] = cosine_dist\n",
        "  df['dot_product'] = dot_product\n",
        "\n",
        "  return df\n",
        "                        "
      ],
      "execution_count": 0,
      "outputs": []
    },
    {
      "cell_type": "code",
      "metadata": {
        "id": "0yPNWpp4DVsG",
        "colab_type": "code",
        "colab": {}
      },
      "source": [
        "df_w2vavg = vector_pair_features(w2v_avg)\n"
      ],
      "execution_count": 0,
      "outputs": []
    },
    {
      "cell_type": "code",
      "metadata": {
        "id": "1SCuJNkIYZTR",
        "colab_type": "code",
        "colab": {}
      },
      "source": [
        "from sklearn.model_selection import train_test_split, GridSearchCV\n",
        "from xgboost import XGBClassifier\n",
        "def model_results(df, target):\n",
        "  X_train, X_test, y_train, y_test = train_test_split(df.as_matrix(), target, test_size = 0.3, random_state = 1)\n",
        "  xgb = XGBClassifier()\n",
        "  xgb.fit(X_train, y_train)\n",
        "  y_pred = xgb.predict(X_test)\n",
        "  return 'accuracy:', np.round(accuracy_score(y_test, y_pred), 3), 'F1:', np.round(f1_score(y_test, y_pred, average = 'macro'), 3)"
      ],
      "execution_count": 0,
      "outputs": []
    },
    {
      "cell_type": "code",
      "metadata": {
        "id": "zTesWRfUdZgE",
        "colab_type": "code",
        "outputId": "e2e9efb9-0dbf-48f3-faac-797592bcf291",
        "colab": {
          "base_uri": "https://localhost:8080/",
          "height": 34
        }
      },
      "source": [
        "print(model_results(df_w2vavg, classes))"
      ],
      "execution_count": 0,
      "outputs": [
        {
          "output_type": "stream",
          "text": [
            "('accuracy:', 0.648, 'F1:', 0.436)\n"
          ],
          "name": "stdout"
        }
      ]
    },
    {
      "cell_type": "markdown",
      "metadata": {
        "id": "iCJI-SWAAzzM",
        "colab_type": "text"
      },
      "source": [
        "#### 2.2 FastText, усредненные вектора"
      ]
    },
    {
      "cell_type": "code",
      "metadata": {
        "id": "d_Lc5h9taB7j",
        "colab_type": "code",
        "colab": {}
      },
      "source": [
        "from gensim.models import FastText\n",
        "model_ft = FastText(\n",
        "        tokens_corpus,\n",
        "        size=150,\n",
        "        window=5,\n",
        "        min_count=1,\n",
        "        workers=10)"
      ],
      "execution_count": 0,
      "outputs": []
    },
    {
      "cell_type": "code",
      "metadata": {
        "id": "Jxsteqrndqwq",
        "colab_type": "code",
        "outputId": "505645f1-6915-45aa-fdff-39425727c391",
        "colab": {
          "base_uri": "https://localhost:8080/",
          "height": 71
        }
      },
      "source": [
        "ft_avg = np.zeros(150).reshape(-1, 1)\n",
        "for pairs in tokens:\n",
        "  for i in pairs:\n",
        "    ft_avg = np.append(ft_avg, np.mean(model_ft[i], axis = 0).reshape(-1, 1), axis = 1)\n",
        "ft_avg = ft_avg[:, 1:].reshape(len(tokens), 2, 150)"
      ],
      "execution_count": 0,
      "outputs": [
        {
          "output_type": "stream",
          "text": [
            "/usr/local/lib/python3.6/dist-packages/ipykernel_launcher.py:4: DeprecationWarning: Call to deprecated `__getitem__` (Method will be removed in 4.0.0, use self.wv.__getitem__() instead).\n",
            "  after removing the cwd from sys.path.\n"
          ],
          "name": "stderr"
        }
      ]
    },
    {
      "cell_type": "code",
      "metadata": {
        "id": "CzxAasJHgEy-",
        "colab_type": "code",
        "outputId": "2ef42254-c52f-4c2f-ab7c-a33f287610ee",
        "colab": {
          "base_uri": "https://localhost:8080/",
          "height": 34
        }
      },
      "source": [
        "model_results(vector_pair_features(ft_avg), classes)"
      ],
      "execution_count": 0,
      "outputs": [
        {
          "output_type": "execute_result",
          "data": {
            "text/plain": [
              "('accuracy:', 0.654, 'F1:', 0.476)"
            ]
          },
          "metadata": {
            "tags": []
          },
          "execution_count": 28
        }
      ]
    },
    {
      "cell_type": "markdown",
      "metadata": {
        "id": "FWFaTxBQA-4-",
        "colab_type": "text"
      },
      "source": [
        "#### 2.3 Doc2Vec"
      ]
    },
    {
      "cell_type": "code",
      "metadata": {
        "id": "MTGurzl3AWlf",
        "colab_type": "code",
        "outputId": "250ee9b6-f44d-4f32-f872-a417281a126f",
        "colab": {
          "base_uri": "https://localhost:8080/",
          "height": 34
        }
      },
      "source": [
        "tokens_d2v = [' '.join(headline) for pairs in tokens for headline in pairs]\n",
        "tokens_d2v[0]"
      ],
      "execution_count": 0,
      "outputs": [
        {
          "output_type": "execute_result",
          "data": {
            "text/plain": [
              "'полицейский_NOUN разрешить_VERB стрелять_VERB поражение_NOUN гражданин_NOUN травматика_NOUN'"
            ]
          },
          "metadata": {
            "tags": []
          },
          "execution_count": 27
        }
      ]
    },
    {
      "cell_type": "code",
      "metadata": {
        "id": "1nCSbTBBgRM8",
        "colab_type": "code",
        "outputId": "b5ee6ce9-8b9a-4571-a4e8-8d2fc538e2c6",
        "colab": {
          "base_uri": "https://localhost:8080/",
          "height": 71
        }
      },
      "source": [
        "from gensim.models.doc2vec import Doc2Vec, TaggedDocument\n",
        "tagged_data = [TaggedDocument(words=word_tokenize(_d), tags=[str(i)]) for i, _d in enumerate(tokens_d2v)]\n",
        "model_d2v = Doc2Vec(\n",
        "        size=20,\n",
        "        alpha=0.025, \n",
        "        min_alpha=0.00025,\n",
        "        min_count=1,\n",
        "        dm =1)"
      ],
      "execution_count": 0,
      "outputs": [
        {
          "output_type": "stream",
          "text": [
            "/usr/local/lib/python3.6/dist-packages/gensim/models/doc2vec.py:570: UserWarning: The parameter `size` is deprecated, will be removed in 4.0.0, use `vector_size` instead.\n",
            "  warnings.warn(\"The parameter `size` is deprecated, will be removed in 4.0.0, use `vector_size` instead.\")\n"
          ],
          "name": "stderr"
        }
      ]
    },
    {
      "cell_type": "code",
      "metadata": {
        "id": "9OKev1k2_Xi7",
        "colab_type": "code",
        "colab": {}
      },
      "source": [
        ""
      ],
      "execution_count": 0,
      "outputs": []
    },
    {
      "cell_type": "code",
      "metadata": {
        "id": "uZw3kD53YK0d",
        "colab_type": "code",
        "colab": {}
      },
      "source": [
        "#model.build_vocab(tagged_data)"
      ],
      "execution_count": 0,
      "outputs": []
    },
    {
      "cell_type": "markdown",
      "metadata": {
        "id": "hFkgft3lBJV3",
        "colab_type": "text"
      },
      "source": [
        "#### 2.4 Glove, усреднённые вектора"
      ]
    },
    {
      "cell_type": "code",
      "metadata": {
        "id": "9TTDSASGcbbA",
        "colab_type": "code",
        "outputId": "8de3ba07-e019-4000-80d4-5570dae785c4",
        "colab": {
          "base_uri": "https://localhost:8080/",
          "height": 544
        }
      },
      "source": [
        "from glove import Corpus, Glove\n",
        "corpus = Corpus() \n",
        "corpus.fit(tokens_corpus, window=5)\n",
        "glove = Glove(no_components=150, learning_rate=0.05)\n",
        "glove.fit(corpus.matrix, epochs=30, no_threads=4, verbose=True)\n",
        "glove.add_dictionary(corpus.dictionary)\n",
        "glove.save('glove.model')"
      ],
      "execution_count": 0,
      "outputs": [
        {
          "output_type": "stream",
          "text": [
            "Performing 30 training epochs with 4 threads\n",
            "Epoch 0\n",
            "Epoch 1\n",
            "Epoch 2\n",
            "Epoch 3\n",
            "Epoch 4\n",
            "Epoch 5\n",
            "Epoch 6\n",
            "Epoch 7\n",
            "Epoch 8\n",
            "Epoch 9\n",
            "Epoch 10\n",
            "Epoch 11\n",
            "Epoch 12\n",
            "Epoch 13\n",
            "Epoch 14\n",
            "Epoch 15\n",
            "Epoch 16\n",
            "Epoch 17\n",
            "Epoch 18\n",
            "Epoch 19\n",
            "Epoch 20\n",
            "Epoch 21\n",
            "Epoch 22\n",
            "Epoch 23\n",
            "Epoch 24\n",
            "Epoch 25\n",
            "Epoch 26\n",
            "Epoch 27\n",
            "Epoch 28\n",
            "Epoch 29\n"
          ],
          "name": "stdout"
        }
      ]
    },
    {
      "cell_type": "code",
      "metadata": {
        "id": "02ECnlh5OY9P",
        "colab_type": "code",
        "colab": {}
      },
      "source": [
        "glove_avg = np.zeros(150).reshape(-1, 1)\n",
        "for i in range(len(tokens)):\n",
        "  for j in range(len(tokens[0])):\n",
        "    glove_avg = np.append(glove_avg, np.mean([glove.word_vectors[glove.dictionary[k]] for k in tokens[i][j]], axis = 0).reshape(-1, 1), axis = 1)\n",
        "glove_avg = glove_avg[:, 1:].reshape(len(tokens), 2, 150)"
      ],
      "execution_count": 0,
      "outputs": []
    },
    {
      "cell_type": "code",
      "metadata": {
        "id": "tC85e-BRO2C4",
        "colab_type": "code",
        "outputId": "df3ae658-2ba7-493c-837d-3071c665175d",
        "colab": {
          "base_uri": "https://localhost:8080/",
          "height": 34
        }
      },
      "source": [
        "model_results(vector_pair_features(glove_avg), classes)"
      ],
      "execution_count": 0,
      "outputs": [
        {
          "output_type": "execute_result",
          "data": {
            "text/plain": [
              "('accuracy:', 0.645, 'F1:', 0.422)"
            ]
          },
          "metadata": {
            "tags": []
          },
          "execution_count": 30
        }
      ]
    },
    {
      "cell_type": "markdown",
      "metadata": {
        "id": "TDOY2jUT1l1h",
        "colab_type": "text"
      },
      "source": [
        "#### 2.5 Word2vec, Tf-Idf"
      ]
    },
    {
      "cell_type": "code",
      "metadata": {
        "id": "_2q-9rbJJtwf",
        "colab_type": "code",
        "colab": {}
      },
      "source": [
        "from sklearn.feature_extraction.text import TfidfVectorizer\n",
        "tfidf = TfidfVectorizer()\n",
        "tfidf_sparse = tfidf.fit_transform([' '.join(i) for i in tokens_corpus])"
      ],
      "execution_count": 0,
      "outputs": []
    },
    {
      "cell_type": "code",
      "metadata": {
        "id": "0YM4_aEitmcd",
        "colab_type": "code",
        "colab": {}
      },
      "source": [
        "tfi_df = pd.DataFrame(tfidf_sparse.todense(), index = list(range(len(tokens_corpus))), columns = tfidf.get_feature_names())"
      ],
      "execution_count": 0,
      "outputs": []
    },
    {
      "cell_type": "code",
      "metadata": {
        "id": "tVZEtpxnRm5o",
        "colab_type": "code",
        "colab": {}
      },
      "source": [
        "def tfidf_pair_vecs(model, tokens, tfi_df):\n",
        "  vectors = np.zeros(150).reshape(-1, 1)\n",
        "  for i in range(len(tokens)):\n",
        "    for j in range(len(tokens[i])):\n",
        "      headline_vector = np.zeros(150).reshape(-1, 1)\n",
        "      for k in range(len(tokens[i][j])):\n",
        "\n",
        "        word = tokens[i][j][k]\n",
        "\n",
        "        if word.lower() in tfi_df.columns:\n",
        "          tfidf_coef = tfi_df.loc[index_in_corpus[i][j]][word.lower()]\n",
        "        else:\n",
        "          tfidf_coef = 0\n",
        "\n",
        "        headline_vector = np.sum((headline_vector, tfidf_coef * model[word].reshape(-1, 1)), axis = 0)\n",
        "\n",
        "      vectors = np.vstack((vectors, headline_vector / len(tokens[i][j])))\n",
        "  return vectors[150:].reshape(len(tokens), 2, 150)"
      ],
      "execution_count": 0,
      "outputs": []
    },
    {
      "cell_type": "code",
      "metadata": {
        "id": "qE_PnhM-3LWD",
        "colab_type": "code",
        "outputId": "873245f6-c6f5-42a2-a87c-104fc1215fd1",
        "colab": {
          "base_uri": "https://localhost:8080/",
          "height": 71
        }
      },
      "source": [
        "w2v_tfidf = tfidf_pair_vecs(model, tokens, tfi_df)"
      ],
      "execution_count": 0,
      "outputs": [
        {
          "output_type": "stream",
          "text": [
            "/usr/local/lib/python3.6/dist-packages/ipykernel_launcher.py:15: DeprecationWarning: Call to deprecated `__getitem__` (Method will be removed in 4.0.0, use self.wv.__getitem__() instead).\n",
            "  from ipykernel import kernelapp as app\n"
          ],
          "name": "stderr"
        }
      ]
    },
    {
      "cell_type": "code",
      "metadata": {
        "id": "TVS6IyjI1VbA",
        "colab_type": "code",
        "outputId": "cde776dd-2602-48b0-8818-de37beb47377",
        "colab": {
          "base_uri": "https://localhost:8080/",
          "height": 54
        }
      },
      "source": [
        "model_results(vector_pair_features(w2v_tfidf), classes)"
      ],
      "execution_count": 0,
      "outputs": [
        {
          "output_type": "execute_result",
          "data": {
            "text/plain": [
              "('accuracy:', 0.747, 'F1:', 0.694)"
            ]
          },
          "metadata": {
            "tags": []
          },
          "execution_count": 35
        }
      ]
    },
    {
      "cell_type": "markdown",
      "metadata": {
        "id": "Tfboesl11s81",
        "colab_type": "text"
      },
      "source": [
        "#### 2.6 FastText, Tf-Idf"
      ]
    },
    {
      "cell_type": "code",
      "metadata": {
        "id": "tYqWZTpzRnM-",
        "colab_type": "code",
        "outputId": "b2aa17a8-2674-4b6c-b3cf-5986d961e68e",
        "colab": {
          "base_uri": "https://localhost:8080/",
          "height": 71
        }
      },
      "source": [
        "ft_tfidf = tfidf_pair_vecs(model_ft, tokens, tfi_df)"
      ],
      "execution_count": 0,
      "outputs": [
        {
          "output_type": "stream",
          "text": [
            "/usr/local/lib/python3.6/dist-packages/ipykernel_launcher.py:15: DeprecationWarning: Call to deprecated `__getitem__` (Method will be removed in 4.0.0, use self.wv.__getitem__() instead).\n",
            "  from ipykernel import kernelapp as app\n"
          ],
          "name": "stderr"
        }
      ]
    },
    {
      "cell_type": "code",
      "metadata": {
        "id": "VfEhlsBgRnZE",
        "colab_type": "code",
        "colab": {}
      },
      "source": [
        "model_results(vector_pair_features(ft_tfidf), classes)"
      ],
      "execution_count": 0,
      "outputs": []
    },
    {
      "cell_type": "markdown",
      "metadata": {
        "id": "ugcoebqU4z5M",
        "colab_type": "text"
      },
      "source": [
        "#### 2.7 Glove, Tf-Idf"
      ]
    },
    {
      "cell_type": "code",
      "metadata": {
        "id": "BafOHyGXRm2N",
        "colab_type": "code",
        "colab": {}
      },
      "source": [
        "glove_tfidf = np.zeros(150).reshape(-1, 1)\n",
        "for i in range(len(tokens)):\n",
        "  for j in range(len(tokens[i])):\n",
        "    vector = np.zeros(150).reshape(-1, 1)\n",
        "    for k in range(len(tokens[i][j])):\n",
        "    \n",
        "      word = tokens[i][j][k]\n",
        "\n",
        "      if word.lower() in tfi_df.columns:\n",
        "        tfidf_coef = tfi_df.loc[index_in_corpus[i][j]][word.lower()]\n",
        "      else:\n",
        "        tfidf_coef = 0\n",
        "      vector = np.sum((vector, glove.word_vectors[glove.dictionary[word]].reshape(-1, 1)), axis = 0)\n",
        "    glove_tfidf = np.append(glove_tfidf, vector / len(tokens[i][j]), axis = 1)\n",
        "glove_tfidf = glove_tfidf[:, 1:].reshape(len(tokens), 2, 150)"
      ],
      "execution_count": 0,
      "outputs": []
    },
    {
      "cell_type": "code",
      "metadata": {
        "id": "T1IENMPd5-nS",
        "colab_type": "code",
        "outputId": "eade5e66-5cff-4cbe-e121-4cdbcf0f5248",
        "colab": {
          "base_uri": "https://localhost:8080/",
          "height": 89
        }
      },
      "source": [
        "model_results(vector_pair_features(glove_tfidf), classes)"
      ],
      "execution_count": 0,
      "outputs": [
        {
          "output_type": "stream",
          "text": [
            "/usr/local/lib/python3.6/dist-packages/sklearn/preprocessing/label.py:151: DeprecationWarning: The truth value of an empty array is ambiguous. Returning False, but in future this will result in an error. Use `array.size > 0` to check that an array is not empty.\n",
            "  if diff:\n"
          ],
          "name": "stderr"
        },
        {
          "output_type": "execute_result",
          "data": {
            "text/plain": [
              "('accuracy:', 0.646, 'F1:', 0.427)"
            ]
          },
          "metadata": {
            "tags": []
          },
          "execution_count": 162
        }
      ]
    },
    {
      "cell_type": "markdown",
      "metadata": {
        "id": "wmgBVi_ZRTSY",
        "colab_type": "text"
      },
      "source": [
        "### Задание 3"
      ]
    },
    {
      "cell_type": "markdown",
      "metadata": {
        "id": "2HhlJnBzRvBQ",
        "colab_type": "text"
      },
      "source": [
        "Источники:\n",
        "\n",
        "1) https://people.cs.umass.edu/~miyyer/pubs/2015_acl_dan.pdf\n",
        "\n",
        "2) https://github.com/aravindsiv/dan_qa/blob/master/train.py\n",
        "\n",
        "3) https://gist.github.com/mmmikael/0a3d4fae965bdbec1f9d"
      ]
    },
    {
      "cell_type": "code",
      "metadata": {
        "id": "Dm0TC0eVRVk7",
        "colab_type": "code",
        "outputId": "0971afdb-454e-496c-bd18-77663d18dfd9",
        "colab": {
          "base_uri": "https://localhost:8080/",
          "height": 156
        }
      },
      "source": [
        "! pip install keras"
      ],
      "execution_count": 0,
      "outputs": [
        {
          "output_type": "stream",
          "text": [
            "Requirement already satisfied: keras in /usr/local/lib/python3.6/dist-packages (2.2.4)\n",
            "Requirement already satisfied: keras-applications>=1.0.6 in /usr/local/lib/python3.6/dist-packages (from keras) (1.0.6)\n",
            "Requirement already satisfied: six>=1.9.0 in /usr/local/lib/python3.6/dist-packages (from keras) (1.11.0)\n",
            "Requirement already satisfied: scipy>=0.14 in /usr/local/lib/python3.6/dist-packages (from keras) (1.1.0)\n",
            "Requirement already satisfied: numpy>=1.9.1 in /usr/local/lib/python3.6/dist-packages (from keras) (1.14.6)\n",
            "Requirement already satisfied: h5py in /usr/local/lib/python3.6/dist-packages (from keras) (2.8.0)\n",
            "Requirement already satisfied: pyyaml in /usr/local/lib/python3.6/dist-packages (from keras) (3.13)\n",
            "Requirement already satisfied: keras-preprocessing>=1.0.5 in /usr/local/lib/python3.6/dist-packages (from keras) (1.0.5)\n"
          ],
          "name": "stdout"
        }
      ]
    },
    {
      "cell_type": "code",
      "metadata": {
        "id": "VaEkpwX4Tpmy",
        "colab_type": "code",
        "outputId": "6f7f5a18-8488-445f-a67d-6156ebd9b199",
        "colab": {
          "base_uri": "https://localhost:8080/",
          "height": 312
        }
      },
      "source": [
        "! pip install tensorflow"
      ],
      "execution_count": 0,
      "outputs": [
        {
          "output_type": "stream",
          "text": [
            "Requirement already satisfied: tensorflow in /usr/local/lib/python3.6/dist-packages (1.12.0)\n",
            "Requirement already satisfied: six>=1.10.0 in /usr/local/lib/python3.6/dist-packages (from tensorflow) (1.11.0)\n",
            "Requirement already satisfied: absl-py>=0.1.6 in /usr/local/lib/python3.6/dist-packages (from tensorflow) (0.6.1)\n",
            "Requirement already satisfied: gast>=0.2.0 in /usr/local/lib/python3.6/dist-packages (from tensorflow) (0.2.0)\n",
            "Requirement already satisfied: wheel>=0.26 in /usr/local/lib/python3.6/dist-packages (from tensorflow) (0.32.2)\n",
            "Requirement already satisfied: keras-preprocessing>=1.0.5 in /usr/local/lib/python3.6/dist-packages (from tensorflow) (1.0.5)\n",
            "Requirement already satisfied: numpy>=1.13.3 in /usr/local/lib/python3.6/dist-packages (from tensorflow) (1.14.6)\n",
            "Requirement already satisfied: protobuf>=3.6.1 in /usr/local/lib/python3.6/dist-packages (from tensorflow) (3.6.1)\n",
            "Requirement already satisfied: termcolor>=1.1.0 in /usr/local/lib/python3.6/dist-packages (from tensorflow) (1.1.0)\n",
            "Requirement already satisfied: keras-applications>=1.0.6 in /usr/local/lib/python3.6/dist-packages (from tensorflow) (1.0.6)\n",
            "Requirement already satisfied: grpcio>=1.8.6 in /usr/local/lib/python3.6/dist-packages (from tensorflow) (1.15.0)\n",
            "Requirement already satisfied: tensorboard<1.13.0,>=1.12.0 in /usr/local/lib/python3.6/dist-packages (from tensorflow) (1.12.0)\n",
            "Requirement already satisfied: astor>=0.6.0 in /usr/local/lib/python3.6/dist-packages (from tensorflow) (0.7.1)\n",
            "Requirement already satisfied: setuptools in /usr/local/lib/python3.6/dist-packages (from protobuf>=3.6.1->tensorflow) (40.6.2)\n",
            "Requirement already satisfied: h5py in /usr/local/lib/python3.6/dist-packages (from keras-applications>=1.0.6->tensorflow) (2.8.0)\n",
            "Requirement already satisfied: werkzeug>=0.11.10 in /usr/local/lib/python3.6/dist-packages (from tensorboard<1.13.0,>=1.12.0->tensorflow) (0.14.1)\n",
            "Requirement already satisfied: markdown>=2.6.8 in /usr/local/lib/python3.6/dist-packages (from tensorboard<1.13.0,>=1.12.0->tensorflow) (3.0.1)\n"
          ],
          "name": "stdout"
        }
      ]
    },
    {
      "cell_type": "code",
      "metadata": {
        "id": "tYqSo7CRRZ3p",
        "colab_type": "code",
        "colab": {}
      },
      "source": [
        "import numpy as np\n",
        "\n",
        "import keras \n",
        "import sys \n",
        "from keras import backend as K \n",
        "from keras.layers import *\n",
        "from keras.models import Model, Sequential \n",
        "from keras.engine import InputSpec, Layer \n",
        "from keras import regularizers \n",
        "from keras.optimizers import SGD, Adam, Adagrad \n",
        "from keras.utils.conv_utils import conv_output_length \n",
        "from keras import activations "
      ],
      "execution_count": 0,
      "outputs": []
    },
    {
      "cell_type": "code",
      "metadata": {
        "id": "0L3bc80kSG-k",
        "colab_type": "code",
        "colab": {}
      },
      "source": [
        "embedding_dim = 150\n",
        "num_hidden_layers = 3\n",
        "num_hidden_units = 150\n",
        "num_epochs = 100\n",
        "batch_size = 100\n",
        "dropout_rate = 0.2\n",
        "word_dropout_rate = 0.3\n",
        "activation = 'relu'"
      ],
      "execution_count": 0,
      "outputs": []
    },
    {
      "cell_type": "code",
      "metadata": {
        "id": "xJa-O_A6-DQs",
        "colab_type": "code",
        "colab": {}
      },
      "source": [
        "X_train, X_test, y_train, y_test = train_test_split(w2v_avg, classes, test_size = 0.3, random_state = 1)"
      ],
      "execution_count": 0,
      "outputs": []
    },
    {
      "cell_type": "code",
      "metadata": {
        "id": "WLzbYVoDsscj",
        "colab_type": "code",
        "colab": {}
      },
      "source": [
        "X_train_left, X_train_right, X_test_left, X_test_right = X_train[:, 0, :], X_train[:, 1, :], X_test[:, 0, :], X_test[:, 1, :]\n",
        "vec_left, vec_right = Input(shape=(1, 150)), Input(shape=(1, 150))\n",
        "dense = Dense(300, activation=activation)\n",
        "def siamese_dan(left_input, right_input, num_hidden_layers):\n",
        "  model = Sequential()\n",
        "  for i in range(num_hidden_layers):\n",
        "    model.add(Dense(num_hidden_units))\n",
        "    model.add(BatchNormalization())\n",
        "    model.add(Activation('softmax'))\n",
        "    model.add(Dropout(dropout_rate))"
      ],
      "execution_count": 0,
      "outputs": []
    },
    {
      "cell_type": "code",
      "metadata": {
        "id": "bU2eCXgAG9iI",
        "colab_type": "code",
        "colab": {}
      },
      "source": [
        "model1 = Sequential()\n",
        "model1.add(Dense(num_hidden_units, input_shape = (None,150)))\n",
        "model1.add(BatchNormalization())\n",
        "model1.add(Dropout(dropout_rate))\n",
        "for i in range(num_hidden_layers):\n",
        "  model1.add(Dense(num_hidden_units))\n",
        "  model1.add(BatchNormalization())\n",
        "  model1.add(Dropout(dropout_rate))\n",
        "  \n",
        "model2 = Sequential()\n",
        "model2.add(Dense(num_hidden_units, input_shape = (1,150)))\n",
        "model2.add(BatchNormalization())\n",
        "model2.add(Dropout(dropout_rate))\n",
        "for i in range(num_hidden_layers):\n",
        "  model2.add(Dense(num_hidden_units))\n",
        "  model2.add(BatchNormalization())\n",
        "  model2.add(Dropout(dropout_rate))\n",
        "\n",
        "mergedOut = Add()([model1.output,model2.output])\n",
        "mergedOut = Flatten()(mergedOut)\n",
        "mergedOut = Dense(num_hidden_units)(mergedOut)    \n",
        "mergedOut = BatchNormalization()(mergedOut)\n",
        "mergedOut = Dropout(dropout_rate)(mergedOut)\n",
        "mergedOut = Dense(5, activation='softmax')(mergedOut)\n",
        "\n",
        "newModel = Model([model1.input,model2.input], mergedOut)"
      ],
      "execution_count": 0,
      "outputs": []
    },
    {
      "cell_type": "code",
      "metadata": {
        "id": "1ZnZzuLEOxT3",
        "colab_type": "code",
        "colab": {}
      },
      "source": [
        "newModel.compile(optimizer='rmsprop',\n",
        "              loss='binary_crossentropy',\n",
        "              metrics=['accuracy'])"
      ],
      "execution_count": 0,
      "outputs": []
    },
    {
      "cell_type": "markdown",
      "metadata": {
        "id": "wJySR-vyZeDk",
        "colab_type": "text"
      },
      "source": [
        "## Бонус"
      ]
    },
    {
      "cell_type": "markdown",
      "metadata": {
        "id": "GH9jVwZNRaci",
        "colab_type": "text"
      },
      "source": [
        "Ниже представим t-SNE представление усредненного Word2Vec"
      ]
    },
    {
      "cell_type": "code",
      "metadata": {
        "id": "04TuAfmaxITo",
        "colab_type": "code",
        "colab": {}
      },
      "source": [
        "from sklearn.manifold import TSNE"
      ],
      "execution_count": 0,
      "outputs": []
    },
    {
      "cell_type": "code",
      "metadata": {
        "id": "l_YeU25SETHq",
        "colab_type": "code",
        "colab": {}
      },
      "source": [
        "X_tsne = TSNE(learning_rate=100).fit_transform(w2v_avg.reshape(7227*2, 150))"
      ],
      "execution_count": 0,
      "outputs": []
    },
    {
      "cell_type": "markdown",
      "metadata": {
        "id": "jlju-aAIl3sk",
        "colab_type": "text"
      },
      "source": [
        "Визуализация следующая - выведем проекцию нескольких пар усредненных w2v-векторов для документов в двумерном пространстве. Белые точки - это проекции векторов-парафразов. Пары точек другого цвета - это проекции векторов-непарафразов. Видно, что проекции парафразов находятся ближе друг к другу."
      ]
    },
    {
      "cell_type": "code",
      "metadata": {
        "id": "174XxHwtEaYI",
        "colab_type": "code",
        "outputId": "f857c616-099a-421f-ed5f-9b968b64b9da",
        "colab": {
          "base_uri": "https://localhost:8080/",
          "height": 367
        }
      },
      "source": [
        "%pylab inline\n",
        "\n",
        "figure(figsize=(10, 5))\n",
        "#subplot(121)\n",
        "scatter(X_tsne[14:20, 0], X_tsne[14:20, 1], c = [0, 0, 1, 1, 2, 2])\n",
        "plt.xlabel('Dimension 1', weight='bold')\n",
        "plt.ylabel('Dimension 2', weight='bold')"
      ],
      "execution_count": 0,
      "outputs": [
        {
          "output_type": "stream",
          "text": [
            "Populating the interactive namespace from numpy and matplotlib\n"
          ],
          "name": "stdout"
        },
        {
          "output_type": "execute_result",
          "data": {
            "text/plain": [
              "Text(0,0.5,'Dimension 2')"
            ]
          },
          "metadata": {
            "tags": []
          },
          "execution_count": 46
        },
        {
          "output_type": "display_data",
          "data": {
            "image/png": "[encoded data removed]",
            "text/plain": [
              "<matplotlib.figure.Figure at 0x7fa8e5874358>"
            ]
          },
          "metadata": {
            "tags": []
          }
        }
      ]
    },
    {
      "cell_type": "code",
      "metadata": {
        "id": "WDP5j3fdTI_E",
        "colab_type": "code",
        "outputId": "e82e4d3d-c87d-458d-834a-653dd8756d63",
        "colab": {
          "base_uri": "https://localhost:8080/",
          "height": 34
        }
      },
      "source": [
        "len(df_w2vavg)"
      ],
      "execution_count": 0,
      "outputs": [
        {
          "output_type": "execute_result",
          "data": {
            "text/plain": [
              "7227"
            ]
          },
          "metadata": {
            "tags": []
          },
          "execution_count": 28
        }
      ]
    },
    {
      "cell_type": "code",
      "metadata": {
        "id": "tCC83VS1TUat",
        "colab_type": "code",
        "outputId": "3844a8f2-41e2-41c0-d716-964b0b056c07",
        "colab": {
          "base_uri": "https://localhost:8080/",
          "height": 34
        }
      },
      "source": [
        "w2v_avg.shape"
      ],
      "execution_count": 0,
      "outputs": [
        {
          "output_type": "execute_result",
          "data": {
            "text/plain": [
              "(7227, 2, 150)"
            ]
          },
          "metadata": {
            "tags": []
          },
          "execution_count": 36
        }
      ]
    },
    {
      "cell_type": "code",
      "metadata": {
        "id": "FLYVtid-TzT3",
        "colab_type": "code",
        "outputId": "78b3f217-c6eb-4bc8-b2c4-6760c4380589",
        "colab": {
          "base_uri": "https://localhost:8080/",
          "height": 33348
        }
      },
      "source": [
        "paraphrases[0][0]"
      ],
      "execution_count": 0,
      "outputs": [
        {
          "output_type": "execute_result",
          "data": {
            "text/plain": [
              "[['Полицейским разрешат стрелять на поражение по гражданам с травматикой.',\n",
              "  'Полиции могут разрешить стрелять по хулиганам с травматикой.'],\n",
              " ['Право полицейских на проникновение в жилище решили ограничить.',\n",
              "  'Правила внесудебного проникновения полицейских в жилище уточнят.'],\n",
              " ['Президент Египта ввел чрезвычайное положение в мятежных городах.',\n",
              "  'Власти Египта угрожают ввести в стране чрезвычайное положение.'],\n",
              " ['Вернувшихся из Сирии россиян волнует вопрос трудоустройства на родине.',\n",
              "  'Самолеты МЧС вывезут россиян из разрушенной Сирии.'],\n",
              " ['В Москву из Сирии вернулись 2 самолета МЧС с россиянами на борту.',\n",
              "  'Самолеты МЧС вывезут россиян из разрушенной Сирии.'],\n",
              " ['Приставы соберут отпечатки пальцев российских должников.',\n",
              "  'Приставы снимут отпечатки пальцев у злостных неплательщиков.'],\n",
              " ['На саратовского дебошира с борта самолета Москва - Хургада заведено дело.',\n",
              "  'Саратовский дебошир отказывается возвращаться домой из Египта.'],\n",
              " ['ЦИК хочет отказаться от электронной системы подсчета голосов.',\n",
              "  'ЦИК может отказаться от электронных средств подсчета голосов.'],\n",
              " ['Суд Петербурга оставил на потом дело о гибели подростка в полиции.',\n",
              "  'Лондонский Гайд-парк - это не место для митингов, а прежде всего парк.'],\n",
              " ['Страны ОПЕК сократили добычу нефти на 1 млн баррелей в день.',\n",
              "  'Обама продлил полномочия НАСА по сотрудничеству с Россией.'],\n",
              " ['Москвичи смогут забронировать в Интернете место на кладбище.',\n",
              "  'В Москве можно будет забронировать место на кладбище через интернет.'],\n",
              " ['Въезд в центр Москвы автомобилям с двигателями Евро-2 не запрещали.',\n",
              "  'Сборная России пробилась в плей-офф чемпионата мира по хоккею с мячом.'],\n",
              " ['В Подмосковье произошел пожар на железной дороге.',\n",
              "  'В Подмосковье загорелись цистерны с бензином.'],\n",
              " ['Северокорейский лидер впервые за 19 лет поздравил граждан с Новым годом.',\n",
              "  'Лидер КНДР впервые за 19 лет поздравил сограждан с Новым годом.'],\n",
              " ['Мужчина из Подмосковья случайно убил жену в Новый год.',\n",
              "  'Житель Подмосковья случайно убил жену на новогоднем застолье.'],\n",
              " ['Избежать \"фискального обрыва\": Сенат США поддержал повышение налогов.',\n",
              "  'Сенат США не допустит \"фискального обрыва\".'],\n",
              " ['\"Фискальный обрыв\" в США временно предотвращен.',\n",
              "  'Сенат США не допустит \"фискального обрыва\".'],\n",
              " ['Житель Украины расстрелял посетителей кафе.',\n",
              "  'На Украине мужчина через окно расстрелял посетителей кафе.'],\n",
              " ['В Кот-Д`Ивуаре десятки человек погибли в давке на новогоднем салюте.',\n",
              "  'В давке у стадиона в Кот-д’Ивуаре погибли 60 человек.'],\n",
              " ['В Абхазии отомстили за Деда Хасана.', 'В Абхазии убили врага Деда Хасана.'],\n",
              " ['Чечня попросила националистов составить кодекс поведения кавказцев.',\n",
              "  'Националисты помогут Чечне составить кодекс поведения кавказцев.'],\n",
              " ['В новогоднюю ночь во Франции сожгли больше тысячи машин.',\n",
              "  'В новогоднюю ночь во Франции сожгли 1193 автомобиля.'],\n",
              " ['В Анголе в давке во время церковной службы погибли 10 человек.',\n",
              "  'В ходе давки на церковной службе в Анголе погибли 10 человек.'],\n",
              " ['Morgan Stanley взял на работу бывшего зампреда Банка России.',\n",
              "  'Бывший глава ФСФР нашел работу в Morgan Stanley.'],\n",
              " ['Конгресс США утвердил план по предотвращению \"фискального обрыва\".',\n",
              "  'Палата представителей утвердила план предотвращения \"фискального обрыва\".'],\n",
              " ['Счетная палата проверит Газпром на непрофильные активы.',\n",
              "  'Счетная палата проверит \"Газпром\" впервые за пять лет.'],\n",
              " ['Новые комиксы о пророке Мухаммеде появились во Франции.',\n",
              "  'Во Франции издали комикс по мотивам жизни пророка Мухаммада.'],\n",
              " ['Число убитых в ходе конфликта в Сирии превысило 60 тысяч.',\n",
              "  'В ходе сирийского конфликта погибли 60 тысяч человек.'],\n",
              " ['В США скончалась звезда эстрады 1950-х Патти Пейдж.',\n",
              "  'Скончалась американская певица Патти Пейдж.'],\n",
              " ['Сенат США единогласно осудил \"закон Димы Яковлева\".',\n",
              "  'Сенат США единогласно осудил запрет на усыновление.'],\n",
              " ['Госдума еще на шаг приблизила антитабачный закон.',\n",
              "  'Госдума приняла антитабачный законопроект во втором чтении.'],\n",
              " ['ЛДПР: 80% жителей России поддерживают антитабачный закон.',\n",
              "  'Госдума приняла антитабачный законопроект во втором чтении.'],\n",
              " ['СК выяснит, был ли подкуп свидетеля по делу Ю.Буданова.',\n",
              "  'СК проверит информацию о подкупе свидетеля по делу об убийстве Буданова.'],\n",
              " ['ЕБРР повысил прогноз роста экономики РФ в 2013г.',\n",
              "  'ЕБРР повысил прогноз по росту экономики России.'],\n",
              " ['В Ватикане перестали принимать платежи банковскими картами.',\n",
              "  'ЦБ Италии запретил платежи банковскими картами в Ватикане.'],\n",
              " ['В Германии начался процесс по делу российских шпионов - супругов Аншлаг.',\n",
              "  'В Германии начался процесс над российскими шпионами.'],\n",
              " ['Глава управы района Северное Медведково задержан за взятку.',\n",
              "  'Главу управы Северное Медведково поймали на взятке.'],\n",
              " ['\"Болотное дело\": в СКР на допрос ждут блогера Митю Алешковского.',\n",
              "  'Митю Алешковского вызвали на допрос по \"болотному делу\".'],\n",
              " ['США получат $1,4 млрд за аварию на нефтяной платформе в Мексиканском заливе.',\n",
              "  'Владелец платформы Deepwater Horizon оштрафован на 1,4 миллиарда долларов.'],\n",
              " ['Корреспондента российского телеканала ранили в пригороде Дамаска.',\n",
              "  'В Сирии ранили корреспондента российского телеканала.'],\n",
              " ['Взрыв на заправочной станции в Дамаске унес жизни 11 человек.',\n",
              "  'При взрыве на автозаправке в Дамаске погибли 11 человек.'],\n",
              " ['В Эритрее произошла попытка государственного переворота.',\n",
              "  'В Эритрее произошла попытка военного переворота.'],\n",
              " ['Старейший банк Швейцарии закрывается из-за американских клиентов.',\n",
              "  'Старейший банк Швейцарии закрылся из-за иска властей США.'],\n",
              " ['Экономический ущерб от \"арабской весны\" составит $225 млрд.',\n",
              "  'Оценку убытков от \"арабской весны\" повысили до 225 миллиардов долларов.'],\n",
              " ['Марокканские бедуины нашли в Сахаре уникальный марсианский метеорит.',\n",
              "  'В Сахаре обнаружен рекордно влажный марсианский метеорит.'],\n",
              " ['Пошел на посадку: \"АэроСвит\" начал процедуру банкротства.',\n",
              "  'Украинский суд начал процедуру банкротства компании \"Аэросвит\".'],\n",
              " ['В египетский Суэц из-за беспорядков введены правительственные войска.',\n",
              "  'В египетский Суэц ввели войска.'],\n",
              " ['РЖД подало иск о взыскании 2 млн рублей с Apple.',\n",
              "  'РЖД через суд потребовали с Apple 2 миллиона рублей.'],\n",
              " ['Умер ветеран правозащитного движения В.Абрамкин.',\n",
              "  'Умер ветеран правозащитного движения Валерий Абрамкин.'],\n",
              " ['В Египте приговорили к смерти участников погрома на стадионе в Порт-Саиде.',\n",
              "  'В Египте вынесен смертный приговор за погром на стадионе.'],\n",
              " ['В египетский Порт-Саид вводят войска из-за разбушевавшихся фанатов.',\n",
              "  'Египетская армия блокировала Порт-Саид.'],\n",
              " ['В Подмосковье накрыли сходку криминальных авторитетов.',\n",
              "  'На сходке криминальных авторитетов в Подмосковье задержаны 23 человека.'],\n",
              " ['Пожар в новостройке на юго-западе Москвы: 10 погибших.',\n",
              "  'В пожаре на юго-западе Москвы погибли 9 человек.'],\n",
              " ['Первый Patriot в Турции приведен в боевую готовность.',\n",
              "  'Первая батарея Patriot заступила на боевое дежурство в Турции.'],\n",
              " ['Работа Генконсульства РФ в сирийском Алеппо временно приостановлена.',\n",
              "  'РФ приостановила деятельность консульства в Алеппо.'],\n",
              " ['СМИ: Власти просят жителей Крымска вернуть часть компенсаций.',\n",
              "  'От жителей Крымска потребовали вернуть часть материальной помощи.'],\n",
              " ['В главном здании МГУ загорелась столовая.',\n",
              "  'Из главного здания МГУ эвакуированы около 300 человек.'],\n",
              " ['Пропавший на Эльбрусе альпинист найден мертвым на высоте 5 км.',\n",
              "  'На Эльбрусе нашли мертвым пропавшего московского альпиниста.'],\n",
              " ['В правительстве вновь высказались за муниципальный фильтр на выборах.',\n",
              "  'Правительство выступило против отмены муниципального фильтра для парламентских партий.'],\n",
              " ['РФ отправила за российскими гражданами в Сирию два самолета.',\n",
              "  'МЧС отправляет два самолета для вывоза россиян из Сирии.'],\n",
              " ['При пожаре в ночном клубе в Бразилии погибли 245 человек.',\n",
              "  'При пожаре в бразильском ночном клубе погибли 90 человек.'],\n",
              " ['При пожаре в ночном клубе в Бразилии погибли более 200 человек.',\n",
              "  'При пожаре в бразильском ночном клубе погибли 90 человек.'],\n",
              " ['Главный \"барометр\" США отдает \"Оскар\" фильму \"Операция \"Арго\".',\n",
              "  'Гильдия продюсеров США назвала «Операцию „Арго“» фильмом года.'],\n",
              " ['Глава управы района Северное Медведково задержан за взятку.',\n",
              "  'Пойманного на взятке главу управы Северное Медведково уволили.'],\n",
              " ['Премьер Эфиопии возглавил Африканский союз.',\n",
              "  'Премьер-министр Эфиопии возглавил Африканский союз.'],\n",
              " ['Во Флориде самолет упал на дом: 3 погибших.',\n",
              "  'Самолет упал на жилой дом во Флориде.'],\n",
              " ['Пожар в Покровской больнице: двое погибли, 50 — эвакуированы.',\n",
              "  'Два человека погибли при пожаре в больнице в Санкт-Петербурге.'],\n",
              " ['В Альпах разбился снегоход с российскими туристами.',\n",
              "  'Группа туристов разбилась на снегоходе в Альпах.'],\n",
              " ['Число погибших при взрыве в университете Алеппо превысило 80.',\n",
              "  'В Университете Алеппо произошел взрыв.'],\n",
              " ['Генконсул РФ назвал имена россиян, погибших в Альпах.',\n",
              "  'Стали известны имена погибших в Альпах россиян.'],\n",
              " ['Французские и малийские военнослужащие выбили исламистов из Тимбукту.',\n",
              "  'Французские и малийские войска вошли в Тимбукту.'],\n",
              " ['У берегов Аляски произошло землетрясение магнитудой 7.5.',\n",
              "  'У берегов Аляски произошло землетрясение магнитудой 7,7.'],\n",
              " ['Принц Гарри закончил военную службу в Афганистане.',\n",
              "  'Британский принц Гарри завершил службу в Афганистане.'],\n",
              " ['Единоросс получил более 90% голосов на выборах мэра Кемерово.',\n",
              "  'Единорос набрал 90 процентов голосов на выборах мэра Кемерово.'],\n",
              " ['В Мали режим чрезвычайного положения продлили на 3 месяца.',\n",
              "  'Власти Мали продлили на три месяца режим чрезвычайного положения.'],\n",
              " ['Жерар Депардье прибыл в Сочи за российским паспортом.',\n",
              "  'Депардье прилетел в Сочи за российским паспортом.'],\n",
              " ['Россия даст Бангладеш $500 млн на строительство первой в стране АЭС.',\n",
              "  '\"Росатом\" назвал дату строительства АЭС в Бангладеш.'],\n",
              " ['Бразилия скорбит по 233 жертвам пожара в клубе Kiss.',\n",
              "  'В Бразилии объявили трехдневный траур по жертвам пожара в клубе.'],\n",
              " ['Режим ЧС введен в Якутии из-за нашествия волков.',\n",
              "  'В Якутии ввели режим ЧС из-за волков.'],\n",
              " ['На трассе в Пермском крае в результате ДТП погибло 5 человек.',\n",
              "  'В Колумбии в ДТП погибли 11 человек.'],\n",
              " ['У гражданина Таджикистана в Москве изъяли 13 кг. героина.',\n",
              "  'В Москве у таджика изъяли 13 килограммов героина.'],\n",
              " ['Pussy Riot сразятся за британскую премию с Rolling Stones и Д.Боуи.',\n",
              "  'Pussy Riot выдвинуты на соискание премии NME.'],\n",
              " ['Шесть моряков с перевернувшегося в Японском море судна погибли.',\n",
              "  'В Японском море найдены тела шести погибших моряков с «Шанса-101».'],\n",
              " ['Группу Pussy Riot выдвинули на престижную британскую премию.',\n",
              "  'Pussy Riot выдвинуты на соискание премии NME.'],\n",
              " ['Возбуждено уголовное дело о строительстве дороги к даче зятя А.Сердюкова.',\n",
              "  'По факту строительства дороги к даче зятя Сердюкова возбудили дело.'],\n",
              " ['Скончалась старейшая жительница США.',\n",
              "  'Скончался старейший гражданин США.'],\n",
              " ['McDonald’s заплатит штраф в $700 тыс. за продажу нехаляльного бургера.',\n",
              "  \"McDonald's согласился заплатить мусульманам 700 тысяч долларов.\"],\n",
              " ['Минобрнауки предлагает выплачивать усыновителям инвалидов 100 тыс. руб.',\n",
              "  'Минобрнауки предложило увеличить выплаты усыновителям инвалидов.'],\n",
              " ['КамАЗ оставил без газа более 20 тыс. человек в Грозном.',\n",
              "  'В Грозном «КамАЗ» оставил без газа более 20 тысяч человек.'],\n",
              " ['Боевики на Северном Кавказе готовили теракты на Рождество.',\n",
              "  'Убитые в Кабардино-Балкарии боевики готовили серию терактов на Рождество.'],\n",
              " ['Хиллари Клинтон возвращается к работе после болезни.',\n",
              "  'Хиллари Клинтон вернулась на работу.'],\n",
              " ['В Подмосковье маршрутка попала в ДТП: 5 пострадавших.',\n",
              "  'В ДТП с маршруткой в Подмосковье пострадали 10 человек.'],\n",
              " ['Президент присвоил главе ФМС ранг министра.',\n",
              "  'Глава ФМС стал федеральным министром.'],\n",
              " ['В Киргизии ужесточили наказание за кражу невест.',\n",
              "  'В Киргизии увеличили срок заключения за кражу невест.'],\n",
              " ['В московском метро появятся киоски-сталинки.',\n",
              "  'В московском метро появятся киоски в стиле сталинского ампира.'],\n",
              " ['Дворник лопатой сломал московскому школьнику челюсть.',\n",
              "  'Московский дворник сломал школьнику челюсть за брошенный снежок.'],\n",
              " ['Барак Обама определился с кандидатурой на пост главы ЦРУ.',\n",
              "  'Обама нашел кандидата на пост главы ЦРУ.'],\n",
              " ['Пожар в колонии в Вологодской области унес жизни 3 заключенных.',\n",
              "  'При пожаре в вологодской колонии погибли трое заключенных.'],\n",
              " ['Пожар в колонии в Вологодской обл.: есть погибшие.',\n",
              "  'При пожаре в вологодской колонии погибли трое заключенных.'],\n",
              " ['Авиакатастрофа в Перу унесла жизни семи человек.',\n",
              "  'При крушении вертолета в Перу погибли семь человек.'],\n",
              " ['Renault сократит 7,5 тыс. сотрудников из-за кризиса.',\n",
              "  'Renault сократит 7,5 тысячи рабочих мест во Франции.'],\n",
              " ['В Перу российский турист отравился \"лианой мертвых\".',\n",
              "  'В Перу найден мертвым российский турист.'],\n",
              " ['Япония заявила протест Китаю в связи с территориальным спором.',\n",
              "  'Новое правительство Японии впервые выразило протест Китаю.'],\n",
              " ['\"Лайнер мечты\" стоимостью $200 млн загорелся в аэропорту Бостона.',\n",
              "  'В аэропорту Бостона загорелся \"Лайнер мечты\".'],\n",
              " ['Велоспорт могут исключить из олимпийской программы.',\n",
              "  'Велоспорту грозит исключение из программы Олимпийских игр.'],\n",
              " ['Итальянская Generali удвоит долю в \"Ингосстрахе\".',\n",
              "  'Итальянцы удвоят свою долю в \"Ингосстрахе\".'],\n",
              " ['Штат Нью-Йорк ограничил торговлю оружием.',\n",
              "  'Штат Нью-Йорк ужесточил закон о контроле за оборотом оружия.'],\n",
              " ['В Челябинске возбуждено уголовное дело о клевете на Ф.Вяткина.',\n",
              "  'Возбуждено дело о клевете на главу Челябинского облсуда.'],\n",
              " ['Неизвестный открыл огонь в бизнес-школе штата Миссури.',\n",
              "  'В Сент-Луисе преступник открыл огонь в бизнес-школе.'],\n",
              " ['Следователи назвали окончательную причину смерти Эми Уайнхаус.',\n",
              "  'Повторное расследование подтвердило причину смерти Эми Уайнхаус.'],\n",
              " ['Мужчина и женщина скончались в результате стрельбы в колледже Кентукки.',\n",
              "  'В результате стрельбы в колледже в Кентукки погибли два человека.'],\n",
              " ['Умер знаменитый тренер сборной СССР по биатлону В.Иерусалимский.',\n",
              "  'Умер бывший тренер сборной СССР по биатлону.'],\n",
              " ['В Петербурге у отделения полиции произошел взрыв, есть пострадавший.',\n",
              "  'У пункта полиции в Петербурге произошел взрыв.'],\n",
              " ['В Новокузнецке скончался третий пострадавший при взрыве газа.',\n",
              "  'В Новокузнецке умер третий пострадавший при взрыве газа.'],\n",
              " ['В Москве автомобиль протаранил остановку: ранены 4 человека.',\n",
              "  'В Москве автомобиль врезался в остановку.'],\n",
              " ['Гильдия режиссеров США объявила претендентов на премию.',\n",
              "  'Гильдия режиссеров США назвала претендентов на ежегодную премию.'],\n",
              " ['Литва заморозила счета российских чиновников из \"списка Магнитского\".',\n",
              "  'Литва заморозила связанные с делом Магнитского счета.'],\n",
              " ['Главу подмосковного Красноармейска заподозрили в мошенничестве.',\n",
              "  'На главу подмосковного Красноармейска завели дело.'],\n",
              " ['В \"ЕР\" определились с суммой штрафа за курение.',\n",
              "  'Депутаты определились с суммой штрафа за курение в общественных местах.'],\n",
              " ['Священнику, поддержавшему Pussy Riot, запретили служить в церкви.',\n",
              "  'Захотевший извиниться перед Pussy Riot священник запрещен в служении.'],\n",
              " ['В Турции оползень накрыл футбольный стадион: 7 погибших.',\n",
              "  'В Турции оползень накрыл футбольный стадион.'],\n",
              " ['Ан-24 с хоккеистами на борту выкатился за пределы ВПП в Саранске.',\n",
              "  'Самолет с хоккеистами выкатился за пределы ВПП в Саранске.'],\n",
              " ['Apple выпустит пластиковый iPhone для бедных.',\n",
              "  'Apple приписали план выпустить пластиковый iPhone.'],\n",
              " ['Взрыв газа в Красноярске: семеро пострадавших.',\n",
              "  'Семь человек пострадали при взрыве газа в Красноярске.'],\n",
              " ['Сергею Филину в Большом театре нашли временную замену.',\n",
              "  'В Большом театре нашли временную замену Филину.'],\n",
              " ['Дело о ДТП на Ленинском вернули в прокуратуру.',\n",
              "  'Дело о ДТП на Ленинском проспекте вернули в прокуратуру.'],\n",
              " ['В Лондоне вертолет столкнулся со строительным краном и разбился.',\n",
              "  'В центре Лондона вертолет врезался в строительный кран.'],\n",
              " ['Защита двух фигурантов \"болотного дела\" подала жалобы в ЕСПЧ.',\n",
              "  'Двое фигурантов \"болотного дела\" обратились в ЕСПЧ.'],\n",
              " ['Тройной теракт в Ираке унес жизни 17 человек.',\n",
              "  'При тройном теракте в Ираке погибли 17 человек.'],\n",
              " ['Право полицейских на проникновение в жилище решили ограничить.',\n",
              "  'Госдуме предложили ограничить полицию в праве проникать в жилище.'],\n",
              " ['Российские паспорта заменят \"пластиком\" с 2015г.',\n",
              "  'С 2015 года паспорта заменят пластиковыми картами.'],\n",
              " ['Сирийские повстанцы обменяют 48 иранцев на 2 тыс. своих соратников.',\n",
              "  'Сирийские повстанцы обменяли 48 иранцев на 2130 своих соратников.'],\n",
              " ['Не все единороссы поддержали губернаторский закон о митингах.',\n",
              "  'При падении вертолета в Лондоне погибли два человека.'],\n",
              " ['Королева Нидерландов решила отречься от престола.',\n",
              "  'Королева Нидерландов отречется от престола.'],\n",
              " ['Королева Нидерландов решила отречься от престола.',\n",
              "  'Королева Нидерландов назвала дату передачи престола.'],\n",
              " ['Журналисты пронесли в здание польского парламента бомбу.',\n",
              "  'Польские журналисты пронесли три килограмма взрывчатки в парламент.'],\n",
              " ['В центре Москвы убит криминальный авторитет Дед Хасан.',\n",
              "  'В Москве убили криминального авторитета Деда Хасана.'],\n",
              " ['МЧС эвакуирует из Сирии не только россиян, но и иностранцев.',\n",
              "  'В интернете нашли два миллиона сторонников Саакашвили.'],\n",
              " ['Сомалийские боевики решили казнить французского разведчика.',\n",
              "  'Сомалийские боевики приговорили к смерти захваченного французского агента.'],\n",
              " ['Власти Италии арестовали водителя снегохода, разбившегося в Альпах.',\n",
              "  'В Италии арестовали водителя разбившегося снегохода с россиянами.'],\n",
              " ['Власти Москвы согласовали антифашистское шествие.',\n",
              "  'Антифашистское шествие в Москвы согласовано окончательно.'],\n",
              " ['В США миллионера осудили за попытку продать Ирану детали для ракет ПВО.',\n",
              "  'Миллионера осудили за попытку продать Ирану ракетные комплектующие.'],\n",
              " ['Число пострадавших при аварии парома в Нью-Йорке выросло до 74.',\n",
              "  'Число пострадавших при крушении парома возросло до 74 человек.'],\n",
              " ['На саратовского дебошира с борта самолета Москва - Хургада заведено дело.',\n",
              "  'По факту дебоша в самолете Москва-Хургада завели дело.'],\n",
              " ['\"Единая Россия\" назвала условия возвращения избирательных блоков.',\n",
              "  'Единорос Неверов назвал условия возвращения избирательных блоков.'],\n",
              " ['Напротив Кремля разместили экстремистский баннер.',\n",
              "  'Напротив Кремля вывесили экстремистский баннер.'],\n",
              " ['Минюст: Россия выплатила 221 млн рублей по решениям ЕСПЧ.',\n",
              "  'Россия заплатила 5,5 миллиона евро по решениям ЕСПЧ.'],\n",
              " ['Осужденному за взрыв на Манежной площади отменили приговор.',\n",
              "  'Верховный суд отменил приговор за взрыв на Манежной площади.'],\n",
              " ['В Вильнюсе задержали хулигана, \"заминировавшего\" московские рейсы.',\n",
              "  'На наличие взрывчатки проверят еще два самолета в Москве.'],\n",
              " ['В Южном Судане вновь обстреляли российский вертолет.',\n",
              "  'В Южном Судане снова обстреляли российский вертолет.'],\n",
              " ['У певицы Шакиры и футболиста Жерара Пике родился сын.',\n",
              "  'Шакира родила Пике сына.'],\n",
              " ['Суд Петербурга рассмотрит дело о гибели людей при взрыве в ресторане \"Харбин\".',\n",
              "  'Шакира родила Пике сына.'],\n",
              " ['Мэрилин Мэнсон передумал выступать в России.',\n",
              "  'Мэрилин Мэнсон отменил тур по России.'],\n",
              " ['Задержан подозреваемый в убийстве 5-летнего Богдана Прахова.',\n",
              "  'Подозреваемый в убийстве пятилетнего Прахова признался в преступлении.'],\n",
              " ['В Париже расстреляли трех курдских активисток.',\n",
              "  'В Париже застрелены три курдских активистки.'],\n",
              " ['Сотрудник Минобороны скончался после допроса по делу \"Оборонсервиса\".',\n",
              "  'Сотрудник Минобороны умер после допроса по делу «Оборонсервиса».'],\n",
              " ['Россия обошла Гаити в рейтинге экономической свободы.',\n",
              "  'Россия поднялась на пять мест в рейтинге экономической свободы.'],\n",
              " ['Опубликован список погибших в авиакатастрофе под Алма-Атой.',\n",
              "  'В авиакатастрофе под Алма-Атой погибли 20 человек.'],\n",
              " ['Под Алма-Атой разбился самолет: погибли 20 человек.',\n",
              "  'В авиакатастрофе под Алма-Атой погибли 20 человек.'],\n",
              " ['В Петербурге проводится проверка по факту падения наледи на девушку.',\n",
              "  'Власти Петербурга пообещали сохранить 31-ю больницу.'],\n",
              " ['Стали известны причины столкновения парома с пирсом в Нью-Йорке.',\n",
              "  'Причиной аварии парома в Нью-Йорке стала техническая неисправность.'],\n",
              " ['В Греции скончался последний член хунты \"черных полковников\".',\n",
              "  'В Греции умер последний «черный полковник».'],\n",
              " ['Бразильские музыканты-\"пиротехники\" признали вину за пожар в клубе Kiss.',\n",
              "  'Бразильская группа покаялась за пожар в клубе.'],\n",
              " ['Суд не стал снижать срок раскаявшемуся фигуранту \"болотного дела\".',\n",
              "  'Мосгорсуд подтвердил приговор Максиму Лузянину по «болотному делу».'],\n",
              " ['В Швейцарии столкнулись два поезда: есть пострадавшие.',\n",
              "  'На севере Швейцарии столкнулись два пассажирских поезда.'],\n",
              " ['По факту избиения организатора спектакля \"Лолита\" в Петербурге возбудили дело.',\n",
              "  'В Петербурге возбудили дело об избиении организатора спектакля «Лолита».'],\n",
              " ['Прокуратура требует назначить 10 лет владельцу \"Хромой лошади\".',\n",
              "  'Прокурор потребовал 10 лет для владельца «Хромой лошади».'],\n",
              " ['Первый дизайнер Facebook уволился из компании второй раз.',\n",
              "  'Создатель кнопки \"Мне нравится\" второй раз уволился из Facebook.'],\n",
              " ['РФ обязали ежедневно выплачивать 50 тыс. долл. за \"список Шнеерсона\".',\n",
              "  'Россию обязали ежедневно выплачивать 50 тысяч долларов за библиотеку Шнеерсона.'],\n",
              " ['США обвинили сирийские власти в \"кровавой атаке\" на университет.',\n",
              "  'США обвинили сирийские власти в нападении на университет в Алеппо.'],\n",
              " ['МВД: Похищенный в Приморье металл не связан с саммитом АТЭС.',\n",
              "  'При строительства моста на саммит АТЭС похитили металл на 96 миллионов.'],\n",
              " ['Со строек саммита АТЭС похищен металл почти на 100 млн руб.',\n",
              "  'При строительства моста на саммит АТЭС похитили металл на 96 миллионов.'],\n",
              " ['В центре Тель-Авива прогремел взрыв: есть раненые.',\n",
              "  'В центре Тель-Авива произошел взрыв.'],\n",
              " ['ОСК и \"Совкомфлот\" договорились о строительстве ледоколов для проектов на шельфе Сахалина.',\n",
              "  '\"Индекс страха\" на биржах упал до минимума с начала кризиса.'],\n",
              " ['Минфин не поддерживает идею создания ведомства по делам сирот.',\n",
              "  'В Госдуме предложили создать ведомство по делам сирот.'],\n",
              " ['СМИ: Взрыв в Тель-Авиве - попытка ликвидации криминального авторитета.',\n",
              "  'Взрыв в Тель-Авиве был покушением на криминального \"авторитета\".'],\n",
              " ['В России могут создать министерство по делам сирот.',\n",
              "  'В Госдуме предложили создать ведомство по делам сирот.'],\n",
              " ['В сирийском Алеппо найдено место массовой казни.',\n",
              "  'Повстанцы нашли в Алеппо место массовой казни.'],\n",
              " ['СКР опроверг связь умершего топ-менеджера с делом \"Оборонсервиса\".',\n",
              "  'СК опроверг связь умершего топ-менеджера с делом «Оборонсервиса».'],\n",
              " ['Подмосковье потратит на строительство дорог 100 млрд руб.',\n",
              "  'Подмосковье потратит 100 миллиардов рублей на строительство дорог.'],\n",
              " ['Генпрокуратура просит лишить неприкосновенности 2 депутатов Госдумы.',\n",
              "  'Генпрокуратура попросила лишить неприкосновенности двух депутатов Госдумы.'],\n",
              " ['Дело \"Оборонсервиса\": обыски начались в ИД \"Красная звезда\".',\n",
              "  'В рамках дела \"Оборонсервиса\" обыскали ИД \"Красная звезда\".'],\n",
              " ['Дело \"Оборонсервиса\": обыски начались в ИД \"Красная звезда\".',\n",
              "  'ИД \"Красная звезда\" опроверг информацию об обыске.'],\n",
              " ['Названы номинанты на премию \"Оскар\".', 'Объявлены номинанты на \"Оскар\".'],\n",
              " ['Обнаружен черный ящик разбившегося под Алма-Атой самолета.',\n",
              "  'На борту разбившегося под Алма-Атой самолета не было россиян.'],\n",
              " ['В Казахстане по факту крушения самолета возбуждено дело.',\n",
              "  'Названа основная версия крушения самолета под Алма-Атой.'],\n",
              " ['Рада Украины провалила отставку главы Нацбанка.',\n",
              "  'Верховная Рада провалила назначение нового главы Нацбанка.'],\n",
              " ['В Москве появится платная государственная скорая помощь.',\n",
              "  'Государственная «скорая» будет оказывать платные услуги.'],\n",
              " ['Потеря 14 млрд долл. стоила главе Rio Tinto его места.',\n",
              "  'Rio Tinto сменила гендиректора из-за потерь на 14 миллиардов долларов.'],\n",
              " ['Сомалийские боевики казнили французского заложника.',\n",
              "  'Сомалийские боевики объявили о казни французского заложника.'],\n",
              " [\"Moody's понизило рейтинг Кипра на три ступени.\",\n",
              "  \"Moody's понизило рейтинг Кипра на три пункта.\"],\n",
              " ['В главном офисе Роснедр прошли обыски по \"нефритовому делу\".',\n",
              "  'В главном офисе Роснедр прошли обыски.'],\n",
              " ['Европа вслед за США и Японией запретила полеты \"Лайнера мечты\".',\n",
              "  'В Европе запретили полеты \"Лайнеров мечты\".'],\n",
              " ['Смольный опровергает разрыв отношений с Венецией.',\n",
              "  'Мэр Венеции опроверг разрыв отношений с Санкт-Петербургом.'],\n",
              " ['Сенат США утвердил Дж.Керри госсекретарем.',\n",
              "  'Сенат утвердил Джона Керри на посту госсекретаря США.'],\n",
              " ['СК начал доследственную проверку в отношении Р.Адагамова.',\n",
              "  'СК начал доследственную проверку обвинений в адрес Адагамова.'],\n",
              " ['В казне Зимбабве после выплат зарплат бюджетникам осталось 217 долларов.',\n",
              "  'В казне Зимбабве осталось 217 долларов.'],\n",
              " ['В Мали прибывают иностранные войска.',\n",
              "  'В Мали прибыли международные войска.'],\n",
              " ['СК просит лишить неприкосновенности депутата-единоросса В.Булавинова.',\n",
              "  'СК попросил лишить неприкосновенности депутата-единороса.'],\n",
              " ['Россия и Казахстан создают единую систему ПВО.',\n",
              "  'Россия и Казахстан договорились о создании единой ПВО.'],\n",
              " ['Из плена боевиков в Алжире сбежали 30 иностранных заложников.',\n",
              "  'От исламистов в Алжире сбежали 30 заложников.'],\n",
              " ['Никита Белых явился на допрос в полицию.',\n",
              "  'Никита Белых явился на допрос.'],\n",
              " ['Дело \"Оборонсервиса\": обыски начались в ИД \"Красная звезда\".',\n",
              "  '\"Оборонсервис\" объяснил путаницу с обыском в ИД \"Красная звезда\".'],\n",
              " ['Японскую экономику взбодрят вливанием 116,8 млрд долл.',\n",
              "  'Япония потратит 116 миллиардов долларов на стимулирование экономики.'],\n",
              " ['Замминистра спорта Саратовской области получил взятку в 1,5 млн руб.',\n",
              "  'Саратовский замминистра спорта задержан за взятку.'],\n",
              " ['Место для музея Ольги Берггольц нашли в петербургской школе.',\n",
              "  'В Петербурге открылся музей Ольги Берггольц.'],\n",
              " ['Охранник Джастина Бибера заявил, что певец бил его.',\n",
              "  'Охранник Джастина Бибера обвинил певца в избиении.'],\n",
              " ['МВФ: Рост экономики РФ близок к \"потенциальному уровню\".',\n",
              "  'Норвежское посольство объявило конкурс на лучший крик.'],\n",
              " ['Причастная к \"делу Димы Яковлева\" чиновница была уволена.',\n",
              "  'В Псковской области уволили чиновницу по делу Димы Яковлева.'],\n",
              " ['Южная Корея запустила первую в своей истории ракету со спутником.',\n",
              "  'Южная Корея впервые успешно запустила ракету в космос.'],\n",
              " ['Полиция предупреждает участников \"Марша против подлецов\" о провокациях.',\n",
              "  'Участников \"Марша против подлецов\" предупредили о провокациях и гриппе.'],\n",
              " ['В Шереметьево задержали священника с кокаином в желудке.',\n",
              "  'В «Шереметьево» задержали колумбийского священника с кокаином в желудке.'],\n",
              " ['В грузинских горах нашли тела двух пропавших альпинистов из РФ.',\n",
              "  'Двух пропавших в Грузии российских альпинистов нашли мертвыми.'],\n",
              " ['Житель Ставрополья поджег двух сотрудников районного Водоканала.',\n",
              "  'Житель Ставрополья поджег сотрудников Водоканала.'],\n",
              " ['Главный нарколог РФ выступил против запрета курилок на работе.',\n",
              "  'Главный нарколог РФ призвал сохранить курилки.'],\n",
              " ['Газпром доведет \"Южный поток\" до Хорватии.',\n",
              "  '\"Газпром\" договорился о строительстве \"Южного потока\" в Хорватии.'],\n",
              " ['Рынок акций может попытаться уйти выше.',\n",
              "  \"Уточнен срок выхода дополнения к Dragon's Dogma на Западе.\"],\n",
              " ['Депутаты Петербурга ищут виновных за срыв салюта в день прорыва блокады.',\n",
              "  'В Петербурге потребовали найти виновных в срыве юбилейного салюта.'],\n",
              " ['В Петербурге сотрудницу налоговой подозревают во взятке, в инспекции обыски.',\n",
              "  'В Петербурге налогового инспектора поймали на взятке.'],\n",
              " ['Смольный: Отмена дорожных конкурсов не связана с Навальным.',\n",
              "  'Смольный отменил конкурсы на ремонт дорог после жалобы Навального.'],\n",
              " ['Чиновники Петербурга отменили конкурсов на ремонт дорог без участия Навального.',\n",
              "  'Смольный отменил конкурсы на ремонт дорог после жалобы Навального.'],\n",
              " ['Первый Ил-476 прилетел на испытания к военным.',\n",
              "  'Минэкономразвития отказалось заниматься посольством для инопланетян.'],\n",
              " ['В Москве уволили четырех начальников районных ОВД.',\n",
              "  'Четырех глав столичных ОВД уволили за плохую работу.'],\n",
              " ['Из плена боевиков в Алжире сбежали 30 иностранных заложников.',\n",
              "  'В Алжире 180 заложников сбежали от исламистов.'],\n",
              " ['Первый Ил-476 прилетел на испытания к военным.',\n",
              "  'Первый Ил-476 приземлился в Жуковском.'],\n",
              " ['Российский оппозиционер, бежавший в Нидерланды, покончил с собой.',\n",
              "  'Бежавший в Нидерланды оппозиционер покончил с собой.'],\n",
              " ['Внешний долг РФ вырос на $83,4 млрд за 2012г.',\n",
              "  'Внешний долг России вырос на 83 миллиарда долларов за год.'],\n",
              " ['\"Снежную битву\" в Петербурге вновь запретили.',\n",
              "  'В Санкт-Петербурге повторно запретили \"Снежную битву\".'],\n",
              " ['Россия предъявила Казахстану \"космический ультиматум\" на $500 млн.',\n",
              "  'Россия предъявила Казахстану ультиматум на 500 миллионов долларов.'],\n",
              " ['Пушка из нью-йоркского Центрального парка оказалась заряжена.',\n",
              "  'В Центральном парке Нью-Йорка нашли заряженную пушку.'],\n",
              " ['В Бенгази обстреляли автомобиль консула Италии.',\n",
              "  'Машину консула Италии обстреляли в Бенгази.'],\n",
              " ['В Москве избит корреспондент ИД \"Коммерсантъ\".',\n",
              "  'В центре Москвы избит корреспондент \"Коммерсанта\".'],\n",
              " ['В Сочи произошло землетрясение.',\n",
              "  'В Сочи произошло землетрясение магнитудой 3,8.'],\n",
              " ['В Москве завершился \"Марш против подлецов\".',\n",
              "  'В Москве начался \"Марш против подлецов\".'],\n",
              " ['В Москве проходит \"Марш против подлецов\".',\n",
              "  'В Москве начался \"Марш против подлецов\".'],\n",
              " ['КНДР проведет ядерные испытания \"с прицелом на США\".',\n",
              "  'КНДР объявила о намерении провести новые ядерные испытания.'],\n",
              " ['Жерар Депардье выступил против российских оппозиционеров.',\n",
              "  'Депардье раскритиковал российскую оппозицию.'],\n",
              " ['Золота и валюты у России стало больше на $4 млрд.',\n",
              "  '«Аргументы недели» подали в суд на «Российскую газету».'],\n",
              " ['Спасательные работы на канатной дороге в Сочи завершены.',\n",
              "  'Десятки людей в Сочи застряли на канатной дороге.'],\n",
              " ['В Сочи на канатной дороге оказались заблокированы 100 человек.',\n",
              "  'Десятки людей в Сочи застряли на канатной дороге.'],\n",
              " ['Великобритания присоединилась к французской операции в Мали.',\n",
              "  'Великобритания подключилась к военной операции в Мали.'],\n",
              " ['Полиция Норвегии не начинала расследование дела Адагамова.',\n",
              "  'Адвокат Адагамова узнал из СМИ о начале расследования в Норвегии.'],\n",
              " ['В Бурятии местные жители линчевали только что освободившегося педофила.',\n",
              "  'Двое жителей Бурятии линчевали педофила.'],\n",
              " ['Израильские ВВС нанесли удар по Сирии.',\n",
              "  'ВВС Израиля нанесли удар по целям на границе Сирии и Ливана.'],\n",
              " ['Стюардесса разбившегося во Внуково Ту-204 выписана из больницы.',\n",
              "  'Стюардесса разбившегося Ту-204 выписана из больницы.'],\n",
              " ['В России может появиться Министерство возобновляемых ресурсов.',\n",
              "  'Для управления рыбной отраслью создадут новое министерство.'],\n",
              " ['Американская экономика сократилась впервые за 4 года.',\n",
              "  'Американская экономика начала сокращаться.'],\n",
              " ['Казахстанца посадили за неприличный жест в адрес VIP-кортежа.',\n",
              "  'Казахстанца арестовали за непристойный жест в сторону VIP-кортежа.'],\n",
              " ['В Южной Африке 15 тыс. крокодилов сбежали с фермы.',\n",
              "  'С южноафриканской фермы сбежали 15 тысяч крокодилов.'],\n",
              " ['Кехман рассказал об обысках в Михайловском театре и деле JFC.',\n",
              "  'В Михайловский театр пришли с обыском.'],\n",
              " ['Бывший волгоградский вице-премьер признал получение взятки в 17 млн руб.',\n",
              "  'Волгоградский вице-премьер признался в получении взятки.'],\n",
              " ['СКР допросит чиновников Минтранса по делу о крушении Ту-204 во Внуково.',\n",
              "  'По делу о крушении Ту-204 допросят сотрудников Минтранса.'],\n",
              " ['За 2 года в России выявили 20 тыс. коррупционных преступлений.',\n",
              "  'При ремонте военной техники в Энгельсе похитили 266 миллионов рублей.'],\n",
              " ['Кехман рассказал об обысках в Михайловском театре и деле JFC.',\n",
              "  'Михайловский театр обыскали по делу о 10-миллиардном мошенничестве.'],\n",
              " ['Второму фигуранту дела \"Кировлеса\" предъявлено обвинение.',\n",
              "  'Второму обвиняемому в деле \"Кировлеса\" предъявили окончательное обвинение.'],\n",
              " ['КПРФ: Волгоград носит свое имя незаконно.',\n",
              "  'Волгоград в памятные дни станет Сталинградом.'],\n",
              " ['Волгоград на несколько дней переименуют в Сталинград.',\n",
              "  'Волгоград в памятные дни станет Сталинградом.'],\n",
              " ['Власти Китая приговорили тибетского монаха к смертной казни.',\n",
              "  'В Китае тибетского монаха приговорили к смерти.'],\n",
              " ['Москва потребовала от Нидерландов расследовать смерть А.Долматова.',\n",
              "  'Россия потребовала от Нидерландов расследования смерти Долматова.'],\n",
              " ['Заведено дело по факту подкупа свидетеля убийства Ю.Буданова.',\n",
              "  'Возбуждено дело о подкупе свидетеля убийства Буданова.'],\n",
              " ['Комитет Госдумы одобрил штрафы за мат в СМИ.',\n",
              "  'Думский комитет одобрил штрафы за мат в СМИ.'],\n",
              " ['Госдума одобрила тестирование школьников на наркотики.',\n",
              "  'Госдума одобрила в первом чтении проверку учащихся на наркотики.'],\n",
              " ['Ребенок принца Уильяма родится в июле.',\n",
              "  'Принц Уильям и Кейт Миддлтон станут родителями в июле.'],\n",
              " ['В ЮАР около 150 человек пострадали при столкновении двух поездов.',\n",
              "  'В ЮАР столкнулись два пасcажирских поезда.'],\n",
              " ['По факту смерти призывников от пневмонии завели дело.',\n",
              "  'По факту смерти солдат от пневмонии возбудили дело.'],\n",
              " ['Сердюковское дело: в Минобороны выявлены новые хищения.',\n",
              "  'Возбуждено новое дело о хищении средств Минобороны.'],\n",
              " ['Камбоджийские моряки отозвали заявление против С.Полонского.',\n",
              "  'Камбоджийские моряки отозвали заявление на Полонского.'],\n",
              " ['Эрмитаж пытается догнать Лувр по ценам на билеты.',\n",
              "  'Эрмитаж повысит цены на билеты для россиян.'],\n",
              " ['Эрмитаж повышает стоимость билетов для россиян.',\n",
              "  'Эрмитаж повысит цены на билеты для россиян.'],\n",
              " ['Fitch: Продажи Газпрома в Европе сократятся из-за слабой экономики.',\n",
              "  'Fitch предсказало \"Газпрому\" сокращение продаж в Европе.'],\n",
              " ['Вода из прорванного трубопровода затопила Дмитровское шоссе.',\n",
              "  'Дмитровское шоссе в Москве залило водой из прорванной трубы.'],\n",
              " ['Исламисты продолжают удерживать 7 заложников в Алжире.',\n",
              "  'На газовом месторождении в Алжире остались 7 заложников.'],\n",
              " ['В московской подземке пассажир упал на рельсы.',\n",
              "  'В московском метро на рельсы упал человек.'],\n",
              " ['Четверо альпинистов погибли в Шотландии из-за схода лавины.',\n",
              "  'В горах Шотландии погибли четверо альпинистов.'],\n",
              " ['На шахте в Кузбассе произошло задымление, четыре горняка погибли.',\n",
              "  'Из-за задымления в шахте на Кузбассе погиб человек.'],\n",
              " ['Владимир Сорокин номинирован на \"Международного Букера\".',\n",
              "  'Владимира Сорокина номинировали на международного «Букера».'],\n",
              " ['СМИ: В Северной Корее введено военное положение.',\n",
              "  'В КНДР введено военное положение.'],\n",
              " ['В Алжире нашли тела еще 25 убитых заложников.',\n",
              "  'В Алжире нашли тела 25 заложников.'],\n",
              " ['\"Лаборатория Касперского\" вскрыла международную шпионскую сеть.',\n",
              "  '\"Лаборатория Касперского\" раскрыла международную шпионскую сеть.'],\n",
              " ['Сотрудник совета генпрокуроров СНГ задержан за громкое ДТП.',\n",
              "  'Предполагаемого виновника ДТП уволили из Совета генпрокуроров СНГ.'],\n",
              " ['В московском обменнике у мужчины украли 700 тыс. евро.',\n",
              "  'Кассир обменного пункта украла у клиента 700 тысяч евро.'],\n",
              " ['Сотрудники карельского музея \"Кижи\" выступили против нового руководства.',\n",
              "  'Сотрудники музея «Кижи» выступили против назначения нового директора.'],\n",
              " ['Автор законов об \"иностранных агентах\" и митингах лишился поста в ОНФ.',\n",
              "  'Автор законов о митингах и \"иностранных агентах\" лишился поста в ОНФ.'],\n",
              " ['В Лондоне хакеры осуждены за атаку на Visa и PayPal.',\n",
              "  'Хакерам из Anonymous вынесли приговор за атаки на Visa, Mastercard и PayPal.'],\n",
              " ['В Приморье спустя 7 лет задержали убийцу кандидата в мэры Дальнегорска.',\n",
              "  'Задержан обвиняемый в убийстве кандидата в мэры Дальнегорска.'],\n",
              " ['В Чувашии взрыв разрушил жилой дом.',\n",
              "  'В Чувашии взрыв газа разрушил трехэтажный жилой дом.'],\n",
              " ['Во Франции суд обязал Twitter раскрывать данные антисемитов.',\n",
              "  'Французский суд обязал Twitter раскрывать данные антисемитов.'],\n",
              " ['В Приморье школьницы снегом потушили Вечный огонь.',\n",
              "  'Школьницы в Приморском крае погасили Вечный огонь снежками.'],\n",
              " ['В аэропорту Казани пассажирский Airbus задел хвостом маяк.',\n",
              "  'Пассажирский самолет в аэропорту Казани задел хвостом курсовой маяк.'],\n",
              " ['Из-под завалов обрушившегося дома в Чувашии извлечены все люди.',\n",
              "  'Спасатели извлекли всех людей из-под развалин дома в Чувашии.'],\n",
              " ['Москвичи смогут забронировать в Интернете место на кладбище.',\n",
              "  'Москвичам разрешат бронировать место на кладбище по интернету.'],\n",
              " ['Автомобили и корабли возьмут на буксир экономику Петербурга.',\n",
              "  'В квартиру к украинке ворвались налетчики-геймеры.'],\n",
              " ['Хищения в ракетных войсках: 13 уголовных дел и 90 млн руб. ущерба.',\n",
              "  'В Ракетных войсках украли 90 миллионов рублей.'],\n",
              " ['Куратор московских гаражей задержан за \"откат\" в 10 млн руб.',\n",
              "  'Подсудимые по делу о беспорядках в Сагре попросили оправдать их.'],\n",
              " ['Курс доллара упал ниже 30 руб. впервые за 9 месяцев.',\n",
              "  'Курс доллара упал ниже 30 рублей впервые за восемь месяцев.'],\n",
              " ['ФСБ создаст антихакерскую систему по поручению В.Путина.',\n",
              "  'ФСБ создаст систему по борьбе с кибератаками.'],\n",
              " ['Губернатор Подмосковья назвал причину отставки мэра Жуковского.',\n",
              "  'Мэр подмосковного Жуковского ушел в отставку.'],\n",
              " ['В ЮАР около 150 человек пострадали при столкновении двух поездов.',\n",
              "  'При столкновении поездов в ЮАР ранены 300 человек.'],\n",
              " ['Сторонники и противники закона о гей-пропаганде подрались возле Думы.',\n",
              "  'У здания Госдумы задержали противников закона о гей-пропаганде.'],\n",
              " ['Спор о гей-пропаганде у стен Госдумы: более 20 задержанных.',\n",
              "  'У здания Госдумы задержали противников закона о гей-пропаганде.'],\n",
              " ['Пожар в \"Москва-Сити\" полностью ликвидирован.',\n",
              "  'Пожар в «Москва-Сити» потушен.'],\n",
              " ['Башня \"Москва-Сити\" загорелась из-за работы тепловой пушки.',\n",
              "  'Пожар в «Москва-Сити» потушен.'],\n",
              " ['Россия перевыполнила план поставок оружия за рубеж.',\n",
              "  'Россия перевыполнила план по экспорту оружия.'],\n",
              " ['Греческая полиция взяла штурмом Афинский метрополитен.',\n",
              "  'Греческая полиция штурмом взяла метро в Афинах.'],\n",
              " ['\"Эсеры\" внесли в Госдуму законопроект об отмене \"закона Димы Яковлева\".',\n",
              "  'Дмитрий Медведев поручился за сирот.'],\n",
              " ['Россияне стали брать ипотеку в полтора раза чаще.',\n",
              "  'Россия берет себя в руки.'],\n",
              " ['Рост цен в Европе оказался втрое меньше российского.',\n",
              "  'ЕБРР пришел в Россию по двум статьям.'],\n",
              " ['На Бали англичанку приговорили к казни за контрабанду наркотиков.',\n",
              "  'Последние приговоры генералам МВД.'],\n",
              " ['Смольный: Венеция не разрывала отношений с Петербургом из-за \"гомофобного\" закона.',\n",
              "  'Петербургские дороги увязли в судах.'],\n",
              " ['Россия направила Казахстану \"космическую\" ноту.',\n",
              "  'Казахстан нарвался на космическую ноту.'],\n",
              " ['\"Нежелательных\" иностранцев будут высылать из России без суда.',\n",
              "  'Льготы не за компанию.'],\n",
              " ['Казахстан намерен ввести запрет на импорт российских нефтепродуктов.',\n",
              "  'Казахстан заменит Россию на Китай.'],\n",
              " ['В Москву из Сирии вернулись 2 самолета МЧС с россиянами на борту.',\n",
              "  'МЧС вывезло из Сирии уже тысячу россиян.'],\n",
              " ['Boeing знал о проблемах с Dreamliner задолго до первых инцидентов.',\n",
              "  'Метр, выйди из тени - Как граждан стимулируют страховать дома и квартиры.'],\n",
              " ['Названы номинанты на премию \"Оскар\".',\n",
              "  'Названы номинанты на премию BAFTA.'],\n",
              " ['В Петербурге экс-полицейский сядет на 6,5 лет за вымогательство 15 млн руб.',\n",
              "  'Подача с Уголовного.'],\n",
              " ['Полиция нашла новые хищения при подготовке к саммиту АТЭС.',\n",
              "  'Минобороны рассчиталось на первого-десятого.'],\n",
              " ['Полиция нашла новые хищения при подготовке к саммиту АТЭС.',\n",
              "  'Казахстан заменит Россию на Китай.'],\n",
              " ['Минюст Украины: Для расплаты с Россией денег в бюджете нет.',\n",
              "  'Метр, выйди из тени - Как граждан стимулируют страховать дома и квартиры.'],\n",
              " ['Прокуратура Украины: Ю.Тимошенко причастна к убийству депутата.',\n",
              "  'О деле Димы Яковлева.'],\n",
              " ['Профсоюзы раскритиковали идею о запрете курилок на работе.',\n",
              "  'Депутаты защитят граждан от банков и страховщиков - В первом чтении принят закон о финансовом уполномоченном.'],\n",
              " ['Инфляция в России может снизиться до 4%.', 'На основании вышезаложенного.'],\n",
              " ['У художника Максима Кантора могут отобрать мастерскую.',\n",
              "  'Художник Максим Кантор пожаловался на выселение из мастерской.'],\n",
              " ['Росстат: В 2012 году цены на продукты выросли на 6,6 процента.',\n",
              "  'Цены на продукты питания в 2012 году упали.'],\n",
              " ['Илья Ковальчук: Время покажет, останусь ли я в России.',\n",
              "  'Соглашение об усыновлении с США будет действовать до 2014 года.'],\n",
              " ['Самолеты Boeing 787 Dreamliner пройдут проверку в Японии, США и Индии.',\n",
              "  'США приостановили полеты Boeing 787 Dreamliner.'],\n",
              " ['Дацюк и Ковальчук примут участие в Матче звезд КХЛ.',\n",
              "  'Ковальчук стал капитаном сборной Запада в Матче звезд КХЛ.'],\n",
              " ['Названы имена и сроки закладки еще двух подводных ракетоносцев.',\n",
              "  'Названы имена двух новых \"Бореев\".'],\n",
              " ['В новом году одной из главных причин аварий стал выезд на встречку.',\n",
              "  'Американские полярники прибыли к подледному антарктическому озеру.'],\n",
              " ['Волосожар и Траньков лидируют после короткой программы на ЧЕ.',\n",
              "  'Волосожар и Траньков выиграли ЧЕ по фигурному катанию.'],\n",
              " ['В Москве можно будет забронировать место на кладбище через интернет.',\n",
              "  'Москвичам разрешат бронировать место на кладбище по интернету.'],\n",
              " ['Все развязки на МКАД будут реконструированы в 2013 году.',\n",
              "  'В 2013 году завершится реконструкция всех развязок на МКАД.'],\n",
              " ['Спикер Госдумы Сергей Нарышкин пообщался с избирателями.',\n",
              "  'Подсудимые по делу о беспорядках в Сагре попросили оправдать их.'],\n",
              " ['Евгений Плющенко готовится к операции по замене межпозвоночного диска.',\n",
              "  'Плющенко заменили межпозвоночный диск.'],\n",
              " ['Экс-глава МВД Австрии приговорен к четырем годам тюрьмы за коррупцию.',\n",
              "  'Радикал на все времена.'],\n",
              " ['Владимир Путин обсудил с Сергеем Собяниным транспортную ситуацию в Москве.',\n",
              "  'Владимир Путин ставит Москву на рельсы.'],\n",
              " ['Госдума упрощает получение гражданства для соотечественников.',\n",
              "  'Госдума упрощает процедуру получения российского гражданства.'],\n",
              " ['Самолеты МЧС вывезут россиян из разрушенной Сирии.',\n",
              "  'МЧС вывезло из Сирии уже тысячу россиян.'],\n",
              " ['Верховный суд РФ дал разъяснения по усыновлению детей.',\n",
              "  'Суд хочет разобраться с правительством.'],\n",
              " ['Главным тренером ХК \"Амур\" стал Евгений Попихин.',\n",
              "  'Евгений Попихин меняет минское \"Динамо\" на \"Амур\".'],\n",
              " ['Сборная России по футболу сыграет с Исландией в товарищеском матче.',\n",
              "  'Сборная России сыграет с командой Исландии 6 февраля.'],\n",
              " ['Верховный суд отменил приговор за взрыв на Манежной площади.',\n",
              "  'Судью признали не заслуживающим снисхождения.'],\n",
              " ['К концу 2013 года российская армия перейдет на носки.',\n",
              "  'Борьба с бурением.'],\n",
              " ['К концу 2013 года российская армия перейдет на носки.',\n",
              "  'Александра Сидякина вывели с \"Фронта\".'],\n",
              " ['К концу 2013 года российская армия перейдет на носки.',\n",
              "  'Россия берет себя в руки.'],\n",
              " ['Через пять лет Британия может выйти из Евросоюза.', 'Carrera не задалась.'],\n",
              " ['К концу 2013 года российская армия перейдет на носки.',\n",
              "  'Сергей Карякин взялся за свое.'],\n",
              " ['Блаттер: Толстых я советую быть приверженцем национального чемпионата.',\n",
              "  'Чемпионат СНГ не вписался в пирамиду FIFA.'],\n",
              " ['Большинство из пострадавших в ДТП в Альпах россиян вернулись домой.',\n",
              "  'Таджик до Киева доведет - Чем опасна миграционная политика России.'],\n",
              " ['Эммануэль Эменике: Я - игрок \"Спартака\" и останусь им!',\n",
              "  '«Все, что в списке, ваше».'],\n",
              " ['По факту строительства дороги к даче зятя Сердюкова возбудили дело.',\n",
              "  'Проверка на пошлинность.'],\n",
              " ['Похороны Деда Хасана в Грузии сорвались из-за статуса друзей покойного.',\n",
              "  'В Грузии похороны Деда Хасана не состоялись по политическим мотивам.'],\n",
              " ['Все дополнения к Skyrim выйдут на PS3 в феврале.', 'Карта не для чтения.'],\n",
              " ['Минприроды предложило отдать частникам ненужные госкомпаниям месторождения.',\n",
              "  'Как боролись за допуск частных компаний на шельф.'],\n",
              " ['На инаугурации Обамы ожидается до 900 тысяч зрителей.',\n",
              "  '\"Наличность трудно считать, а еще труднее контролировать\" - Как менялось отношение граждан и банков к наличным.'],\n",
              " ['РЖД предупредила об аварийной ситуации на железных дорогах.',\n",
              "  'Железнодорожники взялись за вагоны.'],\n",
              " ['На сотрудника ГИБДД завели дело за домогательства к подчиненной.',\n",
              "  '\"Союзмультфильм\" не дается в частные руки.'],\n",
              " ['Российские машиностроители отказались от помощи государства.',\n",
              "  'Машиностроители отказались от субсидий.'],\n",
              " ['Боксеры из Узбекистана и Кубы стали претендентами на титул Поветкина.',\n",
              "  'ЕБРР пришел в Россию по двум статьям.'],\n",
              " ['Американские деловые агентства заподозрили в связях с трейдерами.',\n",
              "  'Разрывные отношения - Почему банки по всему миру перестали друг другу доверять.'],\n",
              " ['\"Роснефть\" увеличит поставки нефти в Китай.',\n",
              "  '\"Роснефть\" подтекает в Китай.'],\n",
              " ['Президент \"Русснефти\" задумался над покупкой радиостанций Крутого.',\n",
              "  'Михаилу Гуцериеву сдают \"Дачу\".'],\n",
              " ['Бывший чемпион мира по боксу умер в 48 лет.',\n",
              "  'Как судей судили за их решения.'],\n",
              " ['Соглашение об усыновлении с США будет действовать до 2014 года.',\n",
              "  'Оппозиция начинает год по-сиротски.'],\n",
              " ['Генпрокуратура проверит Центризбирком по запросу депутата.',\n",
              "  'Ведомство проверит Центризбирком по запросу депутата от ЛДПР.'],\n",
              " ['Дело «решальщика по МВД» дошло до суда.',\n",
              "  '\"Решальщика по МВД\" ждет решение суда.'],\n",
              " ['Требовательность Путина огорчила президента Литвы.',\n",
              "  'Все грани неравенства - Когда социальное расслоение способствует экономическому росту.'],\n",
              " ['Во время штурма в Алжире погибли шесть филиппинцев и девять японцев.',\n",
              "  'Как развивался кризис с заложниками в Алжире.'],\n",
              " ['\"Единая Россия\" сохранила звание самой состоятельной партии.',\n",
              "  'Звание самой богатой партии сохранила за собой \"Единая Россия\".'],\n",
              " ['Росавиация приостановила полеты Red Wings.',\n",
              "  'Росавиация с 4 февраля запрещает полеты Red Wings.'],\n",
              " ['СМИ раскрыли подробности хищения 1 млрд руб. в \"РусГидро\".',\n",
              "  'В \"РусГидро\" выявлены хищения на миллиард рублей.'],\n",
              " ['Срок бесплатной приватизации квартир продлен до 2015г.',\n",
              "  'Бесплатную приватизацию жилья продлят в последний раз.'],\n",
              " ['Обыск в \"Русале\" связан с делом об уклонении от налогов на 200 млн руб.',\n",
              "  'Увеличены штрафы за отказ инвалиду в приеме на работу.'],\n",
              " ['США просят РФ немедленно отменить запрет на ввоз мяса.',\n",
              "  'Москва запретила импорт мяса из США и Германии.'],\n",
              " ['В Госдуме предложили разрешить россиянам оплачивать долги на границе.',\n",
              "  'Эксперты: ЧГП в России распространено не равномерно.'],\n",
              " ['Задержан предполагаемый убийца сыновей полицейского в Дагестане.',\n",
              "  'В Дагестане бандиты убили двух сыновей полицейского.'],\n",
              " ['Эксперт: К выборам 2016г. модель публичной политики в России будет иной.',\n",
              "  'На 79-м году жизни умер Виктор Сергачев.'],\n",
              " ['Российский блогер Р.Адагамов переехал в Чехию.',\n",
              "  'В России очередной всплеск информационных войн.'],\n",
              " ['Сенат США разрешил превышать лимит госзаимствований.',\n",
              "  'Сенат США разрешил Белому Дому превышать потолок заимствований.'],\n",
              " ['Россия пообещала списать часть долга Кубы.',\n",
              "  'Россия простит Кубе часть 30-миллиардного долга.'],\n",
              " ['Врачи успешно прооперировали раненого кандидата в президенты Армении.',\n",
              "  'На кандидата в президенты Армении совершено покушение.'],\n",
              " ['В Армении совершено покушение на кандидата в президенты от оппозиции.',\n",
              "  'На кандидата в президенты Армении совершено покушение.'],\n",
              " ['На северо-западе Казахстана упало несколько горящих метеоритов.',\n",
              "  'На западе Казахстана упали неопознанные горящие объекты.'],\n",
              " ['В штаб-квартире нефтяной компании в Мехико произошел взрыв.',\n",
              "  'В здании мексиканской нефтяной компании произошел взрыв.'],\n",
              " ['Президент Латвии официально одобрил введение евро с 1 января 2014г.',\n",
              "  'Президент Латвии одобрил введение евро.'],\n",
              " ['В школе в Атланте открыли стрельбу, есть раненые.',\n",
              "  'Стрельбу в школе в Атланте устроил ученик.'],\n",
              " ['Задержан подозреваемый в покушении на кандидата в президенты Армении.',\n",
              "  'В Армении задержан подозреваемый в покушении на кандидата в президенты.'],\n",
              " ['В комитете по транспорту правительства Петербурга прошли обыски.',\n",
              "  'ФСБ обыскала комитет по транспорту Петербурга.'],\n",
              " ['Прокуратура Петербурга обязала \"ВКонтакте\" заблокировать группы чайлдфри.',\n",
              "  '«ВКонтакте» заблокировала группы «чайлдфри» по требованию прокуратуры.'],\n",
              " ['Счетная палата проверит Сбербанк, но только после Олимпиады.',\n",
              "  'Счетная палата проверит турецкую покупку Сбербанка.'],\n",
              " ['Руководство одного из районов Санкт-Петербурга попалось на хищениях.',\n",
              "  'Задержан бывший замглавы Приморского района Петербурга.'],\n",
              " ['Экс-замглавы Приморского района Петербурга задержан по делу о хищении 174 млн руб.',\n",
              "  'Задержан бывший замглавы Приморского района Петербурга.'],\n",
              " ['Объявлены номинанты премии за самое нелепое название книги.',\n",
              "  'Объявлены номинанты на самое глупое название книги.'],\n",
              " ['К Олегу Митволю пришли с обысками.', 'К Митволю пришли с обысками.'],\n",
              " ['Гран-при World Press Photo получил снимок погибших детей Газы.',\n",
              "  'В World Press Photo победил снимок погибших палестинских детей.'],\n",
              " ['В квартире экс-министра спорта Грузии произошло убийство.',\n",
              "  'Экс-министра спорта Грузии задержали после убийства в его квартире.'],\n",
              " ['В Нидерландах национализировали четвертый по величине банк.',\n",
              "  'Нидерланды национализировали крупный банк.'],\n",
              " ['В Москве задержан студент-лихач на Porsche Cayenne.',\n",
              "  'В Москве арестовали «Черного дьявола» на Porsche Cayenne.'],\n",
              " ['МИД: На захваченном в Камеруне британском судне были россияне.',\n",
              "  'У берегов Камеруна захвачено британское судно с двумя россиянами.'],\n",
              " ['Хабаровск официально получил звание \"Город воинской славы\".',\n",
              "  'Хабаровск стал городом воинской славы.'],\n",
              " ['Власти Петербурга защитили Мариинку от \"сценария Герострата\".',\n",
              "  'Вице-губернатор Петербурга встал на защиту второй сцены Мариинки.'],\n",
              " ['Официальный курс доллара упал ниже 30 руб. впервые с мая 2012г.',\n",
              "  'ЦБ впервые с начала года опустил курс доллара ниже 30 рублей.'],\n",
              " ['Начштаба Южного военного округа обвинили в превышении полномочий.',\n",
              "  'Начальника штаба ЮВО обвинили в превышении полномочий.'],\n",
              " ['Сбербанк отказывается принимать чеки American Express.',\n",
              "  'Сбербанк откажется от чеков American Express.'],\n",
              " ['В Москве появились новые билеты на общественный транспорт.',\n",
              "  'К Замоскворецкой линии метро пристроят еще две станции.'],\n",
              " ['Бывший клавишник \"Ласкового мая\" убит в Подмосковье.',\n",
              "  'В Подмосковье убили клавишника «Ласкового мая».'],\n",
              " ['КНДР намекнула на более мощные ядерные испытания.',\n",
              "  'КНДР пообещала Китаю провести новые ядерные испытания.'],\n",
              " ['Ущерб от падения метеорита превысил 1 млрд рублей.',\n",
              "  'Ущерб от челябинского метеорита превысит миллиард рублей.'],\n",
              " ['Закон о \"резиновых квартирах\" принят депутатами в первом чтении.',\n",
              "  'Госдума приняла в первом чтении закон о «резиновых квартирах».'],\n",
              " ['По сирийскому Алеппо нанесли ракетный удар: десятки погибших.',\n",
              "  'По Алеппо нанесли новый ракетный удар.'],\n",
              " ['В США обнаружена утечка из 6 резервуаров для ядерных отходов.',\n",
              "  'В США произошла утечка в хранилище ядерных отходов.'],\n",
              " [\"Moody's понизило кредитный рейтинг Великобритании на 1 ступень.\",\n",
              "  \"Moody's понизило рейтинг британских гособлигаций.\"],\n",
              " ['Перед зданием посольства США в Анкаре прогремел взрыв.',\n",
              "  'У посольства США в Анкаре произошел взрыв.'],\n",
              " ['Парламентские выборы в Египте перенесли по просьбе коптов.',\n",
              "  'Перенесена дата начала парламентских выборов в Египте.'],\n",
              " ['На гонках NASCAR в США столкнулись 10 машин: 33 пострадавших.',\n",
              "  'На финише гонки NASCAR в Дайтоне столкнулись 10 автомобилей.'],\n",
              " ['На гонках NASCAR в США столкнулись 10 машин.',\n",
              "  'На финише гонки NASCAR в Дайтоне столкнулись 10 автомобилей.'],\n",
              " ['В Италии проходят выборы в парламент.',\n",
              "  'В Италии начались парламентские выборы.'],\n",
              " ['Папа Римский выступил с последней проповедью.',\n",
              "  'Бенедикт XVI выступил с последней воскресной проповедью.'],\n",
              " ['Геннадий Зюганов переизбран лидером КПРФ.',\n",
              "  'Геннадий Зюганов переизбран председателем ЦК КПРФ.'],\n",
              " ['В Челябинской области включен аварийный роуминг.',\n",
              "  'Число пострадавших от метеорита возросло до 1,2 тысячи человек.'],\n",
              " ['Президентские выборы на Кипре выиграл правоцентрист Н.Анастасиадес.',\n",
              "  'Выборы президента Кипра выиграл правый кандидат.'],\n",
              " ['Астероид 2012 DA14 безопасно миновал Землю.',\n",
              "  'NASA начало трансляцию пролета астероида 2012 DA14.'],\n",
              " ['Рауль Кастро переизбран председателем Госсовета Кубы.',\n",
              "  'Рауль Кастро переизбран главой Кубы.'],\n",
              " ['Венесуэльцам показали улыбающегося Уго Чавеса.',\n",
              "  'Власти Венесуэлы показали фото улыбающегося Чавеса.'],\n",
              " ['Хакеры атаковали Facebook.',\n",
              "  'Facebook сообщил об «изощренной атаке» хакеров.'],\n",
              " ['\"Роснефть\" без конкурса получила еще дюжину участков шельфа.',\n",
              "  'Медведев отдал «Роснефти» 12 участков шельфа.'],\n",
              " ['СМИ: Похитители депутата из Владивостока сдались полиции.',\n",
              "  'Во Владивостоке задержали похитителей депутата.'],\n",
              " ['В Москве при пожаре в жилом доме погибли три человека.',\n",
              "  'При пожаре на севере Москвы погибли три человека.'],\n",
              " ['США помогут Гаити с тюрьмами.', 'США подарят властям Гаити две тюрьмы.'],\n",
              " ['Лидеры стран ЕС договорились о бюджете до 2020г.',\n",
              "  'Лидеры стран ЕС договорились о сокращении бюджета.'],\n",
              " ['На бывшего музыканта \"Гостей из будущего\" завели уголовное дело.',\n",
              "  'На музыканта «Гостей из будущего» завели дело за пьяную драку.'],\n",
              " ['Водолазы не нашли обломков метеорита в озере Чебаркуль.',\n",
              "  'В озере Чебаркуль не нашли обломков метеорита.'],\n",
              " ['Хакеры взломали почту Джорджа Буша.',\n",
              "  'Хакер взломал электронную почту родственников Джорджа Буша-старшего.'],\n",
              " ['Кристоф Вальц получил \"Оскар\" за лучшую мужскую роль второго плана.',\n",
              "  'Кристоф Вальц получил своего второго «Оскара».'],\n",
              " ['Финансовая G20 решила отказаться от валютных войн.',\n",
              "  'G20 отказалась вести валютные войны.'],\n",
              " ['В Челябинской области завершили поиски осколков метеорита.',\n",
              "  'Поиски метеорита в Челябинской области завершены.'],\n",
              " ['Пираты освободили корабль, захваченный в Гвинейском заливе.',\n",
              "  'Пираты освободили захваченное у берегов Камеруна судно.'],\n",
              " ['Перед зданием посольства США в Анкаре прогремел взрыв.',\n",
              "  'При взрыве в Анкаре погиб охранник посольства США.'],\n",
              " ['В Нью-Йорке из-за непогоды отменили все авиарейсы.',\n",
              "  'Из-за снежной бури в Нью-Йорке отменили все авиарейсы.'],\n",
              " ['В Ливии задержаны 4 подозреваемых в распространении христианства.',\n",
              "  'Власти Ливии задержали подозреваемых в распространении христианства.'],\n",
              " ['Венесуэла проведет девальвацию.',\n",
              "  'Венесуэла провела девальвацию национальной валюты.'],\n",
              " ['Армянский вор в законе в США получил 3 года тюрьмы за страховую аферу.',\n",
              "  'Суд США отправил в тюрьму армянского «вора в законе».'],\n",
              " ['Дебошир с рейса Москва-Хургада объявлен в федеральный розыск.',\n",
              "  'Саратовского дебошира объявили в федеральный розыск.'],\n",
              " ['В США в пяти штатах из-за снегопада объявлен режим ЧС.',\n",
              "  'В пяти штатах США объявлен режим ЧС.'],\n",
              " ['В Гостином дворе Киева произошел пожар.',\n",
              "  'В Киеве произошел пожар в Гостином дворе.'],\n",
              " ['На северо-западе Москвы мужчину расстреляли из автомата.',\n",
              "  'В Москве из автомата застрелили мужчину.'],\n",
              " ['Президента Кипра выберут во втором туре.',\n",
              "  'На Кипре объявили результаты первого тура президентских выборов.'],\n",
              " ['На Кипре проходят президентские выборы.',\n",
              "  'На Кипре объявили результаты первого тура президентских выборов.'],\n",
              " ['Виктора Ющенко исключили из партии \"Наша Украина\".',\n",
              "  'Киевская организация «Нашей Украины» исключила Ющенко из партии.'],\n",
              " ['Сергея Удальцова посадили под домашний арест.',\n",
              "  'Суд санкционировал домашний арест Удальцова.'],\n",
              " ['В Москве на Кутузовском проспекте BMW сбил 3-х полицейских.',\n",
              "  'BMW сбила трех полицейских в Москве.'],\n",
              " ['\"Операция \"Арго\" - лучший фильм 2012г.',\n",
              "  '«Оскар» за лучший фильм получила «Операция \"Арго\"».'],\n",
              " ['В Новом Орлеане неизвестный на празднике устроил стрельбу, четверо ранены.',\n",
              "  'После карнавала в Новом Орлеане ранили четырех человек.'],\n",
              " ['Глава МВД высказался за возврат смертной казни.',\n",
              "  'Глава МВД не нашел ничего предосудительного в смертной казни.'],\n",
              " ['Адвокат заявил об избиении свидетеля по делу Ю.Буданова.',\n",
              "  'Защита обвиняемого в убийстве Буданова заявила об избиении свидетеля.'],\n",
              " ['В Армении сегодня проходят президентские выборы.',\n",
              "  'В Армении начались выборы президента.'],\n",
              " ['В жилом доме в Подмосковье обрушилась стена.',\n",
              "  'У подмосковного жилого дома обрушилась часть несущей стены.'],\n",
              " ['Пропавшего липецкого депутата нашли в бочке с цементом.',\n",
              "  'Тело липецкого депутата нашли в бочке с цементом.'],\n",
              " ['Четыре школы в Москве эвакуированы из-за сообщений о бомбе.',\n",
              "  'Четыре московские школы эвакуировали из-за сообщений о бомбе.'],\n",
              " ['Россия поставила исторический рекорд по количеству миллиардеров.',\n",
              "  'Число долларовых миллиардеров в России достигло рекорда.'],\n",
              " ['Член КС: Госдума принесла в жертву право граждан на свободу собраний.',\n",
              "  'Зампреда Внешэкономбанка решили привлечь к делу экс-главы ВАК.'],\n",
              " ['Минобороны объявило мораторий на продажу своего имущества.',\n",
              "  'Минобороны ввело мораторий на продажу своего имущества.'],\n",
              " ['Полиция определила круг подозреваемых в убийстве депутата М.Пахомова.',\n",
              "  'Задержаны 11 подозреваемых в убийстве липецкого депутата.'],\n",
              " ['Директор Секретной службы США подал в отставку.',\n",
              "  'Глава секретной службы США подал в отставку.'],\n",
              " ['Иран показал истребитель собственного производства.',\n",
              "  'Иран представил истребитель собственного производства.'],\n",
              " ['Упавшая с крыши глыба снега в Подмосковье покалечила младенца.',\n",
              "  'В Подмосковье на коляску с младенцем упала глыба снега.'],\n",
              " ['США готовы сократить ядерное вооружение вне зависимости от ответа РФ.',\n",
              "  'США предложат России вдвое сократить ядерное вооружение.'],\n",
              " ['Парламент Франции одобрил однополые браки.',\n",
              "  'Французский парламент признал законными однополые браки.'],\n",
              " ['Тело оппозиционера Александра Долматова доставлено в Россию.',\n",
              "  'Тело Александра Долматова доставили в Москву.'],\n",
              " ['В Германии задержали экс-министра Ирана с чеком на $70 млн.',\n",
              "  'В Германии задержали бывшего главу центробанка Ирана с 70 миллионами долларов.'],\n",
              " ['Бен Аффлек удостоился награды Гильдии режиссеров США.',\n",
              "  'Главную награду Гильдии режиссеров США получил Бен Аффлек.'],\n",
              " ['Следователя СК уволили за участие в драке хоккейных фанатов.',\n",
              "  'Уволенного за драку с полицией следователя проверит СК.'],\n",
              " ['Зампред комитета по транспорту Смольного И.Маилов взят под стражу.',\n",
              "  'Еще один фигурант «болотного дела» обратился в ЕСПЧ.'],\n",
              " ['СК завершил расследование дела о крушении \"Булгарии\".',\n",
              "  'СК завершил расследование крушения «Булгарии».'],\n",
              " ['Четыре школы в Москве эвакуированы из-за сообщений о бомбе.',\n",
              "  'В эвакуированных московских школах не нашли бомб.'],\n",
              " ['США предложили России вернуть отношения \"в нормальную колею\".',\n",
              "  'США предложили России нормализовать отношения.'],\n",
              " ['Четыре школы в Москве эвакуированы из-за сообщений о бомбе.',\n",
              "  'Крупнейший заказчик «Лайнеров мечты» отказался от их использования до июня.'],\n",
              " ['Администрация Магаданской области отправлена в отставку.',\n",
              "  'Администрацию Магаданской области отправили в отставку.'],\n",
              " ['Уго Чавес вернулся в Венесуэлу после борьбы с раком.',\n",
              "  'Чавес вернулся в Венесуэлу после операции.'],\n",
              " ['На место взрыва в шахте МЧС направляет авиадесант во главе с министром.',\n",
              "  'На шахте «Воркутинская» произошел взрыв.'],\n",
              " ['На месте взрыва в шахте \"Воркутинская\" было 17 человек.',\n",
              "  'На шахте «Воркутинская» произошел взрыв.'],\n",
              " ['Взрыв на шахте в Воркуте: 18 горняков погибли.',\n",
              "  'На шахте «Воркутинская» произошел взрыв.'],\n",
              " ['В Норвегии задержан российский траулер \"Борис Зайцев\".',\n",
              "  'Норвежцы задержали российский траулер за сброс рыбы.'],\n",
              " ['Диснеевский \"Ральф\" признан лучшей анимационной картиной года.',\n",
              "  'Лучшим мультфильмом года признали диснеевского «Ральфа».'],\n",
              " ['Парижанкам вернули право носить брюки.',\n",
              "  'Парижанкам разрешили носить брюки.'],\n",
              " ['Взрыв на шахте в Коми: девять горняков погибли.',\n",
              "  'При взрыве на «Воркутинской» погибли девять человек.'],\n",
              " ['Главный онколог России ушел в отставку из-за скандала с замом.',\n",
              "  'Главный онколог России подал в отставку из-за коррупционного скандала.'],\n",
              " ['Lexus архангельского губернатора попал в аварию на встречке.',\n",
              "  '«Лексус» архангельского губернатора попал в ДТП.'],\n",
              " ['Lexus губернатора Архангельской обл. попал в ДТП, двое пострадали.',\n",
              "  '«Лексус» архангельского губернатора попал в ДТП.'],\n",
              " ['Верховный суд вернется к делу о подрыве \"Невского экспресса\".',\n",
              "  'Компания Тимченко нацелилась на нефтепорт в Индонезии.'],\n",
              " ['Плененных в Сирии россиян отпустили в обмен на боевиков.',\n",
              "  'Российских заложников в Сирии обменяли на боевиков.'],\n",
              " ['Мужчину ограбили на 18 миллионов в банке на западе Москвы.',\n",
              "  'В Москве на Кутузовском проспекте ограбили банк.'],\n",
              " ['\"Посетивший\" с топором судью защитник Pussy Riot признан невменяемым.',\n",
              "  'Напавший на судью сторонник Pussy Riot признан невменяемым.'],\n",
              " ['Взрыв на химзаводе в Китае: 5 человек пострадали, 30 тысяч эвакуированы.',\n",
              "  'Из-за взрыва на китайском химзаводе эвакуировали 20 тысяч человек.'],\n",
              " ['ООН: Обе стороны конфликта в Сирии совершали военные преступления.',\n",
              "  'ООН нашла военных преступников в руководстве Сирии.'],\n",
              " ['Ракета \"Союз\" с кораблем \"Прогресс\" запущена к МКС.',\n",
              "  'Стоимость акций в США увеличилась на 12 триллионов долларов за три года.'],\n",
              " ['Суд смягчил приговор осужденным за подрыв \"Невского экспресса\".',\n",
              "  'Верховный суд смягчил приговор подрывникам «Невского экспресса».'],\n",
              " ['Верховный суд вернется к делу о подрыве \"Невского экспресса\".',\n",
              "  'Верховный суд смягчил приговор подрывникам «Невского экспресса».'],\n",
              " ['Верховный суд смягчил приговор шестерым осужденным за подрыв \"Невского экспресса\".',\n",
              "  'Верховный суд смягчил приговор подрывникам «Невского экспресса».'],\n",
              " ['Верховный суд вернется сегодня к делу о подрыве \"Невского экспресса\".',\n",
              "  'Верховный суд смягчил приговор подрывникам «Невского экспресса».'],\n",
              " ['Депутат от КПРФ попросил снять с него неприкосновенность.',\n",
              "  'Коммунист попросил снять с него неприкосновенность.'],\n",
              " ['Взрыв на шахте в Воркуте: 18 горняков погибли.',\n",
              "  'На «Воркутинской» погибли 18 шахтеров.'],\n",
              " ['СК завел дело о гибели в США 9-летнего Антона Фомина.',\n",
              "  'СК возбудил дело о гибели в США 9-летнего Антона Фомина.'],\n",
              " ['Средневековье в Азербайджане: за нападение на писателя объявили награду.',\n",
              "  'В Азербайджане объявили награду за отрезание уха писателю.'],\n",
              " ['На выборах в Армении с большим отрывом побеждает действующий президент.',\n",
              "  'Действующий президент лидирует на выборах в Армении.'],\n",
              " ['\"Линкольн\" отменил рабство в штате Миссисипи.',\n",
              "  'В штате Миссисипи отменили рабство.'],\n",
              " ['Эффективность вузов будут оценивать по числу безработных выпускников.',\n",
              "  'Минобрнауки решило оценивать эффективность вузов по количеству безработных.'],\n",
              " ['Суд прекратил дело дворника, сломавшего школьнику челюсть.',\n",
              "  'Суд прекратил дело о ссоре московского дворника со школьником.'],\n",
              " ['В Тунисе арестовали преступника, спровоцировавшего народные волнения.',\n",
              "  'В Тунисе арестовали убийцу оппозиционного лидера.'],\n",
              " ['Кировские депутаты поднимут вопрос о недоверии губернатору Н.Белых.',\n",
              "  'Кировские депутаты поднимут вопрос о недоверии Белых.'],\n",
              " ['После трагедии в Египте запрещены полеты на воздушных шарах.',\n",
              "  'В Египте упал воздушный шар с 20 туристами.'],\n",
              " ['Ростуризм: На упавшем в Египте воздушном шаре россиян не было.',\n",
              "  'В Египте упал воздушный шар с 20 туристами.'],\n",
              " ['Сестра Майкла Джексона вышла замуж в третий раз.',\n",
              "  'Джанет Джексон тайно вышла замуж.'],\n",
              " ['Умер бывший глава Газпрома Рэм Вяхирев.',\n",
              "  'Умер бывший глава «Газпрома» Рем Вяхирев.'],\n",
              " ['Джанет Джексон вышла замуж за миллиардера из Катара.',\n",
              "  'Джанет Джексон тайно вышла замуж.'],\n",
              " ['Экс-командующий войсками СКВО возглавил академию Генштаба.',\n",
              "  'Военную академию Генштаба возглавил Сергей Макаров.'],\n",
              " ['В Москве на строящейся станции метро \"Суворовская\" произошло обрушение.',\n",
              "  'На строящейся станции столичного метро случился обвал.'],\n",
              " ['После трагедии в Египте запрещены полеты на воздушных шарах.',\n",
              "  'На разбившемся в Египте воздушном шаре не было россиян.'],\n",
              " ['Ростуризм: На упавшем в Египте воздушном шаре россиян не было.',\n",
              "  'На разбившемся в Египте воздушном шаре не было россиян.'],\n",
              " ['В Египте упал воздушный шар с 20 туристами.',\n",
              "  'На разбившемся в Египте воздушном шаре не было россиян.'],\n",
              " ['Полиция задержала замдиректора Дома моды В.Зайцева.',\n",
              "  'Полиция задержала замдиректора Дома моды Зайцева.'],\n",
              " ['На месте взрыва в шахте \"Воркутинская\" было 17 человек.',\n",
              "  'МЧС опубликовало список погибших на шахте «Воркутинская».'],\n",
              " ['За \"Курорты Северного Кавказа\" взялись Генпрокуратура и ФСБ.',\n",
              "  'Генпрокуратура начала проверку «Курортов Северного Кавказа».'],\n",
              " ['На выборах в Армении с большим отрывом побеждает действующий президент.',\n",
              "  'Наблюдатели от СНГ похвалили президентские выборы в Армении.'],\n",
              " ['США просят РФ немедленно отменить запрет на ввоз мяса.',\n",
              "  'США призвали Россию немедленно снять запрет на импорт мяса.'],\n",
              " ['Мэрия Москвы: Снегопад в столице стал самым сильным за 100 лет.',\n",
              "  'С началом снегопада московские пробки достигли 3500 километров.'],\n",
              " ['Политологи: Кремль сделал ставку на прозрачные выборы в регионах.',\n",
              "  'К берегам Сирии направлены корабли для эвакуации россиян.'],\n",
              " ['СМИ: Для эвакуации россиян к берегам Сирии направлены корабли.',\n",
              "  'К берегам Сирии направлены корабли для эвакуации россиян.'],\n",
              " ['\"Роснефть\" увеличит поставки российской нефти в Китай.',\n",
              "  '«Роснефть» договорилась с Китаем об увеличении поставок нефти.'],\n",
              " ['В Мексиканском заливе лег в дрейф лайнер с 4 тыс. пассажиров на борту.',\n",
              "  'В Мексиканском заливе лег в дрейф лайнер с тремя тысячами пассажиров.'],\n",
              " ['КНДР официально подтвердила успешное проведение ядерных испытаний.',\n",
              "  'КНДР заподозрили в проведении подземного ядерного испытания.'],\n",
              " ['КНДР провела ядерные испытания.',\n",
              "  'КНДР заподозрили в проведении подземного ядерного испытания.'],\n",
              " ['Кремль: Инициирование отставки Н.Белых – абсолютно местная инициатива.',\n",
              "  'Кремль открестился от инициирования отставки Белых.'],\n",
              " ['В Москве пьяный сотрудник полиции протаранил 7 автомобилей.',\n",
              "  'Нетрезвый сотрудник МВД протаранил в Москве семь автомобилей.'],\n",
              " ['КНДР официально подтвердила успешное проведение ядерных испытаний.',\n",
              "  'КНДР заявила об успешном проведении ядерного испытания.'],\n",
              " ['Хакеры запустили на американском ТВ предупреждение о нашествии зомби.',\n",
              "  'Американский телеканал сообщил о нашествии зомби.'],\n",
              " ['В Коми объявили трехдневный траур по жертвам взрыва на шахте.',\n",
              "  'В Коми объявлен траур по погибшим при взрыве шахтерам.'],\n",
              " ['В Коми объявлен трехдневный траур по погибшим горнякам.',\n",
              "  'В Коми объявлен траур по погибшим при взрыве шахтерам.'],\n",
              " ['СК проверит, куда делся выделенный на тюремные браслеты 1 млрд руб.',\n",
              "  'СК начал поиски выделенного на тюремные браслеты миллиарда.'],\n",
              " ['В московский офис \"Русала\" пришли с обыском.',\n",
              "  'В офис «Русала» в Москве пришли с обыском.'],\n",
              " ['В Нигерии освобожден российский моряк, захваченный в плен пиратами.',\n",
              "  'Нигерийские пираты освободили захваченного россиянина.'],\n",
              " ['Главу итальянского партнера \"Сухого\" задержали за коррупцию.',\n",
              "  'Главу итальянского партнера «Сухого» арестовали за взятки.'],\n",
              " ['Топ-менеджера столичной подземки обвинили в хищениях 128 млн руб.',\n",
              "  'Топ-менеджера московского метро обвинили в хищении.'],\n",
              " ['У ЧОПа Геннадия Гудкова отобрали лицензию.',\n",
              "  'ЧОП Гудкова лишили лицензии.'],\n",
              " ['Установлен круг подозреваемых в убийстве детей полицейского из Дагестана.',\n",
              "  'Задержаны пятеро подозреваемых в убийстве детей полицейского.'],\n",
              " ['В Дагестане задержаны убийцы детей полицейского.',\n",
              "  'Задержаны пятеро подозреваемых в убийстве детей полицейского.'],\n",
              " ['\"Банановые\" долги: приставы арестовали имущество Кехмана.',\n",
              "  'Имущество гендиректора Михайловского театра арестовали за долги.'],\n",
              " ['В центре столицы Йемена упал истребитель Су-22.',\n",
              "  'В столице Йемена Су-22 упал на жилой дом.'],\n",
              " ['После трагедии в Египте запрещены полеты на воздушных шарах.',\n",
              "  'Власти Луксора запретили полеты на воздушных шарах.'],\n",
              " ['ВБ снизил прогноз по росту российской экономики.',\n",
              "  'Всемирный банк понизил прогноз по росту российской экономики.'],\n",
              " ['СК возбудил дело по факту мошенничества с землями Минобороны в Ленобласти.',\n",
              "  'Возбуждено дело о хищении земель Минобороны под Петербургом.'],\n",
              " ['В Петербурге возбуждено дело по факту покушения на убийство бизнесмена.',\n",
              "  'Возбуждено дело о хищении земель Минобороны под Петербургом.'],\n",
              " ['В Дагестане задержаны убийцы детей полицейского.',\n",
              "  'СК опроверг задержание подозреваемых в убийстве детей полицейского.'],\n",
              " ['Экс-президент Киргизии приговорен к 24 годам тюрьмы.',\n",
              "  'Бакиева заочно приговорили к 24 годам тюрьмы.'],\n",
              " ['Прах короля Камбоджи Н.Сианука предан водам реки Меконг.',\n",
              "  'Прах бывшего короля Камбоджи захоронили в реке Меконг.'],\n",
              " ['Бенедикт XVI станет почетным Папой.',\n",
              "  'Бенедикт XVI после отречения получит титул «почетного понтифика».'],\n",
              " ['РЖД возобновило продажу билетов на Украину.',\n",
              "  'РЖД возобновили продажу билетов на Украину.'],\n",
              " ['Минздрав: Для федеральных судей в Петербурге построят новую клинику.',\n",
              "  'Для высших судов в Петербурге построят специальную больницу.'],\n",
              " ['HTC представила смартфон с необычной камерой.',\n",
              "  'HTC представила смартфон с «ультрапиксельной» камерой.'],\n",
              " ['Премьер Туниса подал в отставку.',\n",
              "  'Премьер-министр Туниса ушел в отставку.'],\n",
              " ['Всемирный русский собор поддержал переименование Волгограда.',\n",
              "  'Всемирный русский собор сравнил Сталинград с Фермопилами.'],\n",
              " ['Закрылся альманах Бориса Стругацкого \"Полдень.',\n",
              "  'Альманах Стругацкого «Полдень.'],\n",
              " ['В Санкт-Петербурге произошла массовая драка: 15 задержанных.',\n",
              "  'В Санкт-Петербурге задержали 15 участников массовой драки.'],\n",
              " ['Умер \"отец\" гаражного рока Рег Пресли из The Troggs.',\n",
              "  'Умер вокалист группы The Troggs Рег Пресли.'],\n",
              " ['В Москве создается дружина по борьбе с нелегальными мигрантами.',\n",
              "  'В Москве создали народный патруль для борьбы с нелегальными мигрантами.'],\n",
              " ['Иран позвал российские компании добывать свои нефть и газ.',\n",
              "  'Иран откроет энергетику для российских компаний.'],\n",
              " ['ВЦИОМ: 79% россиян не знают ни одного ученого-современника.',\n",
              "  'Coca-Cola приравняла Россию к Нигерии.'],\n",
              " ['Минобрнауки может запретить чиновникам защищать диссертации.',\n",
              "  'Минобрнауки рассмотрит запрет для чиновников защищать диссертации.'],\n",
              " ['Новая военная форма расстроила российских солдат.',\n",
              "  'Солдаты раскритиковали новую военную форму.'],\n",
              " ['Власти Болгарии: Теракт в Бургасе организовала \"Хезболла\".',\n",
              "  'Болгария обвинила «Хизбаллу» в организации теракта в Бургасе.'],\n",
              " ['Госдума окончательно приняла антитабачный закон.',\n",
              "  'Госдума приняла антитабачный закон.'],\n",
              " ['В Каире напали на президента Ирана.', 'На Ахмадинеджада напали в Каире.'],\n",
              " ['Министра образования Германии лишили ученой степени за плагиат.',\n",
              "  'Министра образования Германии лишили ученой степени.'],\n",
              " ['Сенаторы предлагают запретить фанатские сектора на стадионах.',\n",
              "  'Фетисов предложил ликвидировать фанатские сектора на стадионах.'],\n",
              " ['Вину за крушение Ан-28 на Камчатке возложили на пилотов.',\n",
              "  'В крушении Ан-28 на Камчатке обвинили пилотов.'],\n",
              " ['В Москве вооруженные люди похитили пациентку НИИ психиатрии.',\n",
              "  'Вооруженные люди похитили пациентку из московской психбольницы.'],\n",
              " ['Среди жертв землетрясения на Соломоновых островах есть ребенок.',\n",
              "  'У Соломоновых островов произошло землетрясение магнитудой 8.'],\n",
              " ['Оператор платного телевидения Virgin Media продан за 15,7 млрд долл.',\n",
              "  'Оператор платного ТВ Virgin Media продан за 16 миллиардов долларов.'],\n",
              " ['На закрытие Байкальского ЦБК уйдет несколько лет.',\n",
              "  'Власти закроют Байкальский ЦБК за несколько лет.'],\n",
              " ['Байкальский ЦБК постепенно закроют.',\n",
              "  'Власти закроют Байкальский ЦБК за несколько лет.'],\n",
              " ['Двое судей КС выразили несогласие с делом Гудкова.',\n",
              "  'Двое судей КС высказали особое мнение по делу Гудкова.'],\n",
              " ['От сумы и от тюрьмы: история успеха \"небизнесмена\" С.Полонского.',\n",
              "  'Депутата объявили в розыск по делу о хищении 1,5 миллиардов рублей.'],\n",
              " ['Дело \"Колэнергосбыта\": в розыск объявлены депутат и глава компании.',\n",
              "  'Депутата объявили в розыск по делу о хищении 1,5 миллиардов рублей.'],\n",
              " ['Родной матери братьев Кузьминых вернут выжившего в США мальчика.',\n",
              "  'Родная мать погибшего в США ребенка попросила вернуть ей второго сына.'],\n",
              " ['Совбез ООН резко осудил ядерные испытания КНДР.',\n",
              "  'Совбез ООН подготовит ответ на ядерные испытания КНДР.'],\n",
              " ['КНДР провела ядерные испытания.',\n",
              "  'Совбез ООН подготовит ответ на ядерные испытания КНДР.'],\n",
              " ['В Домодедово построят российский аналог Кембриджа.',\n",
              "  'В Домодедово создадут аналог Кембриджа.'],\n",
              " ['ООН: Число погибших в Сирии выросло до 70 тысяч.',\n",
              "  'ООН насчитала в Сирии 70 тысяч погибших.'],\n",
              " ['В Москве задержан очередной фигурант \"болотного дела\".',\n",
              "  '«Росузник» сообщил о задержании нового фигуранта «болотного дела».'],\n",
              " ['В аэропорту Киева задержан бывший премьер Таджикистана.',\n",
              "  'Бывшего премьера Таджикистана задержали в киевском аэропорту.'],\n",
              " ['У российского фондового рынка есть шанс для роста.',\n",
              "  'К делу «Оборонсервиса» добавили закупку в Казахстане просроченных торпед.'],\n",
              " ['МВД проверит \"Пусть говорят\" и \"Первый канал\" на пропаганду педофилии.',\n",
              "  'МВД проверит сообщения о пропаганде педофилии на Первом канале.'],\n",
              " ['ГИБДД задумалась об увеличении штрафов за непристегнутые ремни.',\n",
              "  'В ГИБДД задумались о повышении штрафа за непристегнутый ремень.'],\n",
              " ['В Ингушетии уничтожен очередной организатор теракта во Владикавказе.',\n",
              "  'ФСБ ликвидировала одного из организаторов теракта во Владикавказе.'],\n",
              " ['По факту хищений при строительстве \"Зенита\" заведено уголовное дело.',\n",
              "  'В связи со строительством стадиона «Зенит» возбудили уголовное дело.'],\n",
              " ['Правоохранители возбудили уголовное дело по \"Зенит-Арене\".',\n",
              "  'В связи со строительством стадиона «Зенит» возбудили уголовное дело.'],\n",
              " ['Двое столичных полицейских нанесли государству ущерб на 3 млрд руб.',\n",
              "  'Двух полицейских обвинили в нанесении ущерба на три миллиарда рублей.'],\n",
              " ['Задержан предполагаемый убийца сыновей полицейского в Дагестане.',\n",
              "  'В Дагестане задержан подозреваемый в убийстве детей полицейского.'],\n",
              " ['Россия и Китай подпишут газовый контракт до конца года.',\n",
              "  '«Газпром» и Китай до конца года подпишут соглашение по поставкам газа.'],\n",
              " ['В Москве состоялась церемония прощания с Оскаром Фельцманом.',\n",
              "  'В Москве простились с композитором Оскаром Фельцманом.'],\n",
              " ['Тело сгоревшего \"охотника за полицейскими\" так и не было найдено.',\n",
              "  'В сгоревшем убежище охотника за полицейскими найдены человеческие останки.'],\n",
              " ['Кировская палата адвокатов: А.Навальный предоставил все документы.',\n",
              "  'Кировская палата адвокатов подтвердила статус Навального.'],\n",
              " ['Индия приостановила \"откатную\" сделку с итальянской Finmeccanica.',\n",
              "  'Индия пригрозила расторгнуть сделку по покупке вертолетов у Finmeccanica.'],\n",
              " ['Теневую экономику РФ оценили в 46% ВВП ежегодно.',\n",
              "  'Теневую экономику России оценили в 46 процентов ВВП.'],\n",
              " ['Двое присяжных не явились на процесс по \"делу Буданова\".',\n",
              "  'Мосгорсуд распустил присяжных по делу об убийстве Буданова.'],\n",
              " ['Процесс по \"делу Буданова\" остался без присяжных.',\n",
              "  'Мосгорсуд распустил присяжных по делу об убийстве Буданова.'],\n",
              " ['В России обнаружили сосиски с кониной из Европы.',\n",
              "  'Россельхознадзор обнаружил в России сосиски с европейской кониной.'],\n",
              " ['Суд отпустил помощника Сергея Удальцова под домашний арест.',\n",
              "  'Суд отпустил Константина Лебедева под домашний арест.'],\n",
              " ['В результате авиаудара НАТО в Афганистане погибли 10 мирных жителей.',\n",
              "  'В Афганистане жертвами авиаудара НАТО стали мирные жители.'],\n",
              " ['СК подтвердил информацию о новом задержанном по \"болотному делу\".',\n",
              "  'СК подтвердил задержание нового фигуранта «болотного дела».'],\n",
              " ['На мэра Карачаевска завели дело за нецелевую трату 20 млн руб.',\n",
              "  'На мэра Карачаевска завели дело о растрате 20 миллионов.'],\n",
              " ['Кремль не видит нужды в полном запрете иностранного усыновления.',\n",
              "  'Кремль отказался полностью запрещать иностранное усыновление.'],\n",
              " ['Умер знаменитый пианист Ван Клиберн.',\n",
              "  'В США скончался пианист Ван Клиберн.'],\n",
              " ['Скончался знаменитый пианист Ван Клиберн.',\n",
              "  'В США скончался пианист Ван Клиберн.'],\n",
              " ['Туркменистан возобновляет поставки газа Украине.',\n",
              "  'Украина договорилась с Туркменией о возобновлении поставок газа.'],\n",
              " ['В Тунисе подожгли офис правящей партии исламистов.',\n",
              "  'В Тунисе начали громить офисы правящей партии.'],\n",
              " ['В Тунисе убит лидер \"Народного фронта\".',\n",
              "  'В Тунисе начали громить офисы правящей партии.'],\n",
              " ['Госдума лишила коммуниста К.Ширшова депутатской неприкосновенности.',\n",
              "  'Госдума лишила коммуниста Ширшова неприкосновенности.'],\n",
              " ['Pussy Riot уступили Бараку Обаме престижную премию журнала NME.',\n",
              "  'Pussy Riot уступили премию NME Бараку Обаме.'],\n",
              " ['Офицер погиб при взрыве гранаты на полигоне под Ростовом.',\n",
              "  'При взрыве гранаты на полигоне под Ростовом погиб офицер.'],\n",
              " ['Стивен Спилберг возглавит жюри 66-го Каннского кинофестиваля.',\n",
              "  'Стивен Спилберг возглавит жюри Каннского фестиваля.'],\n",
              " ['Первый космический турист намерен отправить супружескую пару на Марс.',\n",
              "  'Миллиардер предложил отправить на Марс супружескую пару.'],\n",
              " ['Скончался основатель рок-группы Soft Machine.',\n",
              "  'Скончался основатель британской рок-группы Soft Machine.'],\n",
              " ['Пятеро северокорейских рабочих погибли на стройке в Приморье.',\n",
              "  'На стройке во Владивостоке погибли пять северокорейских рабочих.'],\n",
              " ['Скончался кинорежиссер Алексей Герман - старший.',\n",
              "  'Скончался режиссер Алексей Герман-старший.'],\n",
              " ['В Петербурге скончался кинорежиссер Алексей Герман - старший.',\n",
              "  'Скончался режиссер Алексей Герман-старший.'],\n",
              " ['Ушел из жизни режиссер Алексей Герман - старший.',\n",
              "  'Скончался режиссер Алексей Герман-старший.'],\n",
              " ['Соавтор \"закона Магнитского\" будет повторно просить российскую визу.',\n",
              "  'Инициатору «закона Магнитского» отказали в российской визе.'],\n",
              " ['Конгрессмену - соавтору \"закона Магнитского\" отказали в российской визе.',\n",
              "  'Инициатору «закона Магнитского» отказали в российской визе.'],\n",
              " ['\"Роснефть\" получит 25% в совместном с ExxonMobil проекте Point Thomson.',\n",
              "  '«Роснефть» получит долю в проекте ExxonMobil на Аляске.'],\n",
              " ['Двух судей арбитражного суда Москвы заподозрили в содействии рейдерам.',\n",
              "  'Судей арбитражного суда заподозрили в рейдерстве.'],\n",
              " ['Земфира представила новый альбом.',\n",
              "  'Новый альбом Земфиры появился в Сети.'],\n",
              " ['Названа предварительная версия причины крушения Ан-24 под Донецком.',\n",
              "  'Названа предварительная версия крушения Ан-24 под Донецком.'],\n",
              " ['В деле о землях Минобороны \"засветилась\" супруга чиновника Ленобласти.',\n",
              "  'Жену чиновника из Ленобласти заподозрили в махинациях с землями Минобороны.'],\n",
              " ['Крушение самолета Ан-24 в Донецке.',\n",
              "  'Названа предварительная версия крушения Ан-24 под Донецком.'],\n",
              " ['Самый дорогой билет на Олимпиаду в Сочи стоит 50 тыс. руб.',\n",
              "  'Оргкомитет «Сочи-2014» заработает на билетах 250 миллионов долларов.'],\n",
              " ['МВД: Задержан второй заказчик похищения липецкого депутата.',\n",
              "  'Второго предполагаемого заказчика убийства липецкого депутата поймали в Анапе.'],\n",
              " ['\"Пришельца с Сириуса\" приговорили к 11 годам колонии.',\n",
              "  '«Пришелец с Сириуса» получил 11 лет колонии.'],\n",
              " ['Прибыль \"МегаФона\" снизилась за год на 12,1%.',\n",
              "  'В Петербурге пройдет «Манифеста 10».'],\n",
              " ['Единороссы предлагают увеличить штрафы за все нарушения ПДД.',\n",
              "  'Госдуме предложили увеличить штрафы за все нарушения ПДД.'],\n",
              " ['Аргентинский суд признал Церковь виновной в преступлениях диктатуры.',\n",
              "  'Аргентинский суд признал церковь пособницей преступлений диктатуры.'],\n",
              " ['Математик из США открыл самое большое простое число.',\n",
              "  'Открыто самое большое простое число.'],\n",
              " ['МИД: Оснований для международного расследования смерти А.Долматова нет.',\n",
              "  'МИД РФ не нашел оснований для международного расследования смерти Долматова.'],\n",
              " ['Помощник депутата Госдумы пытался продать корочку за 475 тыс. руб.',\n",
              "  'Помощник депутата Госдумы продал «корочку» за 475 тысяч рублей.'],\n",
              " ['Россия запустила обратный отсчет до Олимпиады в Сочи.',\n",
              "  'В Москве запустили часы с отсчетом времени до старта Олимпиады в Сочи.'],\n",
              " ['Из-за фирм-однодневок бюджет РФ теряет 1 трлн руб. в год.',\n",
              "  'Потери бюджета от фирм-однодневок оценили в триллион рублей.'],\n",
              " ['В Петербурге полиция пресекла крупную драку с участием 50 человек.',\n",
              "  'В Петербурге пресекли массовую драку мигрантов.'],\n",
              " ['КС заставил Госдуму исправить скандальный закон о митингах.',\n",
              "  'КС одобрил основные положения закона о митингах.'],\n",
              " ['РЖД приостановило продажу билетов на Украину.',\n",
              "  'РЖД приостановили продажу билетов на Украину.'],\n",
              " ['\"Первый канал\" отказался выдвигать свои работы на ТЭФИ-2013.',\n",
              "  'Первый канал отказался от участия в ТЭФИ.'],\n",
              " ['Семеро французских заложников, похищенных в Камеруне, освобождены.',\n",
              "  'Похищенные в Камеруне французы освобождены.'],\n",
              " ['СК нагрянул с обыском к директору антикоррупционного фонда А.Навального.',\n",
              "  'К директору фонда Навального пришли с обыском.'],\n",
              " ['ОАЭ выдали России петербургского героинового наркобарона.',\n",
              "  'В Россию из ОАЭ экстрадировали героинового наркобарона.'],\n",
              " ['КС: Минимальный размер штрафа за нарушения на митингах должен быть снижен.',\n",
              "  'КС РФ потребовал снизить штрафы за нарушения на митингах.'],\n",
              " ['За январь рубль подорожал к доллару на 2,9%, к евро — на 0,8%.',\n",
              "  'В деле о продаже земель Минобороны оказался замешан зять Сердюкова.'],\n",
              " ['Застреленная паралимпийцем модель готовила ему сюрприз ко Дню влюбленных.',\n",
              "  'Застреленная Писториусом девушка готовила ему сюрприз.'],\n",
              " ['Умер автор детективов Фридрих Незнанский.',\n",
              "  'Умер автор «Марша Турецкого» Фридрих Незнанский.'],\n",
              " ['Предполагаемому киллеру, застрелившему Акопяна, предъявили обвинение.',\n",
              "  'Предполагаемому убийце архитектора из Ленобласти предъявили обвинение.'],\n",
              " ['Пятеро российских ученых стали миллионерами.',\n",
              "  'Путин сделал миллионерами пятерых российских ученых.'],\n",
              " ['СКР арестует всех американцев, виновных в гибели российских детей.',\n",
              "  'Китайского пенсионера отправили под суд за убийство во времена «культурной революции».'],\n",
              " ['Агентство, занимавшееся усыновлением братьев Кузьминых, закроют.',\n",
              "  'Из-за смерти Максима Кузьмина закроют агентство по усыновлению.'],\n",
              " ['Экс-главу ВАК обвиняют в хищении 1,5 млрд руб.',\n",
              "  'Феликса Шамхалова обвинили в хищении 1,5 миллиарда рублей.'],\n",
              " ['СП вскрыла в \"оборонке\" нарушения на 117 млрд руб. за 2012г.',\n",
              "  'На оборону России потратили с нарушениями 117 миллиардов рублей.'],\n",
              " ['В Москве задержали экстрасенса-шарлатана, убивавшего женщин.',\n",
              "  'В Москве задержали экстрасенса-убийцу.'],\n",
              " ['Израиль начал поиск нефти на Голанских высотах.',\n",
              "  'Израиль выдал первую лицензию на поиск нефти на Голанских высотах.'],\n",
              " ['У берегов Камчатки произошло сильное землетрясение.',\n",
              "  'У берегов Камчатки произошло землетрясение.'],\n",
              " ['В Якутии произошло мощное землетрясение.',\n",
              "  'В Якутии произошло землетрясение магнитудой 6,9.'],\n",
              " ['Бенедикт XVI в последний раз покинул Ватикан в качестве Папы.',\n",
              "  'Бенедикт XVI покинул папский престол.'],\n",
              " ['ЛДПР предлагает запретить иностранцам снимать фильмы в России.',\n",
              "  'Депутаты предложили запретить иностранцам снимать фильмы в России.'],\n",
              " ['Наказан автор письма о цензуре в блогах студентов ВШЭ.',\n",
              "  'Автор письма студентам ВШЭ о цензуре получил выговор.'],\n",
              " ['СК нагрянул с обыском к директору антикоррупционного фонда А.Навального.',\n",
              "  'Директора фонда Навального вызвали на допрос в СК.'],\n",
              " ['МИД РФ рекомендует Минкульту подготовить иск по коллекции Шнеерсона.',\n",
              "  'МИД посоветовал подготовить встречный иск по библиотеке Шнеерсона.'],\n",
              " ['В московском ресторане устроили пальбу: ранен один человек.',\n",
              "  'В московском ресторане произошла стрельба.'],\n",
              " ['В Великобритании арестованы подозреваемые в продаже конины.',\n",
              "  'В Великобритании арестовали подозреваемых в продаже конины.'],\n",
              " ['Ростехнадзор не нашел деформации моста к острову Русский.',\n",
              "  'Ростехнадзор опроверг информацию о деформации моста на остров Русский.'],\n",
              " ['Капитализация Московской биржи достигла $4,2 млрд в ходе IPO.',\n",
              "  'Московскую биржу в рамках IPO оценили в 4,2 миллиарда долларов.'],\n",
              " ['В Анапе на казачьего атамана совершено покушение.',\n",
              "  'Совершено покушение на возможного кандидата в мэры Анапы.'],\n",
              " ['ВАК лишила ученой степени директора СУНЦ МГУ А.Андриянова за плагиат.',\n",
              "  'Президиум ВАК лишил Андриянова ученой степени.'],\n",
              " ['Министр обороны из правительства Ю.Тимошенко получил убежище в Дании.',\n",
              "  'С опорой на отсутствующие ресурсы.'],\n",
              " ['На месте взрыва в шахте \"Воркутинская\" было 17 человек.',\n",
              "  'К партиям приставят аудиторов.'],\n",
              " ['СК: Липецкого депутата убили из-за долга в 80 млн долларов.',\n",
              "  'У депутата не выбили $80 млн.'],\n",
              " ['ВБ снизил прогноз по росту российской экономики.',\n",
              "  '\"Роснефть\" нашла второй путь в Китай.'],\n",
              " ['Выборы в Италии: С.Берлускони задумался о союзе с победителями.',\n",
              "  'Инвесторы одобрили выбор Италии.'],\n",
              " ['В \"Сколково\" выявили первые многомиллионные хищения.',\n",
              "  'В \"Сколково\" выявили первую растрату.'],\n",
              " ['Власти США заявили, что летчик К.Ярошенко работал на В.Бута.',\n",
              "  'Топ-менеджер \"Новапорта\" вернулся на госслужбу.'],\n",
              " ['Юрий Лужков просит московского мэра вернуть ему 30 тыс. руб.',\n",
              "  '\"В этом городе не может быть маленьких проектов\".'],\n",
              " ['Сенатор-миллионер покинет Совфед из-за \"проблем со здоровьем\".',\n",
              "  'Совет федерации лишится фигуранта списка Forbes.'],\n",
              " ['Год с В.Путиным: россияне рассказали о главных достижениях президента.',\n",
              "  '\"ПрофМедиа\" не держится за пост.'],\n",
              " ['Эксперт: К выборам 2016г. модель публичной политики в России будет иной.',\n",
              "  'Молдавия развивает ассоциативные способности - Власти хотят подать заявку на вступление в Евросоюз в 2015 году.'],\n",
              " ['Куба закупит у России самолеты на 650 млн долларов.',\n",
              "  '\"Ильюшин Финанс\" пересядет на Bombardier.'],\n",
              " ['Сергея Удальцова избили на похоронах Долматова.',\n",
              "  'Петиция к Конгрессу о «списке Долматова» набрала нужное число подписей.'],\n",
              " ['Кириленко не сыграет за сборную России на Евробаскете-2013.',\n",
              "  'Андрей Кириленко отказался играть за сборную России на Евробаскете-2013.'],\n",
              " ['Объявлены лауреаты премий президента РФ для молодых ученых за 2012 год.',\n",
              "  'СМИ узнали о роли Билалова в строительстве объектов в Сочи.'],\n",
              " ['Зарегистрировать права на недвижимость можно будет в \"чужом\" регионе.',\n",
              "  'Назначена премьера российской песни для «Евровидения».'],\n",
              " ['В доме Оскара Писториуса нашли окровавленную биту для крикета.',\n",
              "  'В доме Писториуса нашли допинг и окровавленную биту для крикета.'],\n",
              " ['Профстандарты для учителей будут введены в России к сентябрю 2014 года.',\n",
              "  'Яшин подал в суд на СК за изъятие денег.'],\n",
              " ['В России могут начать выдавать водительские права с 16 лет.',\n",
              "  'Количество киберпреступлений в России выросло на треть за год.'],\n",
              " ['В Дагестане бандиты убили двух сыновей полицейского.',\n",
              "  'В Дагестане задержан подозреваемый в убийстве детей полицейского.'],\n",
              " ['Блаттер: ФИФА никогда не поддержит Объединенный чемпионат СНГ.',\n",
              "  'Борцы с педофилами напали на усадьбу Набокова.'],\n",
              " ['\"Спартак\" готов отдать Веллитона в бесплатную аренду.',\n",
              "  '«Спартак» отдал Веллитона бразильскому клубу.'],\n",
              " ['Президент США обратился к нации с речью о положении в стране.',\n",
              "  'В Кувейте рассказали о преступлении «Заключенного Икс».'],\n",
              " ['\"Ак Барс\" вышел в следующий раунд Кубка Гагарина.',\n",
              "  'СКА вышел в четвертьфинал Кубка Гагарина.'],\n",
              " ['\"Зенит\" сыграет с \"Ливерпулем\" в первом матче 1/16 финала Лиги Европы.',\n",
              "  '«Зенит» обыграл «Ливерпуль» в матче Лиги Европы.'],\n",
              " ['\"Салават Юлаев\" разгромил магнитогорский \"Металлург\".',\n",
              "  '\"Салават Юлаев\" переплавил \"Металлург\".'],\n",
              " ['Евгений Плющенко не выступит на чемпионате мира в Канаде.',\n",
              "  'Евгений Плющенко не попадет в Канаду.'],\n",
              " ['Правительство не поддержало идею передачи банковской тайны третьим лицам.',\n",
              "  'Правительство вступилось за банковскую тайну.'],\n",
              " ['\"Единая Россия\" начала подготовку к осенним выборам.', 'На неделе.'],\n",
              " ['Александр Третьяков выиграл \"золото\" в скелетоне.',\n",
              "  'Александр Третьяков домчался до золота.'],\n",
              " ['ВГТРК выходит из состава Академии российского телевидения.',\n",
              "  '\"Академия российского телевидения\".'],\n",
              " ['Астропрогноз на 4 февраля: Тельцы, падать будет больно.',\n",
              "  '\"Наличность трудно считать, а еще труднее контролировать\" - Как менялось отношение граждан и банков к наличным.'],\n",
              " ['Владимир Путин высказался за бессрочную приватизацию жилья для сирот.',\n",
              "  'Владимир Путин подарит сиротам бесплатную приватизацию жилья.'],\n",
              " ['В Москве начали действовать новые билеты на транспорт.',\n",
              "  '«Вопрос: где наши деньги?» - Владимир Путин выступил на Петербургском международном экономическом форуме.'],\n",
              " ['Олег Михеев лишен депутатской неприкосновенности.',\n",
              "  'Олег Михеев из неприкосновенного может стать обвиняемым.'],\n",
              " ['Олимпийский чемпион Сагид Муртазалиев вернет медаль в знак протеста.',\n",
              "  'Сагид Муртазалиев готов вернуть свою золотую медаль МОК.'],\n",
              " ['Правительство РФ решило закрыть Байкальский ЦБК.',\n",
              "  'Байкал избавят от комбината.'],\n",
              " ['Офисные сотрудники тратят до 13 часов в сутки на работу с информацией.',\n",
              "  '\"Мечел\" подтянул к Ванино железную дорогу.'],\n",
              " ['Правительство РФ решило закрыть Байкальский ЦБК.',\n",
              "  'Как закрывали Байкальский ЦБК.'],\n",
              " ['На 79-м году жизни умер Виктор Сергачев.', 'Умер Виктор Сергачев.'],\n",
              " ['Конституционный суд определил правила проведения митингов.',\n",
              "  'Закон о митингах признали несогласованным.'],\n",
              " ['В озере Чебаркуль не нашли обломков метеорита.',\n",
              "  'Челябинская область пострадала от метеорита.'],\n",
              " ['Назначен гендиректор Фонда перспективных исследований.',\n",
              "  'Фонду перспективных исследований подобрали главу.'],\n",
              " ['«Почта России» будет торговать итальянской обувью.',\n",
              "  '\"Почта России\" присмотрела итальянскую модель.'],\n",
              " ['Домашний стадион «Спартака» покрасят в белый и голубой.',\n",
              "  '\"Спартак\" покрасят в бело-голубой.'],\n",
              " ['Генерала Бориса Фадеева оставят под арестом до 17 апреля.',\n",
              "  'Чем известен генерал Борис Фадеев.'],\n",
              " ['СК возбудил дело по факту гибели российского ребенка в США.',\n",
              "  'Таджик до Киева доведет - Чем опасна миграционная политика России.'],\n",
              " ['Пресс-секретарь Медведева опровергла сообщения о проверке в «Известиях».',\n",
              "  '\"Наличность трудно считать, а еще труднее контролировать\" - Как менялось отношение граждан и банков к наличным.'],\n",
              " ['Умер детский писатель Отфрид Пройслер.',\n",
              "  'Крупнейшие российские проекты в Индии.'],\n",
              " ['Россия отказалась участвовать в операции в Мали.',\n",
              "  'Россию позвали в Мали.'],\n",
              " ['СМИ сообщили о проигрыше «Нафтогаза» в споре на четыре миллиарда долларов.',\n",
              "  '«Для отстранения от должности обыски и допросы точно не нужны».'],\n",
              " ['Парламент Болгарии одобрил отставку правительства.',\n",
              "  'Правительство Болгарии уходит в отставку.'],\n",
              " ['В Москве на ВВЦ выступят The Killers.',\n",
              "  'К Москве присоединили преступность.'],\n",
              " ['Число обращений в приемные «Единой России» снизилось в два раза.',\n",
              "  '\"В этом городе не может быть маленьких проектов\".'],\n",
              " ['Участницы Pussy Riot направили в ЕСПЧ жалобу на 355 страницах.',\n",
              "  'Регионам чужого не надо.'],\n",
              " ['Часть билетов на Олимпиаду в Сочи оказалась недоступной для покупателей.',\n",
              "  'Аргентина обещает вернуть себе Фолкленды к 2033 году.'],\n",
              " ['Правительство отказалось компенсировать убытки «Почты России».',\n",
              "  'Доработав закон \"О почтовой связи\".'],\n",
              " ['ВЦИОМ рассказал о первых результатах медиаизмерений.',\n",
              "  'ВЦИОМ выступил как по заказу.'],\n",
              " ['Тренер российских биатлонисток назвал состав на эстафету на ЧМ.',\n",
              "  'Тренеры определились с составом на эстафету.'],\n",
              " ['Национальный роуминг в России могут отменить с марта 2014г.',\n",
              "  'Национальный роуминг в России может быть отменен с марта 2014 года.'],\n",
              " ['Плющенко: Поеду на реабилитацию в Израиль.',\n",
              "  'Жители поселка в Эвенкии просят денег на борьбу с бродячими собаками.'],\n",
              " ['В Ватикане начались выборы нового Папы Римского.',\n",
              "  'В Ватикане открывается Конклав, который должен выбрать Папу Римского.'],\n",
              " ['Лидер \"Справедливой России\" предложил исключить из партии Гудковых.',\n",
              "  'Россия надеется на отмену визового режима с ЕС к концу 2014 года.'],\n",
              " ['Кипр попросит о помощи главу РПЦ.',\n",
              "  'Кипр попросит Россию о финансовой помощи.'],\n",
              " ['В Ватикане избран новый Папа Римский.',\n",
              "  'Католики по цвету дыма определят, выбран ли новый Папа Римский.'],\n",
              " ['Мосгордума повысила штрафы для въезжающих в Москву грузовиков.',\n",
              "  'Мосгордума повысит штрафы за въезд тяжелых грузовиков на МКАД днем.'],\n",
              " ['Сергея Цапка лишили ученой степени.',\n",
              "  'Главаря преступной банды Сергея Цапка лишили научной степени.'],\n",
              " ['Ученые впервые вырастили работающую сердечную ткань.',\n",
              "  'Ученые вырастили работающую сердечную ткань.'],\n",
              " ['Эксперты об исключении Гудковых из \"Справедливой России\".',\n",
              "  'Геннадий и Дмитрий Гудковы исключены из \"Справедливой России\".'],\n",
              " ['Киприоты могут выдохнуть: власти отказались от идеи налога на депозиты.',\n",
              "  'Кабмин Кипра: Для спасения острова разрабатывается альтернативный план.'],\n",
              " ['В резиденцию В.Путина попала грузинская \"Кока-Кола\".',\n",
              "  'Геннадий и Дмитрий Гудковы исключены из \"Справедливой России\".'],\n",
              " ['Девочка, которую высадили из маршрутки, запутала Павла Астахова.',\n",
              "  'Девочка, которую высадили из маршрутки в Москве, не опознала обидчика.'],\n",
              " ['Раритетное оружие Минобороны уйдет с молотка.',\n",
              "  'Раритетное оружие из хранилищ Минобороны продадут коллекционерам.'],\n",
              " ['Члены ОНФ назвали главного врага российского народа.',\n",
              "  'Члены ОНФ нашли главного врага русского народа.'],\n",
              " ['Эксперты назвали самые привлекательные для туризма страны.',\n",
              "  'Опубликован новый рейтинг самых привлекательных для туризма стран.'],\n",
              " ['Верховный суд может приравнять \"откаты\" к взяткам.',\n",
              "  'Верховный суд предлагает приравнять откаты к взяткам.'],\n",
              " ['Коллеги об Андрее Панине: Это потеря для нашего кино.',\n",
              "  'Следователи раскрыли дело о нападении на Филина в рекордные сроки.'],\n",
              " ['Парламент Ливии временно прекратил работу.',\n",
              "  'Ливийский парламент приостановил работу.'],\n",
              " ['В ЦАР лидер повстанцев объявил себя президентом.',\n",
              "  'Лидер повстанцев провозгласил себя президентом ЦАР.'],\n",
              " ['В центре Багдада затонул плавучий ресторан, есть жертвы.',\n",
              "  'В центре Багдада затонул плавучий ресторан со 150 пассажирами.'],\n",
              " ['Болгарский митрополит не нашел покупателя для своих часов Rolex.',\n",
              "  'Болгарский митрополит не смог продать свои часы Rolex.'],\n",
              " ['РФ подумает о помощи Кипру, когда республика договорится с кредиторами.',\n",
              "  'Кипр договорился с кредиторами о реструктуризации Laiki Bank.'],\n",
              " ['Представители ЕС подтвердили выделение Кипру 10 млрд евро.',\n",
              "  'Еврогруппа подтвердила выделение Кипру 10 миллиардов евро.'],\n",
              " ['У берегов Австралии затонуло судно с беженцами.',\n",
              "  'У берегов Австралии перевернулось судно с беженцами.'],\n",
              " ['Основателя Groupon уволили с поста главы компании.',\n",
              "  'Основателя Groupon уволили с должности главы компании.'],\n",
              " ['Полиция выявила сеть \"серых\" терминалов с оборотом в 15 млрд рублей.',\n",
              "  'Раскрыта сеть «серых» платежных терминалов с оборотом в 15 миллиардов рублей.'],\n",
              " ['Новый закон о думских выборах закроет дорогу блокам.',\n",
              "  'Кремль подготовил новый закон о выборах Госдумы.'],\n",
              " ['В Петербурге у священника похитили портфель с мощами святых и крестом.',\n",
              "  'В Петербурге у священника отобрали портфель с деньгами и мощами.'],\n",
              " ['В Петербурге попался грабитель, позарившийся на портфель с мощами.',\n",
              "  'В Петербурге у священника отобрали портфель с деньгами и мощами.'],\n",
              " ['В ФСБ объявили забастовку: \"охранников Кадырова\" выпустили из СИЗО.',\n",
              "  '«Новая газета» сообщила о забастовке в ФСБ из-за охранников Кадырова.'],\n",
              " ['Принцесса Лилиан, покорившая мир своей историей, умерла в Стокгольме.',\n",
              "  'Умерла шведская принцесса Лилиан.'],\n",
              " ['В Петербурге иностранец похитил у священника портфель со святыми мощами.',\n",
              "  'В Петербурге у священника отобрали портфель с деньгами и мощами.'],\n",
              " ['Выброс хлора под Пермью: число пострадавших достигло 30 человек.',\n",
              "  'При выбросе хлора в Пермском крае пострадали 30 человек.'],\n",
              " ['Игорь Сечин возглавил ТНК-BP.', 'Сечин лично возглавил ТНК-BP.'],\n",
              " ['ЦБ РФ лишил лицензии еще один дагестанский банк за отмывание доходов.',\n",
              "  'ЦБ лишил лицензии еще одну кредитную организацию из Дагестана.'],\n",
              " ['В Канаде двое заключенных сбежали из тюрьмы на вертолете.',\n",
              "  'В Канаде арестован второй сбежавший на вертолете заключенный.'],\n",
              " ['Италия установила новый рекорд безработицы.',\n",
              "  'Российский бизнес установил новый рекорд по займам за рубежом.'],\n",
              " ['При строительстве трассы Москва - Петербург использовали ворованный песок.',\n",
              "  'При строительстве трассы Москва-Петербург использовали ворованный песок.'],\n",
              " ['Трассу от Москвы до Петербурга строили на ворованном песке.',\n",
              "  'При строительстве трассы Москва-Петербург использовали ворованный песок.'],\n",
              " ['Новый закон о думских выборах закроет дорогу блокам.',\n",
              "  'Президент внес в Госдуму новый закон о выборах.'],\n",
              " ['Полиция начала проверять \"Отморозков\" на экстремизм.',\n",
              "  '«Отморозков» Серебренникова проверят на экстремизм.'],\n",
              " ['Треть заключенных в камчатской ИК-6 объявили голодовку.',\n",
              "  'В камчатской колонии после драки объявили голодовку.'],\n",
              " ['На заводе Chivas при аварии в канализацию утекло 18 тыс. литров виски.',\n",
              "  'На шотландском заводе Chivas по ошибке вылили 18 тысяч литров виски.'],\n",
              " ['Сбивший в Архангельской обл. пятерых водитель попал под поезд, вызывая врачей.',\n",
              "  'В Архангельской области водитель сбил пятерых человек и бросился под поезд.'],\n",
              " ['Мосгорсуд отобрал новых присяжных для \"дела Буданова\".',\n",
              "  'Мосгорсуд сформировал новую коллегию присяжных по делу Буданова.'],\n",
              " ['В Березниках введен режим ЧС в связи с выбросом хлора.',\n",
              "  'В Березниках ввели режим ЧС из-за выброса хлора.'],\n",
              " ['Власти Техаса обвинили Павла Астахова в голословности.',\n",
              "  'Власти Техаса опровергли заявление Астахова.'],\n",
              " ['Внешний госдолг России вырос за год на 41,8%.',\n",
              "  'Внешний госдолг России вырос на 42 процента за год.'],\n",
              " ['Скончался последний президент АН СССР Г.Марчук.',\n",
              "  'Умер последний президент Академии наук СССР.'],\n",
              " ['Война и мир Бориса Васильева в цитатах.', 'Умер писатель Борис Васильев.'],\n",
              " ['Классик фронтовой литературы Борис Васильев.',\n",
              "  'Умер писатель Борис Васильев.'],\n",
              " ['Президент Аргентины попросила Папу вмешаться в спор о Фолклендах.',\n",
              "  'Президент Аргентины попросила нового папу вмешаться в фолклендский конфликт.'],\n",
              " ['США не предъявят обвинений усыновителям Максима Кузьмина.',\n",
              "  'Власти Техаса отказались предъявлять обвинения приемным родителям Максима Кузьмина.'],\n",
              " ['В Шереметьево в багаже пассажира нашли 26 тыс. бриллиантов.',\n",
              "  'В «Шереметьево» изъяли 26 тысяч бриллиантов.'],\n",
              " ['По факту мошенничества в Минобороны возбуждено еще одно уголовное дело.',\n",
              "  'В «Шереметьево» изъяли 26 тысяч бриллиантов.'],\n",
              " ['\"Газпром нефть\" вновь возглавил А.Миллер.',\n",
              "  'В Германии приняли «налог на Google».'],\n",
              " ['СКР: Бастующие офицеры ФСБ - вымышленные персонажи.',\n",
              "  'СК счел «бастующих» офицеров ФСБ вымышленными персонажами.'],\n",
              " ['В \"болотном деле\" появилась 57-летняя фигурантка.',\n",
              "  'В «болотном деле» появилась новая фигурантка.'],\n",
              " ['Сирийская оппозиция перенесла выборы временного правительства.',\n",
              "  'Националисты отказали Верховной Раде в дееспособности.'],\n",
              " ['ФБР раскрыло крупнейшую музейную кражу в истории.',\n",
              "  'ФБР раскрыло крупнейшее ограбление музея в истории.'],\n",
              " ['В ЦАР лидер повстанцев отменил Конституцию и распустил парламент.',\n",
              "  'Самопровозглашенный президент ЦАР распустил парламент.'],\n",
              " ['В Афганистане 8 смертников напали на полицейский участок.',\n",
              "  'На полицейское управление в Афганистане напали семь смертников.'],\n",
              " ['Подозреваемого в краже приморского аптекаря объявят в розыск.',\n",
              "  'Приморского аптекаря заподозрили в краже 500 миллионов.'],\n",
              " ['Приморский аптекарь подозревается в краже 500 млн рублей.',\n",
              "  'Приморского аптекаря заподозрили в краже 500 миллионов.'],\n",
              " ['Надежду Толоконникову из Pussy Riot поместили в карцер.',\n",
              "  'Надежду Толоконникову поместят в штрафной изолятор.'],\n",
              " ['Власти США: Смерть Максима Кузьмина - несчастный случай.',\n",
              "  'Власти Техаса объявили причину смерти Максима Кузьмина.'],\n",
              " ['Скончалась известная оперная певица Маргарита Миглау.',\n",
              "  'Скончалась оперная певица Маргарита Миглау.'],\n",
              " ['В Москве ювелирный магазин ограбили на 1,5 млн рублей.',\n",
              "  'В Москве ограблен ювелирный магазин.'],\n",
              " ['Белгородский губернатор: Со счетов россиян на Кипре надо снять 70%.',\n",
              "  'Белгородский губернатор призвал списать с кипрских счетов россиян 70 процентов.'],\n",
              " ['Партию Виктора Ющенко распустили против его воли.',\n",
              "  'Партия «Наша Украина» объявила о самороспуске.'],\n",
              " ['Мэра Твери, участвовавшего в спартакиаде, госпитализировали с инфарктом.',\n",
              "  'Мэр Твери попал в больницу с инфарктом во время спартакиады.'],\n",
              " ['Олимпийский чемпион объявил голодовку, протестуя против вердикта МОК.',\n",
              "  'Двукратный олимпийский чемпион по борьбе объявил голодовку.'],\n",
              " ['Титул \"Мисс Россия-2013\" выиграла студентка из Кузбасса.',\n",
              "  'Конкурс «Мисс Россия» выиграла студентка из Междуреченска.'],\n",
              " ['Завхоза Минобороны обвинили в хищении денег из пансиона для воспитанниц.',\n",
              "  'В «Пансионе воспитанниц Минобороны» обнаружили хищение.'],\n",
              " ['В Вашингтоне 11 человек ранены в результате стрельбы.',\n",
              "  'В Вашингтоне стрелки из машины ранили 12 человек.'],\n",
              " ['КНДР готовится нанести ракетный удар по США.',\n",
              "  'Северная Корея пригрозила ракетным ударом по США.'],\n",
              " ['Президент Зимбабве отметил 89-летие за 600 тыс. долл.',\n",
              "  'Президент Зимбабве потратил 600 тысяч долларов на 89-летие.'],\n",
              " ['Сотрудники правопорядка ворвались на спектакль о деле Pussy Riot.',\n",
              "  'Спектакль про Pussy Riot прервали сотрудники ФМС.'],\n",
              " ['В Ватикане состоялась интронизация Папы Франциска.',\n",
              "  'В Ватикане началась интронизация папы Франциска.'],\n",
              " ['Интронизация Папы Франциска.',\n",
              "  'В Ватикане началась интронизация папы Франциска.'],\n",
              " ['Космогрузовик Dragон провел стыковку с МКС.',\n",
              "  'Астронавты начали стыковку грузовика Dragon с МКС.'],\n",
              " ['В Петербурге полиция разогнала участников флешмоба Harlem shake.',\n",
              "  'В Петербурге полиция разогнала исполнителей «Harlem Shake».'],\n",
              " ['Королева Елизавета II госпитализирована.',\n",
              "  'Елизавету II госпитализировали.'],\n",
              " ['Единоросс из Смоленска выиграл суд у малолетних узников концлагерей.',\n",
              "  'Смоленский депутат выиграл суд у малолетних узников фашизма.'],\n",
              " ['В Дагестане застрелили преподавателя медресе.',\n",
              "  'В Дагестане убит преподаватель медресе.'],\n",
              " ['Новым худруком БДТ им.Товстоногова станет режиссер А.Могучий.',\n",
              "  'БДТ нашли нового руководителя.'],\n",
              " ['В Красноярском крае исчез заместитель прокурора.',\n",
              "  'В Красноярском крае пропал без вести помощник прокурора района.'],\n",
              " ['Под Кандагаром разбился вертолет с солдатами НАТО.',\n",
              "  'В Афганистане разбился вертолет НАТО.'],\n",
              " ['Поиски детей в Туве приостановлены из-за опасности схода новой лавины.',\n",
              "  'В Туве приостановили поиски попавших под лавину подростков.'],\n",
              " ['Чикагские ученые завязали воду в узел.', 'Физики завязали воду в узел.'],\n",
              " ['В рейтинг влиятельных женщин России попала участница Pussy Riot.',\n",
              "  'Матвиенко вновь возглавила рейтинг самых влиятельных женщин России.'],\n",
              " ['Самой влиятельной женщиной России признали В.Матвиенко.',\n",
              "  'Матвиенко вновь возглавила рейтинг самых влиятельных женщин России.'],\n",
              " ['Матвиенко взяла \"золото\" в борьбе с влиятельными женщинами России.',\n",
              "  'Матвиенко вновь возглавила рейтинг самых влиятельных женщин России.'],\n",
              " ['Артисты Большого театра собирают подписи в защиту П.Дмитриченко.',\n",
              "  'Артисты Большого театра подготовили письмо в защиту Дмитриченко.'],\n",
              " ['В Египте освободили похищенных туристов из Израиля и Норвегии.',\n",
              "  'В Египте освободили двух похищенных на Синае туристов.'],\n",
              " ['ООН эвакуирует из Сирии половину своих сотрудников.',\n",
              "  'ООН эвакуирует половину своего иностранного персонала из Сирии.'],\n",
              " ['При строительстве \"Зенит-Арены\" погиб рабочий, идет проверка.',\n",
              "  'На строительстве стадиона «Зенит» погиб рабочий.'],\n",
              " ['Обнародован проект нового здания московского \"Политеха\".',\n",
              "  'Новое здание Политеха построят из меди и патины по итальянскому проекту.'],\n",
              " ['Леха Валенсу хотят засудить за гомофобию.',\n",
              "  'Валенсу решили засудить за гомофобию.'],\n",
              " ['Fitch снизило рейтинги крупнейших банков Кипра до дефолтных уровней.',\n",
              "  'Рейтинги крупнейших банков Кипра понижены до дефолтных.'],\n",
              " ['Генералу милиции не дали украсть у \"Ростехнологий\" 350 млн руб.',\n",
              "  'Предотвращено хищение активов «Ростехнологий» на 350 миллионов.'],\n",
              " ['Латвии запретили принимать текущие с Кипра российские деньги.',\n",
              "  'Латвии запретили принимать российские деньги с Кипра.'],\n",
              " ['При обстреле автомобиля Красного Креста в Йемене ранена россиянка.',\n",
              "  'В Йемене ранили российскую сотрудницу Красного креста.'],\n",
              " ['СК возбудил дело о халатности при усыновлении братьев Кузьминых.',\n",
              "  'Возбуждено дело о халатности при усыновлении Максима Кузьмина.'],\n",
              " ['Министр финансов Кипра подал в отставку.',\n",
              "  'Министр финансов Кипра отправится на переговоры в Москву.'],\n",
              " ['Министр финансов Кипра экстренно вылетает в Москву.',\n",
              "  'Министр финансов Кипра отправится на переговоры в Москву.'],\n",
              " ['Стресс приводит к болезни Альцгеймера.',\n",
              "  'Министр финансов Кипра отправится на переговоры в Москву.'],\n",
              " ['РПЦ предлагает ввести в школах предмет \"смысл жизни\".',\n",
              "  'РПЦ предложила ввести в школах предмет «Смысл жизни».'],\n",
              " ['Российские туристы ежегодно оставляют за рубежом 32 млрд долл.',\n",
              "  'Министр культуры оценил траты россиян за рубежом в 32 миллиарда долларов.'],\n",
              " ['Плакат \"Долой царя Путина\" развернули активисты на Красной площади.',\n",
              "  'На Красной площади задержали оппозиционеров с баннером «Долой царя Путина».'],\n",
              " ['Премию Астрид Линдгрен вручили аргентинской художнице Исоль.',\n",
              "  'Премия Астрид Линдгрен досталась аргентинскому иллюстратору.'],\n",
              " ['Госдума потребовала от главреда \"МК\" извинений.',\n",
              "  'Депутаты потребовали извинений от главреда «МК».'],\n",
              " ['Госдума приняла закон о штрафах за мат в СМИ.',\n",
              "  'Госдума ввела запрет на мат в СМИ.'],\n",
              " ['Проститься с Андреем Паниным пришли сотни людей.',\n",
              "  'В Москве простились с Андреем Паниным.'],\n",
              " ['Сегодня в Москве прощаются с актером Андреем Паниным.',\n",
              "  'В Москве простились с Андреем Паниным.'],\n",
              " ['В Центральном доме работников искусства обнаружили рейдеров.',\n",
              "  'В Центральный дом работников искусства пришли с обыском.'],\n",
              " ['В подтопленной шахте в Кузбассе пропали 4 горняка.',\n",
              "  'Из шахты на Кузбассе эвакуировали горняков.'],\n",
              " ['Московская фирма незаконно оформила в собственность часть станции метро.',\n",
              "  'Мошенники приватизировали часть станции московского метро.'],\n",
              " ['На севере Москвы сгорел склад с бумагой.',\n",
              "  'На севере Москвы горит склад с бумагой и оргтехникой.'],\n",
              " ['Министр финансов Кипра подал в отставку.',\n",
              "  'СМИ сообщили об отставке министра финансов Кипра.'],\n",
              " ['Сотрудники ГИБДД задержали нарушителя с помощью щита из машин.',\n",
              "  'Сотрудники ГИБДД выставили «живой щит» из своих машин.'],\n",
              " ['В Красноярском крае исчез заместитель прокурора.',\n",
              "  'В Красноярском крае раскрыто убийство помощника районного прокурора.'],\n",
              " ['На Кипре парламент проголосовал против введения налога на депозиты.',\n",
              "  'Кипрский парламент отклонил налог на банковские депозиты.'],\n",
              " ['В Гвинейском заливе затонуло судно с 166 пассажирами на борту.',\n",
              "  'В Гвинейском заливе затонуло судно со 166 людьми на борту.'],\n",
              " ['Верховный суд затребовал материалы дел М.Ходорковского и П.Лебедева.',\n",
              "  'Верховный суд затребовал дела Ходорковского и Лебедева.'],\n",
              " ['Верховный суд требует материалы дел М.Ходорковского и П.Лебедева.',\n",
              "  'Верховный суд затребовал дела Ходорковского и Лебедева.'],\n",
              " ['Памятник Антону Чехову перенесут из-за нехорошего соседства.',\n",
              "  'Памятник Чехову в Камергерском переулке перенесут из-за туалета.'],\n",
              " ['В Австрии столкнулись 100 автомобилей.',\n",
              "  'В Австрии из-за снегопада столкнулись 100 машин.'],\n",
              " ['Псковский губернатор пообещал избавить жену от активов во Франции.',\n",
              "  'У жены псковского губернатора нашли имущество во Франции.'],\n",
              " ['Власти Венесуэлы: Состояние У.Чавеса ухудшилось.',\n",
              "  'Власти Венесуэлы признали ухудшение состояния Чавеса.'],\n",
              " ['В Ватикане начались выборы нового Папы Римского.',\n",
              "  'В Ватикане начались выборы нового папы.'],\n",
              " ['Задержан подозреваемый в покушении на балетмейстера С.Филина.',\n",
              "  'Задержан подозреваемый в покушении на худрука балета Большого театра.'],\n",
              " ['\"Коммерсантъ\" покидает директор информационного центра М.Лукин.',\n",
              "  'Из «Коммерсанта» ушел директор информационного центра.'],\n",
              " ['Избрать Римского Папу с первого раза не удалось.',\n",
              "  'Конклав не сумел избрать папу в первом туре.'],\n",
              " ['В Москве предотвращена криминальная разборка уроженцев Кавказа.',\n",
              "  'На криминальной разборке в Москве задержаны 22 кавказца.'],\n",
              " ['В Белгороде снесли памятник Владимиру Ленину.',\n",
              "  'В Белгороде демонтировали памятник Ленину.'],\n",
              " ['Умер первый гитарист Yes, \"архитектор прог-рока\" Питер Бэнкс.',\n",
              "  'Скончался гитарист группы Yes Питер Бэнкс.'],\n",
              " ['Главред \"МК\" П.Гусев выиграл заочное сражение с Госдумой.',\n",
              "  'Гусева единогласно переизбрали главой Союза журналистов Москвы.'],\n",
              " ['У жителя Ленобласти нашли пистолеты, пулеметы и авиационную пушку.',\n",
              "  'У жителя Ленобласти изъяли два пулемета и авиапушку.'],\n",
              " ['Роскомнадзор упростит закрытие экстремистских СМИ.',\n",
              "  'Роскомнадзор упростит регистрацию и ликвидацию СМИ.'],\n",
              " ['Сын Абрамовича приобрел крупное нефтяное месторождение в Сибири.',\n",
              "  'Сын Абрамовича купил месторождение нефти в Западной Сибири.'],\n",
              " ['Курсанты университета МВД похитили человека и потребовали $5 млн.',\n",
              "  'Курсанты МВД похитили человека в Подмосковье.'],\n",
              " ['Мосгордума повысила штрафы для въезжающих в Москву грузовиков.',\n",
              "  'Мосгордума разрешила увеличить штрафы для грузовиков.'],\n",
              " ['Главным редактором \"Коммерсантъ FM\" назначен Константин Эггерт.',\n",
              "  'Константин Эггерт назначен главным редактором «Коммерсантъ FM».'],\n",
              " ['Директором Театра на Таганке станет В.Флейшер.',\n",
              "  'Золотухин ушел с поста директора театра на Таганке.'],\n",
              " ['Депутаты просят проверить \"МК\" на предмет рекламы секс-услуг.',\n",
              "  '«Единая Россия» попросила проверить «рекламу секс-услуг» в «МК».'],\n",
              " ['Американский банкир провалился под землю во время игры в гольф.',\n",
              "  'PayPal получила лицензию Банка России.'],\n",
              " ['НАТО: Альянс готов реализовывать ливийский сценарий в Сирии.',\n",
              "  'Командование НАТО приготовило для Сирии ливийский сценарий.'],\n",
              " ['Петербургским убийцам инкассаторов дали пожизненный срок.',\n",
              "  'В Петербурге дали пожизненный срок убийцам инкассаторов.'],\n",
              " ['В Петербурге убийцам инкассаторов дали пожизненный срок.',\n",
              "  'В Петербурге дали пожизненный срок убийцам инкассаторов.'],\n",
              " ['Парламент Молдавии отправил правительство в отставку.',\n",
              "  'В Молдавии отправили в отставку правительство.'],\n",
              " ['Дирижер Вольф Горелик скончался в Москве.',\n",
              "  'Скончался дирижер Вольф Горелик.'],\n",
              " ['Главный инспектор по контролю за недвижимостью Москвы попался на взятке.',\n",
              "  'Столичного инспектора по недвижимости поймали на взятке.'],\n",
              " ['\"Атака века\", предпринятая хакерами, затормозила Интернет.',\n",
              "  'Крупнейшая хакерская атака затормозила интернет.'],\n",
              " ['МЭР предложило повысить прогноз по цене на нефть марки Urals на $8.',\n",
              "  'Минэкономразвития предложило повысить прогноз по ценам на нефть.'],\n",
              " ['Гудковых изгнали из \"Справедливой России\".',\n",
              "  'Миронов предложил исключить Гудковых из «Справедливой России».'],\n",
              " ['Лидер \"Справедливой России\" предложил исключить из партии Гудковых.',\n",
              "  'Миронов предложил исключить Гудковых из «Справедливой России».'],\n",
              " ['В Петербурге во время занятий по самообороне погибла студентка.',\n",
              "  'В Петербурге студентка погибла на курсах по самообороне.'],\n",
              " ['Гаагский трибунал приговорил двух сербских чиновников к 22 годам тюрьмы.',\n",
              "  'Трибунал по Югославии посадил двух сербских чиновников на 22 года.'],\n",
              " ['Лидер \"Справедливой России\" предложил исключить из партии Гудковых.',\n",
              "  'Гудковых исключили из «Справедливой России».'],\n",
              " ['Индекс Dow Jones достиг исторического максимума.',\n",
              "  'Индекс Dow Jones обновил исторический максимум.'],\n",
              " ['В Ватикане избран новый Папа Римский.',\n",
              "  'Конклав избрал нового папу Римского.'],\n",
              " ['Конклав снова не смог выбрать Папу Римского.',\n",
              "  'Конклав избрал нового папу Римского.'],\n",
              " ['\"Стрелок из Колорадо\" признал вину в массовом убийстве.',\n",
              "  'Колорадский стрелок решил признать вину.'],\n",
              " ['Лидер \"красных кхмеров\" умер, не дождавшись приговора.',\n",
              "  'Скончался лидер красных кхмеров Иенг Сари.'],\n",
              " ['Бизнесмена, \"заказавшего\" свердловского депутата, осудили на 13 лет.',\n",
              "  'Заказчик убийства свердловского депутата приговорен к 13 годам.'],\n",
              " ['Полиция задержала плеснувшего кислотой в Сергея Филина.',\n",
              "  'Полиция задержала исполнителя нападения на Филина.'],\n",
              " ['В Кузбассе нашли тело одного из 4 пропавших в шахте горняков.',\n",
              "  'В шахте в Кузбассе нашли тело одного из пропавших горняков.'],\n",
              " ['В харьковском институте прогремел взрыв: есть жертвы.',\n",
              "  'В харьковском институте произошел взрыв.'],\n",
              " ['Ушел из жизни Уго Чавес.', 'Умер Уго Чавес.'],\n",
              " ['Венесуэла объявила семидневный траур по Уго Чавесу.',\n",
              "  'В Венесуэле объявлен семидневный траур.'],\n",
              " ['В Кемеровской области эвакуируют горняков из загоревшейся шахты.',\n",
              "  'В шахте в Кемеровской области произошел пожар.'],\n",
              " ['Старший прапорщик украл у Минобороны квартиры на 1 млрд руб.',\n",
              "  'У Минобороны украли 150 квартир.'],\n",
              " ['Главврача бразильской клиники подозревают в убийстве более 300 пациентов.',\n",
              "  'В Бразилии врача заподозрили в убийстве 300 пациентов.'],\n",
              " ['Столичный гаишник отказался от взятки в 45 млн рублей.',\n",
              "  'Сотрудник ГИБДД отказался от взятки в размере 45 миллионов рублей.'],\n",
              " ['Власти Чечни: Квартира в Грозном подарена Ж.Депардье законно.',\n",
              "  'Власти Чечни заявили о законности квартиры для Депардье.'],\n",
              " ['Министра спорта Калининградской обл. подозревают в служебном подлоге.',\n",
              "  'Калининградского министра спорта заподозрили в служебном подлоге.'],\n",
              " ['Сенатор из списка Forbes покинул Совет Федерации.',\n",
              "  'Николай Ольшанский покинул Совет Федерации.'],\n",
              " ['Некачественные бронежилеты для полицейских сшили глухие.',\n",
              "  'Сотрудников МВД заподозрили в махинациях с поставкой бронежилетов.'],\n",
              " ['Столичный пластический хирург обвинен в 44-х эпизодах педофилии.',\n",
              "  'Хирурга Владимира Тапию обвинили в 44 эпизодах педофилии.'],\n",
              " ['Проверка бюджета Чечни выявила нарушения на 7,9 млрд руб.',\n",
              "  'В бюджете Чечни нашли нарушения на восемь миллиардов рублей.'],\n",
              " ['Ученые исследовали механизмы размножения семиполой инфузории.',\n",
              "  'Ученые разобрались с семиполой инфузорией.'],\n",
              " ['В Исламском культурном центре в Петербурге нашли экстремистскую литературу.',\n",
              "  'Прокуратура потребовала закрыть Исламский культурный центр Петербурга.'],\n",
              " ['ВВП России в 2013г. может вырасти меньше чем на 3%.',\n",
              "  'В Минэкономразвития отказали России в трехпроцентном росте ВВП.'],\n",
              " ['На учениях против фанатов в Берлине столкнулись два вертолета.',\n",
              "  'Над Берлином столкнулись два полицейских вертолета.'],\n",
              " ['Киприоты могут выдохнуть: власти отказались от идеи налога на депозиты.',\n",
              "  'Кипр окончательно отказался вводить налог на депозиты.'],\n",
              " ['Из колледжа в Астрахани отпущен один заложник.',\n",
              "  'Захватчик заложников в Астрахани отпустил одного человека.'],\n",
              " ['\"Дочку\" Газпрома обвинили в причастности к уклонению от налогов.',\n",
              "  'Полиция уличила «дочку» «Газпрома» в уклонении от уплаты налогов.'],\n",
              " ['Финляндия заблокирует вступление Румынии и Болгарии в Шенген.',\n",
              "  'Финляндия выступила против принятия Болгарии и Румынии в Шенген.'],\n",
              " ['Двум грузинским заводам разрешили поставлять вино в Россию.',\n",
              "  'Россия разрешила поставки двум производителям вин из Грузии.'],\n",
              " ['\"Роснефть\" стала полноправным владельцем ТНК-ВР.',\n",
              "  '«Роснефть» завершила поглощение ТНК-ВР.'],\n",
              " ['На правую руку А.Сердюкова надели электронный браслет.',\n",
              "  'На Евгению Васильеву надели электронный браслет.'],\n",
              " ['Университет Дамаска обстреляли из минометов: десятки погибших.',\n",
              "  'Повстанцы обстреляли из минометов университет Дамаска.'],\n",
              " ['Лидер курдских сепаратистов призвал к миру с Турцией.',\n",
              "  'Лидер курдских сепаратистов призвал к перемирию с турками.'],\n",
              " ['Захват заложников в Астрахани: преступник задержан.',\n",
              "  'Вместе с захватчиком заложников в Астрахани задержана его подруга.'],\n",
              " ['Папа Римский Франциск пересел с трона в обычное кресло.',\n",
              "  'Папа Франциск заменил свой трон креслом.'],\n",
              " ['Президент Кипра лишил себя четвертой части зарплаты.',\n",
              "  'Президент Кипра урезал свою зарплату на четверть.'],\n",
              " ['Определена дата референдума о независимости Шотландии.',\n",
              "  'Названа дата референдума о независимости Шотландии.'],\n",
              " ['Главой британской контрразведки MI5 стал мистер Паркер.',\n",
              "  'Назначен новый глава британской контрразведки MI5.'],\n",
              " ['В Москве горит здание ГИТИСа.',\n",
              "  'У здания ГИТИСа в Москве загорелась крыша.'],\n",
              " ['Корабль \"Союз\" с 3 космонавтами стартовал с Байконура к МКС.',\n",
              "  'С Байконура стартовал «Союз» с космонавтами.'],\n",
              " ['Samsung представил смартфон Galaxy S4.',\n",
              "  'Samsung представила смартфон Galaxy S4.'],\n",
              " ['Сотрудника Reuters обвинили в работе на хакеров из Anonymous.',\n",
              "  'Сотрудника Reuters обвинили в сотрудничестве с хакерами Anonymous.'],\n",
              " ['Пьяный британский депутат снова устроил драку в палате общин.',\n",
              "  'Британского депутата задержали после пьяной драки.'],\n",
              " ['Спасатели потушили пожар в ГИТИСе.', 'Пожар в здании ГИТИСа потушен.'],\n",
              " ['Следствие устроит очную ставку С.Филина с П.Дмитриченко.',\n",
              "  'Следствие запланировало очную ставку Филина с Дмитриченко.'],\n",
              " ['Госдеп США назвал проверки в российских НКО охотой на ведьм.',\n",
              "  'США назвали проверки в российских НКО «охотой на ведьм».'],\n",
              " ['Корабль \"Союз\" с 3 космонавтами стартовал с Байконура к МКС.',\n",
              "  '«Союз» с космонавтами пристыковался к МКС.'],\n",
              " ['Актер Том Круз завел страничку \"ВКонтакте\".',\n",
              "  'Том Круз завел страницу «ВКонтакте».'],\n",
              " ['В Канаде в дорожной аварии пострадали более 100 человек.',\n",
              "  'В результате ДТП в Канаде пострадали около ста человек.'],\n",
              " ['Американца, отсидевшего 23 года в тюрьме, признали невиновным.',\n",
              "  'Американца признали невиновным после 23 лет тюремного заключения.'],\n",
              " ['На границе Сирии взяли в плен 20 миротворцев ООН.',\n",
              "  'Сирийские повстанцы похитили 20 миротворцев ООН.'],\n",
              " ['\"Роснефть\" получит 30% на 20 участках ExxonMobil в Мексиканском заливе.',\n",
              "  '«Роснефть» договорилась с ExxonMobil о совместной работе в Мексиканском заливе.'],\n",
              " ['Оппозиция Венесуэлы выбрала единого кандидата на пост президента.',\n",
              "  'Венесуэльская оппозиция выбрала единого кандидата в президенты.'],\n",
              " ['Возбуждено дело о мошенничестве с электронными браслетами во ФСИН.',\n",
              "  'СК возбудил дело о мошенничестве с электронными браслетами.'],\n",
              " ['Учителя музыки из Удмуртии голодовкой добились увольнения чиновника.',\n",
              "  'Удмуртские учителя музыки голодовкой добились отставки чиновника.'],\n",
              " ['Парламент Грузии урезал полномочия М.Саакашвили.',\n",
              "  'Парламент Грузии ограничил полномочия президента.'],\n",
              " ['Названа причина смерти Уго Чавеса.',\n",
              "  'Причиной смерти Чавеса назвали инфаркт.'],\n",
              " ['В Хабаровске при взлете разбился вертолет Ми-8.',\n",
              "  'Вертолет Ми-8 разбился при взлете в Хабаровске.'],\n",
              " ['Владимир Путин погасит свет в Кремле в поддержку \"Часа Земли\".',\n",
              "  'Кремль оставят без света на «Час Земли».'],\n",
              " ['Стоимость парковки в центре Москвы может вырасти вдвое.',\n",
              "  'Стоимость парковки в Москве предложили удвоить.'],\n",
              " ['В Москве погиб известный актер Андрей Панин.', 'Погиб актер Андрей Панин.'],\n",
              " ['Умер актер Андрей Панин.', 'Погиб актер Андрей Панин.'],\n",
              " ['КНДР обвинила Южную Корею и США в хакерских атаках.',\n",
              "  'КНДР обвинила США в кибератаках.'],\n",
              " ['В МЭИ после проверки Счетной палаты сменился ректор.',\n",
              "  'После найденных нарушений сменился ректор МЭИ.'],\n",
              " ['Вологодский полицейский, виновный в ДТП с детдомовскими детьми, задержан.',\n",
              "  'Под Вологдой полицейского задержали за ДТП с детдомовцами.'],\n",
              " ['В Госдуме отказались проверять имущество единоросса А.Исаева.',\n",
              "  'Комиссия Госдумы отказалась проверять имущество единороса Исаева.'],\n",
              " ['Умер кудесник Вудстока – британский гитарист Элвин Ли.',\n",
              "  'Скончался гитарист Элвин Ли.'],\n",
              " ['В Петербурге офицера ФСИН подозревают в стрельбе по пассажирам электрички.',\n",
              "  'На подполковника ФСИН завели дело за стрельбу в электричке.'],\n",
              " ['Военный преступник по прозвищу Монстр Грбавицы осужден на 45 лет.',\n",
              "  '«Монстра из Грбавицы» приговорили к 45 годам тюрьмы за военные преступления.'],\n",
              " ['Суд над блогером, задержанным в Пулково, перенесли в Москву.',\n",
              "  'Суд по делу блогера Алешковского перенесен в Москву.'],\n",
              " ['Театральная революция продолжается: уволился ректор Школы-студии МХАТ.',\n",
              "  'Ректор Школы-студии МХАТ подал в отставку.'],\n",
              " ['В Самаре группа людей в масках разгромила кафе.',\n",
              "  'В Самаре 30 человек разгромили кафе.'],\n",
              " ['Суд Ставрополья не стал отменять запрет на хиджабы в школах.',\n",
              "  'Ставропольский суд признал законным запрет на хиджабы в школах.'],\n",
              " ['В Чечне разбился военный вертолет, погибли 3 человека.',\n",
              "  'В Чечне разбился вертолет.'],\n",
              " ['В Китае сформировали новый состав Госсовета.',\n",
              "  'Китай сформировал новое правительство.'],\n",
              " ['На границе Чечни и Ингушетии уничтожили семерых боевиков.',\n",
              "  'На границе Чечни и Ингушетии уничтожили пятерых боевиков.'],\n",
              " ['Заведено первое уголовное дело по хищениям у \"РусГидро\".',\n",
              "  'В связи с хищениями в «РусГидро» возбудили уголовное дело.'],\n",
              " ['Леониду Развозжаеву продлили срок ареста до 6 августа.',\n",
              "  'Леониду Развозжаеву вызвали «скорую».'],\n",
              " ['Замминистра транспорта Великобритании записал музыкальный альбом.',\n",
              "  'Замминистра транспорта Великобритании записал дебютный альбом.'],\n",
              " ['Мурманский губернатор извинилась за подорожание услуг ЖКХ.',\n",
              "  'Мурманский губернатор извинилась за кризис в ЖКХ.'],\n",
              " ['Первую проповедь Папы Франциска посетили 150 тыс. человек.',\n",
              "  'Франциск прочитал свою первую воскресную проповедь.'],\n",
              " ['СМИ: ЦБ Кипра запретил любые платежи и переводы в стране.',\n",
              "  'СМИ сообщили о приостановке банками Кипра всех платежей и переводов.'],\n",
              " ['Знаменитый адвокат, защищавший Р.Абрамовича, найден мертвым во Франции.',\n",
              "  'Знаменитый французский адвокат обнаружен мертвым.'],\n",
              " ['BP потратит 8 млрд долл. на выкуп своих акций.',\n",
              "  'BP после сделки с «Роснефтью» вернет акционерам 8 миллиардов долларов.'],\n",
              " ['Власти Кипра могут спасти \"от оброка\" относительно небольшие вклады.',\n",
              "  'Власти Кипра уменьшат налог на банковские вклады.'],\n",
              " ['Сирийские хакеры взломали сайт дальневосточного полпредства.',\n",
              "  'Противники Асада взломали сайт дальневосточного полпредства.'],\n",
              " ['Китай вошел в топ-5 продавцов оружия.',\n",
              "  'Китай вошел в пятерку крупнейших экспортеров оружия.'],\n",
              " ['Владельца империи банков-однодневок Матвея Урина посадили на 7,5 года.',\n",
              "  'Банкира Матвея Урина приговорили к 7,5 годам.'],\n",
              " ['Победительницу конкурса красоты нашли мертвой в Улан-Удэ.',\n",
              "  'В Улан-Удэ найдена мертвой победительница конкурса красоты.'],\n",
              " ['Госдума разрешила регионам отменять прямые выборы губернаторов.',\n",
              "  'Госдума разрешила регионам отменять выборы губернаторов.'],\n",
              " ['Ректор ГУУ задержан за взятку в 7 млн рублей.',\n",
              "  'Ректор Госуниверситета управления задержан за взятку.'],\n",
              " ['КНДР аннулировала договор о ненападении с Южной Кореей.',\n",
              "  'КНДР вышла из соглашений о ненападении с Южной Кореей.'],\n",
              " ['В Риме скончался режиссер культового сериала \"Спрут\" Д.Дамиани.',\n",
              "  'Скончался режиссер сериала «Спрут» Дамиано Дамиани.'],\n",
              " ['Госдума приняла закон \"имени Навального\": ФКС похоронила госзакупки.',\n",
              "  'Госдума приняла новый закон о госзакупках.'],\n",
              " ['Тенор Большого театра арестован за мошенничество.',\n",
              "  'Тенора Большого театра арестовали по подозрению в мошенничестве.'],\n",
              " ['Ректор ГУУ стал фигурантом уголовного дела.',\n",
              "  'Против ректора ГУУ возбудили дело о взяточничестве.'],\n",
              " ['Волгоградский бизнесмен выжил, получив 16 огнестрельных ранений.',\n",
              "  'Волгоградский бизнесмен выжил после 16 пулевых ранений.'],\n",
              " ['На Храмовой горе произошли столкновения между израильтянами и палестинцами.',\n",
              "  'На Храмовой горе в Иерусалиме произошли столкновения.'],\n",
              " ['Конклав по избранию Папы Римского начнется 12 марта.',\n",
              "  'Конклав по избранию папы Римского назначен на 12 марта.'],\n",
              " ['Евросоюз одобрил сделку по слиянию \"Роснефти\" и ТНК-BP.',\n",
              "  'Еврокомиссия одобрила слияние «Роснефти» и ТНК-ВР.'],\n",
              " ['Главред \"МК\" попросил возбудить дело против единоросса А.Исаева.',\n",
              "  'Главред «МК» попросил прокуратуру и СК завести дело на Исаева.'],\n",
              " ...]"
            ]
          },
          "metadata": {
            "tags": []
          },
          "execution_count": 31
        }
      ]
    },
    {
      "cell_type": "code",
      "metadata": {
        "id": "TJWY_4TDUNcH",
        "colab_type": "code",
        "colab": {}
      },
      "source": [
        ""
      ],
      "execution_count": 0,
      "outputs": []
    }
  ]
}