{
  "nbformat": 4,
  "nbformat_minor": 0,
  "metadata": {
    "kernelspec": {
      "display_name": "Python 3",
      "language": "python",
      "name": "python3"
    },
    "language_info": {
      "codemirror_mode": {
        "name": "ipython",
        "version": 3
      },
      "file_extension": ".py",
      "mimetype": "text/x-python",
      "name": "python",
      "nbconvert_exporter": "python",
      "pygments_lexer": "ipython3",
      "version": "3.7.1"
    },
    "colab": {
      "name": "Copy of Copy of ATP Project Notebook.ipynb",
      "provenance": [],
      "collapsed_sections": [],
      "toc_visible": true
    }
  },
  "cells": [
    {
      "cell_type": "markdown",
      "metadata": {
        "id": "vkle_s_CWu_x",
        "colab_type": "text"
      },
      "source": [
        "## ATP Men's Tennis Predictions"
      ]
    },
    {
      "cell_type": "markdown",
      "metadata": {
        "id": "tWbrWs-aWu_4",
        "colab_type": "text"
      },
      "source": [
        "In this tennis project, I look at the data containing results for the men’s ATP Tour tournaments as well as a range of ITF-level events (the Olympic Tennis Tournament and the Davis Cup). Those are the most prestgious tennis tournaments which the majority of top-tier athletes take part in.\n",
        "\n",
        "The goal is to learn to predict the outcome of tennis matches based on the available information about players' personal characteristics and previous matches stats. I will try to solve two types of problems: regression and binary classification problems.\n",
        "\n",
        "In regression problem, I aim to predict the difference in final score between the winner and the loser. In classification problem, I will simply try to answer which of the two player is more likely to win and what the odds are. "
      ]
    },
    {
      "cell_type": "markdown",
      "metadata": {
        "id": "XNzf_51EWu_6",
        "colab_type": "text"
      },
      "source": [
        "Initially, there are 20 yearly datasets, from January 2000 to March 2019.\n",
        "\n",
        "Below is the meaning of possibly confusing columns of the dataset:\n",
        "\n",
        "* w/l_ace = absolute number of aces performed by the winner/loser\n",
        "* w/l_df = number of double faults performed by the winner/loser\n",
        "* w/l_svpt = total serve points performed by the winner/loser\n",
        "* w/l_1stin = number of 1st serves in performed by the winner/loser\n",
        "* w/l_1st won = points won on 1st serve by the winner/loser\n",
        "* w/l_2ndwon = points won on 2nd serve by the winner/loser\n",
        "* w/l_SvGms = serve games performed by the winner/loser\n",
        "* w/l_bpSaved = number of break points saved by the winner/loser\n",
        "* w/l_bpFaced = number of break points faced by the winner/loser\n",
        "* winner/loser_entry = indication of whether the winner/loser gained indirect acceptance (i.e. as a qualifier or wild card) into the main draw of a tournament\n",
        "* winner/loser_hand = winner's/loser's dominant hand\n",
        "* winner/loser_ht = winner's/loser's height\n",
        "* winner/loser_ioc = winner's/loser's home country"
      ]
    },
    {
      "cell_type": "markdown",
      "metadata": {
        "id": "l6jWUIqBWu_9",
        "colab_type": "text"
      },
      "source": [
        "#### Data cleaning and feature engineering "
      ]
    },
    {
      "cell_type": "code",
      "metadata": {
        "id": "2P0jtI8lWvAD",
        "colab_type": "code",
        "colab": {}
      },
      "source": [
        "import pandas as pd\n",
        "import numpy as np\n",
        "import sklearn as sk\n",
        "from sklearn.model_selection import train_test_split\n",
        "from sklearn.linear_model import LinearRegression\n",
        "from sklearn.linear_model import LogisticRegression\n",
        "from sklearn import feature_selection\n",
        "from sklearn.ensemble import RandomForestRegressor\n",
        "from sklearn.model_selection import GridSearchCV\n",
        "import matplotlib.pyplot as plt\n",
        "import seaborn as sns\n",
        "import warnings\n",
        "warnings.filterwarnings('ignore')\n",
        "%matplotlib inline"
      ],
      "execution_count": 0,
      "outputs": []
    },
    {
      "cell_type": "code",
      "metadata": {
        "id": "d64V14qTW1k4",
        "colab_type": "code",
        "outputId": "ebd51a31-c103-48e0-a60a-69e3b0f7c11d",
        "colab": {
          "base_uri": "https://localhost:8080/",
          "height": 34
        }
      },
      "source": [
        "from google.colab import drive\n",
        "drive.mount('/content/gdrive', force_remount=True)"
      ],
      "execution_count": 0,
      "outputs": [
        {
          "output_type": "stream",
          "text": [
            "Mounted at /content/gdrive\n"
          ],
          "name": "stdout"
        }
      ]
    },
    {
      "cell_type": "markdown",
      "metadata": {
        "id": "y4SbTqwjWvAO",
        "colab_type": "text"
      },
      "source": [
        "Importing the following dataframes and merging them into one dataset:"
      ]
    },
    {
      "cell_type": "code",
      "metadata": {
        "scrolled": false,
        "id": "VssmiOSuWvAR",
        "colab_type": "code",
        "outputId": "72704c17-1582-4bf0-a3cd-16f05af7c416",
        "colab": {
          "base_uri": "https://localhost:8080/",
          "height": 54
        }
      },
      "source": [
        "import glob\n",
        "print('All csv files in data directory:', glob.glob('/content/gdrive/My Drive/Brainstation/ATP/atp_matches_*.csv'))"
      ],
      "execution_count": 0,
      "outputs": [
        {
          "output_type": "stream",
          "text": [
            "All csv files in data directory: ['/content/gdrive/My Drive/Brainstation/ATP/atp_matches_2019.csv', '/content/gdrive/My Drive/Brainstation/ATP/atp_matches_2010.csv', '/content/gdrive/My Drive/Brainstation/ATP/atp_matches_2009.csv', '/content/gdrive/My Drive/Brainstation/ATP/atp_matches_2018.csv', '/content/gdrive/My Drive/Brainstation/ATP/atp_matches_2008.csv', '/content/gdrive/My Drive/Brainstation/ATP/atp_matches_2004.csv', '/content/gdrive/My Drive/Brainstation/ATP/atp_matches_2005.csv', '/content/gdrive/My Drive/Brainstation/ATP/atp_matches_2007.csv', '/content/gdrive/My Drive/Brainstation/ATP/atp_matches_2011.csv', '/content/gdrive/My Drive/Brainstation/ATP/atp_matches_2013.csv', '/content/gdrive/My Drive/Brainstation/ATP/atp_matches_2012.csv', '/content/gdrive/My Drive/Brainstation/ATP/atp_matches_2006.csv', '/content/gdrive/My Drive/Brainstation/ATP/atp_matches_2002.csv', '/content/gdrive/My Drive/Brainstation/ATP/atp_matches_2003.csv', '/content/gdrive/My Drive/Brainstation/ATP/atp_matches_2016.csv', '/content/gdrive/My Drive/Brainstation/ATP/atp_matches_2017.csv', '/content/gdrive/My Drive/Brainstation/ATP/atp_matches_2000.csv', '/content/gdrive/My Drive/Brainstation/ATP/atp_matches_2001.csv', '/content/gdrive/My Drive/Brainstation/ATP/atp_matches_2014.csv', '/content/gdrive/My Drive/Brainstation/ATP/atp_matches_2015.csv']\n"
          ],
          "name": "stdout"
        }
      ]
    },
    {
      "cell_type": "code",
      "metadata": {
        "id": "9eU42mlHWvAY",
        "colab_type": "code",
        "colab": {}
      },
      "source": [
        "file_name = '/content/gdrive/My Drive/Brainstation/ATP/atp_matches_{}.csv'\n",
        "atp_l = []\n",
        "for i in range(2000, 2020):\n",
        "    atp_l.append(pd.read_csv(file_name.format(i)))\n",
        "atp = pd.concat(atp_l)"
      ],
      "execution_count": 0,
      "outputs": []
    },
    {
      "cell_type": "markdown",
      "metadata": {
        "id": "eWsysDzBWvAc",
        "colab_type": "text"
      },
      "source": [
        "Let's take a look at the fisrt five rows and the information about the dataset. "
      ]
    },
    {
      "cell_type": "code",
      "metadata": {
        "scrolled": false,
        "id": "pybenIs4WvAh",
        "colab_type": "code",
        "outputId": "e2fb3023-32f3-4009-b951-f4c58fac6566",
        "colab": {
          "base_uri": "https://localhost:8080/",
          "height": 326
        }
      },
      "source": [
        "atp.head()"
      ],
      "execution_count": 0,
      "outputs": [
        {
          "output_type": "execute_result",
          "data": {
            "text/html": [
              "<div>\n",
              "<style scoped>\n",
              "    .dataframe tbody tr th:only-of-type {\n",
              "        vertical-align: middle;\n",
              "    }\n",
              "\n",
              "    .dataframe tbody tr th {\n",
              "        vertical-align: top;\n",
              "    }\n",
              "\n",
              "    .dataframe thead th {\n",
              "        text-align: right;\n",
              "    }\n",
              "</style>\n",
              "<table border=\"1\" class=\"dataframe\">\n",
              "  <thead>\n",
              "    <tr style=\"text-align: right;\">\n",
              "      <th></th>\n",
              "      <th>tourney_id</th>\n",
              "      <th>tourney_name</th>\n",
              "      <th>surface</th>\n",
              "      <th>draw_size</th>\n",
              "      <th>tourney_level</th>\n",
              "      <th>tourney_date</th>\n",
              "      <th>match_num</th>\n",
              "      <th>winner_id</th>\n",
              "      <th>winner_seed</th>\n",
              "      <th>winner_entry</th>\n",
              "      <th>winner_name</th>\n",
              "      <th>winner_hand</th>\n",
              "      <th>winner_ht</th>\n",
              "      <th>winner_ioc</th>\n",
              "      <th>winner_age</th>\n",
              "      <th>loser_id</th>\n",
              "      <th>loser_seed</th>\n",
              "      <th>loser_entry</th>\n",
              "      <th>loser_name</th>\n",
              "      <th>loser_hand</th>\n",
              "      <th>loser_ht</th>\n",
              "      <th>loser_ioc</th>\n",
              "      <th>loser_age</th>\n",
              "      <th>score</th>\n",
              "      <th>best_of</th>\n",
              "      <th>round</th>\n",
              "      <th>minutes</th>\n",
              "      <th>w_ace</th>\n",
              "      <th>w_df</th>\n",
              "      <th>w_svpt</th>\n",
              "      <th>w_1stIn</th>\n",
              "      <th>w_1stWon</th>\n",
              "      <th>w_2ndWon</th>\n",
              "      <th>w_SvGms</th>\n",
              "      <th>w_bpSaved</th>\n",
              "      <th>w_bpFaced</th>\n",
              "      <th>l_ace</th>\n",
              "      <th>l_df</th>\n",
              "      <th>l_svpt</th>\n",
              "      <th>l_1stIn</th>\n",
              "      <th>l_1stWon</th>\n",
              "      <th>l_2ndWon</th>\n",
              "      <th>l_SvGms</th>\n",
              "      <th>l_bpSaved</th>\n",
              "      <th>l_bpFaced</th>\n",
              "      <th>winner_rank</th>\n",
              "      <th>winner_rank_points</th>\n",
              "      <th>loser_rank</th>\n",
              "      <th>loser_rank_points</th>\n",
              "    </tr>\n",
              "  </thead>\n",
              "  <tbody>\n",
              "    <tr>\n",
              "      <th>0</th>\n",
              "      <td>2000-339</td>\n",
              "      <td>Adelaide</td>\n",
              "      <td>Hard</td>\n",
              "      <td>NaN</td>\n",
              "      <td>A</td>\n",
              "      <td>20000103</td>\n",
              "      <td>1</td>\n",
              "      <td>102358</td>\n",
              "      <td>1.0</td>\n",
              "      <td>NaN</td>\n",
              "      <td>Thomas Enqvist</td>\n",
              "      <td>R</td>\n",
              "      <td>190.0</td>\n",
              "      <td>SWE</td>\n",
              "      <td>25.81</td>\n",
              "      <td>103096</td>\n",
              "      <td>NaN</td>\n",
              "      <td>NaN</td>\n",
              "      <td>Arnaud Clement</td>\n",
              "      <td>R</td>\n",
              "      <td>173.0</td>\n",
              "      <td>FRA</td>\n",
              "      <td>22.05</td>\n",
              "      <td>6-3 6-4</td>\n",
              "      <td>3</td>\n",
              "      <td>R32</td>\n",
              "      <td>76.0</td>\n",
              "      <td>6.0</td>\n",
              "      <td>0.0</td>\n",
              "      <td>66.0</td>\n",
              "      <td>29.0</td>\n",
              "      <td>23.0</td>\n",
              "      <td>23.0</td>\n",
              "      <td>10.0</td>\n",
              "      <td>2.0</td>\n",
              "      <td>2.0</td>\n",
              "      <td>1.0</td>\n",
              "      <td>3.0</td>\n",
              "      <td>59.0</td>\n",
              "      <td>37.0</td>\n",
              "      <td>25.0</td>\n",
              "      <td>13.0</td>\n",
              "      <td>9.0</td>\n",
              "      <td>2.0</td>\n",
              "      <td>4.0</td>\n",
              "      <td>4.0</td>\n",
              "      <td>1850.0</td>\n",
              "      <td>56.0</td>\n",
              "      <td>490.0</td>\n",
              "    </tr>\n",
              "    <tr>\n",
              "      <th>1</th>\n",
              "      <td>2000-339</td>\n",
              "      <td>Adelaide</td>\n",
              "      <td>Hard</td>\n",
              "      <td>NaN</td>\n",
              "      <td>A</td>\n",
              "      <td>20000103</td>\n",
              "      <td>2</td>\n",
              "      <td>103819</td>\n",
              "      <td>NaN</td>\n",
              "      <td>NaN</td>\n",
              "      <td>Roger Federer</td>\n",
              "      <td>R</td>\n",
              "      <td>185.0</td>\n",
              "      <td>SUI</td>\n",
              "      <td>18.40</td>\n",
              "      <td>102533</td>\n",
              "      <td>NaN</td>\n",
              "      <td>NaN</td>\n",
              "      <td>Jens Knippschild</td>\n",
              "      <td>R</td>\n",
              "      <td>190.0</td>\n",
              "      <td>GER</td>\n",
              "      <td>24.88</td>\n",
              "      <td>6-1 6-4</td>\n",
              "      <td>3</td>\n",
              "      <td>R32</td>\n",
              "      <td>45.0</td>\n",
              "      <td>6.0</td>\n",
              "      <td>3.0</td>\n",
              "      <td>46.0</td>\n",
              "      <td>28.0</td>\n",
              "      <td>24.0</td>\n",
              "      <td>12.0</td>\n",
              "      <td>9.0</td>\n",
              "      <td>0.0</td>\n",
              "      <td>0.0</td>\n",
              "      <td>3.0</td>\n",
              "      <td>5.0</td>\n",
              "      <td>42.0</td>\n",
              "      <td>15.0</td>\n",
              "      <td>13.0</td>\n",
              "      <td>12.0</td>\n",
              "      <td>8.0</td>\n",
              "      <td>0.0</td>\n",
              "      <td>3.0</td>\n",
              "      <td>64.0</td>\n",
              "      <td>515.0</td>\n",
              "      <td>91.0</td>\n",
              "      <td>404.0</td>\n",
              "    </tr>\n",
              "    <tr>\n",
              "      <th>2</th>\n",
              "      <td>2000-339</td>\n",
              "      <td>Adelaide</td>\n",
              "      <td>Hard</td>\n",
              "      <td>NaN</td>\n",
              "      <td>A</td>\n",
              "      <td>20000103</td>\n",
              "      <td>3</td>\n",
              "      <td>102998</td>\n",
              "      <td>NaN</td>\n",
              "      <td>NaN</td>\n",
              "      <td>Jan Michael Gambill</td>\n",
              "      <td>R</td>\n",
              "      <td>190.0</td>\n",
              "      <td>USA</td>\n",
              "      <td>22.58</td>\n",
              "      <td>101885</td>\n",
              "      <td>NaN</td>\n",
              "      <td>NaN</td>\n",
              "      <td>Wayne Arthurs</td>\n",
              "      <td>L</td>\n",
              "      <td>190.0</td>\n",
              "      <td>AUS</td>\n",
              "      <td>28.80</td>\n",
              "      <td>3-6 7-6(5) 6-4</td>\n",
              "      <td>3</td>\n",
              "      <td>R32</td>\n",
              "      <td>115.0</td>\n",
              "      <td>8.0</td>\n",
              "      <td>3.0</td>\n",
              "      <td>81.0</td>\n",
              "      <td>40.0</td>\n",
              "      <td>35.0</td>\n",
              "      <td>28.0</td>\n",
              "      <td>15.0</td>\n",
              "      <td>0.0</td>\n",
              "      <td>1.0</td>\n",
              "      <td>26.0</td>\n",
              "      <td>2.0</td>\n",
              "      <td>103.0</td>\n",
              "      <td>59.0</td>\n",
              "      <td>49.0</td>\n",
              "      <td>22.0</td>\n",
              "      <td>16.0</td>\n",
              "      <td>4.0</td>\n",
              "      <td>5.0</td>\n",
              "      <td>58.0</td>\n",
              "      <td>544.0</td>\n",
              "      <td>105.0</td>\n",
              "      <td>243.0</td>\n",
              "    </tr>\n",
              "    <tr>\n",
              "      <th>3</th>\n",
              "      <td>2000-339</td>\n",
              "      <td>Adelaide</td>\n",
              "      <td>Hard</td>\n",
              "      <td>NaN</td>\n",
              "      <td>A</td>\n",
              "      <td>20000103</td>\n",
              "      <td>4</td>\n",
              "      <td>103206</td>\n",
              "      <td>7.0</td>\n",
              "      <td>NaN</td>\n",
              "      <td>Sebastien Grosjean</td>\n",
              "      <td>R</td>\n",
              "      <td>175.0</td>\n",
              "      <td>FRA</td>\n",
              "      <td>21.60</td>\n",
              "      <td>102776</td>\n",
              "      <td>NaN</td>\n",
              "      <td>NaN</td>\n",
              "      <td>Andrew Ilie</td>\n",
              "      <td>R</td>\n",
              "      <td>180.0</td>\n",
              "      <td>AUS</td>\n",
              "      <td>23.71</td>\n",
              "      <td>6-2 6-1</td>\n",
              "      <td>3</td>\n",
              "      <td>R32</td>\n",
              "      <td>65.0</td>\n",
              "      <td>4.0</td>\n",
              "      <td>2.0</td>\n",
              "      <td>66.0</td>\n",
              "      <td>35.0</td>\n",
              "      <td>28.0</td>\n",
              "      <td>14.0</td>\n",
              "      <td>7.0</td>\n",
              "      <td>4.0</td>\n",
              "      <td>4.0</td>\n",
              "      <td>0.0</td>\n",
              "      <td>3.0</td>\n",
              "      <td>49.0</td>\n",
              "      <td>22.0</td>\n",
              "      <td>12.0</td>\n",
              "      <td>8.0</td>\n",
              "      <td>8.0</td>\n",
              "      <td>1.0</td>\n",
              "      <td>6.0</td>\n",
              "      <td>27.0</td>\n",
              "      <td>928.0</td>\n",
              "      <td>54.0</td>\n",
              "      <td>602.0</td>\n",
              "    </tr>\n",
              "    <tr>\n",
              "      <th>4</th>\n",
              "      <td>2000-339</td>\n",
              "      <td>Adelaide</td>\n",
              "      <td>Hard</td>\n",
              "      <td>NaN</td>\n",
              "      <td>A</td>\n",
              "      <td>20000103</td>\n",
              "      <td>5</td>\n",
              "      <td>102796</td>\n",
              "      <td>3.0</td>\n",
              "      <td>NaN</td>\n",
              "      <td>Magnus Norman</td>\n",
              "      <td>R</td>\n",
              "      <td>188.0</td>\n",
              "      <td>SWE</td>\n",
              "      <td>23.59</td>\n",
              "      <td>102401</td>\n",
              "      <td>NaN</td>\n",
              "      <td>WC</td>\n",
              "      <td>Scott Draper</td>\n",
              "      <td>L</td>\n",
              "      <td>178.0</td>\n",
              "      <td>AUS</td>\n",
              "      <td>25.58</td>\n",
              "      <td>6-4 6-4</td>\n",
              "      <td>3</td>\n",
              "      <td>R32</td>\n",
              "      <td>68.0</td>\n",
              "      <td>6.0</td>\n",
              "      <td>2.0</td>\n",
              "      <td>52.0</td>\n",
              "      <td>32.0</td>\n",
              "      <td>26.0</td>\n",
              "      <td>12.0</td>\n",
              "      <td>10.0</td>\n",
              "      <td>0.0</td>\n",
              "      <td>1.0</td>\n",
              "      <td>4.0</td>\n",
              "      <td>2.0</td>\n",
              "      <td>73.0</td>\n",
              "      <td>40.0</td>\n",
              "      <td>25.0</td>\n",
              "      <td>16.0</td>\n",
              "      <td>10.0</td>\n",
              "      <td>7.0</td>\n",
              "      <td>10.0</td>\n",
              "      <td>15.0</td>\n",
              "      <td>1244.0</td>\n",
              "      <td>154.0</td>\n",
              "      <td>219.0</td>\n",
              "    </tr>\n",
              "  </tbody>\n",
              "</table>\n",
              "</div>"
            ],
            "text/plain": [
              "  tourney_id tourney_name  ... loser_rank  loser_rank_points\n",
              "0   2000-339     Adelaide  ...       56.0              490.0\n",
              "1   2000-339     Adelaide  ...       91.0              404.0\n",
              "2   2000-339     Adelaide  ...      105.0              243.0\n",
              "3   2000-339     Adelaide  ...       54.0              602.0\n",
              "4   2000-339     Adelaide  ...      154.0              219.0\n",
              "\n",
              "[5 rows x 49 columns]"
            ]
          },
          "metadata": {
            "tags": []
          },
          "execution_count": 6
        }
      ]
    },
    {
      "cell_type": "code",
      "metadata": {
        "id": "5WSnZoYJWvAp",
        "colab_type": "code",
        "outputId": "777952e8-b384-4b79-c58f-359323be1a7e",
        "colab": {
          "base_uri": "https://localhost:8080/",
          "height": 935
        }
      },
      "source": [
        "atp.info()"
      ],
      "execution_count": 0,
      "outputs": [
        {
          "output_type": "stream",
          "text": [
            "<class 'pandas.core.frame.DataFrame'>\n",
            "Int64Index: 59430 entries, 0 to 650\n",
            "Data columns (total 49 columns):\n",
            "tourney_id            59430 non-null object\n",
            "tourney_name          59430 non-null object\n",
            "surface               59312 non-null object\n",
            "draw_size             0 non-null float64\n",
            "tourney_level         59430 non-null object\n",
            "tourney_date          59430 non-null int64\n",
            "match_num             59430 non-null int64\n",
            "winner_id             59430 non-null int64\n",
            "winner_seed           24690 non-null float64\n",
            "winner_entry          7048 non-null object\n",
            "winner_name           59430 non-null object\n",
            "winner_hand           59412 non-null object\n",
            "winner_ht             55024 non-null float64\n",
            "winner_ioc            59430 non-null object\n",
            "winner_age            59416 non-null float64\n",
            "loser_id              59430 non-null int64\n",
            "loser_seed            13408 non-null float64\n",
            "loser_entry           11686 non-null object\n",
            "loser_name            59430 non-null object\n",
            "loser_hand            59387 non-null object\n",
            "loser_ht              52294 non-null float64\n",
            "loser_ioc             59430 non-null object\n",
            "loser_age             59400 non-null float64\n",
            "score                 59429 non-null object\n",
            "best_of               59430 non-null int64\n",
            "round                 59430 non-null object\n",
            "minutes               52431 non-null float64\n",
            "w_ace                 53749 non-null float64\n",
            "w_df                  53749 non-null float64\n",
            "w_svpt                53749 non-null float64\n",
            "w_1stIn               53749 non-null float64\n",
            "w_1stWon              53749 non-null float64\n",
            "w_2ndWon              53749 non-null float64\n",
            "w_SvGms               53749 non-null float64\n",
            "w_bpSaved             53749 non-null float64\n",
            "w_bpFaced             53749 non-null float64\n",
            "l_ace                 53749 non-null float64\n",
            "l_df                  53749 non-null float64\n",
            "l_svpt                53749 non-null float64\n",
            "l_1stIn               53749 non-null float64\n",
            "l_1stWon              53749 non-null float64\n",
            "l_2ndWon              53749 non-null float64\n",
            "l_SvGms               53749 non-null float64\n",
            "l_bpSaved             53749 non-null float64\n",
            "l_bpFaced             53749 non-null float64\n",
            "winner_rank           58932 non-null float64\n",
            "winner_rank_points    58932 non-null float64\n",
            "loser_rank            58161 non-null float64\n",
            "loser_rank_points     58161 non-null float64\n",
            "dtypes: float64(30), int64(5), object(14)\n",
            "memory usage: 22.7+ MB\n"
          ],
          "name": "stdout"
        }
      ]
    },
    {
      "cell_type": "markdown",
      "metadata": {
        "id": "Pjm1InLuWvAt",
        "colab_type": "text"
      },
      "source": [
        "To begin with, I drop several columns which will not be useful in our case, such as tournament ID, the number of match, player's seed (which is obviously correlated with rank), etc. I also drop draw size column which is empty. We can also notice that out of 59,430 observations the majority of variables do not have as many NaN values. The only columns which are lacking observations are 'winner/loser seed' (which will be dropped) and 'winner/loser entry'. The latter one contains quite important information about the players, therefore it will be necessary to transform the variable in order to reduce the number of missing values."
      ]
    },
    {
      "cell_type": "code",
      "metadata": {
        "id": "mj61uM0LWvAt",
        "colab_type": "code",
        "colab": {}
      },
      "source": [
        "atp = atp.drop(['draw_size', 'tourney_id', 'match_num', 'winner_seed', 'loser_seed', 'best_of'], axis = 1)"
      ],
      "execution_count": 0,
      "outputs": []
    },
    {
      "cell_type": "markdown",
      "metadata": {
        "id": "fWa0dBzLWvAw",
        "colab_type": "text"
      },
      "source": [
        "Next I check if there are any duplicates - turns out there are none:"
      ]
    },
    {
      "cell_type": "code",
      "metadata": {
        "id": "ZJsztH5QWvAx",
        "colab_type": "code",
        "outputId": "12d17242-5850-45dc-8d34-652eefdd2353",
        "colab": {
          "base_uri": "https://localhost:8080/",
          "height": 68
        }
      },
      "source": [
        "atp[atp.duplicated()]"
      ],
      "execution_count": 0,
      "outputs": [
        {
          "output_type": "execute_result",
          "data": {
            "text/html": [
              "<div>\n",
              "<style scoped>\n",
              "    .dataframe tbody tr th:only-of-type {\n",
              "        vertical-align: middle;\n",
              "    }\n",
              "\n",
              "    .dataframe tbody tr th {\n",
              "        vertical-align: top;\n",
              "    }\n",
              "\n",
              "    .dataframe thead th {\n",
              "        text-align: right;\n",
              "    }\n",
              "</style>\n",
              "<table border=\"1\" class=\"dataframe\">\n",
              "  <thead>\n",
              "    <tr style=\"text-align: right;\">\n",
              "      <th></th>\n",
              "      <th>tourney_name</th>\n",
              "      <th>surface</th>\n",
              "      <th>tourney_level</th>\n",
              "      <th>tourney_date</th>\n",
              "      <th>winner_id</th>\n",
              "      <th>winner_entry</th>\n",
              "      <th>winner_name</th>\n",
              "      <th>winner_hand</th>\n",
              "      <th>winner_ht</th>\n",
              "      <th>winner_ioc</th>\n",
              "      <th>winner_age</th>\n",
              "      <th>loser_id</th>\n",
              "      <th>loser_entry</th>\n",
              "      <th>loser_name</th>\n",
              "      <th>loser_hand</th>\n",
              "      <th>loser_ht</th>\n",
              "      <th>loser_ioc</th>\n",
              "      <th>loser_age</th>\n",
              "      <th>score</th>\n",
              "      <th>round</th>\n",
              "      <th>minutes</th>\n",
              "      <th>w_ace</th>\n",
              "      <th>w_df</th>\n",
              "      <th>w_svpt</th>\n",
              "      <th>w_1stIn</th>\n",
              "      <th>w_1stWon</th>\n",
              "      <th>w_2ndWon</th>\n",
              "      <th>w_SvGms</th>\n",
              "      <th>w_bpSaved</th>\n",
              "      <th>w_bpFaced</th>\n",
              "      <th>l_ace</th>\n",
              "      <th>l_df</th>\n",
              "      <th>l_svpt</th>\n",
              "      <th>l_1stIn</th>\n",
              "      <th>l_1stWon</th>\n",
              "      <th>l_2ndWon</th>\n",
              "      <th>l_SvGms</th>\n",
              "      <th>l_bpSaved</th>\n",
              "      <th>l_bpFaced</th>\n",
              "      <th>winner_rank</th>\n",
              "      <th>winner_rank_points</th>\n",
              "      <th>loser_rank</th>\n",
              "      <th>loser_rank_points</th>\n",
              "    </tr>\n",
              "  </thead>\n",
              "  <tbody>\n",
              "  </tbody>\n",
              "</table>\n",
              "</div>"
            ],
            "text/plain": [
              "Empty DataFrame\n",
              "Columns: [tourney_name, surface, tourney_level, tourney_date, winner_id, winner_entry, winner_name, winner_hand, winner_ht, winner_ioc, winner_age, loser_id, loser_entry, loser_name, loser_hand, loser_ht, loser_ioc, loser_age, score, round, minutes, w_ace, w_df, w_svpt, w_1stIn, w_1stWon, w_2ndWon, w_SvGms, w_bpSaved, w_bpFaced, l_ace, l_df, l_svpt, l_1stIn, l_1stWon, l_2ndWon, l_SvGms, l_bpSaved, l_bpFaced, winner_rank, winner_rank_points, loser_rank, loser_rank_points]\n",
              "Index: []"
            ]
          },
          "metadata": {
            "tags": []
          },
          "execution_count": 9
        }
      ]
    },
    {
      "cell_type": "markdown",
      "metadata": {
        "id": "TU3h-dR0WvA0",
        "colab_type": "text"
      },
      "source": [
        "To check the data for high cardinality, it is necessary to investigate columns and find out whether any of categorical variables has a large number of unique values:"
      ]
    },
    {
      "cell_type": "code",
      "metadata": {
        "id": "a49VZgXrWvA2",
        "colab_type": "code",
        "outputId": "14975871-b306-4018-9260-273322311e4a",
        "colab": {
          "base_uri": "https://localhost:8080/",
          "height": 255
        }
      },
      "source": [
        "atp.select_dtypes(include=[object]).nunique()"
      ],
      "execution_count": 0,
      "outputs": [
        {
          "output_type": "execute_result",
          "data": {
            "text/plain": [
              "tourney_name      1582\n",
              "surface              5\n",
              "tourney_level        5\n",
              "winner_entry         6\n",
              "winner_name       1457\n",
              "winner_hand          3\n",
              "winner_ioc         104\n",
              "loser_entry          7\n",
              "loser_name        2160\n",
              "loser_hand           3\n",
              "loser_ioc          111\n",
              "score            10756\n",
              "round                9\n",
              "dtype: int64"
            ]
          },
          "metadata": {
            "tags": []
          },
          "execution_count": 10
        }
      ]
    },
    {
      "cell_type": "markdown",
      "metadata": {
        "id": "p_U1GZPtWvA5",
        "colab_type": "text"
      },
      "source": [
        "Apparently, tourney/winner/loser name columns have a high number of unique values - more than one thousand. That's not unexpected, but that's not a problem as these variables won't be used in the analysis. However, there are two variables, both standing for players' nationality, which might be useful. To get rid of a huge number of categories, those will be transformed later. The score column will be transormed as well into a target variable."
      ]
    },
    {
      "cell_type": "markdown",
      "metadata": {
        "id": "mSHm6H8uWvA7",
        "colab_type": "text"
      },
      "source": [
        "Then it is necessary to convert categorical data to numerical. For 'surface', 1 means the most used surface while 4 means the least used surface according to the frequency below. None values will be dropped as there are only 80 of them:"
      ]
    },
    {
      "cell_type": "code",
      "metadata": {
        "scrolled": true,
        "id": "eP--OkkTWvA9",
        "colab_type": "code",
        "outputId": "cc9c3694-33c0-47ba-9c3b-8956a00d527c",
        "colab": {
          "base_uri": "https://localhost:8080/",
          "height": 119
        }
      },
      "source": [
        "atp['surface'].value_counts()"
      ],
      "execution_count": 0,
      "outputs": [
        {
          "output_type": "execute_result",
          "data": {
            "text/plain": [
              "Hard      31675\n",
              "Clay      19449\n",
              "Grass      6084\n",
              "Carpet     2024\n",
              "None         80\n",
              "Name: surface, dtype: int64"
            ]
          },
          "metadata": {
            "tags": []
          },
          "execution_count": 154
        }
      ]
    },
    {
      "cell_type": "code",
      "metadata": {
        "id": "yXgoMBlMWvBA",
        "colab_type": "code",
        "colab": {}
      },
      "source": [
        "atp = atp[atp['surface'] != 'None']\n",
        "atp['surface'] = atp['surface'].map({'Hard' : 1, 'Clay': 2, 'Grass': 3, 'Carpet': 4})"
      ],
      "execution_count": 0,
      "outputs": []
    },
    {
      "cell_type": "markdown",
      "metadata": {
        "id": "T_0CsAkJWvBC",
        "colab_type": "text"
      },
      "source": [
        "Same approach is used for player's dominant hand except for the fact that right hand will be a default characteristic and marked as zero. The tournaments' level variable is converted according to the ranking of the tournaments with Grand Slams as the most prestigious ones."
      ]
    },
    {
      "cell_type": "code",
      "metadata": {
        "id": "dvHtKcAWWvBC",
        "colab_type": "code",
        "colab": {}
      },
      "source": [
        "#R - right-handed, L - left-handed, U - ambidextrous\n",
        "atp['winner_hand'] = atp['winner_hand'].map({'R' : 0, 'L' : 1, 'U' : 2})\n",
        "atp['loser_hand'] = atp['loser_hand'].map({'R' : 0, 'L' : 1, 'U' : 2})"
      ],
      "execution_count": 0,
      "outputs": []
    },
    {
      "cell_type": "code",
      "metadata": {
        "id": "zuT8b0ISWvBE",
        "colab_type": "code",
        "colab": {}
      },
      "source": [
        "#A - ATP250 & ATP500, M - ATP Masters 1000, G - Grand Slam, D - Davis Cup, F - Finals & Finals Next Gen\n",
        "atp['tourney_level'] = atp['tourney_level'].map({'G': 1, 'F': 2, 'M': 3, 'A': 4, 'D': 5})"
      ],
      "execution_count": 0,
      "outputs": []
    },
    {
      "cell_type": "markdown",
      "metadata": {
        "scrolled": false,
        "id": "Ft4i9sHeWvBG",
        "colab_type": "text"
      },
      "source": [
        "It was mentioned that 'winner/loser entry' columns contain a lot of null values which is expected since the majority of the players get to the main draw by their rank, and there are not so many exceptions such as wild cards or qualifiers. However, such information is still valuable, and I decided to create new binary columns; each would indicate particular special conditions under which previously unqualified players got a chance to play in the main draw:"
      ]
    },
    {
      "cell_type": "code",
      "metadata": {
        "id": "W63FEZiiWvBH",
        "colab_type": "code",
        "colab": {}
      },
      "source": [
        "#Q - qualifier; WC - wild card; LL - lucky loser, ALT - alternate\n",
        "#PR - protected ranking, SE - special extempt\n",
        "for i in ['winner', 'loser']:\n",
        "    atp['{}_Q'.format(i)] = np.where(atp['{}_entry'.format(i)] == 'Q', 1, 0)\n",
        "    atp['{}_WC'.format(i)] = np.where(((atp['{}_entry'.format(i)] == 'WC') | (atp['{}_entry'.format(i)] == 'SE')), 1, 0)\n",
        "    atp['{}_LL'.format(i)] = np.where(((atp['{}_entry'.format(i)] == 'LL') | (atp['{}_entry'.format(i)] == 'ALT')), 1, 0)"
      ],
      "execution_count": 0,
      "outputs": []
    },
    {
      "cell_type": "markdown",
      "metadata": {
        "id": "1ePYfuAa4AeA",
        "colab_type": "text"
      },
      "source": [
        "Now it's also necessary to start preparing separate dataset for the classification problem. Since now there are columns for winners and losers, we need to shuffle the observations to be able to create binary dependent variable. To make the dataset balanced, I create 45% of 0's and 65% of 1's:"
      ]
    },
    {
      "cell_type": "code",
      "metadata": {
        "id": "RF4ONjacKCSY",
        "colab_type": "code",
        "colab": {}
      },
      "source": [
        "df1, df2 = train_test_split(atp, test_size=0.45)"
      ],
      "execution_count": 0,
      "outputs": []
    },
    {
      "cell_type": "code",
      "metadata": {
        "id": "WOVJntfOKIpT",
        "colab_type": "code",
        "colab": {}
      },
      "source": [
        "df1.columns = ['tourney_name', 'surface', 'tourney_level', 'tourney_date', 'p1_id',\n",
        "       'p1_entry', 'p1_name', 'p1_hand', 'p1_ht', 'p1_ioc',\n",
        "       'p1_age', 'p2_id', 'p2_entry', 'p2_name', 'p2_hand',\n",
        "       'p2_ht', 'p2_ioc', 'p2_age', 'score', 'round', 'minutes',\n",
        "       'p1_ace', 'p1_df', 'p1_svpt', 'p1_1stIn', 'p1_1stWon', 'p1_2ndWon', 'p1_SvGms',\n",
        "       'p1_bpSaved', 'p1_bpFaced', 'p2_ace', 'p2_df', 'p2_svpt', 'p2_1stIn',\n",
        "       'p2_1stWon', 'p2_2ndWon', 'p2_SvGms', 'p2_bpSaved', 'p2_bpFaced',\n",
        "       'p1_rank', 'p1_rank_points', 'p2_rank', 'p2_rank_points', 'p1_Q', 'p1_WC', 'p1_LL', 'p2_Q', 'p2_WC',\n",
        "       'p2_LL']\n",
        "df1['outcome'] = 1"
      ],
      "execution_count": 0,
      "outputs": []
    },
    {
      "cell_type": "code",
      "metadata": {
        "id": "ygLv_0O1KdN3",
        "colab_type": "code",
        "colab": {}
      },
      "source": [
        "df2.columns = ['tourney_name', 'surface', 'tourney_level', 'tourney_date', 'p2_id',\n",
        "       'p2_entry', 'p2_name', 'p2_hand', 'p2_ht', 'p2_ioc',\n",
        "       'p2_age', 'p1_id', 'p1_entry', 'p1_name', 'p1_hand',\n",
        "       'p1_ht', 'p1_ioc', 'p1_age', 'score', 'round', 'minutes',\n",
        "       'p2_ace', 'p2_df', 'p2_svpt', 'p2_1stIn', 'p2_1stWon', 'p2_2ndWon', 'p2_SvGms',\n",
        "       'p2_bpSaved', 'p2_bpFaced', 'p1_ace', 'p1_df', 'p1_svpt', 'p1_1stIn',\n",
        "       'p1_1stWon', 'p1_2ndWon', 'p1_SvGms', 'p1_bpSaved', 'p1_bpFaced',\n",
        "       'p2_rank', 'p2_rank_points', 'p1_rank', 'p1_rank_points', 'p2_Q', 'p2_WC', 'p2_LL', 'p1_Q', 'p1_WC',\n",
        "       'p1_LL']\n",
        "df2['outcome'] = 0"
      ],
      "execution_count": 0,
      "outputs": []
    },
    {
      "cell_type": "code",
      "metadata": {
        "id": "ho_m2eaSKoVo",
        "colab_type": "code",
        "colab": {}
      },
      "source": [
        "atp_class = pd.concat([df1, df2])"
      ],
      "execution_count": 0,
      "outputs": []
    },
    {
      "cell_type": "markdown",
      "metadata": {
        "id": "GQtlwcz-WvBI",
        "colab_type": "text"
      },
      "source": [
        "While age and height are extremely important, it is worth introducing new variables describing the difference in height/age between the two players. In my opinion, those have more explanationary power and will help to get better predictions:"
      ]
    },
    {
      "cell_type": "code",
      "metadata": {
        "id": "ataslR8uWvBJ",
        "colab_type": "code",
        "colab": {}
      },
      "source": [
        "atp['ht_diff'] = atp['winner_ht'] - atp['loser_ht']\n",
        "atp['age_diff'] = atp['winner_age'] - atp['loser_age']\n",
        "\n",
        "atp_class['ht_diff'] = atp_class['p1_ht'] - atp_class['p2_ht']\n",
        "atp_class['age_diff'] = atp_class['p1_age'] - atp_class['p2_age']"
      ],
      "execution_count": 0,
      "outputs": []
    },
    {
      "cell_type": "code",
      "metadata": {
        "id": "ZnPZagXOWvBL",
        "colab_type": "code",
        "colab": {}
      },
      "source": [
        "atp = atp.dropna(subset=['ht_diff', 'winner_hand', 'loser_hand'])\n",
        "\n",
        "atp_class = atp_class.dropna(subset=['ht_diff', 'p1_hand', 'p2_hand'])"
      ],
      "execution_count": 0,
      "outputs": []
    },
    {
      "cell_type": "markdown",
      "metadata": {
        "id": "GZ8MBA71WvBM",
        "colab_type": "text"
      },
      "source": [
        "At the beginning I found out that there are two categorical variables with many categories which can be used further. However, it is not that important to know precisely about a player's nationality. What can be informative is whether a player is from a leading tennis nation (i.e. which has huge internal competition, tennis traditions, tennis celebrities). I created a binary varible indicating that. The player is assigned with a value 1 if he is from any of 15 countries with the biggest number of representatives in the ATP tour, and 0 otherwise:"
      ]
    },
    {
      "cell_type": "code",
      "metadata": {
        "id": "kLGyBT77WvBN",
        "colab_type": "code",
        "colab": {}
      },
      "source": [
        "big_countries = ['ESP', 'FRA', 'USA', 'ARG', 'GER', 'RUS', 'SUI', 'CZE', 'CRO', \n",
        "                 'AUS', 'SRB', 'ITA', 'SWE', 'GBR', 'BEL']\n",
        "for i in ['winner', 'loser']:\n",
        "    atp['{}_sign_country'.format(i)] = np.where(atp['{}_ioc'.format(i)].isin(big_countries), 1, 0)\n",
        "\n",
        "for i in ['p1', 'p2']:\n",
        "    atp_class['{}_sign_country'.format(i)] = np.where(atp_class['{}_ioc'.format(i)].isin(big_countries), 1, 0)"
      ],
      "execution_count": 0,
      "outputs": []
    },
    {
      "cell_type": "markdown",
      "metadata": {
        "id": "fGkAtxBZWvBP",
        "colab_type": "text"
      },
      "source": [
        "Below is the format of the score variable:"
      ]
    },
    {
      "cell_type": "code",
      "metadata": {
        "id": "h2l1em49WvBP",
        "colab_type": "code",
        "outputId": "ff6e5cfe-7eb0-40df-bfb9-ab98d470d8bf",
        "colab": {
          "base_uri": "https://localhost:8080/",
          "height": 85
        }
      },
      "source": [
        "atp['score'].head(3)"
      ],
      "execution_count": 0,
      "outputs": [
        {
          "output_type": "execute_result",
          "data": {
            "text/plain": [
              "0           6-3 6-4\n",
              "1           6-1 6-4\n",
              "2    3-6 7-6(5) 6-4\n",
              "Name: score, dtype: object"
            ]
          },
          "metadata": {
            "tags": []
          },
          "execution_count": 170
        }
      ]
    },
    {
      "cell_type": "markdown",
      "metadata": {
        "id": "JcqtlpUrWvBS",
        "colab_type": "text"
      },
      "source": [
        "Of course, we can't use it to predict the outcome of the match since it's string. Therefore, the scores have been split by sets; NaN values were dropped. The incomplete matches (for example, match could end due to injury of one player) were also dropped. I also got rid of inconsistencies (such as 0-0 in the first/second set which can't be true).  "
      ]
    },
    {
      "cell_type": "code",
      "metadata": {
        "id": "0ZdHc6YsWvBS",
        "colab_type": "code",
        "colab": {}
      },
      "source": [
        "atp[['set1', 'set2', 'set3', 'set4', 'set5', 'set6']] = atp.score.str.split(\" \", expand=True,)\n",
        "\n",
        "atp = atp[(atp['set1'] != 'RET') & (atp['set1'] != 'DEF') & (atp['set1'] != '1-Apr') & (atp['set1'] != '3-Jun') & (atp['set1'] != 'W/O') & (atp['set1'] != 'Default')]\n",
        "atp = atp[(atp['set2'] != 'RET') & (atp['set2'] != 'DEF') & (atp['set2'] != 'W/O') & (atp['set2'] != 'Default')]\n",
        "atp = atp[(atp['set3'] != 'RET') & (atp['set3'] != 'Played') & (atp['set3'] != 'DEF') & (atp['set3'] != 'Default')]\n",
        "atp = atp[(atp['set4'] != 'RET') & (atp['set4'] != 'and') & (atp['set4'] != 'DEF') & (atp['set4'] != 'Default')]\n",
        "atp = atp[(atp['set5'] != 'RET') & (atp['set5'] != 'unfinished') & (atp['set5'] != 'DEF') & (atp['set5'] != 'Default')]"
      ],
      "execution_count": 0,
      "outputs": []
    },
    {
      "cell_type": "code",
      "metadata": {
        "id": "gfAkuAwGWvBU",
        "colab_type": "code",
        "colab": {}
      },
      "source": [
        "for i in range(1,6):\n",
        "    atp['set{}'.format(i)] = np.where(((atp['set{}'.format(i)] == '') | (atp['set{}'.format(i)].isna())), '0-0', atp['set{}'.format(i)])"
      ],
      "execution_count": 0,
      "outputs": []
    },
    {
      "cell_type": "code",
      "metadata": {
        "id": "umenymTrWvBV",
        "colab_type": "code",
        "colab": {}
      },
      "source": [
        "atp = atp[(atp['set1'] != '0-0') & (atp['set2'] != '0-0')]"
      ],
      "execution_count": 0,
      "outputs": []
    },
    {
      "cell_type": "code",
      "metadata": {
        "scrolled": true,
        "id": "hKd3pEPFWvBX",
        "colab_type": "code",
        "colab": {}
      },
      "source": [
        "for i in range (1,6):\n",
        "    atp[['set{}_w'.format(i), 'set{}_l'.format(i)]] = atp['set{}'.format(i)].str.split(\"-\", expand=True,)"
      ],
      "execution_count": 0,
      "outputs": []
    },
    {
      "cell_type": "code",
      "metadata": {
        "id": "Q2mjELqkWvBZ",
        "colab_type": "code",
        "colab": {}
      },
      "source": [
        "atp = atp[(atp['set3_w'] != '[11') & (atp['set3_w'] != '[12')]"
      ],
      "execution_count": 0,
      "outputs": []
    },
    {
      "cell_type": "code",
      "metadata": {
        "id": "bicXzExiWvBb",
        "colab_type": "code",
        "colab": {}
      },
      "source": [
        "for i in [1, 2, 4]:\n",
        "    atp['set{}_l'.format(i)] = atp['set{}_l'.format(i)].astype(str).str[:1].astype(int)\n",
        "    \n",
        "for j in [3, 5]:\n",
        "    atp['set{}_l'.format(j)] = atp['set{}_l'.format(j)].astype(str).str[:2].str.replace('(','').astype(int)\n",
        "    \n",
        "for k in range(1, 6):\n",
        "    atp['set{}_w'.format(k)] = atp['set{}_w'.format(k)].astype(int)"
      ],
      "execution_count": 0,
      "outputs": []
    },
    {
      "cell_type": "code",
      "metadata": {
        "id": "t-WdQgK2WvBc",
        "colab_type": "code",
        "colab": {}
      },
      "source": [
        "atp = atp.drop(['round', 'winner_rank_points', 'loser_rank_points', 'winner_ioc', 'loser_ioc', 'winner_entry', \n",
        "                'loser_entry','set1', 'set2', 'set3', 'set4', 'set5', 'set6'], axis = 1)"
      ],
      "execution_count": 0,
      "outputs": []
    },
    {
      "cell_type": "markdown",
      "metadata": {
        "id": "k09XkPfdWvBd",
        "colab_type": "text"
      },
      "source": [
        "Using the absolute numbers of matches' stats (the number of aces, saved breakpoints, successful serves, etc), we can calculate the percentages. Also, the total number of points won by the winner and the loser were calculated."
      ]
    },
    {
      "cell_type": "code",
      "metadata": {
        "id": "qeTTzs7gWvBe",
        "colab_type": "code",
        "colab": {}
      },
      "source": [
        "for i in ['w', 'l']:\n",
        "    atp['total_{}_pts'.format(i)] = atp['set1_{}'.format(i)] + atp['set2_{}'.format(i)] + atp['set3_{}'.format(i)] + atp['set4_{}'.format(i)] + atp['set5_{}'.format(i)]\n",
        "    atp['{}_bpsaved_percentage'.format(i)] = np.where(atp['{}_bpFaced'.format(i)] != 0, round((100*atp['{}_bpSaved'.format(i)])/atp['{}_bpFaced'.format(i)], 2), 0)\n",
        "    atp['{}_1stIn_percentage'.format(i)] = round((100*atp['{}_1stIn'.format(i)])/atp['{}_svpt'.format(i)], 2)\n",
        "    atp['{}_1stWon_percentage'.format(i)] = round((100*atp['{}_1stWon'.format(i)])/atp['{}_svpt'.format(i)], 2)\n",
        "    atp['{}_2ndWon_percentage'.format(i)] = round((100*atp['{}_2ndWon'.format(i)])/atp['{}_svpt'.format(i)], 2)\n",
        "\n",
        "for i in ['p1', 'p2']:\n",
        "    atp_class['{}_bpsaved_percentage'.format(i)] = np.where(atp_class['{}_bpFaced'.format(i)] != 0, round((100*atp_class['{}_bpSaved'.format(i)])/atp_class['{}_bpFaced'.format(i)], 2), 0)\n",
        "    atp_class['{}_1stIn_percentage'.format(i)] = round((100*atp_class['{}_1stIn'.format(i)])/atp_class['{}_svpt'.format(i)], 2)\n",
        "    atp_class['{}_1stWon_percentage'.format(i)] = round((100*atp_class['{}_1stWon'.format(i)])/atp_class['{}_svpt'.format(i)], 2)\n",
        "    atp_class['{}_2ndWon_percentage'.format(i)] = round((100*atp_class['{}_2ndWon'.format(i)])/atp_class['{}_svpt'.format(i)], 2)"
      ],
      "execution_count": 0,
      "outputs": []
    },
    {
      "cell_type": "markdown",
      "metadata": {
        "id": "q30RBnhwWvBf",
        "colab_type": "text"
      },
      "source": [
        "Finally, the target variable was created for the first dataset - score difference. Also, differences in key match stats were calculated - those are expected to be one of the most importants features in the analysis."
      ]
    },
    {
      "cell_type": "code",
      "metadata": {
        "id": "Ur1m6TjlWvBg",
        "colab_type": "code",
        "colab": {}
      },
      "source": [
        "atp['pts_diff'] = atp['total_w_pts'] - atp['total_l_pts'] #target variable\n",
        "atp['bpsaved_diff'] = atp['w_bpsaved_percentage'] - atp['l_bpsaved_percentage']\n",
        "atp['aces_diff'] = atp['w_ace'] - atp['l_ace']\n",
        "atp['df_diff'] = atp['w_df'] - atp['l_df']\n",
        "atp['1stIn_diff'] = atp['w_1stIn_percentage'] - atp['l_1stIn_percentage']\n",
        "atp['1stWon_diff'] = atp['w_1stWon_percentage'] - atp['l_1stWon_percentage']\n",
        "atp['2ndWon_diff'] = atp['w_2ndWon_percentage'] - atp['l_2ndWon_percentage']\n",
        "\n",
        "atp_class['bpsaved_diff'] = atp_class['p1_bpsaved_percentage'] - atp_class['p2_bpsaved_percentage']\n",
        "atp_class['aces_diff'] = atp_class['p1_ace'] - atp_class['p2_ace']\n",
        "atp_class['df_diff'] = atp_class['p1_df'] - atp_class['p2_df']\n",
        "atp_class['1stIn_diff'] = atp_class['p1_1stIn_percentage'] - atp_class['p2_1stIn_percentage']\n",
        "atp_class['1stWon_diff'] = atp_class['p1_1stWon_percentage'] - atp_class['p2_1stWon_percentage']\n",
        "atp_class['2ndWon_diff'] = atp_class['p1_2ndWon_percentage'] - atp_class['p2_2ndWon_percentage']"
      ],
      "execution_count": 0,
      "outputs": []
    },
    {
      "cell_type": "markdown",
      "metadata": {
        "id": "7VcYJwigWvBh",
        "colab_type": "text"
      },
      "source": [
        "Finally, all other NaN values were dropped, and we're left with roughly 45 thousand observations."
      ]
    },
    {
      "cell_type": "code",
      "metadata": {
        "id": "HMDI7RBDWvBi",
        "colab_type": "code",
        "colab": {}
      },
      "source": [
        "atp.dropna(inplace=True)"
      ],
      "execution_count": 0,
      "outputs": []
    },
    {
      "cell_type": "code",
      "metadata": {
        "id": "-SFQTQvpfPZo",
        "colab_type": "code",
        "colab": {}
      },
      "source": [
        "atp_class = atp_class.drop(['round', 'p1_rank_points', 'p2_rank_points', 'p1_ioc', 'p2_ioc', 'p1_entry', \n",
        "                'p2_entry','score'], axis = 1)"
      ],
      "execution_count": 0,
      "outputs": []
    },
    {
      "cell_type": "code",
      "metadata": {
        "id": "uNMFbtUdM-pY",
        "colab_type": "code",
        "colab": {}
      },
      "source": [
        "atp_class.dropna(inplace=True)"
      ],
      "execution_count": 0,
      "outputs": []
    },
    {
      "cell_type": "markdown",
      "metadata": {
        "id": "2g33mPHyWvBj",
        "colab_type": "text"
      },
      "source": [
        "#### Regression Problem"
      ]
    },
    {
      "cell_type": "markdown",
      "metadata": {
        "id": "dtAei7-VWvBk",
        "colab_type": "text"
      },
      "source": [
        "Below are the features which might be used in the subsequent analysis. Those are the variables which can greatly affect the outcome of a tennis match. Apparently, previous matches' stats can be used to determine whether any given player has chances to win based on his past performance. Personal characteristics such as age and height are important as well: younger and taller players might have an advantage, though there are some exceptions (i.e. Federer). Surface varible is extremely informative since players generally can't show the same quality of play on all surfaces. Those who hold wild cards or got into the main draw as lucky losers also have lower chances of winning against higher-ranked competitors."
      ]
    },
    {
      "cell_type": "code",
      "metadata": {
        "id": "F8y7xV6_WvBk",
        "colab_type": "code",
        "colab": {}
      },
      "source": [
        "features = ['surface', 'tourney_level', \"winner_hand\", \"loser_hand\", \"minutes\", \"winner_rank\", \"loser_rank\",\n",
        "           'winner_Q', 'winner_WC', 'winner_LL', 'loser_Q', 'loser_WC', 'loser_LL', 'ht_diff', 'winner_sign_country',\n",
        "           'loser_sign_country', 'age_diff', 'bpsaved_diff', 'aces_diff', 'df_diff', '1stIn_diff', '1stWon_diff',\n",
        "           '2ndWon_diff', 'pts_diff']"
      ],
      "execution_count": 0,
      "outputs": []
    },
    {
      "cell_type": "markdown",
      "metadata": {
        "id": "QFh14UVKWvBl",
        "colab_type": "text"
      },
      "source": [
        "My dependent (target) variable is difference in final score between the first and the second player (i.e. winner and loser). Independent variables are listed above. Since the target variable is continuous, we need to apply regression methods. As a first step, I will perform multiple linear regression using all the variables. In general, you do not need to center or standardize your data for multiple regression, so I will not scale my data before performing this method."
      ]
    },
    {
      "cell_type": "code",
      "metadata": {
        "id": "YFyPVaThWvBm",
        "colab_type": "code",
        "colab": {}
      },
      "source": [
        "X = atp[features].drop(['pts_diff'], axis = 1)\n",
        "y = atp['pts_diff']"
      ],
      "execution_count": 0,
      "outputs": []
    },
    {
      "cell_type": "code",
      "metadata": {
        "id": "yWwkVlTLWvBn",
        "colab_type": "code",
        "colab": {}
      },
      "source": [
        "X_train, X_test, y_train, y_test = train_test_split(X, y, test_size=0.3)"
      ],
      "execution_count": 0,
      "outputs": []
    },
    {
      "cell_type": "code",
      "metadata": {
        "id": "u90udr8VWvBo",
        "colab_type": "code",
        "outputId": "c72e1b56-4f28-43c3-8895-5c5bb7f87946",
        "colab": {
          "base_uri": "https://localhost:8080/",
          "height": 51
        }
      },
      "source": [
        "LinReg = LinearRegression()\n",
        "LinReg.fit(X_train, y_train)\n",
        "print(\"The coefficient of determination R^2 for train data is\", round(LinReg.score(X_train, y_train), 4))\n",
        "print(\"The coefficient of determination R^2 for test data is\", round(LinReg.score(X_test, y_test), 4))"
      ],
      "execution_count": 0,
      "outputs": [
        {
          "output_type": "stream",
          "text": [
            "The coefficient of determination R^2 for train data is 0.7016\n",
            "The coefficient of determination R^2 for test data is 0.7031\n"
          ],
          "name": "stdout"
        }
      ]
    },
    {
      "cell_type": "markdown",
      "metadata": {
        "id": "QmTS1om2WvBr",
        "colab_type": "text"
      },
      "source": [
        "First of all, we can notice that the model is not overfitted since $R^2$ for test data does not differ from the coefficient of $R^2$ for train data. In general, all chosen explanatory variables give us the score of 70%, which is not bad for the simplest regression method."
      ]
    },
    {
      "cell_type": "markdown",
      "metadata": {
        "id": "_3rdK43uWvBs",
        "colab_type": "text"
      },
      "source": [
        "Of course, the number of features is too big right now (23). It is highly likely that many of them are not as important and we can probably reduce the number of variables. To do so, I perform the feature selection method which evaluates feature importances and selects the most relevant features:"
      ]
    },
    {
      "cell_type": "code",
      "metadata": {
        "id": "_17wBypTWvBs",
        "colab_type": "code",
        "outputId": "ead07d34-9c6a-469f-b965-8116c45e4c4e",
        "colab": {
          "base_uri": "https://localhost:8080/",
          "height": 359
        }
      },
      "source": [
        "feature_rank = feature_selection.mutual_info_classif(X, y)\n",
        "feature_rank_df = pd.DataFrame(list(zip(features, feature_rank)), columns=['Feature', 'Score'])\n",
        "feature_rank_df.sort_values(by='Score', ascending = False).head(10)"
      ],
      "execution_count": 0,
      "outputs": [
        {
          "output_type": "execute_result",
          "data": {
            "text/html": [
              "<div>\n",
              "<style scoped>\n",
              "    .dataframe tbody tr th:only-of-type {\n",
              "        vertical-align: middle;\n",
              "    }\n",
              "\n",
              "    .dataframe tbody tr th {\n",
              "        vertical-align: top;\n",
              "    }\n",
              "\n",
              "    .dataframe thead th {\n",
              "        text-align: right;\n",
              "    }\n",
              "</style>\n",
              "<table border=\"1\" class=\"dataframe\">\n",
              "  <thead>\n",
              "    <tr style=\"text-align: right;\">\n",
              "      <th></th>\n",
              "      <th>Feature</th>\n",
              "      <th>Score</th>\n",
              "    </tr>\n",
              "  </thead>\n",
              "  <tbody>\n",
              "    <tr>\n",
              "      <th>17</th>\n",
              "      <td>bpsaved_diff</td>\n",
              "      <td>0.287546</td>\n",
              "    </tr>\n",
              "    <tr>\n",
              "      <th>4</th>\n",
              "      <td>minutes</td>\n",
              "      <td>0.246105</td>\n",
              "    </tr>\n",
              "    <tr>\n",
              "      <th>21</th>\n",
              "      <td>1stWon_diff</td>\n",
              "      <td>0.144900</td>\n",
              "    </tr>\n",
              "    <tr>\n",
              "      <th>1</th>\n",
              "      <td>tourney_level</td>\n",
              "      <td>0.059325</td>\n",
              "    </tr>\n",
              "    <tr>\n",
              "      <th>22</th>\n",
              "      <td>2ndWon_diff</td>\n",
              "      <td>0.047616</td>\n",
              "    </tr>\n",
              "    <tr>\n",
              "      <th>18</th>\n",
              "      <td>aces_diff</td>\n",
              "      <td>0.031483</td>\n",
              "    </tr>\n",
              "    <tr>\n",
              "      <th>5</th>\n",
              "      <td>winner_rank</td>\n",
              "      <td>0.018387</td>\n",
              "    </tr>\n",
              "    <tr>\n",
              "      <th>19</th>\n",
              "      <td>df_diff</td>\n",
              "      <td>0.017936</td>\n",
              "    </tr>\n",
              "    <tr>\n",
              "      <th>6</th>\n",
              "      <td>loser_rank</td>\n",
              "      <td>0.011447</td>\n",
              "    </tr>\n",
              "    <tr>\n",
              "      <th>0</th>\n",
              "      <td>surface</td>\n",
              "      <td>0.008655</td>\n",
              "    </tr>\n",
              "  </tbody>\n",
              "</table>\n",
              "</div>"
            ],
            "text/plain": [
              "          Feature     Score\n",
              "17   bpsaved_diff  0.287546\n",
              "4         minutes  0.246105\n",
              "21    1stWon_diff  0.144900\n",
              "1   tourney_level  0.059325\n",
              "22    2ndWon_diff  0.047616\n",
              "18      aces_diff  0.031483\n",
              "5     winner_rank  0.018387\n",
              "19        df_diff  0.017936\n",
              "6      loser_rank  0.011447\n",
              "0         surface  0.008655"
            ]
          },
          "metadata": {
            "tags": []
          },
          "execution_count": 32
        }
      ]
    },
    {
      "cell_type": "markdown",
      "metadata": {
        "id": "kgpqkMkAWvBu",
        "colab_type": "text"
      },
      "source": [
        "We can see that the majority of features can be eliminated since they are not as relevant. Fisrt, I put the threshold of 0.05 and performed multiple linear regression again, but $R^2$ dropped significantly. That's why I decided to stick to the threshold of 0.01:"
      ]
    },
    {
      "cell_type": "code",
      "metadata": {
        "id": "vjuPRHriWvBu",
        "colab_type": "code",
        "colab": {}
      },
      "source": [
        "selected = [x for x in feature_rank_df[feature_rank_df['Score'] >= 0.01]['Feature']]"
      ],
      "execution_count": 0,
      "outputs": []
    },
    {
      "cell_type": "code",
      "metadata": {
        "id": "QcSYmtrIWvBv",
        "colab_type": "code",
        "colab": {}
      },
      "source": [
        "X_train, X_test, y_train, y_test = train_test_split(X[selected], y, test_size=0.3)"
      ],
      "execution_count": 0,
      "outputs": []
    },
    {
      "cell_type": "code",
      "metadata": {
        "id": "-_MGA851WvBw",
        "colab_type": "code",
        "outputId": "3261a9cd-1322-4ec7-a842-6ce2b5c0ae86",
        "colab": {
          "base_uri": "https://localhost:8080/",
          "height": 51
        }
      },
      "source": [
        "LinReg2 = LinearRegression()\n",
        "LinReg2.fit(X_train, y_train)\n",
        "print(\"The coefficient of determination R^2 for train data is\", round(LinReg2.score(X_train, y_train), 4))\n",
        "print(\"The coefficient of determination R^2 for test data is\", round(LinReg2.score(X_test, y_test), 4))"
      ],
      "execution_count": 0,
      "outputs": [
        {
          "output_type": "stream",
          "text": [
            "The coefficient of determination R^2 for train data is 0.6984\n",
            "The coefficient of determination R^2 for test data is 0.7065\n"
          ],
          "name": "stdout"
        }
      ]
    },
    {
      "cell_type": "markdown",
      "metadata": {
        "id": "9gEuWsorWvBy",
        "colab_type": "text"
      },
      "source": [
        "Now we can see that even though we used only 8 out of 23 initial features, $R^2$ for test data is even just a tiny bit higher. Thus, I will continue to use these selected features."
      ]
    },
    {
      "cell_type": "markdown",
      "metadata": {
        "id": "AoFIQH-DWvBy",
        "colab_type": "text"
      },
      "source": [
        "Although there is no overfitting according to $R^2$, it would also be helpful to check whether there is collinearity, which would make estimators inconsistent. To check that, I'll take a look at the correlation between selected dependent variables:"
      ]
    },
    {
      "cell_type": "code",
      "metadata": {
        "scrolled": false,
        "id": "2Me5F4qUWvB0",
        "colab_type": "code",
        "outputId": "e3f0d21c-da6d-40c3-c1cf-850b614658ce",
        "colab": {
          "base_uri": "https://localhost:8080/",
          "height": 429
        }
      },
      "source": [
        "fig = plt.figure(figsize=(7, 7));\n",
        "sns.heatmap(X[selected].corr(), annot = True, cmap='coolwarm');\n",
        "fig.autofmt_xdate()\n",
        "plt.show()"
      ],
      "execution_count": 0,
      "outputs": [
        {
          "output_type": "display_data",
          "data": {
            "image/png": "[encoded data removed]",
            "text/plain": [
              "<Figure size 504x504 with 2 Axes>"
            ]
          },
          "metadata": {
            "tags": []
          }
        }
      ]
    },
    {
      "cell_type": "markdown",
      "metadata": {
        "id": "DMHXf95_WvB1",
        "colab_type": "text"
      },
      "source": [
        "The highest coefficient of correlation (in absolute value) is between the tourney level and the length of the matches. However, it does not even exceed -0.5 which means that there should not be multicollinearity. Therefore, there is no need in performing either Ridge or Lasso Regression."
      ]
    },
    {
      "cell_type": "markdown",
      "metadata": {
        "id": "LCZCLRU4WvB2",
        "colab_type": "text"
      },
      "source": [
        "While linear regression is one of the most common methods, it is not as flexible because it can't follow non-linear dependencies. If we use more complex methods, there is a high chance we'll be able to identify trends and patterns better."
      ]
    },
    {
      "cell_type": "markdown",
      "metadata": {
        "id": "-7PaRk1GWvB2",
        "colab_type": "text"
      },
      "source": [
        "To begin with, SVM method will be performed. Although it is usually used for classification problems, SVM can also be used as a regression method; it is called the Support Vector Regression, and it uses the same principles as the SVM for classification. Since it is a kernel method, it is based on distance. Therefore, we need to scale the data first."
      ]
    },
    {
      "cell_type": "code",
      "metadata": {
        "id": "H1imR_MAWvB3",
        "colab_type": "code",
        "colab": {}
      },
      "source": [
        "from sklearn.preprocessing import StandardScaler\n",
        "scaler = StandardScaler()\n",
        "expdf = pd.concat([X[selected], y], axis = 1)\n",
        "scaler.fit(expdf)\n",
        "df_scaled = scaler.transform(expdf)"
      ],
      "execution_count": 0,
      "outputs": []
    },
    {
      "cell_type": "code",
      "metadata": {
        "id": "WTjuTjBJfvQ5",
        "colab_type": "code",
        "colab": {}
      },
      "source": [
        "X_scaled = df_scaled[:, :-1]\n",
        "y_scaled = df_scaled[:, -1]"
      ],
      "execution_count": 0,
      "outputs": []
    },
    {
      "cell_type": "code",
      "metadata": {
        "id": "ARPZIs_IWvB5",
        "colab_type": "code",
        "colab": {}
      },
      "source": [
        "Xsc_train, Xsc_test, ysc_train, ysc_test = train_test_split(X_scaled, y_scaled, test_size=0.3)"
      ],
      "execution_count": 0,
      "outputs": []
    },
    {
      "cell_type": "code",
      "metadata": {
        "id": "S26lRgEuWvB7",
        "colab_type": "code",
        "outputId": "11927e03-7d9e-4507-f2eb-b77a4adf3ce6",
        "colab": {
          "base_uri": "https://localhost:8080/",
          "height": 68
        }
      },
      "source": [
        "from sklearn.svm import SVR\n",
        "svr = SVR(kernel='rbf')\n",
        "svr.fit(Xsc_train, ysc_train)"
      ],
      "execution_count": 0,
      "outputs": [
        {
          "output_type": "execute_result",
          "data": {
            "text/plain": [
              "SVR(C=1.0, cache_size=200, coef0=0.0, degree=3, epsilon=0.1,\n",
              "    gamma='auto_deprecated', kernel='rbf', max_iter=-1, shrinking=True,\n",
              "    tol=0.001, verbose=False)"
            ]
          },
          "metadata": {
            "tags": []
          },
          "execution_count": 61
        }
      ]
    },
    {
      "cell_type": "code",
      "metadata": {
        "id": "5T_GztZjhXWq",
        "colab_type": "code",
        "outputId": "c7ec862b-80e8-4164-a458-8a1129faf1ec",
        "colab": {
          "base_uri": "https://localhost:8080/",
          "height": 51
        }
      },
      "source": [
        "print(\"The coefficient of determination R^2 for train data is\", round(svr.score(Xsc_train, ysc_train), 4))\n",
        "print(\"The coefficient of determination R^2 for test data is\", round(svr.score(Xsc_test, ysc_test), 4))"
      ],
      "execution_count": 0,
      "outputs": [
        {
          "output_type": "stream",
          "text": [
            "The coefficient of determination R^2 for train data is 0.7894\n",
            "The coefficient of determination R^2 for test data is 0.7706\n"
          ],
          "name": "stdout"
        }
      ]
    },
    {
      "cell_type": "markdown",
      "metadata": {
        "id": "RqcJ5WM3WvCA",
        "colab_type": "text"
      },
      "source": [
        "Now we can see a substantial increase in the $R^2$ coefficient compared to multiple linear regression - more than 8% for train data and about 7% for test data. This might be explained by the fact that this method used RBF kernel which can track non-linear trends (unlike linear regression). Also, there is no overfitting or underfitting since both coefficients are almost similar. "
      ]
    },
    {
      "cell_type": "markdown",
      "metadata": {
        "id": "HlMR0EKvWvCA",
        "colab_type": "text"
      },
      "source": [
        "The next widespread but very powerful method is Random Forest. RF is a tree-based model and hence does not require feature scaling. It is quite hard to determine the best parameters for this method; that's why I will use GridSearchCV which search over specified parameters to find the best one."
      ]
    },
    {
      "cell_type": "code",
      "metadata": {
        "id": "e2FS25_mWvCB",
        "colab_type": "code",
        "colab": {}
      },
      "source": [
        "parameters = {'max_depth': list(range(1, 15)), 'min_samples_leaf': list(range(1,10))}"
      ],
      "execution_count": 0,
      "outputs": []
    },
    {
      "cell_type": "code",
      "metadata": {
        "id": "D4tVxiuEWvCC",
        "colab_type": "code",
        "colab": {}
      },
      "source": [
        "rf = RandomForestRegressor()\n",
        "gcv = GridSearchCV(rf, parameters, n_jobs = -1, cv = 5)"
      ],
      "execution_count": 0,
      "outputs": []
    },
    {
      "cell_type": "code",
      "metadata": {
        "id": "wbnLj0z_WvCE",
        "colab_type": "code",
        "outputId": "f74a4b81-b772-49a8-8b40-b406ad658fc9",
        "colab": {
          "base_uri": "https://localhost:8080/",
          "height": 340
        }
      },
      "source": [
        "gcv.fit(X_train, y_train)"
      ],
      "execution_count": 0,
      "outputs": [
        {
          "output_type": "execute_result",
          "data": {
            "text/plain": [
              "GridSearchCV(cv=5, error_score='raise-deprecating',\n",
              "             estimator=RandomForestRegressor(bootstrap=True, criterion='mse',\n",
              "                                             max_depth=None,\n",
              "                                             max_features='auto',\n",
              "                                             max_leaf_nodes=None,\n",
              "                                             min_impurity_decrease=0.0,\n",
              "                                             min_impurity_split=None,\n",
              "                                             min_samples_leaf=1,\n",
              "                                             min_samples_split=2,\n",
              "                                             min_weight_fraction_leaf=0.0,\n",
              "                                             n_estimators=100, n_jobs=None,\n",
              "                                             oob_score=False, random_state=17,\n",
              "                                             verbose=0, warm_start=False),\n",
              "             iid='warn', n_jobs=-1,\n",
              "             param_grid={'max_depth': [1, 2, 3, 4, 5, 6, 7, 8, 9, 10, 11, 12,\n",
              "                                       13, 14],\n",
              "                         'min_samples_leaf': [1, 2, 3, 4, 5, 6, 7, 8, 9]},\n",
              "             pre_dispatch='2*n_jobs', refit=True, return_train_score=False,\n",
              "             scoring=None, verbose=0)"
            ]
          },
          "metadata": {
            "tags": []
          },
          "execution_count": 66
        }
      ]
    },
    {
      "cell_type": "markdown",
      "metadata": {
        "id": "XxRgZyhN5Ej0",
        "colab_type": "text"
      },
      "source": [
        "As GridSearch determined, the best score can be reached by using max_depth = 11 and min_samples_leaf = 1:"
      ]
    },
    {
      "cell_type": "code",
      "metadata": {
        "scrolled": true,
        "id": "yrS-vt_DWvCF",
        "colab_type": "code",
        "outputId": "a8f12282-9f50-4e19-c717-0449855e4b82",
        "colab": {
          "base_uri": "https://localhost:8080/",
          "height": 34
        }
      },
      "source": [
        "gcv.best_params_"
      ],
      "execution_count": 0,
      "outputs": [
        {
          "output_type": "execute_result",
          "data": {
            "text/plain": [
              "{'max_depth': 11, 'min_samples_leaf': 1}"
            ]
          },
          "metadata": {
            "tags": []
          },
          "execution_count": 67
        }
      ]
    },
    {
      "cell_type": "code",
      "metadata": {
        "id": "ppMK_So1X1il",
        "colab_type": "code",
        "outputId": "68c33f27-42b7-428e-950d-278f84677e68",
        "colab": {
          "base_uri": "https://localhost:8080/",
          "height": 51
        }
      },
      "source": [
        "rfm = RandomForestRegressor(max_depth = 11, min_samples_leaf = 1)\n",
        "rfm.fit(X_train, y_train)\n",
        "print('The coefficient of determination R^2 for train data is', round(rfm.score(X_train, y_train), 4))\n",
        "print('The coefficient of determination R^2 for test data is', round(rfm.score(X_test, y_test), 4))"
      ],
      "execution_count": 0,
      "outputs": [
        {
          "output_type": "stream",
          "text": [
            "The coefficient of determination R^2 for train data is 0.841\n",
            "The coefficient of determination R^2 for test data is 0.761\n"
          ],
          "name": "stdout"
        }
      ]
    },
    {
      "cell_type": "markdown",
      "metadata": {
        "id": "3eExDL-W5Y6p",
        "colab_type": "text"
      },
      "source": [
        "Although $R^2$ is higher than in linear regression case, RF regressor does not perform as good as SVR with rbf kernel. Also, we can observe some overfitting since the measure for train data is 8% larger than for test data."
      ]
    },
    {
      "cell_type": "markdown",
      "metadata": {
        "id": "uHawQHxB6fDK",
        "colab_type": "text"
      },
      "source": [
        "It would also be worth trying another method which is called Gradient Boosting. GB and RF are quite similar to each other in many ways; however, they differ in the way the trees are built, and GB might often perform better."
      ]
    },
    {
      "cell_type": "markdown",
      "metadata": {
        "id": "1LjWk6Yi615w",
        "colab_type": "text"
      },
      "source": [
        "After parameters tuning, I obtained the following result:"
      ]
    },
    {
      "cell_type": "code",
      "metadata": {
        "id": "_n_QdKmQWvCK",
        "colab_type": "code",
        "colab": {}
      },
      "source": [
        "from sklearn.ensemble import GradientBoostingRegressor "
      ],
      "execution_count": 0,
      "outputs": []
    },
    {
      "cell_type": "code",
      "metadata": {
        "id": "UxPKGNvxWvCL",
        "colab_type": "code",
        "outputId": "26d59d99-1ba0-40d2-e72e-662ddcc42cc2",
        "colab": {
          "base_uri": "https://localhost:8080/",
          "height": 51
        }
      },
      "source": [
        "gbrt=GradientBoostingRegressor(n_estimators = 100, max_depth = 7, min_samples_leaf = 2, max_features= 5) \n",
        "gbrt.fit(X_train, y_train)\n",
        "print('The coefficient of determination R^2 for train data is', round(gbrt.score(X_train, y_train), 4)) #836 & 775\n",
        "print('The coefficient of determination R^2 for test data is', round(gbrt.score(X_test, y_test), 4))"
      ],
      "execution_count": 0,
      "outputs": [
        {
          "output_type": "stream",
          "text": [
            "The coefficient of determination R^2 for train data is 0.831\n",
            "The coefficient of determination R^2 for test data is 0.779\n"
          ],
          "name": "stdout"
        }
      ]
    },
    {
      "cell_type": "markdown",
      "metadata": {
        "id": "88tdFetO7DDy",
        "colab_type": "text"
      },
      "source": [
        "What we can see is that this model slightly outperforms SVR and therefore is better than all other models. However, the difference in $R^2$ is quite negligible.\n",
        "\n",
        "There is also one more method which has been developed recently. It takes into account categorical variables and therefore might explain trends better. Since feature selection method indicated that tourney_level variable (which is categorical) is important, we can try this type of Regressor:"
      ]
    },
    {
      "cell_type": "code",
      "metadata": {
        "id": "8kCQNv0oWvCM",
        "colab_type": "code",
        "colab": {}
      },
      "source": [
        "from catboost import CatBoostRegressor\n",
        "from catboost import Pool"
      ],
      "execution_count": 0,
      "outputs": []
    },
    {
      "cell_type": "code",
      "metadata": {
        "id": "B5jM-MvVxBuN",
        "colab_type": "code",
        "colab": {}
      },
      "source": [
        "categorical_features_indices = np.array([0])"
      ],
      "execution_count": 0,
      "outputs": []
    },
    {
      "cell_type": "code",
      "metadata": {
        "id": "1CWr0OmiWvCN",
        "colab_type": "code",
        "colab": {}
      },
      "source": [
        "cbr = CatBoostRegressor(iterations = 97,\n",
        "                          depth = 7 ,\n",
        "                          use_best_model = True, learning_rate = 0.25)"
      ],
      "execution_count": 0,
      "outputs": []
    },
    {
      "cell_type": "code",
      "metadata": {
        "id": "mQFNBqEoWvCN",
        "colab_type": "code",
        "outputId": "ae5c679c-d4e4-4bed-f23c-6765e3b19d5c",
        "colab": {
          "base_uri": "https://localhost:8080/",
          "height": 1000
        }
      },
      "source": [
        "cbr.fit(X_train, y_train,\n",
        "          cat_features = categorical_features_indices, eval_set=(X_test, y_test))"
      ],
      "execution_count": 0,
      "outputs": [
        {
          "output_type": "stream",
          "text": [
            "0:\tlearn: 2.4407334\ttest: 2.4706671\tbest: 2.4706671 (0)\ttotal: 18.8ms\tremaining: 1.8s\n",
            "1:\tlearn: 2.2198887\ttest: 2.2401058\tbest: 2.2401058 (1)\ttotal: 32.9ms\tremaining: 1.56s\n",
            "2:\tlearn: 2.0504829\ttest: 2.0629966\tbest: 2.0629966 (2)\ttotal: 47ms\tremaining: 1.47s\n",
            "3:\tlearn: 1.8562715\ttest: 1.8628891\tbest: 1.8628891 (3)\ttotal: 61ms\tremaining: 1.42s\n",
            "4:\tlearn: 1.7266487\ttest: 1.7271567\tbest: 1.7271567 (4)\ttotal: 74.7ms\tremaining: 1.37s\n",
            "5:\tlearn: 1.6421248\ttest: 1.6401755\tbest: 1.6401755 (5)\ttotal: 88.3ms\tremaining: 1.34s\n",
            "6:\tlearn: 1.5761987\ttest: 1.5734226\tbest: 1.5734226 (6)\ttotal: 102ms\tremaining: 1.3s\n",
            "7:\tlearn: 1.5294367\ttest: 1.5259768\tbest: 1.5259768 (7)\ttotal: 116ms\tremaining: 1.29s\n",
            "8:\tlearn: 1.4904405\ttest: 1.4880089\tbest: 1.4880089 (8)\ttotal: 129ms\tremaining: 1.26s\n",
            "9:\tlearn: 1.4603958\ttest: 1.4570239\tbest: 1.4570239 (9)\ttotal: 142ms\tremaining: 1.23s\n",
            "10:\tlearn: 1.4382905\ttest: 1.4333891\tbest: 1.4333891 (10)\ttotal: 157ms\tremaining: 1.23s\n",
            "11:\tlearn: 1.4217308\ttest: 1.4175301\tbest: 1.4175301 (11)\ttotal: 170ms\tremaining: 1.2s\n",
            "12:\tlearn: 1.4074524\ttest: 1.4027416\tbest: 1.4027416 (12)\ttotal: 183ms\tremaining: 1.18s\n",
            "13:\tlearn: 1.3955940\ttest: 1.3909297\tbest: 1.3909297 (13)\ttotal: 197ms\tremaining: 1.17s\n",
            "14:\tlearn: 1.3880477\ttest: 1.3835231\tbest: 1.3835231 (14)\ttotal: 210ms\tremaining: 1.15s\n",
            "15:\tlearn: 1.3818545\ttest: 1.3772871\tbest: 1.3772871 (15)\ttotal: 226ms\tremaining: 1.14s\n",
            "16:\tlearn: 1.3771480\ttest: 1.3732272\tbest: 1.3732272 (16)\ttotal: 239ms\tremaining: 1.12s\n",
            "17:\tlearn: 1.3674706\ttest: 1.3648586\tbest: 1.3648586 (17)\ttotal: 253ms\tremaining: 1.11s\n",
            "18:\tlearn: 1.3633880\ttest: 1.3615308\tbest: 1.3615308 (18)\ttotal: 268ms\tremaining: 1.1s\n",
            "19:\tlearn: 1.3578648\ttest: 1.3564879\tbest: 1.3564879 (19)\ttotal: 283ms\tremaining: 1.09s\n",
            "20:\tlearn: 1.3533355\ttest: 1.3525760\tbest: 1.3525760 (20)\ttotal: 297ms\tremaining: 1.07s\n",
            "21:\tlearn: 1.3502160\ttest: 1.3505618\tbest: 1.3505618 (21)\ttotal: 313ms\tremaining: 1.07s\n",
            "22:\tlearn: 1.3450477\ttest: 1.3460753\tbest: 1.3460753 (22)\ttotal: 326ms\tremaining: 1.05s\n",
            "23:\tlearn: 1.3423258\ttest: 1.3434735\tbest: 1.3434735 (23)\ttotal: 339ms\tremaining: 1.03s\n",
            "24:\tlearn: 1.3392248\ttest: 1.3419799\tbest: 1.3419799 (24)\ttotal: 352ms\tremaining: 1.01s\n",
            "25:\tlearn: 1.3374359\ttest: 1.3408422\tbest: 1.3408422 (25)\ttotal: 366ms\tremaining: 998ms\n",
            "26:\tlearn: 1.3348737\ttest: 1.3397777\tbest: 1.3397777 (26)\ttotal: 380ms\tremaining: 985ms\n",
            "27:\tlearn: 1.3319191\ttest: 1.3375693\tbest: 1.3375693 (27)\ttotal: 393ms\tremaining: 970ms\n",
            "28:\tlearn: 1.3307158\ttest: 1.3366374\tbest: 1.3366374 (28)\ttotal: 406ms\tremaining: 953ms\n",
            "29:\tlearn: 1.3287581\ttest: 1.3356064\tbest: 1.3356064 (29)\ttotal: 419ms\tremaining: 936ms\n",
            "30:\tlearn: 1.3265295\ttest: 1.3339891\tbest: 1.3339891 (30)\ttotal: 439ms\tremaining: 934ms\n",
            "31:\tlearn: 1.3255728\ttest: 1.3330561\tbest: 1.3330561 (31)\ttotal: 453ms\tremaining: 919ms\n",
            "32:\tlearn: 1.3237858\ttest: 1.3318567\tbest: 1.3318567 (32)\ttotal: 466ms\tremaining: 904ms\n",
            "33:\tlearn: 1.3222202\ttest: 1.3305664\tbest: 1.3305664 (33)\ttotal: 479ms\tremaining: 888ms\n",
            "34:\tlearn: 1.3197950\ttest: 1.3291970\tbest: 1.3291970 (34)\ttotal: 493ms\tremaining: 873ms\n",
            "35:\tlearn: 1.3172712\ttest: 1.3276239\tbest: 1.3276239 (35)\ttotal: 506ms\tremaining: 858ms\n",
            "36:\tlearn: 1.3157380\ttest: 1.3273710\tbest: 1.3273710 (36)\ttotal: 520ms\tremaining: 843ms\n",
            "37:\tlearn: 1.3140781\ttest: 1.3266084\tbest: 1.3266084 (37)\ttotal: 534ms\tremaining: 829ms\n",
            "38:\tlearn: 1.3131824\ttest: 1.3261516\tbest: 1.3261516 (38)\ttotal: 547ms\tremaining: 813ms\n",
            "39:\tlearn: 1.3113952\ttest: 1.3247114\tbest: 1.3247114 (39)\ttotal: 561ms\tremaining: 799ms\n",
            "40:\tlearn: 1.3098930\ttest: 1.3239732\tbest: 1.3239732 (40)\ttotal: 573ms\tremaining: 783ms\n",
            "41:\tlearn: 1.3086281\ttest: 1.3230450\tbest: 1.3230450 (41)\ttotal: 587ms\tremaining: 769ms\n",
            "42:\tlearn: 1.3070578\ttest: 1.3229295\tbest: 1.3229295 (42)\ttotal: 600ms\tremaining: 754ms\n",
            "43:\tlearn: 1.3051466\ttest: 1.3225186\tbest: 1.3225186 (43)\ttotal: 614ms\tremaining: 739ms\n",
            "44:\tlearn: 1.3041308\ttest: 1.3216484\tbest: 1.3216484 (44)\ttotal: 626ms\tremaining: 724ms\n",
            "45:\tlearn: 1.3024305\ttest: 1.3207686\tbest: 1.3207686 (45)\ttotal: 647ms\tremaining: 717ms\n",
            "46:\tlearn: 1.3009661\ttest: 1.3197716\tbest: 1.3197716 (46)\ttotal: 659ms\tremaining: 701ms\n",
            "47:\tlearn: 1.2995400\ttest: 1.3185006\tbest: 1.3185006 (47)\ttotal: 673ms\tremaining: 687ms\n",
            "48:\tlearn: 1.2983362\ttest: 1.3178493\tbest: 1.3178493 (48)\ttotal: 687ms\tremaining: 673ms\n",
            "49:\tlearn: 1.2961261\ttest: 1.3174401\tbest: 1.3174401 (49)\ttotal: 700ms\tremaining: 658ms\n",
            "50:\tlearn: 1.2945414\ttest: 1.3171246\tbest: 1.3171246 (50)\ttotal: 712ms\tremaining: 642ms\n",
            "51:\tlearn: 1.2932343\ttest: 1.3163627\tbest: 1.3163627 (51)\ttotal: 725ms\tremaining: 627ms\n",
            "52:\tlearn: 1.2917808\ttest: 1.3161073\tbest: 1.3161073 (52)\ttotal: 738ms\tremaining: 612ms\n",
            "53:\tlearn: 1.2904178\ttest: 1.3155916\tbest: 1.3155916 (53)\ttotal: 751ms\tremaining: 598ms\n",
            "54:\tlearn: 1.2891629\ttest: 1.3152509\tbest: 1.3152509 (54)\ttotal: 764ms\tremaining: 584ms\n",
            "55:\tlearn: 1.2876260\ttest: 1.3141621\tbest: 1.3141621 (55)\ttotal: 778ms\tremaining: 569ms\n",
            "56:\tlearn: 1.2866464\ttest: 1.3137992\tbest: 1.3137992 (56)\ttotal: 791ms\tremaining: 555ms\n",
            "57:\tlearn: 1.2854725\ttest: 1.3137358\tbest: 1.3137358 (57)\ttotal: 805ms\tremaining: 541ms\n",
            "58:\tlearn: 1.2841431\ttest: 1.3133847\tbest: 1.3133847 (58)\ttotal: 817ms\tremaining: 526ms\n",
            "59:\tlearn: 1.2829807\ttest: 1.3133726\tbest: 1.3133726 (59)\ttotal: 829ms\tremaining: 511ms\n",
            "60:\tlearn: 1.2814037\ttest: 1.3128504\tbest: 1.3128504 (60)\ttotal: 844ms\tremaining: 498ms\n",
            "61:\tlearn: 1.2802210\ttest: 1.3124940\tbest: 1.3124940 (61)\ttotal: 861ms\tremaining: 486ms\n",
            "62:\tlearn: 1.2798571\ttest: 1.3125696\tbest: 1.3124940 (61)\ttotal: 874ms\tremaining: 472ms\n",
            "63:\tlearn: 1.2789297\ttest: 1.3123247\tbest: 1.3123247 (63)\ttotal: 887ms\tremaining: 458ms\n",
            "64:\tlearn: 1.2780734\ttest: 1.3121508\tbest: 1.3121508 (64)\ttotal: 900ms\tremaining: 443ms\n",
            "65:\tlearn: 1.2775544\ttest: 1.3118943\tbest: 1.3118943 (65)\ttotal: 913ms\tremaining: 429ms\n",
            "66:\tlearn: 1.2766226\ttest: 1.3117121\tbest: 1.3117121 (66)\ttotal: 926ms\tremaining: 415ms\n",
            "67:\tlearn: 1.2757440\ttest: 1.3115364\tbest: 1.3115364 (67)\ttotal: 939ms\tremaining: 400ms\n",
            "68:\tlearn: 1.2743892\ttest: 1.3108034\tbest: 1.3108034 (68)\ttotal: 952ms\tremaining: 386ms\n",
            "69:\tlearn: 1.2735917\ttest: 1.3104411\tbest: 1.3104411 (69)\ttotal: 975ms\tremaining: 376ms\n",
            "70:\tlearn: 1.2734853\ttest: 1.3103577\tbest: 1.3103577 (70)\ttotal: 987ms\tremaining: 361ms\n",
            "71:\tlearn: 1.2728594\ttest: 1.3103941\tbest: 1.3103577 (70)\ttotal: 1s\tremaining: 347ms\n",
            "72:\tlearn: 1.2724862\ttest: 1.3104179\tbest: 1.3103577 (70)\ttotal: 1.01s\tremaining: 333ms\n",
            "73:\tlearn: 1.2713834\ttest: 1.3100379\tbest: 1.3100379 (73)\ttotal: 1.02s\tremaining: 319ms\n",
            "74:\tlearn: 1.2701468\ttest: 1.3100531\tbest: 1.3100379 (73)\ttotal: 1.04s\tremaining: 305ms\n",
            "75:\tlearn: 1.2691794\ttest: 1.3098145\tbest: 1.3098145 (75)\ttotal: 1.06s\tremaining: 293ms\n",
            "76:\tlearn: 1.2684445\ttest: 1.3095654\tbest: 1.3095654 (76)\ttotal: 1.07s\tremaining: 278ms\n",
            "77:\tlearn: 1.2673519\ttest: 1.3098473\tbest: 1.3095654 (76)\ttotal: 1.08s\tremaining: 264ms\n",
            "78:\tlearn: 1.2662708\ttest: 1.3094976\tbest: 1.3094976 (78)\ttotal: 1.1s\tremaining: 250ms\n",
            "79:\tlearn: 1.2653693\ttest: 1.3093498\tbest: 1.3093498 (79)\ttotal: 1.11s\tremaining: 236ms\n",
            "80:\tlearn: 1.2642157\ttest: 1.3091941\tbest: 1.3091941 (80)\ttotal: 1.12s\tremaining: 222ms\n",
            "81:\tlearn: 1.2633376\ttest: 1.3088323\tbest: 1.3088323 (81)\ttotal: 1.14s\tremaining: 208ms\n",
            "82:\tlearn: 1.2627463\ttest: 1.3088475\tbest: 1.3088323 (81)\ttotal: 1.15s\tremaining: 194ms\n",
            "83:\tlearn: 1.2614279\ttest: 1.3086289\tbest: 1.3086289 (83)\ttotal: 1.16s\tremaining: 180ms\n",
            "84:\tlearn: 1.2605758\ttest: 1.3086976\tbest: 1.3086289 (83)\ttotal: 1.17s\tremaining: 166ms\n",
            "85:\tlearn: 1.2598357\ttest: 1.3087324\tbest: 1.3086289 (83)\ttotal: 1.19s\tremaining: 152ms\n",
            "86:\tlearn: 1.2588366\ttest: 1.3087019\tbest: 1.3086289 (83)\ttotal: 1.2s\tremaining: 138ms\n",
            "87:\tlearn: 1.2577890\ttest: 1.3083417\tbest: 1.3083417 (87)\ttotal: 1.21s\tremaining: 124ms\n",
            "88:\tlearn: 1.2570013\ttest: 1.3084686\tbest: 1.3083417 (87)\ttotal: 1.23s\tremaining: 110ms\n",
            "89:\tlearn: 1.2563201\ttest: 1.3085791\tbest: 1.3083417 (87)\ttotal: 1.25s\tremaining: 97.2ms\n",
            "90:\tlearn: 1.2552240\ttest: 1.3082868\tbest: 1.3082868 (90)\ttotal: 1.26s\tremaining: 83.3ms\n",
            "91:\tlearn: 1.2542861\ttest: 1.3078470\tbest: 1.3078470 (91)\ttotal: 1.28s\tremaining: 69.4ms\n",
            "92:\tlearn: 1.2535955\ttest: 1.3078818\tbest: 1.3078470 (91)\ttotal: 1.29s\tremaining: 55.5ms\n",
            "93:\tlearn: 1.2528160\ttest: 1.3076885\tbest: 1.3076885 (93)\ttotal: 1.3s\tremaining: 41.6ms\n",
            "94:\tlearn: 1.2523630\ttest: 1.3075051\tbest: 1.3075051 (94)\ttotal: 1.31s\tremaining: 27.7ms\n",
            "95:\tlearn: 1.2512815\ttest: 1.3074485\tbest: 1.3074485 (95)\ttotal: 1.33s\tremaining: 13.8ms\n",
            "96:\tlearn: 1.2504095\ttest: 1.3073302\tbest: 1.3073302 (96)\ttotal: 1.34s\tremaining: 0us\n",
            "\n",
            "bestTest = 1.30733016\n",
            "bestIteration = 96\n",
            "\n"
          ],
          "name": "stdout"
        },
        {
          "output_type": "execute_result",
          "data": {
            "text/plain": [
              "<catboost.core.CatBoostRegressor at 0x7f093c2758d0>"
            ]
          },
          "metadata": {
            "tags": []
          },
          "execution_count": 257
        }
      ]
    },
    {
      "cell_type": "code",
      "metadata": {
        "id": "K3891X7foYgE",
        "colab_type": "code",
        "outputId": "49dc6f4c-b56e-4bef-cd10-d551247962aa",
        "colab": {
          "base_uri": "https://localhost:8080/",
          "height": 51
        }
      },
      "source": [
        "print(cbr.score(X_train, y_train))\n",
        "print(cbr.score(X_test, y_test))"
      ],
      "execution_count": 0,
      "outputs": [
        {
          "output_type": "stream",
          "text": [
            "0.7938895335461807\n",
            "0.7816034214381226\n"
          ],
          "name": "stdout"
        }
      ]
    },
    {
      "cell_type": "markdown",
      "metadata": {
        "id": "GUDzlrij8MG0",
        "colab_type": "text"
      },
      "source": [
        "Having performed 100 itirations, the algorithm detected that the highest $R^2$ could be achieved at the 97th itiration. Now it is above 78%, which is the highest value out of all previous methods.\n",
        "\n",
        "Finally, I check the performance of ANN. I chose MSE as a loss function as it is the default loss to use for regression problems. In the hidden layers, the activation function is ReLu - it is considered to be one of the best functions for neural nets. In the output layer with one node, I use linear activation function because the target variable is continuous:  "
      ]
    },
    {
      "cell_type": "code",
      "metadata": {
        "id": "jg2YqSO_WvCO",
        "colab_type": "code",
        "outputId": "94be8314-7fa0-40c3-f9e0-e610eaa7eb07",
        "colab": {
          "base_uri": "https://localhost:8080/",
          "height": 80
        }
      },
      "source": [
        "from keras.models import Sequential\n",
        "from keras.layers import Dense, Activation\n",
        "from keras.optimizers import Adam, SGD\n",
        "from keras.callbacks import EarlyStopping\n",
        "from keras.layers.core import Dropout"
      ],
      "execution_count": 0,
      "outputs": [
        {
          "output_type": "stream",
          "text": [
            "Using TensorFlow backend.\n"
          ],
          "name": "stderr"
        },
        {
          "output_type": "display_data",
          "data": {
            "text/html": [
              "<p style=\"color: red;\">\n",
              "The default version of TensorFlow in Colab will soon switch to TensorFlow 2.x.<br>\n",
              "We recommend you <a href=\"https://www.tensorflow.org/guide/migrate\" target=\"_blank\">upgrade</a> now \n",
              "or ensure your notebook will continue to use TensorFlow 1.x via the <code>%tensorflow_version 1.x</code> magic:\n",
              "<a href=\"https://colab.research.google.com/notebooks/tensorflow_version.ipynb\" target=\"_blank\">more info</a>.</p>\n"
            ],
            "text/plain": [
              "<IPython.core.display.HTML object>"
            ]
          },
          "metadata": {
            "tags": []
          }
        }
      ]
    },
    {
      "cell_type": "code",
      "metadata": {
        "id": "lX2ZmnJ-x_Em",
        "colab_type": "code",
        "colab": {}
      },
      "source": [
        "epoc = 50 #@param {type:\"slider\", min:0, max:100, step:1}"
      ],
      "execution_count": 0,
      "outputs": []
    },
    {
      "cell_type": "code",
      "metadata": {
        "id": "Qdjt-IBhWvCP",
        "colab_type": "code",
        "outputId": "8b402d7a-dabb-4c7e-dee8-d265194296aa",
        "colab": {
          "base_uri": "https://localhost:8080/",
          "height": 1000
        }
      },
      "source": [
        "model = Sequential()\n",
        "model.add(Dense(32, input_shape=(X_train.shape[1],), activation='relu', kernel_initializer='normal'))\n",
        "model.add(Dense(28,activation='relu'))\n",
        "model.add(Dense(1, activation='linear'))\n",
        "model.compile(optimizer = 'Adam', loss = 'mean_squared_error', metrics = ['mse'])\n",
        "model.fit(X_train, y_train, epochs=epoc, callbacks = [EarlyStopping(monitor='mse', patience=2)])"
      ],
      "execution_count": 0,
      "outputs": [
        {
          "output_type": "stream",
          "text": [
            "Epoch 1/50\n",
            "31550/31550 [==============================] - 3s 84us/step - loss: 6.1464 - mean_squared_error: 6.1464\n",
            "Epoch 2/50\n",
            "31550/31550 [==============================] - 1s 41us/step - loss: 2.5123 - mean_squared_error: 2.5123\n",
            "Epoch 3/50\n",
            "31550/31550 [==============================] - 1s 43us/step - loss: 2.3786 - mean_squared_error: 2.3786\n",
            "Epoch 4/50\n",
            "31550/31550 [==============================] - 1s 44us/step - loss: 2.2819 - mean_squared_error: 2.2819\n",
            "Epoch 5/50\n",
            "31550/31550 [==============================] - 1s 41us/step - loss: 2.1612 - mean_squared_error: 2.1612\n",
            "Epoch 6/50\n",
            "31550/31550 [==============================] - 1s 44us/step - loss: 2.0832 - mean_squared_error: 2.0832\n",
            "Epoch 7/50\n",
            "31550/31550 [==============================] - 1s 43us/step - loss: 2.0131 - mean_squared_error: 2.0131\n",
            "Epoch 8/50\n",
            "31550/31550 [==============================] - 1s 44us/step - loss: 1.9750 - mean_squared_error: 1.9750\n",
            "Epoch 9/50\n",
            "31550/31550 [==============================] - 1s 43us/step - loss: 1.9372 - mean_squared_error: 1.9372\n",
            "Epoch 10/50\n",
            "31550/31550 [==============================] - 1s 42us/step - loss: 1.9321 - mean_squared_error: 1.9321\n",
            "Epoch 11/50\n",
            "31550/31550 [==============================] - 1s 41us/step - loss: 1.9184 - mean_squared_error: 1.9184\n",
            "Epoch 12/50\n",
            "31550/31550 [==============================] - 1s 42us/step - loss: 1.8943 - mean_squared_error: 1.8943\n",
            "Epoch 13/50\n",
            "31550/31550 [==============================] - 1s 41us/step - loss: 1.9056 - mean_squared_error: 1.9056\n",
            "Epoch 14/50\n",
            "31550/31550 [==============================] - 1s 44us/step - loss: 1.8799 - mean_squared_error: 1.8799\n",
            "Epoch 15/50\n",
            "31550/31550 [==============================] - 1s 43us/step - loss: 1.8855 - mean_squared_error: 1.8855\n",
            "Epoch 16/50\n",
            "31550/31550 [==============================] - 1s 43us/step - loss: 1.8713 - mean_squared_error: 1.8713\n",
            "Epoch 17/50\n",
            "31550/31550 [==============================] - 1s 41us/step - loss: 1.8646 - mean_squared_error: 1.8646\n",
            "Epoch 18/50\n",
            "31550/31550 [==============================] - 1s 41us/step - loss: 1.8643 - mean_squared_error: 1.8643\n",
            "Epoch 19/50\n",
            "31550/31550 [==============================] - 1s 41us/step - loss: 1.8571 - mean_squared_error: 1.8571\n",
            "Epoch 20/50\n",
            "31550/31550 [==============================] - 1s 43us/step - loss: 1.8381 - mean_squared_error: 1.8381\n",
            "Epoch 21/50\n",
            "31550/31550 [==============================] - 1s 44us/step - loss: 1.8328 - mean_squared_error: 1.8328\n",
            "Epoch 22/50\n",
            "31550/31550 [==============================] - 1s 42us/step - loss: 1.8304 - mean_squared_error: 1.8304\n",
            "Epoch 23/50\n",
            "31550/31550 [==============================] - 1s 41us/step - loss: 1.8232 - mean_squared_error: 1.8232\n",
            "Epoch 24/50\n",
            "31550/31550 [==============================] - 1s 40us/step - loss: 1.8272 - mean_squared_error: 1.8272\n",
            "Epoch 25/50\n",
            "31550/31550 [==============================] - 1s 41us/step - loss: 1.8136 - mean_squared_error: 1.8136\n",
            "Epoch 26/50\n",
            "31550/31550 [==============================] - 1s 42us/step - loss: 1.8250 - mean_squared_error: 1.8250\n",
            "Epoch 27/50\n",
            "31550/31550 [==============================] - 1s 43us/step - loss: 1.8194 - mean_squared_error: 1.8194\n",
            "Epoch 28/50\n",
            "31550/31550 [==============================] - 1s 42us/step - loss: 1.8075 - mean_squared_error: 1.8075\n",
            "Epoch 29/50\n",
            "31550/31550 [==============================] - 1s 41us/step - loss: 1.8051 - mean_squared_error: 1.8051\n",
            "Epoch 30/50\n",
            "31550/31550 [==============================] - 1s 43us/step - loss: 1.8000 - mean_squared_error: 1.8000\n",
            "Epoch 31/50\n",
            "31550/31550 [==============================] - 1s 46us/step - loss: 1.8012 - mean_squared_error: 1.8012\n",
            "Epoch 32/50\n",
            "31550/31550 [==============================] - 1s 44us/step - loss: 1.8006 - mean_squared_error: 1.8006\n",
            "Epoch 33/50\n",
            "31550/31550 [==============================] - 1s 44us/step - loss: 1.7945 - mean_squared_error: 1.7945\n",
            "Epoch 34/50\n",
            "31550/31550 [==============================] - 1s 43us/step - loss: 1.7914 - mean_squared_error: 1.7914\n",
            "Epoch 35/50\n",
            "31550/31550 [==============================] - 1s 42us/step - loss: 1.7948 - mean_squared_error: 1.7948\n",
            "Epoch 36/50\n",
            "31550/31550 [==============================] - 1s 42us/step - loss: 1.7851 - mean_squared_error: 1.7851\n",
            "Epoch 37/50\n",
            "31550/31550 [==============================] - 1s 43us/step - loss: 1.7861 - mean_squared_error: 1.7861\n",
            "Epoch 38/50\n",
            "31550/31550 [==============================] - 1s 42us/step - loss: 1.7845 - mean_squared_error: 1.7845\n",
            "Epoch 39/50\n",
            "31550/31550 [==============================] - 1s 43us/step - loss: 1.7877 - mean_squared_error: 1.7877\n",
            "Epoch 40/50\n",
            "31550/31550 [==============================] - 1s 42us/step - loss: 1.7813 - mean_squared_error: 1.7813\n",
            "Epoch 41/50\n",
            "31550/31550 [==============================] - 1s 44us/step - loss: 1.7777 - mean_squared_error: 1.7777\n",
            "Epoch 42/50\n",
            "31550/31550 [==============================] - 1s 40us/step - loss: 1.7751 - mean_squared_error: 1.7751\n",
            "Epoch 43/50\n",
            "31550/31550 [==============================] - 1s 43us/step - loss: 1.7862 - mean_squared_error: 1.7862\n",
            "Epoch 44/50\n",
            "31550/31550 [==============================] - 1s 43us/step - loss: 1.7774 - mean_squared_error: 1.7774\n",
            "Epoch 45/50\n",
            "31550/31550 [==============================] - 1s 43us/step - loss: 1.7753 - mean_squared_error: 1.7753\n",
            "Epoch 46/50\n",
            "31550/31550 [==============================] - 1s 42us/step - loss: 1.7720 - mean_squared_error: 1.7720\n",
            "Epoch 47/50\n",
            "31550/31550 [==============================] - 1s 42us/step - loss: 1.7783 - mean_squared_error: 1.7783\n",
            "Epoch 48/50\n",
            "31550/31550 [==============================] - 1s 44us/step - loss: 1.7691 - mean_squared_error: 1.7691\n",
            "Epoch 49/50\n",
            "31550/31550 [==============================] - 1s 43us/step - loss: 1.7672 - mean_squared_error: 1.7672\n",
            "Epoch 50/50\n",
            "31550/31550 [==============================] - 1s 42us/step - loss: 1.7702 - mean_squared_error: 1.7702\n"
          ],
          "name": "stdout"
        },
        {
          "output_type": "execute_result",
          "data": {
            "text/plain": [
              "<keras.callbacks.History at 0x7f08eb3be588>"
            ]
          },
          "metadata": {
            "tags": []
          },
          "execution_count": 321
        }
      ]
    },
    {
      "cell_type": "code",
      "metadata": {
        "id": "oYK-3YutWvCQ",
        "colab_type": "code",
        "colab": {}
      },
      "source": [
        "y_train_pred = model.predict(X_train)\n",
        "y_test_pred = model.predict(X_test)"
      ],
      "execution_count": 0,
      "outputs": []
    },
    {
      "cell_type": "code",
      "metadata": {
        "id": "CNuLZssttRJv",
        "colab_type": "code",
        "colab": {}
      },
      "source": [
        "from sklearn.metrics import r2_score"
      ],
      "execution_count": 0,
      "outputs": []
    },
    {
      "cell_type": "code",
      "metadata": {
        "id": "ChfabSGpWvCR",
        "colab_type": "code",
        "outputId": "2c244aba-c22f-49ab-f611-da3f317352d5",
        "colab": {
          "base_uri": "https://localhost:8080/",
          "height": 51
        }
      },
      "source": [
        "print(\"The R2 score on the Train set is:\\t{:0.3f}\".format(r2_score(y_train, y_train_pred)))\n",
        "print(\"The R2 score on the Test set is:\\t{:0.3f}\".format(r2_score(y_test, y_test_pred)))"
      ],
      "execution_count": 0,
      "outputs": [
        {
          "output_type": "stream",
          "text": [
            "The R2 score on the Train set is:\t0.773\n",
            "The R2 score on the Test set is:\t0.778\n"
          ],
          "name": "stdout"
        }
      ]
    },
    {
      "cell_type": "markdown",
      "metadata": {
        "id": "7_qyZIvt_VhY",
        "colab_type": "text"
      },
      "source": [
        "This model performs a bit worse than GB but better than others. Since we use linear activation function, the last layer will be a linear function of the first layer. So probably hidden layers are not as useful in this case, that's why we didn't observe significant improvement of the score."
      ]
    },
    {
      "cell_type": "markdown",
      "metadata": {
        "id": "cDr4C7t63pfT",
        "colab_type": "text"
      },
      "source": [
        "#### Classification Problem"
      ]
    },
    {
      "cell_type": "markdown",
      "metadata": {
        "id": "PrqjoL5qARqZ",
        "colab_type": "text"
      },
      "source": [
        "In this part, I will try to predict whether a particular player will win if he plays agains some other player. So, it's a binary classification problem. The features used for this task are similar to ones used in the regression analysis."
      ]
    },
    {
      "cell_type": "code",
      "metadata": {
        "id": "nt4Oeen0WvCW",
        "colab_type": "code",
        "colab": {}
      },
      "source": [
        "features = ['surface', 'tourney_level', \"p1_hand\", \"p2_hand\", \"minutes\", \"p1_rank\", \"p2_rank\",\n",
        "           'p1_Q', 'p1_WC', 'p1_LL', 'p2_Q', 'p2_WC', 'p2_LL', 'ht_diff', 'p1_sign_country',\n",
        "           'p2_sign_country', 'age_diff', 'bpsaved_diff', 'aces_diff', 'df_diff', '1stIn_diff', '1stWon_diff',\n",
        "           '2ndWon_diff', 'outcome']"
      ],
      "execution_count": 0,
      "outputs": []
    },
    {
      "cell_type": "code",
      "metadata": {
        "id": "LtlcGtxFWvCX",
        "colab_type": "code",
        "colab": {}
      },
      "source": [
        "X = atp_class[features].drop(['outcome'], axis = 1)\n",
        "y = atp_class['outcome']"
      ],
      "execution_count": 0,
      "outputs": []
    },
    {
      "cell_type": "code",
      "metadata": {
        "id": "ytzXAtDmWvCX",
        "colab_type": "code",
        "colab": {}
      },
      "source": [
        "X_train, X_test, y_train, y_test = train_test_split(X, y, test_size=0.3)"
      ],
      "execution_count": 0,
      "outputs": []
    },
    {
      "cell_type": "markdown",
      "metadata": {
        "id": "QUmh1aN4ArP1",
        "colab_type": "text"
      },
      "source": [
        "First of all, the most common, easiest and sometimes most efficient approach is logistic regression:"
      ]
    },
    {
      "cell_type": "code",
      "metadata": {
        "id": "5JumYvzfPY81",
        "colab_type": "code",
        "outputId": "b88887bc-6c85-43cf-f894-ff6bb0174641",
        "colab": {
          "base_uri": "https://localhost:8080/",
          "height": 51
        }
      },
      "source": [
        "LogReg = LogisticRegression()\n",
        "LogReg.fit(X_train, y_train)\n",
        "print(\"The accuracy for train data is\", round(LogReg.score(X_train, y_train), 4))\n",
        "print(\"The accuracy for test data is\", round(LogReg.score(X_test, y_test), 4))"
      ],
      "execution_count": 0,
      "outputs": [
        {
          "output_type": "stream",
          "text": [
            "The accuracy for train data is 0.9346\n",
            "The accuracy for test data is 0.9366\n"
          ],
          "name": "stdout"
        }
      ]
    },
    {
      "cell_type": "markdown",
      "metadata": {
        "id": "citOXhdEBA5W",
        "colab_type": "text"
      },
      "source": [
        "Apparently, this methods works fine with our data, giving the accuracy of more than 93% for both train and test sets. To make sure that the model is correct, let's take a look at the classification report and confusion matrix:"
      ]
    },
    {
      "cell_type": "code",
      "metadata": {
        "id": "lzV7mAtjsqwp",
        "colab_type": "code",
        "colab": {}
      },
      "source": [
        "y_test_preds = LogReg.predict(X_test)"
      ],
      "execution_count": 0,
      "outputs": []
    },
    {
      "cell_type": "code",
      "metadata": {
        "id": "YJnpj5dYs17o",
        "colab_type": "code",
        "outputId": "3e50ec4b-20a6-46bd-d9f7-452c164cc248",
        "colab": {
          "base_uri": "https://localhost:8080/",
          "height": 170
        }
      },
      "source": [
        "from sklearn.metrics import classification_report\n",
        "print(classification_report(y_test, y_test_preds))"
      ],
      "execution_count": 0,
      "outputs": [
        {
          "output_type": "stream",
          "text": [
            "              precision    recall  f1-score   support\n",
            "\n",
            "           0       0.93      0.93      0.93      6295\n",
            "           1       0.94      0.94      0.94      7675\n",
            "\n",
            "    accuracy                           0.93     13970\n",
            "   macro avg       0.93      0.93      0.93     13970\n",
            "weighted avg       0.93      0.93      0.93     13970\n",
            "\n"
          ],
          "name": "stdout"
        }
      ]
    },
    {
      "cell_type": "markdown",
      "metadata": {
        "id": "X2NTXMhuBU-q",
        "colab_type": "text"
      },
      "source": [
        "Here we can notice that both precision and recall measures are high for two classes. That is supported by high values of F1 score. Therefore, the classifier works well in both directions."
      ]
    },
    {
      "cell_type": "code",
      "metadata": {
        "id": "mv-cogRxs-67",
        "colab_type": "code",
        "outputId": "b62cba72-b68b-4ed9-ebf3-81dae8b669c9",
        "colab": {
          "base_uri": "https://localhost:8080/",
          "height": 51
        }
      },
      "source": [
        "from sklearn.metrics import confusion_matrix\n",
        "print(confusion_matrix(y_test, y_test_preds))"
      ],
      "execution_count": 0,
      "outputs": [
        {
          "output_type": "stream",
          "text": [
            "[[5845  450]\n",
            " [ 464 7211]]\n"
          ],
          "name": "stdout"
        }
      ]
    },
    {
      "cell_type": "markdown",
      "metadata": {
        "id": "IsrZq-CUBTiX",
        "colab_type": "text"
      },
      "source": [
        "The confusion matrix is a way of tabulating the number of misclassifications, i.e. the number of predicted classes which ended up in a wrong classification bin based on the true classes.\n",
        "\n",
        "The diagonal elements show the number of correct classifications for each class. The off-diagonal elements provides the misclassifications: 450 of the class 0 were misclassified as 1, 464 of the class 1 were misclassified as 0. In total, it makes 914 misclassifications out of roughly 14 thousand, which is obviously a good result.\n",
        "\n",
        "As a next step, I want to check whether it is possible to reduce the dimensions of the data since now there are quite a lot of explanatory variables which makes the model complicated. So, it is necessary to scale data first and then apply PCA and see if some of the components explain the vast majority of the variance:"
      ]
    },
    {
      "cell_type": "code",
      "metadata": {
        "id": "AcKxy_o0WvCb",
        "colab_type": "code",
        "colab": {}
      },
      "source": [
        "from sklearn.preprocessing import StandardScaler\n",
        "scaler = StandardScaler()\n",
        "scaler.fit(X)\n",
        "X_scaled = scaler.transform(X)"
      ],
      "execution_count": 0,
      "outputs": []
    },
    {
      "cell_type": "code",
      "metadata": {
        "id": "CgumI4E7sF58",
        "colab_type": "code",
        "colab": {}
      },
      "source": [
        "from sklearn.decomposition import PCA\n",
        "model_pca = PCA().fit(X_scaled)"
      ],
      "execution_count": 0,
      "outputs": []
    },
    {
      "cell_type": "markdown",
      "metadata": {
        "id": "MUXuSEYWDGql",
        "colab_type": "text"
      },
      "source": [
        "Below is the graph showing how much of the variance each component explains:"
      ]
    },
    {
      "cell_type": "code",
      "metadata": {
        "id": "tEjhCiwXt06-",
        "colab_type": "code",
        "outputId": "aed9a7c8-055e-4569-b255-f3404ee206e8",
        "colab": {
          "base_uri": "https://localhost:8080/",
          "height": 456
        }
      },
      "source": [
        "sns.set()\n",
        "fig = plt.figure(figsize=(8, 8));\n",
        "PCA_components = [\"PCA \" + str(i) for i in np.arange(1,24)]\n",
        "plt.bar(PCA_components,model_pca.explained_variance_)\n",
        "plt.gcf().autofmt_xdate()\n",
        "plt.xticks(fontsize=9)\n",
        "plt.show()"
      ],
      "execution_count": 0,
      "outputs": [
        {
          "output_type": "display_data",
          "data": {
            "image/png": "[encoded data removed]",
            "text/plain": [
              "<Figure size 576x576 with 1 Axes>"
            ]
          },
          "metadata": {
            "tags": []
          }
        }
      ]
    },
    {
      "cell_type": "markdown",
      "metadata": {
        "id": "W2aozYthDQiv",
        "colab_type": "text"
      },
      "source": [
        "Many of the components are quite important and explain a huge part of the total variance. Therefore, it's not that easy to drop even a small number of them. Even if we stick to the first 10 components, the accuracy will drop significantly (by 10%):"
      ]
    },
    {
      "cell_type": "code",
      "metadata": {
        "id": "e0lsRWWouEqn",
        "colab_type": "code",
        "colab": {}
      },
      "source": [
        "pca = PCA(n_components= 10).fit(X_scaled)\n",
        "X_pca = pca.transform(X_scaled)"
      ],
      "execution_count": 0,
      "outputs": []
    },
    {
      "cell_type": "code",
      "metadata": {
        "id": "kTx3umXasQNx",
        "colab_type": "code",
        "outputId": "22a78102-33bf-4fbf-b459-9253f9e0be15",
        "colab": {
          "base_uri": "https://localhost:8080/",
          "height": 34
        }
      },
      "source": [
        "LogReg3 = LogisticRegression()\n",
        "LogReg3.fit(X_pca, y)\n",
        "print(\"The accuracy for train data is\", round(LogReg3.score(X_pca, y), 4))"
      ],
      "execution_count": 0,
      "outputs": [
        {
          "output_type": "stream",
          "text": [
            "The accuracy for train data is 0.8318\n"
          ],
          "name": "stdout"
        }
      ]
    },
    {
      "cell_type": "markdown",
      "metadata": {
        "id": "K_ZqV3RLD4T8",
        "colab_type": "text"
      },
      "source": [
        "In the regression problem, SVR method (which is analog of SVM) showed one of the best results. For the classification purposes, SVM might be efficient as well. RBF kernel outperformed all other kernels, so I include the output for RBF below:"
      ]
    },
    {
      "cell_type": "code",
      "metadata": {
        "id": "m7zooRmCQ3Cq",
        "colab_type": "code",
        "colab": {}
      },
      "source": [
        "Xsc_train, Xsc_test, y_train, y_test = train_test_split(X_scaled, y, test_size=0.3)"
      ],
      "execution_count": 0,
      "outputs": []
    },
    {
      "cell_type": "code",
      "metadata": {
        "id": "KptgotpeQ55R",
        "colab_type": "code",
        "outputId": "8cf61a6b-66e8-4932-b1f2-ccc0f8d42440",
        "colab": {
          "base_uri": "https://localhost:8080/",
          "height": 85
        }
      },
      "source": [
        "from sklearn.svm import SVC\n",
        "svm = SVC(kernel = 'rbf', C = 0.5)\n",
        "svm.fit(Xsc_train, y_train)"
      ],
      "execution_count": 0,
      "outputs": [
        {
          "output_type": "execute_result",
          "data": {
            "text/plain": [
              "SVC(C=0.5, cache_size=200, class_weight=None, coef0=0.0,\n",
              "    decision_function_shape='ovr', degree=3, gamma='auto_deprecated',\n",
              "    kernel='rbf', max_iter=-1, probability=False, random_state=None,\n",
              "    shrinking=True, tol=0.001, verbose=False)"
            ]
          },
          "metadata": {
            "tags": []
          },
          "execution_count": 200
        }
      ]
    },
    {
      "cell_type": "code",
      "metadata": {
        "id": "cQAAN5MNREzf",
        "colab_type": "code",
        "outputId": "4253a184-d51d-4150-87a0-2abf7ad28637",
        "colab": {
          "base_uri": "https://localhost:8080/",
          "height": 51
        }
      },
      "source": [
        "print(\"The accuracy for train data is\", round(svm.score(Xsc_train, y_train), 4))\n",
        "print(\"The accuracy for test data is\", round(svm.score(Xsc_test, y_test), 4))"
      ],
      "execution_count": 0,
      "outputs": [
        {
          "output_type": "stream",
          "text": [
            "The accuracy for train data is 0.9369\n",
            "The accuracy for test data is 0.9349\n"
          ],
          "name": "stdout"
        }
      ]
    },
    {
      "cell_type": "markdown",
      "metadata": {
        "id": "EgGxMlzRFijt",
        "colab_type": "text"
      },
      "source": [
        "The method performed well but nevertheless did not outperform logistic regression. Nevertheless, the accuracy is close enough. \n",
        "\n",
        "The next method to try is ANN. Like in the previous part, ReLu activation function was used for hidden layers. However, since now we're facing binary classification problem, we use binary crossentropy as a loss function and sigmoid activation function:"
      ]
    },
    {
      "cell_type": "code",
      "metadata": {
        "id": "uG6LxfkYiKpG",
        "colab_type": "code",
        "colab": {}
      },
      "source": [
        "epoc = 50 #@param {type:\"slider\", min:0, max:100, step:1}"
      ],
      "execution_count": 0,
      "outputs": []
    },
    {
      "cell_type": "code",
      "metadata": {
        "id": "ffzCdE40iPf6",
        "colab_type": "code",
        "outputId": "e628fb04-3450-449f-8bb0-73bb883469a8",
        "colab": {
          "base_uri": "https://localhost:8080/",
          "height": 408
        }
      },
      "source": [
        "model = Sequential()\n",
        "model.add(Dense(64, input_shape=(X_train.shape[1],), activation='relu'))\n",
        "model.add(Dense(32,activation='relu'))\n",
        "model.add(Dense(8,activation='relu'))\n",
        "model.add(Dense(1, activation='sigmoid'))\n",
        "model.compile('Adam', 'binary_crossentropy', metrics = ['accuracy'])\n",
        "model.fit(X_train, y_train, epochs=epoc, callbacks = [EarlyStopping(monitor='acc', patience=2)])"
      ],
      "execution_count": 0,
      "outputs": [
        {
          "output_type": "stream",
          "text": [
            "Epoch 1/50\n",
            "32595/32595 [==============================] - 3s 103us/step - loss: 0.3416 - acc: 0.8946\n",
            "Epoch 2/50\n",
            "32595/32595 [==============================] - 2s 54us/step - loss: 0.2028 - acc: 0.9232\n",
            "Epoch 3/50\n",
            "32595/32595 [==============================] - 2s 54us/step - loss: 0.1789 - acc: 0.9297\n",
            "Epoch 4/50\n",
            "32595/32595 [==============================] - 2s 55us/step - loss: 0.1750 - acc: 0.9298\n",
            "Epoch 5/50\n",
            "32595/32595 [==============================] - 2s 55us/step - loss: 0.1779 - acc: 0.9299\n",
            "Epoch 6/50\n",
            "32595/32595 [==============================] - 2s 55us/step - loss: 0.1697 - acc: 0.9309\n",
            "Epoch 7/50\n",
            "32595/32595 [==============================] - 2s 55us/step - loss: 0.1665 - acc: 0.9335\n",
            "Epoch 8/50\n",
            "32595/32595 [==============================] - 2s 54us/step - loss: 0.1675 - acc: 0.9322\n",
            "Epoch 9/50\n",
            "32595/32595 [==============================] - 2s 53us/step - loss: 0.1652 - acc: 0.9337\n",
            "Epoch 10/50\n",
            "32595/32595 [==============================] - 2s 54us/step - loss: 0.1651 - acc: 0.9328\n",
            "Epoch 11/50\n",
            "32595/32595 [==============================] - 2s 53us/step - loss: 0.1650 - acc: 0.9328\n"
          ],
          "name": "stdout"
        },
        {
          "output_type": "execute_result",
          "data": {
            "text/plain": [
              "<keras.callbacks.History at 0x7f9d34a04f28>"
            ]
          },
          "metadata": {
            "tags": []
          },
          "execution_count": 275
        }
      ]
    },
    {
      "cell_type": "code",
      "metadata": {
        "id": "U6RB_6NCiKkG",
        "colab_type": "code",
        "colab": {}
      },
      "source": [
        "y_train_pred = model.predict_classes(X_train)\n",
        "y_test_pred = model.predict_classes(X_test)"
      ],
      "execution_count": 0,
      "outputs": []
    },
    {
      "cell_type": "code",
      "metadata": {
        "id": "S4AJANTgj6bv",
        "colab_type": "code",
        "colab": {}
      },
      "source": [
        "from sklearn.metrics import mean_squared_error as mse, accuracy_score"
      ],
      "execution_count": 0,
      "outputs": []
    },
    {
      "cell_type": "code",
      "metadata": {
        "id": "SKSnW2NmjvtJ",
        "colab_type": "code",
        "outputId": "453fd9c9-65f9-4fc5-a7c3-1d63a36176fa",
        "colab": {
          "base_uri": "https://localhost:8080/",
          "height": 51
        }
      },
      "source": [
        "print(\"The accuracy score on the train set is:\\t{:0.3f}\".format(accuracy_score(y_train, y_train_pred)))\n",
        "print(\"The accuracy score on the test set is:\\t{:0.3f}\".format(accuracy_score(y_test, y_test_pred)))"
      ],
      "execution_count": 0,
      "outputs": [
        {
          "output_type": "stream",
          "text": [
            "The accuracy score on the train set is:\t0.938\n",
            "The accuracy score on the test set is:\t0.935\n"
          ],
          "name": "stdout"
        }
      ]
    },
    {
      "cell_type": "markdown",
      "metadata": {
        "id": "QyBH1wQYGV9n",
        "colab_type": "text"
      },
      "source": [
        "For ANN, it took only 11 epochs until Early Stopping callback stopped the training as the accuracy started to decrease. Despite tuning of parameters (such as the number of neurons), the model did not show any increase in performance, and the accuracy remained at the same level as before, just above 93%. \n",
        "\n",
        "Random Forest Classifier performed worse than any other algorithm even after GridSearch was used:"
      ]
    },
    {
      "cell_type": "code",
      "metadata": {
        "id": "1o7DX8eAjzNs",
        "colab_type": "code",
        "colab": {}
      },
      "source": [
        "from sklearn.ensemble import RandomForestClassifier"
      ],
      "execution_count": 0,
      "outputs": []
    },
    {
      "cell_type": "code",
      "metadata": {
        "id": "M1I9Xb5Ampvr",
        "colab_type": "code",
        "outputId": "bddf3729-ad08-457f-b055-a4fa151a81f9",
        "colab": {
          "base_uri": "https://localhost:8080/",
          "height": 357
        }
      },
      "source": [
        "parameters = {'max_depth': list(range(1, 15)), 'min_samples_leaf': list(range(1,10))}\n",
        "rfc = RandomForestClassifier()\n",
        "gcv = GridSearchCV(rfc, parameters, n_jobs = -1, cv = 5)\n",
        "gcv.fit(X_train, y_train)"
      ],
      "execution_count": 0,
      "outputs": [
        {
          "output_type": "execute_result",
          "data": {
            "text/plain": [
              "GridSearchCV(cv=5, error_score='raise-deprecating',\n",
              "             estimator=RandomForestClassifier(bootstrap=True, class_weight=None,\n",
              "                                              criterion='gini', max_depth=None,\n",
              "                                              max_features='auto',\n",
              "                                              max_leaf_nodes=None,\n",
              "                                              min_impurity_decrease=0.0,\n",
              "                                              min_impurity_split=None,\n",
              "                                              min_samples_leaf=1,\n",
              "                                              min_samples_split=2,\n",
              "                                              min_weight_fraction_leaf=0.0,\n",
              "                                              n_estimators='warn', n_jobs=None,\n",
              "                                              oob_score=False,\n",
              "                                              random_state=None, verbose=0,\n",
              "                                              warm_start=False),\n",
              "             iid='warn', n_jobs=-1,\n",
              "             param_grid={'max_depth': [1, 2, 3, 4, 5, 6, 7, 8, 9, 10, 11, 12,\n",
              "                                       13, 14],\n",
              "                         'min_samples_leaf': [1, 2, 3, 4, 5, 6, 7, 8, 9]},\n",
              "             pre_dispatch='2*n_jobs', refit=True, return_train_score=False,\n",
              "             scoring=None, verbose=0)"
            ]
          },
          "metadata": {
            "tags": []
          },
          "execution_count": 273
        }
      ]
    },
    {
      "cell_type": "code",
      "metadata": {
        "id": "b9799zRBmzlJ",
        "colab_type": "code",
        "outputId": "7e9b552b-4a7b-4cfe-cc6c-c7a9f96b33f1",
        "colab": {
          "base_uri": "https://localhost:8080/",
          "height": 34
        }
      },
      "source": [
        "gcv.best_params_"
      ],
      "execution_count": 0,
      "outputs": [
        {
          "output_type": "execute_result",
          "data": {
            "text/plain": [
              "{'max_depth': 12, 'min_samples_leaf': 7}"
            ]
          },
          "metadata": {
            "tags": []
          },
          "execution_count": 277
        }
      ]
    },
    {
      "cell_type": "code",
      "metadata": {
        "id": "1AI7j0aWnlD0",
        "colab_type": "code",
        "outputId": "a6370c07-b15a-48c8-8aa6-a1fc11d77d6b",
        "colab": {
          "base_uri": "https://localhost:8080/",
          "height": 51
        }
      },
      "source": [
        "print('The accuracy for train data is', round(gcv.score(X_train, y_train), 4))\n",
        "print('The accuracy for test data is', round(gcv.score(X_test, y_test), 4))"
      ],
      "execution_count": 0,
      "outputs": [
        {
          "output_type": "stream",
          "text": [
            "The accuracy for train data is 0.9508\n",
            "The accuracy for test data is 0.9271\n"
          ],
          "name": "stdout"
        }
      ]
    },
    {
      "cell_type": "markdown",
      "metadata": {
        "id": "mKzKOVRvHTZT",
        "colab_type": "text"
      },
      "source": [
        "#### Conclusion"
      ]
    },
    {
      "cell_type": "markdown",
      "metadata": {
        "id": "y4ZuvwvqHZx0",
        "colab_type": "text"
      },
      "source": [
        "To sum up, the best result for the regression problem showed Cat Boost which took into account categorical variables and reached $R^2$ of 78.15%. \n",
        "\n",
        "Gradient Boosting, Neural Nets and SVR performed a bit worse but still satisfactory. Each of the algorithms got $R^2$ above 77%. On the contrary, multiple linear regression performed poorly (the score was lower by ~7-8%). \n",
        "\n",
        "The results for the classification problem are quite different. The accuracy of more than 93% was reached by Logistic Regression, SVM with rbf kernel, and ANN. However, out of these models, I would not want to choose ANN just because it's computationally expensive and does not show any advantage over trivial Logistic Regression. "
      ]
    }
  ]
}