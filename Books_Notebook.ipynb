{
 "cells": [
  {
   "cell_type": "markdown",
   "metadata": {},
   "source": [
    "# Study on Book Sales\n",
    "#### Arina Sitnikova"
   ]
  },
  {
   "cell_type": "markdown",
   "metadata": {},
   "source": [
    "Loading all the necessary libraries:"
   ]
  },
  {
   "cell_type": "code",
   "execution_count": 840,
   "metadata": {},
   "outputs": [],
   "source": [
    "import pandas as pd\n",
    "import numpy as np\n",
    "import matplotlib.pyplot as plt\n",
    "import sklearn as sk\n",
    "%matplotlib inline\n",
    "import warnings\n",
    "warnings.filterwarnings(\"ignore\")\n",
    "from sklearn import linear_model\n",
    "from sklearn.preprocessing import StandardScaler\n",
    "import seaborn as sns\n",
    "from sklearn.ensemble import RandomForestRegressor\n",
    "from sklearn.model_selection import GridSearchCV"
   ]
  },
  {
   "cell_type": "markdown",
   "metadata": {},
   "source": [
    "## Part 1. Creating recommendations"
   ]
  },
  {
   "cell_type": "code",
   "execution_count": 823,
   "metadata": {
    "scrolled": true
   },
   "outputs": [
    {
     "data": {
      "text/html": [
       "<div>\n",
       "<style scoped>\n",
       "    .dataframe tbody tr th:only-of-type {\n",
       "        vertical-align: middle;\n",
       "    }\n",
       "\n",
       "    .dataframe tbody tr th {\n",
       "        vertical-align: top;\n",
       "    }\n",
       "\n",
       "    .dataframe thead th {\n",
       "        text-align: right;\n",
       "    }\n",
       "</style>\n",
       "<table border=\"1\" class=\"dataframe\">\n",
       "  <thead>\n",
       "    <tr style=\"text-align: right;\">\n",
       "      <th></th>\n",
       "      <th>BOOK</th>\n",
       "      <th>DAY_NUMBER</th>\n",
       "      <th>CONSUMER_ID</th>\n",
       "      <th>SALE_PRICE</th>\n",
       "    </tr>\n",
       "  </thead>\n",
       "  <tbody>\n",
       "    <tr>\n",
       "      <th>0</th>\n",
       "      <td>book_6</td>\n",
       "      <td>55</td>\n",
       "      <td>1350</td>\n",
       "      <td>13.99</td>\n",
       "    </tr>\n",
       "    <tr>\n",
       "      <th>1</th>\n",
       "      <td>book_5</td>\n",
       "      <td>85</td>\n",
       "      <td>2236</td>\n",
       "      <td>16.99</td>\n",
       "    </tr>\n",
       "    <tr>\n",
       "      <th>2</th>\n",
       "      <td>book_4</td>\n",
       "      <td>52</td>\n",
       "      <td>1032</td>\n",
       "      <td>15.99</td>\n",
       "    </tr>\n",
       "    <tr>\n",
       "      <th>3</th>\n",
       "      <td>book_5</td>\n",
       "      <td>28</td>\n",
       "      <td>1514</td>\n",
       "      <td>16.99</td>\n",
       "    </tr>\n",
       "    <tr>\n",
       "      <th>4</th>\n",
       "      <td>book_5</td>\n",
       "      <td>4</td>\n",
       "      <td>2736</td>\n",
       "      <td>16.99</td>\n",
       "    </tr>\n",
       "  </tbody>\n",
       "</table>\n",
       "</div>"
      ],
      "text/plain": [
       "     BOOK  DAY_NUMBER  CONSUMER_ID  SALE_PRICE\n",
       "0  book_6          55         1350       13.99\n",
       "1  book_5          85         2236       16.99\n",
       "2  book_4          52         1032       15.99\n",
       "3  book_5          28         1514       16.99\n",
       "4  book_5           4         2736       16.99"
      ]
     },
     "execution_count": 823,
     "metadata": {},
     "output_type": "execute_result"
    }
   ],
   "source": [
    "df = pd.read_csv('part_one_data.csv')\n",
    "df.head()"
   ]
  },
  {
   "cell_type": "markdown",
   "metadata": {},
   "source": [
    "Taking a quick look at the data - we've got 3509 observations for 7 books."
   ]
  },
  {
   "cell_type": "code",
   "execution_count": 816,
   "metadata": {},
   "outputs": [
    {
     "data": {
      "text/plain": [
       "(3509, 4)"
      ]
     },
     "execution_count": 816,
     "metadata": {},
     "output_type": "execute_result"
    }
   ],
   "source": [
    "df.shape"
   ]
  },
  {
   "cell_type": "code",
   "execution_count": 817,
   "metadata": {
    "scrolled": true
   },
   "outputs": [
    {
     "data": {
      "text/plain": [
       "7"
      ]
     },
     "execution_count": 817,
     "metadata": {},
     "output_type": "execute_result"
    }
   ],
   "source": [
    "df['BOOK'].nunique()"
   ]
  },
  {
   "cell_type": "markdown",
   "metadata": {},
   "source": [
    "Grouping by the book type and iterating through a given range of days, it is possible to deduce whether any changes in the book price occurred:"
   ]
  },
  {
   "cell_type": "code",
   "execution_count": 818,
   "metadata": {
    "scrolled": false
   },
   "outputs": [
    {
     "name": "stdout",
     "output_type": "stream",
     "text": [
      "The books for which sale price changed:\n",
      "book_2\n",
      "book_3\n"
     ]
    }
   ],
   "source": [
    "print(\"The books for which sale price changed:\")\n",
    "for index, group in df.sort_values(by = 'DAY_NUMBER').groupby('BOOK'):\n",
    "    group['PRICE_CHANGE'] = group['SALE_PRICE'].diff()\n",
    "    result = group[(group['PRICE_CHANGE'] != 0) & (group['PRICE_CHANGE'].notna())]\n",
    "    if not result.empty:\n",
    "        for i in result['BOOK'].unique():\n",
    "                print(i)"
   ]
  },
  {
   "cell_type": "markdown",
   "metadata": {},
   "source": [
    "To evaluate the success of price change and its effect on sales, there exist numerous metrics. On of the most high-level ones are price effect or quantity effect coefficients. However, we don't have the same number of observations for different prices: for example, for book 2 the price was 13.99 for 74 days and 4.99 for 13 days only. For this reason, we can't calculate the abovementioned effects. \n",
    "\n",
    "Other common KPIs include ROI, cost per sale, incremental sales, etc. However, those are impossible to calculate as well since the data contains sale price as the only numeric feature associated with a company's profits.\n",
    "\n",
    "However, we know the number of days when the price was lowered. Thus, one of the most straightforward approaches is to calculate average daily profits for each sale price based on the number of books sold:"
   ]
  },
  {
   "cell_type": "markdown",
   "metadata": {},
   "source": [
    "$$AvgDailyProfit_{i, p} = \\frac{p_i * NumBooks_{i,p}}{NumDays_{i,p}}$$"
   ]
  },
  {
   "cell_type": "markdown",
   "metadata": {},
   "source": [
    "where $p$ - is a sale price, $p = [4.99, 13.99]$; $NumBooks$ - number of books of type $i$ sold for given price; $NumDays$ - number of days when the given price was fixed for book $i$; $i = [2, 3]$. "
   ]
  },
  {
   "cell_type": "code",
   "execution_count": 819,
   "metadata": {},
   "outputs": [],
   "source": [
    "df_book2 = df[df['BOOK'] == 'book_2'].groupby('SALE_PRICE').agg({'SALE_PRICE': 'sum', 'DAY_NUMBER': 'nunique'}).rename(columns={'SALE_PRICE': 'profit', 'DAY_NUMBER': 'num_day'})\n",
    "df_book2['avg_profit_book2'] = df_book2['profit']/df_book2['num_day']\n",
    "df_book3 = df[df['BOOK'] == 'book_3'].groupby('SALE_PRICE').agg({'SALE_PRICE': 'sum', 'DAY_NUMBER': 'nunique'}).rename(columns={'SALE_PRICE': 'profit', 'DAY_NUMBER': 'num_day'})\n",
    "df_book3['avg_profit_book3'] = df_book3['profit']/df_book3['num_day']\n",
    "avg_profit = pd.merge(round(df_book2['avg_profit_book2'].to_frame(), 2), round(df_book3['avg_profit_book3'].to_frame(),2), left_index=True, right_index=True)"
   ]
  },
  {
   "cell_type": "markdown",
   "metadata": {},
   "source": [
    "Thus, we can observe that for book 2 the price change was not successful: in case of high prices, the average daily profits were approximately two times higher compared to the profits given at low prices. On the other hand, we can notice quite the opposite effect for book 3: when the price was 13.99, the average daily profits were just under 70, reaching the height of about 320 as the price went down to become 4.99."
   ]
  },
  {
   "cell_type": "code",
   "execution_count": 825,
   "metadata": {
    "scrolled": true
   },
   "outputs": [
    {
     "data": {
      "text/html": [
       "<div>\n",
       "<style scoped>\n",
       "    .dataframe tbody tr th:only-of-type {\n",
       "        vertical-align: middle;\n",
       "    }\n",
       "\n",
       "    .dataframe tbody tr th {\n",
       "        vertical-align: top;\n",
       "    }\n",
       "\n",
       "    .dataframe thead th {\n",
       "        text-align: right;\n",
       "    }\n",
       "</style>\n",
       "<table border=\"1\" class=\"dataframe\">\n",
       "  <thead>\n",
       "    <tr style=\"text-align: right;\">\n",
       "      <th></th>\n",
       "      <th>avg_profit_book2</th>\n",
       "      <th>avg_profit_book3</th>\n",
       "    </tr>\n",
       "    <tr>\n",
       "      <th>SALE_PRICE</th>\n",
       "      <th></th>\n",
       "      <th></th>\n",
       "    </tr>\n",
       "  </thead>\n",
       "  <tbody>\n",
       "    <tr>\n",
       "      <th>4.99</th>\n",
       "      <td>14.97</td>\n",
       "      <td>319.36</td>\n",
       "    </tr>\n",
       "    <tr>\n",
       "      <th>13.99</th>\n",
       "      <td>31.95</td>\n",
       "      <td>69.03</td>\n",
       "    </tr>\n",
       "  </tbody>\n",
       "</table>\n",
       "</div>"
      ],
      "text/plain": [
       "            avg_profit_book2  avg_profit_book3\n",
       "SALE_PRICE                                    \n",
       "4.99                   14.97            319.36\n",
       "13.99                  31.95             69.03"
      ]
     },
     "execution_count": 825,
     "metadata": {},
     "output_type": "execute_result"
    }
   ],
   "source": [
    "avg_profit"
   ]
  },
  {
   "cell_type": "markdown",
   "metadata": {},
   "source": [
    "Then we will try to identify any books that appear to be closely related to each other. \n",
    "\n",
    "We can notice that each consumer bought up to three different books:"
   ]
  },
  {
   "cell_type": "code",
   "execution_count": 826,
   "metadata": {
    "scrolled": false
   },
   "outputs": [
    {
     "data": {
      "text/plain": [
       "CONSUMER_ID\n",
       "2349    3\n",
       "2533    3\n",
       "1842    3\n",
       "308     3\n",
       "2190    3\n",
       "Name: BOOK, dtype: int64"
      ]
     },
     "execution_count": 826,
     "metadata": {},
     "output_type": "execute_result"
    }
   ],
   "source": [
    "df.groupby('CONSUMER_ID')['BOOK'].nunique().sort_values(ascending=False).head()"
   ]
  },
  {
   "cell_type": "markdown",
   "metadata": {},
   "source": [
    "We do not know whether any given consumer liked the books they purchased - there is no extra data regarding book rating or reviews. Nor do we know anything about the customers themselves (age, occupation, etc.). The only thing that we know is which books they ended up buying. \n",
    "\n",
    "Using this knowledge, we can assume that, for example, if several people purchased both book $i$ and book $j$, then these books might be similar. That being said, if a new customer decided to buy book $i$, we might want to recommend them book $j$ as well. "
   ]
  },
  {
   "cell_type": "markdown",
   "metadata": {},
   "source": [
    "Thus, in our case, we can apply collaborative filtering which is based on patterns in a user’s behaviour or activity. Since we do not have any data on books except for the price (which is not a unique feature), we can't use item-based filtering which is based on the similarity between the items. However, user-based filtering might be the method of our choice because we can find users with similar consumption patterns."
   ]
  },
  {
   "cell_type": "markdown",
   "metadata": {},
   "source": [
    "One of the most common algorithms for collaborative filtering is k-Nearest Neighbors. kNN finds clusters of similar users based on a given feature - usually rating. However, since we don't have such a feature, we will just use a binary variable indicating whether a consumer purchased book $i$.  \n",
    "\n",
    "The first thing to do is to convert our data to a 2D matrix containing. It is also should be noted that some of the consumers bought several copies of the same books. That leaves us with several duplicated rows since for now, we will only take into account two factors - consumer id and book type. Therefore, it is necessary to drop duplicates beforehand."
   ]
  },
  {
   "cell_type": "code",
   "execution_count": 827,
   "metadata": {},
   "outputs": [],
   "source": [
    "df1 = df[['BOOK', 'CONSUMER_ID']]\n",
    "df1 = df1.drop_duplicates()\n",
    "df1['indicator'] = 1"
   ]
  },
  {
   "cell_type": "code",
   "execution_count": 831,
   "metadata": {
    "scrolled": true
   },
   "outputs": [
    {
     "data": {
      "text/html": [
       "<div>\n",
       "<style scoped>\n",
       "    .dataframe tbody tr th:only-of-type {\n",
       "        vertical-align: middle;\n",
       "    }\n",
       "\n",
       "    .dataframe tbody tr th {\n",
       "        vertical-align: top;\n",
       "    }\n",
       "\n",
       "    .dataframe thead th {\n",
       "        text-align: right;\n",
       "    }\n",
       "</style>\n",
       "<table border=\"1\" class=\"dataframe\">\n",
       "  <thead>\n",
       "    <tr style=\"text-align: right;\">\n",
       "      <th>BOOK</th>\n",
       "      <th>book_1</th>\n",
       "      <th>book_2</th>\n",
       "      <th>book_3</th>\n",
       "      <th>book_4</th>\n",
       "      <th>book_5</th>\n",
       "      <th>book_6</th>\n",
       "      <th>book_7</th>\n",
       "    </tr>\n",
       "    <tr>\n",
       "      <th>CONSUMER_ID</th>\n",
       "      <th></th>\n",
       "      <th></th>\n",
       "      <th></th>\n",
       "      <th></th>\n",
       "      <th></th>\n",
       "      <th></th>\n",
       "      <th></th>\n",
       "    </tr>\n",
       "  </thead>\n",
       "  <tbody>\n",
       "    <tr>\n",
       "      <th>1</th>\n",
       "      <td>0.0</td>\n",
       "      <td>0.0</td>\n",
       "      <td>1.0</td>\n",
       "      <td>0.0</td>\n",
       "      <td>0.0</td>\n",
       "      <td>0.0</td>\n",
       "      <td>0.0</td>\n",
       "    </tr>\n",
       "    <tr>\n",
       "      <th>2</th>\n",
       "      <td>1.0</td>\n",
       "      <td>0.0</td>\n",
       "      <td>0.0</td>\n",
       "      <td>0.0</td>\n",
       "      <td>0.0</td>\n",
       "      <td>0.0</td>\n",
       "      <td>0.0</td>\n",
       "    </tr>\n",
       "    <tr>\n",
       "      <th>3</th>\n",
       "      <td>1.0</td>\n",
       "      <td>0.0</td>\n",
       "      <td>0.0</td>\n",
       "      <td>0.0</td>\n",
       "      <td>0.0</td>\n",
       "      <td>0.0</td>\n",
       "      <td>0.0</td>\n",
       "    </tr>\n",
       "    <tr>\n",
       "      <th>4</th>\n",
       "      <td>0.0</td>\n",
       "      <td>0.0</td>\n",
       "      <td>1.0</td>\n",
       "      <td>0.0</td>\n",
       "      <td>0.0</td>\n",
       "      <td>0.0</td>\n",
       "      <td>0.0</td>\n",
       "    </tr>\n",
       "    <tr>\n",
       "      <th>5</th>\n",
       "      <td>1.0</td>\n",
       "      <td>0.0</td>\n",
       "      <td>0.0</td>\n",
       "      <td>0.0</td>\n",
       "      <td>0.0</td>\n",
       "      <td>0.0</td>\n",
       "      <td>0.0</td>\n",
       "    </tr>\n",
       "  </tbody>\n",
       "</table>\n",
       "</div>"
      ],
      "text/plain": [
       "BOOK         book_1  book_2  book_3  book_4  book_5  book_6  book_7\n",
       "CONSUMER_ID                                                        \n",
       "1               0.0     0.0     1.0     0.0     0.0     0.0     0.0\n",
       "2               1.0     0.0     0.0     0.0     0.0     0.0     0.0\n",
       "3               1.0     0.0     0.0     0.0     0.0     0.0     0.0\n",
       "4               0.0     0.0     1.0     0.0     0.0     0.0     0.0\n",
       "5               1.0     0.0     0.0     0.0     0.0     0.0     0.0"
      ]
     },
     "execution_count": 831,
     "metadata": {},
     "output_type": "execute_result"
    }
   ],
   "source": [
    "R = df1.pivot(index='CONSUMER_ID', columns='BOOK', values='indicator').fillna(0)\n",
    "R.head()"
   ]
  },
  {
   "cell_type": "code",
   "execution_count": 832,
   "metadata": {},
   "outputs": [],
   "source": [
    "X = R.T"
   ]
  },
  {
   "cell_type": "markdown",
   "metadata": {},
   "source": [
    "The matrix contains a lot of 0's. Therefore, it is more efficient to transform it into a sparse matrix."
   ]
  },
  {
   "cell_type": "code",
   "execution_count": 833,
   "metadata": {},
   "outputs": [],
   "source": [
    "from scipy.sparse import csr_matrix\n",
    "mat_features = csr_matrix(X.values)"
   ]
  },
  {
   "cell_type": "markdown",
   "metadata": {},
   "source": [
    "Then we fit the model and obtain the nearest neighbours for each book:"
   ]
  },
  {
   "cell_type": "code",
   "execution_count": 834,
   "metadata": {},
   "outputs": [],
   "source": [
    "from sklearn.neighbors import NearestNeighbors\n",
    "model_knn = NearestNeighbors(metric='cosine', algorithm='brute', n_jobs=-1)\n",
    "model_knn.fit(mat_features)\n",
    "distances, indices = model_knn.kneighbors(X.iloc[0, :].values.reshape(1, -1), n_neighbors = 4)"
   ]
  },
  {
   "cell_type": "markdown",
   "metadata": {},
   "source": [
    "Below are seven sets, each consisting of three books which could be related to book $i$, $i \\in [1,7]$, according to kNN algorithm:"
   ]
  },
  {
   "cell_type": "code",
   "execution_count": 837,
   "metadata": {
    "scrolled": true
   },
   "outputs": [
    {
     "name": "stdout",
     "output_type": "stream",
     "text": [
      "Recommendation for book_1:\n",
      "1. book_4, distance - 0.9644\n",
      "2. book_5, distance - 0.9893\n",
      "3. book_6, distance - 0.9914\n",
      "Recommendation for book_2:\n",
      "1. book_7, distance - 0.8014\n",
      "2. book_5, distance - 0.9821\n",
      "3. book_3, distance - 0.9837\n",
      "Recommendation for book_3:\n",
      "1. book_7, distance - 0.9675\n",
      "2. book_2, distance - 0.9837\n",
      "3. book_6, distance - 0.9899\n",
      "Recommendation for book_4:\n",
      "1. book_1, distance - 0.9644\n",
      "2. book_5, distance - 0.9902\n",
      "3. book_3, distance - 0.9981\n",
      "Recommendation for book_5:\n",
      "1. book_2, distance - 0.9821\n",
      "2. book_7, distance - 0.9876\n",
      "3. book_1, distance - 0.9893\n",
      "Recommendation for book_6:\n",
      "1. book_3, distance - 0.9899\n",
      "2. book_1, distance - 0.9914\n",
      "3. book_7, distance - 0.9947\n",
      "Recommendation for book_7:\n",
      "1. book_2, distance - 0.8014\n",
      "2. book_3, distance - 0.9675\n",
      "3. book_5, distance - 0.9876\n"
     ]
    }
   ],
   "source": [
    "for i in range(0, 7):\n",
    "    for j in range(0, 4):\n",
    "        distances, indices = model_knn.kneighbors(X.iloc[i, :].values.reshape(1, -1), n_neighbors = 4)\n",
    "        if j == 0:\n",
    "            #print('Recommendation for book_{0}:'.format(X.index[j]))\n",
    "            print('Recommendation for book_{0}:'.format(i+1))\n",
    "        else:\n",
    "            print('{0}. {1}, distance - {2}'.format(j, X.index[indices.flatten()[j]], round(distances.flatten()[j], 4)))"
   ]
  },
  {
   "cell_type": "markdown",
   "metadata": {},
   "source": [
    "What we can notice is that the majority of books have a distance of at least 0.95 to the closest neighbour which might indicate that the similarity is doubtful. However, the distance between book 2 and book 7 is 0.8; thus, these books are most likely to be related."
   ]
  },
  {
   "cell_type": "markdown",
   "metadata": {},
   "source": [
    "Another widely used method of collaborative filtering is matrix factorization. We will use the singular value decomposition (SVD). The algorithm uses the same 2D matrix as before."
   ]
  },
  {
   "cell_type": "code",
   "execution_count": 501,
   "metadata": {},
   "outputs": [],
   "source": [
    "import sklearn\n",
    "from sklearn.decomposition import TruncatedSVD\n",
    "SVD = TruncatedSVD(n_components=5, random_state=17)\n",
    "resultant_matrix = SVD.fit_transform(X)"
   ]
  },
  {
   "cell_type": "markdown",
   "metadata": {},
   "source": [
    "We fit the model and calculate the Pearson’s R correlation coefficient for every book pair in our final matrix. "
   ]
  },
  {
   "cell_type": "code",
   "execution_count": 841,
   "metadata": {
    "scrolled": true
   },
   "outputs": [],
   "source": [
    "corr_mat = np.corrcoef(resultant_matrix)\n",
    "#pd.DataFrame(corr_mat, columns = ['Book 1', 'Book 2', 'Book 3', 'Book 4', 'Book 5', 'Book 6', 'Book7'])\n",
    "book_set = ['Book 1', 'Book 2', 'Book 3', 'Book 4', 'Book 5', 'Book 6', 'Book7']"
   ]
  },
  {
   "cell_type": "markdown",
   "metadata": {},
   "source": [
    "The correlation plot below shows which books have high correlation coefficients and therefore might be related to each other."
   ]
  },
  {
   "cell_type": "code",
   "execution_count": 975,
   "metadata": {},
   "outputs": [
    {
     "data": {
      "image/png": "[encoded data removed]",
      "text/plain": [
       "<Figure size 864x864 with 2 Axes>"
      ]
     },
     "metadata": {
      "needs_background": "light"
     },
     "output_type": "display_data"
    }
   ],
   "source": [
    "fig = plt.figure(figsize=(12, 12));\n",
    "heat_map = sns.heatmap(pd.DataFrame(corr_mat, index = book_set, columns = book_set), annot = True, annot_kws={\"size\": 16}, cmap='coolwarm')\n",
    "heat_map.set_yticklabels(heat_map.get_yticklabels(), rotation=35, size = 16)\n",
    "heat_map.set_xticklabels(heat_map.get_xticklabels(), rotation=35, size = 16)\n",
    "plt.show()"
   ]
  },
  {
   "cell_type": "code",
   "execution_count": 976,
   "metadata": {},
   "outputs": [],
   "source": [
    "fig = heat_map.get_figure()\n",
    "fig.savefig('SVD_map.png') "
   ]
  },
  {
   "cell_type": "markdown",
   "metadata": {},
   "source": [
    "Of course, many books are uncorrelated. Those that have the correlation coefficient of at least 0.7 are presented below:"
   ]
  },
  {
   "cell_type": "code",
   "execution_count": 844,
   "metadata": {
    "scrolled": true
   },
   "outputs": [
    {
     "name": "stdout",
     "output_type": "stream",
     "text": [
      "Book 1 can be related to: []\n",
      "Book 2 can be related to: ['book_7']\n",
      "Book 3 can be related to: []\n",
      "Book 4 can be related to: []\n",
      "Book 5 can be related to: ['book_6']\n",
      "Book 6 can be related to: ['book_5']\n",
      "Book 7 can be related to: ['book_2']\n"
     ]
    }
   ],
   "source": [
    "book_num = R.columns\n",
    "for i in range(0, 7):\n",
    "    corr_list = list(book_num[(corr_mat[i]<=1) & (corr_mat[i] >= 0.7)])\n",
    "    final = [x for x in corr_list if book_num[i] not in x]\n",
    "    print('Book {} can be related to:'.format(i+1), final)"
   ]
  },
  {
   "cell_type": "markdown",
   "metadata": {},
   "source": [
    "Both kNN and SVD methods indicated that book 2 and book 7 might be closely related. Therefore, if we introduce this recommender system, it will recommend that a consumer purchase book 7 if they already decided to buy book 2 and the other way around. \n",
    "\n",
    "When it comes to other books, kNN and SVD produced different results. The SVD-based system will recommend book 5 and book 6 together. On the other hand, the kNN-based system would suggest buying book 2 together with book 5."
   ]
  },
  {
   "cell_type": "markdown",
   "metadata": {},
   "source": [
    "Nonetheless, it has already been mentioned that the data we have got is not enough. Current models are expected to perform poorly. To increase a chance of recommending books successfully, any feedback produced by the consumer in the past could be used; for example, rating (eg 1 to 5) or text review (which could be used for sentiment analysis). Any data on the consumer would also be helpful - age, occupation. Purchase history can also tell a lot; for example, if we know what type of books (fiction, non-fiction, different genres, etc) a consumer used to buy in the past, it might be easier to deduce which books they would not like for sure."
   ]
  },
  {
   "cell_type": "markdown",
   "metadata": {},
   "source": [
    "## Part 2. Identifying determinants of sales"
   ]
  },
  {
   "cell_type": "code",
   "execution_count": 862,
   "metadata": {},
   "outputs": [],
   "source": [
    "df_train = pd.read_csv('part_two_sales_train.csv')\n",
    "df_test = pd.read_csv('part_two_sales_validation.csv')\n",
    "df_meta = pd.read_csv('part_two_metadata.csv')"
   ]
  },
  {
   "cell_type": "code",
   "execution_count": 978,
   "metadata": {},
   "outputs": [
    {
     "data": {
      "text/html": [
       "<div>\n",
       "<style scoped>\n",
       "    .dataframe tbody tr th:only-of-type {\n",
       "        vertical-align: middle;\n",
       "    }\n",
       "\n",
       "    .dataframe tbody tr th {\n",
       "        vertical-align: top;\n",
       "    }\n",
       "\n",
       "    .dataframe thead th {\n",
       "        text-align: right;\n",
       "    }\n",
       "</style>\n",
       "<table border=\"1\" class=\"dataframe\">\n",
       "  <thead>\n",
       "    <tr style=\"text-align: right;\">\n",
       "      <th></th>\n",
       "      <th>TITLE</th>\n",
       "      <th>TITLE_WEEK</th>\n",
       "      <th>CAL_WEEK</th>\n",
       "      <th>SALES</th>\n",
       "    </tr>\n",
       "  </thead>\n",
       "  <tbody>\n",
       "    <tr>\n",
       "      <th>0</th>\n",
       "      <td>128529</td>\n",
       "      <td>1</td>\n",
       "      <td>41</td>\n",
       "      <td>209</td>\n",
       "    </tr>\n",
       "    <tr>\n",
       "      <th>1</th>\n",
       "      <td>126193</td>\n",
       "      <td>1</td>\n",
       "      <td>33</td>\n",
       "      <td>249</td>\n",
       "    </tr>\n",
       "    <tr>\n",
       "      <th>2</th>\n",
       "      <td>148651</td>\n",
       "      <td>974</td>\n",
       "      <td>51</td>\n",
       "      <td>256</td>\n",
       "    </tr>\n",
       "    <tr>\n",
       "      <th>3</th>\n",
       "      <td>135491</td>\n",
       "      <td>3078</td>\n",
       "      <td>31</td>\n",
       "      <td>223</td>\n",
       "    </tr>\n",
       "    <tr>\n",
       "      <th>4</th>\n",
       "      <td>138148</td>\n",
       "      <td>6</td>\n",
       "      <td>2</td>\n",
       "      <td>319</td>\n",
       "    </tr>\n",
       "  </tbody>\n",
       "</table>\n",
       "</div>"
      ],
      "text/plain": [
       "    TITLE  TITLE_WEEK  CAL_WEEK  SALES\n",
       "0  128529           1        41    209\n",
       "1  126193           1        33    249\n",
       "2  148651         974        51    256\n",
       "3  135491        3078        31    223\n",
       "4  138148           6         2    319"
      ]
     },
     "execution_count": 978,
     "metadata": {},
     "output_type": "execute_result"
    }
   ],
   "source": [
    "df_train.head()"
   ]
  },
  {
   "cell_type": "code",
   "execution_count": 979,
   "metadata": {},
   "outputs": [
    {
     "data": {
      "text/html": [
       "<div>\n",
       "<style scoped>\n",
       "    .dataframe tbody tr th:only-of-type {\n",
       "        vertical-align: middle;\n",
       "    }\n",
       "\n",
       "    .dataframe tbody tr th {\n",
       "        vertical-align: top;\n",
       "    }\n",
       "\n",
       "    .dataframe thead th {\n",
       "        text-align: right;\n",
       "    }\n",
       "</style>\n",
       "<table border=\"1\" class=\"dataframe\">\n",
       "  <thead>\n",
       "    <tr style=\"text-align: right;\">\n",
       "      <th></th>\n",
       "      <th>TITLE</th>\n",
       "      <th>FORMAT</th>\n",
       "      <th>SUBJECT</th>\n",
       "      <th>CATEGORY</th>\n",
       "      <th>DIVISION</th>\n",
       "      <th>STATUS</th>\n",
       "    </tr>\n",
       "  </thead>\n",
       "  <tbody>\n",
       "    <tr>\n",
       "      <th>0</th>\n",
       "      <td>168611</td>\n",
       "      <td>MM</td>\n",
       "      <td>NFC</td>\n",
       "      <td>TRU002000</td>\n",
       "      <td>12</td>\n",
       "      <td>IP</td>\n",
       "    </tr>\n",
       "    <tr>\n",
       "      <th>1</th>\n",
       "      <td>152640</td>\n",
       "      <td>TR</td>\n",
       "      <td>FIC</td>\n",
       "      <td>FIC044000</td>\n",
       "      <td>29</td>\n",
       "      <td>OS</td>\n",
       "    </tr>\n",
       "    <tr>\n",
       "      <th>2</th>\n",
       "      <td>114404</td>\n",
       "      <td>HC</td>\n",
       "      <td>FIC</td>\n",
       "      <td>FIC030000</td>\n",
       "      <td>29</td>\n",
       "      <td>IP</td>\n",
       "    </tr>\n",
       "    <tr>\n",
       "      <th>3</th>\n",
       "      <td>175471</td>\n",
       "      <td>HC</td>\n",
       "      <td>NFC</td>\n",
       "      <td>CKB085000</td>\n",
       "      <td>97</td>\n",
       "      <td>IP</td>\n",
       "    </tr>\n",
       "    <tr>\n",
       "      <th>4</th>\n",
       "      <td>185266</td>\n",
       "      <td>MM</td>\n",
       "      <td>FIC</td>\n",
       "      <td>FIC030000</td>\n",
       "      <td>73</td>\n",
       "      <td>IP</td>\n",
       "    </tr>\n",
       "  </tbody>\n",
       "</table>\n",
       "</div>"
      ],
      "text/plain": [
       "    TITLE FORMAT SUBJECT   CATEGORY DIVISION STATUS\n",
       "0  168611     MM     NFC  TRU002000       12     IP\n",
       "1  152640     TR     FIC  FIC044000       29     OS\n",
       "2  114404     HC     FIC  FIC030000       29     IP\n",
       "3  175471     HC     NFC  CKB085000       97     IP\n",
       "4  185266     MM     FIC  FIC030000       73     IP"
      ]
     },
     "execution_count": 979,
     "metadata": {},
     "output_type": "execute_result"
    }
   ],
   "source": [
    "df_meta.head()"
   ]
  },
  {
   "cell_type": "code",
   "execution_count": 846,
   "metadata": {
    "scrolled": false
   },
   "outputs": [
    {
     "name": "stdout",
     "output_type": "stream",
     "text": [
      "(1200, 4)\n",
      "(400, 4)\n",
      "(1000, 6)\n"
     ]
    }
   ],
   "source": [
    "print(df_train.shape)\n",
    "print(df_test.shape)\n",
    "print(df_meta.shape)"
   ]
  },
  {
   "cell_type": "markdown",
   "metadata": {},
   "source": [
    "The data (both train and test) needs to be transformed at first. The original data contains both current and future sales. However, since we need to predict future sales based on other variables, these values will be used as a dependent variable in the regression problem. In addition, we append additional metadata to sales data in order to create an initial matrix of explanatory variables. "
   ]
  },
  {
   "cell_type": "code",
   "execution_count": 863,
   "metadata": {
    "scrolled": true
   },
   "outputs": [],
   "source": [
    "train_sorted = df_train.sort_values(by = 'CAL_WEEK')\n",
    "dftr1 = train_sorted.groupby('TITLE').nth(0).reset_index()\n",
    "dftr2 = train_sorted.groupby('TITLE').nth(1).reset_index()[['TITLE', 'SALES']]\n",
    "dftr2.columns = ['TITLE', 'FUTURE_SALES']\n",
    "dftrain = pd.merge(dftr1, dftr2, on='TITLE')\n",
    "train = pd.merge(dftrain, df_meta, on='TITLE')"
   ]
  },
  {
   "cell_type": "code",
   "execution_count": 864,
   "metadata": {
    "scrolled": false
   },
   "outputs": [],
   "source": [
    "test_sorted = df_test.sort_values(by = 'CAL_WEEK')\n",
    "dftest1 = test_sorted.groupby('TITLE').nth(0).reset_index()\n",
    "dftest2 = test_sorted.groupby('TITLE').nth(1).reset_index()[['TITLE', 'SALES']]\n",
    "dftest2.columns = ['TITLE', 'FUTURE_SALES']\n",
    "dftest = pd.merge(dftest1, dftest2, on='TITLE')\n",
    "test = pd.merge(dftest, df_meta, on='TITLE')"
   ]
  },
  {
   "cell_type": "markdown",
   "metadata": {},
   "source": [
    "Checking for null values and duplicated rows - there are none in either dataset:"
   ]
  },
  {
   "cell_type": "code",
   "execution_count": 850,
   "metadata": {},
   "outputs": [
    {
     "data": {
      "text/html": [
       "<div>\n",
       "<style scoped>\n",
       "    .dataframe tbody tr th:only-of-type {\n",
       "        vertical-align: middle;\n",
       "    }\n",
       "\n",
       "    .dataframe tbody tr th {\n",
       "        vertical-align: top;\n",
       "    }\n",
       "\n",
       "    .dataframe thead th {\n",
       "        text-align: right;\n",
       "    }\n",
       "</style>\n",
       "<table border=\"1\" class=\"dataframe\">\n",
       "  <thead>\n",
       "    <tr style=\"text-align: right;\">\n",
       "      <th></th>\n",
       "      <th>TITLE</th>\n",
       "      <th>CAL_WEEK</th>\n",
       "      <th>SALES</th>\n",
       "      <th>TITLE_WEEK</th>\n",
       "      <th>FUTURE_SALES</th>\n",
       "      <th>FORMAT</th>\n",
       "      <th>SUBJECT</th>\n",
       "      <th>CATEGORY</th>\n",
       "      <th>DIVISION</th>\n",
       "      <th>STATUS</th>\n",
       "    </tr>\n",
       "  </thead>\n",
       "  <tbody>\n",
       "  </tbody>\n",
       "</table>\n",
       "</div>"
      ],
      "text/plain": [
       "Empty DataFrame\n",
       "Columns: [TITLE, CAL_WEEK, SALES, TITLE_WEEK, FUTURE_SALES, FORMAT, SUBJECT, CATEGORY, DIVISION, STATUS]\n",
       "Index: []"
      ]
     },
     "execution_count": 850,
     "metadata": {},
     "output_type": "execute_result"
    }
   ],
   "source": [
    "train[train.isnull().apply(lambda x: max(x), axis=1)]"
   ]
  },
  {
   "cell_type": "code",
   "execution_count": 851,
   "metadata": {},
   "outputs": [
    {
     "data": {
      "text/html": [
       "<div>\n",
       "<style scoped>\n",
       "    .dataframe tbody tr th:only-of-type {\n",
       "        vertical-align: middle;\n",
       "    }\n",
       "\n",
       "    .dataframe tbody tr th {\n",
       "        vertical-align: top;\n",
       "    }\n",
       "\n",
       "    .dataframe thead th {\n",
       "        text-align: right;\n",
       "    }\n",
       "</style>\n",
       "<table border=\"1\" class=\"dataframe\">\n",
       "  <thead>\n",
       "    <tr style=\"text-align: right;\">\n",
       "      <th></th>\n",
       "      <th>TITLE</th>\n",
       "      <th>CAL_WEEK</th>\n",
       "      <th>SALES</th>\n",
       "      <th>TITLE_WEEK</th>\n",
       "      <th>FUTURE_SALES</th>\n",
       "      <th>FORMAT</th>\n",
       "      <th>SUBJECT</th>\n",
       "      <th>CATEGORY</th>\n",
       "      <th>DIVISION</th>\n",
       "      <th>STATUS</th>\n",
       "    </tr>\n",
       "  </thead>\n",
       "  <tbody>\n",
       "  </tbody>\n",
       "</table>\n",
       "</div>"
      ],
      "text/plain": [
       "Empty DataFrame\n",
       "Columns: [TITLE, CAL_WEEK, SALES, TITLE_WEEK, FUTURE_SALES, FORMAT, SUBJECT, CATEGORY, DIVISION, STATUS]\n",
       "Index: []"
      ]
     },
     "execution_count": 851,
     "metadata": {},
     "output_type": "execute_result"
    }
   ],
   "source": [
    "test[test.isnull().apply(lambda x: max(x), axis=1)]"
   ]
  },
  {
   "cell_type": "code",
   "execution_count": 852,
   "metadata": {},
   "outputs": [
    {
     "data": {
      "text/html": [
       "<div>\n",
       "<style scoped>\n",
       "    .dataframe tbody tr th:only-of-type {\n",
       "        vertical-align: middle;\n",
       "    }\n",
       "\n",
       "    .dataframe tbody tr th {\n",
       "        vertical-align: top;\n",
       "    }\n",
       "\n",
       "    .dataframe thead th {\n",
       "        text-align: right;\n",
       "    }\n",
       "</style>\n",
       "<table border=\"1\" class=\"dataframe\">\n",
       "  <thead>\n",
       "    <tr style=\"text-align: right;\">\n",
       "      <th></th>\n",
       "      <th>TITLE</th>\n",
       "      <th>CAL_WEEK</th>\n",
       "      <th>SALES</th>\n",
       "      <th>TITLE_WEEK</th>\n",
       "      <th>FUTURE_SALES</th>\n",
       "      <th>FORMAT</th>\n",
       "      <th>SUBJECT</th>\n",
       "      <th>CATEGORY</th>\n",
       "      <th>DIVISION</th>\n",
       "      <th>STATUS</th>\n",
       "    </tr>\n",
       "  </thead>\n",
       "  <tbody>\n",
       "  </tbody>\n",
       "</table>\n",
       "</div>"
      ],
      "text/plain": [
       "Empty DataFrame\n",
       "Columns: [TITLE, CAL_WEEK, SALES, TITLE_WEEK, FUTURE_SALES, FORMAT, SUBJECT, CATEGORY, DIVISION, STATUS]\n",
       "Index: []"
      ]
     },
     "execution_count": 852,
     "metadata": {},
     "output_type": "execute_result"
    }
   ],
   "source": [
    "train[train.duplicated()]"
   ]
  },
  {
   "cell_type": "code",
   "execution_count": 853,
   "metadata": {
    "scrolled": true
   },
   "outputs": [
    {
     "data": {
      "text/html": [
       "<div>\n",
       "<style scoped>\n",
       "    .dataframe tbody tr th:only-of-type {\n",
       "        vertical-align: middle;\n",
       "    }\n",
       "\n",
       "    .dataframe tbody tr th {\n",
       "        vertical-align: top;\n",
       "    }\n",
       "\n",
       "    .dataframe thead th {\n",
       "        text-align: right;\n",
       "    }\n",
       "</style>\n",
       "<table border=\"1\" class=\"dataframe\">\n",
       "  <thead>\n",
       "    <tr style=\"text-align: right;\">\n",
       "      <th></th>\n",
       "      <th>TITLE</th>\n",
       "      <th>CAL_WEEK</th>\n",
       "      <th>SALES</th>\n",
       "      <th>TITLE_WEEK</th>\n",
       "      <th>FUTURE_SALES</th>\n",
       "      <th>FORMAT</th>\n",
       "      <th>SUBJECT</th>\n",
       "      <th>CATEGORY</th>\n",
       "      <th>DIVISION</th>\n",
       "      <th>STATUS</th>\n",
       "    </tr>\n",
       "  </thead>\n",
       "  <tbody>\n",
       "  </tbody>\n",
       "</table>\n",
       "</div>"
      ],
      "text/plain": [
       "Empty DataFrame\n",
       "Columns: [TITLE, CAL_WEEK, SALES, TITLE_WEEK, FUTURE_SALES, FORMAT, SUBJECT, CATEGORY, DIVISION, STATUS]\n",
       "Index: []"
      ]
     },
     "execution_count": 853,
     "metadata": {},
     "output_type": "execute_result"
    }
   ],
   "source": [
    "test[test.duplicated()]"
   ]
  },
  {
   "cell_type": "code",
   "execution_count": 849,
   "metadata": {
    "scrolled": true
   },
   "outputs": [
    {
     "data": {
      "text/html": [
       "<div>\n",
       "<style scoped>\n",
       "    .dataframe tbody tr th:only-of-type {\n",
       "        vertical-align: middle;\n",
       "    }\n",
       "\n",
       "    .dataframe tbody tr th {\n",
       "        vertical-align: top;\n",
       "    }\n",
       "\n",
       "    .dataframe thead th {\n",
       "        text-align: right;\n",
       "    }\n",
       "</style>\n",
       "<table border=\"1\" class=\"dataframe\">\n",
       "  <thead>\n",
       "    <tr style=\"text-align: right;\">\n",
       "      <th></th>\n",
       "      <th>TITLE</th>\n",
       "      <th>CAL_WEEK</th>\n",
       "      <th>SALES</th>\n",
       "      <th>TITLE_WEEK</th>\n",
       "      <th>FUTURE_SALES</th>\n",
       "      <th>FORMAT</th>\n",
       "      <th>SUBJECT</th>\n",
       "      <th>CATEGORY</th>\n",
       "      <th>DIVISION</th>\n",
       "      <th>STATUS</th>\n",
       "    </tr>\n",
       "  </thead>\n",
       "  <tbody>\n",
       "    <tr>\n",
       "      <th>0</th>\n",
       "      <td>100268</td>\n",
       "      <td>22</td>\n",
       "      <td>858</td>\n",
       "      <td>1</td>\n",
       "      <td>282</td>\n",
       "      <td>TR</td>\n",
       "      <td>NFC</td>\n",
       "      <td>BIO026000</td>\n",
       "      <td>29</td>\n",
       "      <td>IP</td>\n",
       "    </tr>\n",
       "    <tr>\n",
       "      <th>1</th>\n",
       "      <td>100300</td>\n",
       "      <td>38</td>\n",
       "      <td>743</td>\n",
       "      <td>1</td>\n",
       "      <td>219</td>\n",
       "      <td>TR</td>\n",
       "      <td>FIC</td>\n",
       "      <td>CGN004080</td>\n",
       "      <td>EK</td>\n",
       "      <td>IP</td>\n",
       "    </tr>\n",
       "    <tr>\n",
       "      <th>2</th>\n",
       "      <td>100338</td>\n",
       "      <td>8</td>\n",
       "      <td>274</td>\n",
       "      <td>1</td>\n",
       "      <td>107</td>\n",
       "      <td>HC</td>\n",
       "      <td>FIC</td>\n",
       "      <td>FIC006000</td>\n",
       "      <td>63</td>\n",
       "      <td>IP</td>\n",
       "    </tr>\n",
       "    <tr>\n",
       "      <th>3</th>\n",
       "      <td>100402</td>\n",
       "      <td>43</td>\n",
       "      <td>456</td>\n",
       "      <td>1</td>\n",
       "      <td>139</td>\n",
       "      <td>TR</td>\n",
       "      <td>NFC</td>\n",
       "      <td>HIS006000</td>\n",
       "      <td>89</td>\n",
       "      <td>IP</td>\n",
       "    </tr>\n",
       "    <tr>\n",
       "      <th>4</th>\n",
       "      <td>101714</td>\n",
       "      <td>51</td>\n",
       "      <td>202</td>\n",
       "      <td>171</td>\n",
       "      <td>166</td>\n",
       "      <td>TR</td>\n",
       "      <td>NFC</td>\n",
       "      <td>HIS002020</td>\n",
       "      <td>9X</td>\n",
       "      <td>IP</td>\n",
       "    </tr>\n",
       "  </tbody>\n",
       "</table>\n",
       "</div>"
      ],
      "text/plain": [
       "    TITLE  CAL_WEEK  SALES  TITLE_WEEK  FUTURE_SALES FORMAT SUBJECT  \\\n",
       "0  100268        22    858           1           282     TR     NFC   \n",
       "1  100300        38    743           1           219     TR     FIC   \n",
       "2  100338         8    274           1           107     HC     FIC   \n",
       "3  100402        43    456           1           139     TR     NFC   \n",
       "4  101714        51    202         171           166     TR     NFC   \n",
       "\n",
       "    CATEGORY DIVISION STATUS  \n",
       "0  BIO026000       29     IP  \n",
       "1  CGN004080       EK     IP  \n",
       "2  FIC006000       63     IP  \n",
       "3  HIS006000       89     IP  \n",
       "4  HIS002020       9X     IP  "
      ]
     },
     "execution_count": 849,
     "metadata": {},
     "output_type": "execute_result"
    }
   ],
   "source": [
    "train.head()"
   ]
  },
  {
   "cell_type": "markdown",
   "metadata": {},
   "source": [
    "Then we'll proceed with feature engineering for train data. There are three different formats of the book, and the data contains a lot of observations for each one. This might be a useful feature, therefore we create dummies (in both train and test data) to get rid of the categorical format: "
   ]
  },
  {
   "cell_type": "code",
   "execution_count": 854,
   "metadata": {},
   "outputs": [
    {
     "data": {
      "text/plain": [
       "HC    292\n",
       "TR    241\n",
       "MM     67\n",
       "Name: FORMAT, dtype: int64"
      ]
     },
     "execution_count": 854,
     "metadata": {},
     "output_type": "execute_result"
    }
   ],
   "source": [
    "train['FORMAT'].value_counts()"
   ]
  },
  {
   "cell_type": "code",
   "execution_count": 865,
   "metadata": {},
   "outputs": [],
   "source": [
    "train = pd.get_dummies(train, columns=['FORMAT'])\n",
    "test = pd.get_dummies(test, columns=['FORMAT'])"
   ]
  },
  {
   "cell_type": "markdown",
   "metadata": {},
   "source": [
    "There are also three subjects of the book. Within each subject, there are several categories that produce high cardinality (a large number of unique values). It is highly likely that the model will overfit to the training data if we use data on categories because it is too detailed to generalize well. Thus, we'll ignore the CATEGORY column but nevertheless create dummies for the SUBJECT column."
   ]
  },
  {
   "cell_type": "code",
   "execution_count": 866,
   "metadata": {
    "scrolled": true
   },
   "outputs": [
    {
     "data": {
      "text/plain": [
       "FIC    228\n",
       "NFC    205\n",
       "JUV    167\n",
       "Name: SUBJECT, dtype: int64"
      ]
     },
     "execution_count": 866,
     "metadata": {},
     "output_type": "execute_result"
    }
   ],
   "source": [
    "train['SUBJECT'].value_counts()"
   ]
  },
  {
   "cell_type": "code",
   "execution_count": 867,
   "metadata": {},
   "outputs": [
    {
     "data": {
      "text/plain": [
       "SUBJECT  CATEGORY\n",
       "FIC      FIC         216\n",
       "         CGN          12\n",
       "JUV      JUV         117\n",
       "         JNF          31\n",
       "         YAF          19\n",
       "NFC      CKB          41\n",
       "         BIO          20\n",
       "         BUS          18\n",
       "         SEL          18\n",
       "         SOC          13\n",
       "         HEA          12\n",
       "         HUM          10\n",
       "         PSY           9\n",
       "         TRU           9\n",
       "         GAM           8\n",
       "Name: CATEGORY, dtype: int64"
      ]
     },
     "execution_count": 867,
     "metadata": {},
     "output_type": "execute_result"
    }
   ],
   "source": [
    "train['CATEGORY'] = train['CATEGORY'].str[0:3]\n",
    "train.groupby('SUBJECT')['CATEGORY'].value_counts().head(15)"
   ]
  },
  {
   "cell_type": "code",
   "execution_count": 868,
   "metadata": {},
   "outputs": [],
   "source": [
    "train = pd.get_dummies(train, columns=['SUBJECT'])\n",
    "test = pd.get_dummies(test, columns=['SUBJECT'])"
   ]
  },
  {
   "cell_type": "markdown",
   "metadata": {},
   "source": [
    "If we check the STATUS column, we can notice that roughly 90% of the observations have 'IP' as a value for this factor while the remaining 10% have any of the other 7 labels. Thus, there is no need in creating 8 dummy variables. We can create just one - a binary variable indicating whether status = 'IP' or not."
   ]
  },
  {
   "cell_type": "code",
   "execution_count": 869,
   "metadata": {
    "scrolled": true
   },
   "outputs": [
    {
     "data": {
      "text/plain": [
       "IP    536\n",
       "HT     37\n",
       "NR      8\n",
       "OS      7\n",
       "XD      5\n",
       "OP      3\n",
       "RM      3\n",
       "RI      1\n",
       "Name: STATUS, dtype: int64"
      ]
     },
     "execution_count": 869,
     "metadata": {},
     "output_type": "execute_result"
    }
   ],
   "source": [
    "train['STATUS'].value_counts()"
   ]
  },
  {
   "cell_type": "code",
   "execution_count": 870,
   "metadata": {},
   "outputs": [],
   "source": [
    "train['STATUS_IP'] = np.where(train['STATUS'] == 'IP', 1, 0)\n",
    "test['STATUS_IP'] = np.where(test['STATUS'] == 'IP', 1, 0)"
   ]
  },
  {
   "cell_type": "markdown",
   "metadata": {},
   "source": [
    "Finally, the DIVISION variable also contains a lot of unique values (high cardinality problem) and does not seem to be informative; therefore, it won't be used in the analysis."
   ]
  },
  {
   "cell_type": "code",
   "execution_count": 873,
   "metadata": {
    "scrolled": false
   },
   "outputs": [
    {
     "data": {
      "text/plain": [
       "54"
      ]
     },
     "execution_count": 873,
     "metadata": {},
     "output_type": "execute_result"
    }
   ],
   "source": [
    "train['DIVISION'].nunique()"
   ]
  },
  {
   "cell_type": "markdown",
   "metadata": {},
   "source": [
    "Before creating any model, let's take a look at the pairplot of continuous variables which would show both joint relationships and histograms for univariate distributions:"
   ]
  },
  {
   "cell_type": "code",
   "execution_count": 980,
   "metadata": {
    "scrolled": true
   },
   "outputs": [
    {
     "data": {
      "image/png": "[encoded data removed]",
      "text/plain": [
       "<Figure size 720x720 with 20 Axes>"
      ]
     },
     "metadata": {
      "needs_background": "light"
     },
     "output_type": "display_data"
    }
   ],
   "source": [
    "pairplot = sns.pairplot(train[['FUTURE_SALES', 'SALES', 'CAL_WEEK', 'TITLE_WEEK']]);"
   ]
  },
  {
   "cell_type": "code",
   "execution_count": 982,
   "metadata": {},
   "outputs": [],
   "source": [
    "fig2 = pairplot.fig\n",
    "fig2.savefig('pairplot.png') "
   ]
  },
  {
   "cell_type": "markdown",
   "metadata": {},
   "source": [
    "What we can notice is that there is a possible linear dependence between current and future sales (though the majority of points are in the lower-left corner). No linear dependence is observed with regards to other explanatory variables."
   ]
  },
  {
   "cell_type": "code",
   "execution_count": 990,
   "metadata": {},
   "outputs": [
    {
     "data": {
      "image/png": "[encoded data removed]",
      "text/plain": [
       "<Figure size 864x864 with 1 Axes>"
      ]
     },
     "metadata": {
      "needs_background": "light"
     },
     "output_type": "display_data"
    }
   ],
   "source": [
    "fig = plt.figure(figsize=(12, 12));\n",
    "plt.scatter(train['SALES'],train['FUTURE_SALES']);\n",
    "plt.xlabel('Sales in period N', size = 18)\n",
    "plt.xticks(size = 16)\n",
    "plt.ylabel('Sales in period N+1', size = 18)\n",
    "plt.yticks(size = 16)\n",
    "#plt.title('Relationship between current and future sales', size = 22);\n",
    "plt.savefig('scatter.png')"
   ]
  },
  {
   "cell_type": "markdown",
   "metadata": {},
   "source": [
    "Moving on to machine learning techniques, we will consider the following features for the analysis:"
   ]
  },
  {
   "cell_type": "code",
   "execution_count": 879,
   "metadata": {},
   "outputs": [],
   "source": [
    "features_to_include = ['CAL_WEEK', 'SALES', 'TITLE_WEEK', 'STATUS_IP', 'SUBJECT_FIC', 'SUBJECT_JUV',\n",
    "                      'SUBJECT_NFC', 'FORMAT_HC', 'FORMAT_TR']"
   ]
  },
  {
   "cell_type": "code",
   "execution_count": 880,
   "metadata": {},
   "outputs": [],
   "source": [
    "X_train = train[features_to_include]\n",
    "X_test = test[features_to_include]\n",
    "\n",
    "y_train = train['FUTURE_SALES']\n",
    "y_test = test['FUTURE_SALES']"
   ]
  },
  {
   "cell_type": "markdown",
   "metadata": {},
   "source": [
    "The most direct approach is linear regression. However, it is necessary to check for multicollinearity (substantial correlation between different explanatory variables) at first since it can cause inconsistent estimators. We'll do that by taking a look at the correlation matrix:"
   ]
  },
  {
   "cell_type": "code",
   "execution_count": 1000,
   "metadata": {
    "scrolled": true
   },
   "outputs": [
    {
     "data": {
      "image/png": "[encoded data removed]",
      "text/plain": [
       "<Figure size 720x720 with 2 Axes>"
      ]
     },
     "metadata": {
      "needs_background": "light"
     },
     "output_type": "display_data"
    }
   ],
   "source": [
    "plt.figure(figsize=(10,10))\n",
    "cor = final_df.corr()\n",
    "heat_map2 = sns.heatmap(cor, annot=True, annot_kws={\"size\": 13}, cmap='coolwarm')\n",
    "heat_map2.set_xticklabels(heat_map2.get_xticklabels(), size = 13, rotation=35)\n",
    "heat_map.set_yticklabels(heat_map.get_yticklabels(), size = 18)\n",
    "plt.show()"
   ]
  },
  {
   "cell_type": "code",
   "execution_count": 1001,
   "metadata": {},
   "outputs": [],
   "source": [
    "fig3 = heat_map2.get_figure()\n",
    "fig3.savefig('multicor_map.png') "
   ]
  },
  {
   "cell_type": "markdown",
   "metadata": {},
   "source": [
    "We can notice a high negative correlation between:\n",
    "\n",
    "1. Hardcover and trade paperback book formats\n",
    "2. Fiction and non-fiction books;\n",
    "\n",
    "The coefficient of correlation for fiction/kids and non-fiction/kids books is also substantial though tolerable since it does not exceed 0.5. Therefore, we can't use the ordinary linear regression model. It is necessary to introduce regularization if we decide to use all the features."
   ]
  },
  {
   "cell_type": "markdown",
   "metadata": {},
   "source": [
    "There is also a high correlation between current and future sales which supports the assumption stated earlier regarding linear dependence between the variables."
   ]
  },
  {
   "cell_type": "code",
   "execution_count": 883,
   "metadata": {
    "scrolled": true
   },
   "outputs": [
    {
     "data": {
      "text/plain": [
       "SALES           0.71899\n",
       "FUTURE_SALES    1.00000\n",
       "Name: FUTURE_SALES, dtype: float64"
      ]
     },
     "execution_count": 883,
     "metadata": {},
     "output_type": "execute_result"
    }
   ],
   "source": [
    "cor_target = abs(cor[\"FUTURE_SALES\"])\n",
    "cor_target[cor_target>0.3]"
   ]
  },
  {
   "cell_type": "markdown",
   "metadata": {},
   "source": [
    "As a next step, we introduce the feature selection algorithm which is based on entropy estimation from k-nearest neighbours distances and used to evaluate feature importances with the help of mutual information value.\n",
    "\n",
    "The model suggests that almost every feature is completely useless (i.e. dependent and explanatory variables are independent) in predicting future sales. Current sales (as expected) are the most important feature while calendar week and indicator of non-fiction type of the book are slightly influential as well. If we use these three features only, that eliminates the multicollinearity problem and multiple linear regression can be used."
   ]
  },
  {
   "cell_type": "code",
   "execution_count": 884,
   "metadata": {},
   "outputs": [],
   "source": [
    "from sklearn import feature_selection\n",
    "feature_rank = feature_selection.mutual_info_regression(pd.concat([X_train, X_test]), pd.concat([y_train, y_test]))"
   ]
  },
  {
   "cell_type": "code",
   "execution_count": 889,
   "metadata": {},
   "outputs": [
    {
     "data": {
      "text/html": [
       "<div>\n",
       "<style scoped>\n",
       "    .dataframe tbody tr th:only-of-type {\n",
       "        vertical-align: middle;\n",
       "    }\n",
       "\n",
       "    .dataframe tbody tr th {\n",
       "        vertical-align: top;\n",
       "    }\n",
       "\n",
       "    .dataframe thead th {\n",
       "        text-align: right;\n",
       "    }\n",
       "</style>\n",
       "<table border=\"1\" class=\"dataframe\">\n",
       "  <thead>\n",
       "    <tr style=\"text-align: right;\">\n",
       "      <th></th>\n",
       "      <th>Feature</th>\n",
       "      <th>Score</th>\n",
       "    </tr>\n",
       "  </thead>\n",
       "  <tbody>\n",
       "    <tr>\n",
       "      <th>1</th>\n",
       "      <td>SALES</td>\n",
       "      <td>0.271259</td>\n",
       "    </tr>\n",
       "    <tr>\n",
       "      <th>0</th>\n",
       "      <td>CAL_WEEK</td>\n",
       "      <td>0.022451</td>\n",
       "    </tr>\n",
       "    <tr>\n",
       "      <th>6</th>\n",
       "      <td>SUBJECT_NFC</td>\n",
       "      <td>0.002828</td>\n",
       "    </tr>\n",
       "    <tr>\n",
       "      <th>2</th>\n",
       "      <td>TITLE_WEEK</td>\n",
       "      <td>0.000000</td>\n",
       "    </tr>\n",
       "    <tr>\n",
       "      <th>3</th>\n",
       "      <td>STATUS_IP</td>\n",
       "      <td>0.000000</td>\n",
       "    </tr>\n",
       "    <tr>\n",
       "      <th>4</th>\n",
       "      <td>SUBJECT_FIC</td>\n",
       "      <td>0.000000</td>\n",
       "    </tr>\n",
       "    <tr>\n",
       "      <th>5</th>\n",
       "      <td>SUBJECT_JUV</td>\n",
       "      <td>0.000000</td>\n",
       "    </tr>\n",
       "    <tr>\n",
       "      <th>7</th>\n",
       "      <td>FORMAT_HC</td>\n",
       "      <td>0.000000</td>\n",
       "    </tr>\n",
       "    <tr>\n",
       "      <th>8</th>\n",
       "      <td>FORMAT_TR</td>\n",
       "      <td>0.000000</td>\n",
       "    </tr>\n",
       "  </tbody>\n",
       "</table>\n",
       "</div>"
      ],
      "text/plain": [
       "       Feature     Score\n",
       "1        SALES  0.271259\n",
       "0     CAL_WEEK  0.022451\n",
       "6  SUBJECT_NFC  0.002828\n",
       "2   TITLE_WEEK  0.000000\n",
       "3    STATUS_IP  0.000000\n",
       "4  SUBJECT_FIC  0.000000\n",
       "5  SUBJECT_JUV  0.000000\n",
       "7    FORMAT_HC  0.000000\n",
       "8    FORMAT_TR  0.000000"
      ]
     },
     "execution_count": 889,
     "metadata": {},
     "output_type": "execute_result"
    }
   ],
   "source": [
    "feature_rank_df = pd.DataFrame(list(zip(features_to_include, feature_rank)), columns=['Feature', 'Score'])\n",
    "feature_rank_df.sort_values(by='Score', ascending = False)"
   ]
  },
  {
   "cell_type": "code",
   "execution_count": 890,
   "metadata": {},
   "outputs": [],
   "source": [
    "useful_feat = [x for x in feature_rank_df[feature_rank_df['Score'] > 0]['Feature']]"
   ]
  },
  {
   "cell_type": "markdown",
   "metadata": {},
   "source": [
    "##### Linear Regression Model"
   ]
  },
  {
   "cell_type": "code",
   "execution_count": 891,
   "metadata": {},
   "outputs": [],
   "source": [
    "lr_model = sk.linear_model.LinearRegression()\n",
    "model = lr_model.fit(X_train[useful_feat], y_train)"
   ]
  },
  {
   "cell_type": "code",
   "execution_count": 893,
   "metadata": {},
   "outputs": [
    {
     "name": "stdout",
     "output_type": "stream",
     "text": [
      "The coefficient of determination R^2 for train data is 0.5315\n",
      "The coefficient of determination R^2 for test data is 0.5033\n"
     ]
    }
   ],
   "source": [
    "print(\"The coefficient of determination R^2 for train data is\", round(model.score(X_train[useful_feat], y_train), 4))\n",
    "print(\"The coefficient of determination R^2 for test data is\", round(model.score(X_test[useful_feat], y_test), 4))"
   ]
  },
  {
   "cell_type": "markdown",
   "metadata": {},
   "source": [
    "Unfortunately, only 53% and 50% of the variance is explained for train and test data respectively. This is quite a poor result; however, it could be expected given that it is the simplest model for regression problems."
   ]
  },
  {
   "cell_type": "markdown",
   "metadata": {},
   "source": [
    "##### Lasso Regression Model"
   ]
  },
  {
   "cell_type": "markdown",
   "metadata": {},
   "source": [
    "Since we did not take into account many features, it might be worth trying to include all of them. However, it was mentioned that this brings multicollinearity. That's why it is necessary to introduce regularization. Lasso is one of the models that is used to address over-fitting and feature selection."
   ]
  },
  {
   "cell_type": "code",
   "execution_count": 911,
   "metadata": {},
   "outputs": [],
   "source": [
    "LassoReg = sk.linear_model.Lasso(alpha = 0.5)\n",
    "lassomod = LassoReg.fit(X_train, y_train)"
   ]
  },
  {
   "cell_type": "code",
   "execution_count": 912,
   "metadata": {},
   "outputs": [
    {
     "name": "stdout",
     "output_type": "stream",
     "text": [
      "The coefficient of determination R^2 for train data is 0.5556\n",
      "The coefficient of determination R^2 for test data is 0.5177\n"
     ]
    }
   ],
   "source": [
    "print(\"The coefficient of determination R^2 for train data is\", round(lassomod.score(X_train, y_train), 4))\n",
    "print(\"The coefficient of determination R^2 for test data is\", round(lassomod.score(X_test, y_test), 4))"
   ]
  },
  {
   "cell_type": "markdown",
   "metadata": {},
   "source": [
    "The $R^2$ coefficient became just a bit higher yet it is still rather low for both data sets."
   ]
  },
  {
   "cell_type": "markdown",
   "metadata": {},
   "source": [
    "While linear regression is one of the most common methods, it is not as flexible because it can't follow non-linear dependencies. If we use more complex methods, there is a high chance we'll be able to identify trends and patterns better."
   ]
  },
  {
   "cell_type": "markdown",
   "metadata": {},
   "source": [
    "##### Gradient Boosting"
   ]
  },
  {
   "cell_type": "markdown",
   "metadata": {},
   "source": [
    "Gradient Boosting is considered to be powerful. It builds many decision trees in series, where the subsequent model is built on the error from the previous model. In this configuration, additional models are fit on the effects that were not captured in the previous model. GB is a tree-based model and hence does not require feature scaling. It is quite hard to determine the best parameters for this method; that's why GridSearchCV will be performed."
   ]
  },
  {
   "cell_type": "code",
   "execution_count": 927,
   "metadata": {},
   "outputs": [],
   "source": [
    "parameters = {'max_depth': list(range(1, 15)), 'min_samples_leaf': list(range(1,10))}"
   ]
  },
  {
   "cell_type": "code",
   "execution_count": 928,
   "metadata": {},
   "outputs": [],
   "source": [
    "from sklearn.ensemble import GradientBoostingRegressor"
   ]
  },
  {
   "cell_type": "code",
   "execution_count": 929,
   "metadata": {},
   "outputs": [
    {
     "data": {
      "text/plain": [
       "GridSearchCV(cv=5, error_score='raise-deprecating',\n",
       "       estimator=GradientBoostingRegressor(alpha=0.9, criterion='friedman_mse', init=None,\n",
       "             learning_rate=0.1, loss='ls', max_depth=3, max_features=None,\n",
       "             max_leaf_nodes=None, min_impurity_decrease=0.0,\n",
       "             min_impurity_split=None, min_samples_leaf=1,\n",
       "             min_sampl...=None, subsample=1.0, tol=0.0001,\n",
       "             validation_fraction=0.1, verbose=0, warm_start=False),\n",
       "       fit_params=None, iid='warn', n_jobs=-1,\n",
       "       param_grid={'max_depth': [1, 2, 3, 4, 5, 6, 7, 8, 9, 10, 11, 12, 13, 14], 'min_samples_leaf': [1, 2, 3, 4, 5, 6, 7, 8, 9]},\n",
       "       pre_dispatch='2*n_jobs', refit=True, return_train_score='warn',\n",
       "       scoring=None, verbose=0)"
      ]
     },
     "execution_count": 929,
     "metadata": {},
     "output_type": "execute_result"
    }
   ],
   "source": [
    "gbr = GradientBoostingRegressor(n_estimators=100)\n",
    "gcv = GridSearchCV(gbr, parameters, n_jobs = -1, cv = 5)\n",
    "gcv.fit(X_train, y_train)"
   ]
  },
  {
   "cell_type": "code",
   "execution_count": 930,
   "metadata": {},
   "outputs": [
    {
     "data": {
      "text/plain": [
       "{'max_depth': 3, 'min_samples_leaf': 9}"
      ]
     },
     "execution_count": 930,
     "metadata": {},
     "output_type": "execute_result"
    }
   ],
   "source": [
    "gcv.best_params_"
   ]
  },
  {
   "cell_type": "code",
   "execution_count": 931,
   "metadata": {},
   "outputs": [
    {
     "name": "stdout",
     "output_type": "stream",
     "text": [
      "The coefficient of determination R^2 for train data is 0.8221\n",
      "The coefficient of determination R^2 for test data is 0.6384\n"
     ]
    }
   ],
   "source": [
    "gbm = GradientBoostingRegressor(max_depth = 3, min_samples_leaf = 9)\n",
    "gbm.fit(X_train, y_train)\n",
    "print('The coefficient of determination R^2 for train data is', round(gbm.score(X_train, y_train), 4))\n",
    "print('The coefficient of determination R^2 for test data is', round(gbm.score(X_test, y_test), 4))"
   ]
  },
  {
   "cell_type": "markdown",
   "metadata": {},
   "source": [
    "With Gradient Boosting, we reached some improvements and reached the highest score among all the models used. However, it is clear that the model overfits - there is almost a 20% difference in the $R^2$ score. Apparently, we don't have as many features that would contain enough information for an algorithm to learn effectively and predict quite accurately - thus, even the boosting model had a lot of errors. "
   ]
  },
  {
   "cell_type": "markdown",
   "metadata": {},
   "source": [
    "Furthermore, the Gradient Boosting model has a great advantage over many other models - it provides the most important features. The figure below shows which variables turned out to be the greatest contributors; those are current sales, calendar week, title week (length of the time since the book was published). Features associated with subject and format appeared to be the least useful."
   ]
  },
  {
   "cell_type": "code",
   "execution_count": 1010,
   "metadata": {
    "scrolled": true
   },
   "outputs": [
    {
     "data": {
      "image/png": "[encoded data removed]",
      "text/plain": [
       "<Figure size 864x864 with 1 Axes>"
      ]
     },
     "metadata": {
      "needs_background": "light"
     },
     "output_type": "display_data"
    }
   ],
   "source": [
    "gbm_feat_importances = pd.DataFrame(list(zip(features_to_include,gbm.feature_importances_)), columns=['Feature','Importance'])\n",
    "gbm_feat_importances.sort_values(by='Importance', inplace=True)\n",
    "plt.figure(figsize=[12,12])\n",
    "plt.xlabel('Feature Importance Coefficient', size = 16)\n",
    "plt.xticks(size = 14)\n",
    "plt.yticks(size = 12)\n",
    "plt.title('Feature Importance, Gradient Boosting Model', fontsize = 20)\n",
    "plt.barh(gbm_feat_importances['Feature'],gbm_feat_importances['Importance']);\n",
    "plt.savefig('feat.png')"
   ]
  },
  {
   "cell_type": "markdown",
   "metadata": {},
   "source": [
    "Furthermore, we can calculate errors using test data only. First, we predict future sales and then compare the outcome with real sales."
   ]
  },
  {
   "cell_type": "code",
   "execution_count": 935,
   "metadata": {},
   "outputs": [],
   "source": [
    "predictions = gbm.predict(X_test)"
   ]
  },
  {
   "cell_type": "code",
   "execution_count": 936,
   "metadata": {},
   "outputs": [],
   "source": [
    "error_df = pd.concat([test[['TITLE', 'FUTURE_SALES']], round(pd.DataFrame(predictions, columns = ['SALES_PREDICTION']), 2)], axis = 1)\n",
    "error_df['ERROR'] = abs(error_df['FUTURE_SALES'] - error_df['SALES_PREDICTION']) \n",
    "error_df = error_df.sort_values(by = 'ERROR', ascending=False)"
   ]
  },
  {
   "cell_type": "markdown",
   "metadata": {},
   "source": [
    "Below is the table showing ten books which have the largest error:"
   ]
  },
  {
   "cell_type": "code",
   "execution_count": 937,
   "metadata": {
    "scrolled": true
   },
   "outputs": [
    {
     "data": {
      "text/html": [
       "<div>\n",
       "<style scoped>\n",
       "    .dataframe tbody tr th:only-of-type {\n",
       "        vertical-align: middle;\n",
       "    }\n",
       "\n",
       "    .dataframe tbody tr th {\n",
       "        vertical-align: top;\n",
       "    }\n",
       "\n",
       "    .dataframe thead th {\n",
       "        text-align: right;\n",
       "    }\n",
       "</style>\n",
       "<table border=\"1\" class=\"dataframe\">\n",
       "  <thead>\n",
       "    <tr style=\"text-align: right;\">\n",
       "      <th></th>\n",
       "      <th>TITLE</th>\n",
       "      <th>FUTURE_SALES</th>\n",
       "      <th>SALES_PREDICTION</th>\n",
       "      <th>ERROR</th>\n",
       "    </tr>\n",
       "  </thead>\n",
       "  <tbody>\n",
       "    <tr>\n",
       "      <th>111</th>\n",
       "      <td>150091</td>\n",
       "      <td>1071</td>\n",
       "      <td>517.22</td>\n",
       "      <td>553.78</td>\n",
       "    </tr>\n",
       "    <tr>\n",
       "      <th>120</th>\n",
       "      <td>155474</td>\n",
       "      <td>486</td>\n",
       "      <td>906.75</td>\n",
       "      <td>420.75</td>\n",
       "    </tr>\n",
       "    <tr>\n",
       "      <th>29</th>\n",
       "      <td>114404</td>\n",
       "      <td>21</td>\n",
       "      <td>425.00</td>\n",
       "      <td>404.00</td>\n",
       "    </tr>\n",
       "    <tr>\n",
       "      <th>28</th>\n",
       "      <td>114253</td>\n",
       "      <td>870</td>\n",
       "      <td>1202.97</td>\n",
       "      <td>332.97</td>\n",
       "    </tr>\n",
       "    <tr>\n",
       "      <th>184</th>\n",
       "      <td>189644</td>\n",
       "      <td>128</td>\n",
       "      <td>425.84</td>\n",
       "      <td>297.84</td>\n",
       "    </tr>\n",
       "    <tr>\n",
       "      <th>179</th>\n",
       "      <td>187982</td>\n",
       "      <td>12</td>\n",
       "      <td>299.11</td>\n",
       "      <td>287.11</td>\n",
       "    </tr>\n",
       "    <tr>\n",
       "      <th>90</th>\n",
       "      <td>140114</td>\n",
       "      <td>476</td>\n",
       "      <td>191.67</td>\n",
       "      <td>284.33</td>\n",
       "    </tr>\n",
       "    <tr>\n",
       "      <th>115</th>\n",
       "      <td>152873</td>\n",
       "      <td>636</td>\n",
       "      <td>361.63</td>\n",
       "      <td>274.37</td>\n",
       "    </tr>\n",
       "    <tr>\n",
       "      <th>10</th>\n",
       "      <td>106570</td>\n",
       "      <td>12</td>\n",
       "      <td>282.13</td>\n",
       "      <td>270.13</td>\n",
       "    </tr>\n",
       "    <tr>\n",
       "      <th>45</th>\n",
       "      <td>123504</td>\n",
       "      <td>150</td>\n",
       "      <td>414.95</td>\n",
       "      <td>264.95</td>\n",
       "    </tr>\n",
       "  </tbody>\n",
       "</table>\n",
       "</div>"
      ],
      "text/plain": [
       "      TITLE  FUTURE_SALES  SALES_PREDICTION   ERROR\n",
       "111  150091          1071            517.22  553.78\n",
       "120  155474           486            906.75  420.75\n",
       "29   114404            21            425.00  404.00\n",
       "28   114253           870           1202.97  332.97\n",
       "184  189644           128            425.84  297.84\n",
       "179  187982            12            299.11  287.11\n",
       "90   140114           476            191.67  284.33\n",
       "115  152873           636            361.63  274.37\n",
       "10   106570            12            282.13  270.13\n",
       "45   123504           150            414.95  264.95"
      ]
     },
     "execution_count": 937,
     "metadata": {},
     "output_type": "execute_result"
    }
   ],
   "source": [
    "error_df.head(10)"
   ]
  },
  {
   "cell_type": "markdown",
   "metadata": {},
   "source": [
    "Let's take a look at the values of the explanatory variables for those books:"
   ]
  },
  {
   "cell_type": "code",
   "execution_count": 938,
   "metadata": {},
   "outputs": [],
   "source": [
    "titles = error_df.head(10)['TITLE']"
   ]
  },
  {
   "cell_type": "code",
   "execution_count": 940,
   "metadata": {
    "scrolled": true
   },
   "outputs": [
    {
     "data": {
      "text/html": [
       "<div>\n",
       "<style scoped>\n",
       "    .dataframe tbody tr th:only-of-type {\n",
       "        vertical-align: middle;\n",
       "    }\n",
       "\n",
       "    .dataframe tbody tr th {\n",
       "        vertical-align: top;\n",
       "    }\n",
       "\n",
       "    .dataframe thead th {\n",
       "        text-align: right;\n",
       "    }\n",
       "</style>\n",
       "<table border=\"1\" class=\"dataframe\">\n",
       "  <thead>\n",
       "    <tr style=\"text-align: right;\">\n",
       "      <th></th>\n",
       "      <th>TITLE</th>\n",
       "      <th>CAL_WEEK</th>\n",
       "      <th>SALES</th>\n",
       "      <th>TITLE_WEEK</th>\n",
       "      <th>FUTURE_SALES</th>\n",
       "      <th>FORMAT_HC</th>\n",
       "      <th>FORMAT_MM</th>\n",
       "      <th>FORMAT_TR</th>\n",
       "      <th>SUBJECT_FIC</th>\n",
       "      <th>SUBJECT_JUV</th>\n",
       "      <th>SUBJECT_NFC</th>\n",
       "      <th>STATUS_IP</th>\n",
       "    </tr>\n",
       "  </thead>\n",
       "  <tbody>\n",
       "    <tr>\n",
       "      <th>10</th>\n",
       "      <td>106570</td>\n",
       "      <td>37</td>\n",
       "      <td>342</td>\n",
       "      <td>3397</td>\n",
       "      <td>12</td>\n",
       "      <td>1</td>\n",
       "      <td>0</td>\n",
       "      <td>0</td>\n",
       "      <td>0</td>\n",
       "      <td>1</td>\n",
       "      <td>0</td>\n",
       "      <td>1</td>\n",
       "    </tr>\n",
       "    <tr>\n",
       "      <th>28</th>\n",
       "      <td>114253</td>\n",
       "      <td>50</td>\n",
       "      <td>921</td>\n",
       "      <td>7</td>\n",
       "      <td>870</td>\n",
       "      <td>0</td>\n",
       "      <td>0</td>\n",
       "      <td>1</td>\n",
       "      <td>1</td>\n",
       "      <td>0</td>\n",
       "      <td>0</td>\n",
       "      <td>1</td>\n",
       "    </tr>\n",
       "    <tr>\n",
       "      <th>29</th>\n",
       "      <td>114404</td>\n",
       "      <td>38</td>\n",
       "      <td>830</td>\n",
       "      <td>1</td>\n",
       "      <td>21</td>\n",
       "      <td>1</td>\n",
       "      <td>0</td>\n",
       "      <td>0</td>\n",
       "      <td>1</td>\n",
       "      <td>0</td>\n",
       "      <td>0</td>\n",
       "      <td>1</td>\n",
       "    </tr>\n",
       "    <tr>\n",
       "      <th>45</th>\n",
       "      <td>123504</td>\n",
       "      <td>45</td>\n",
       "      <td>594</td>\n",
       "      <td>6</td>\n",
       "      <td>150</td>\n",
       "      <td>0</td>\n",
       "      <td>0</td>\n",
       "      <td>1</td>\n",
       "      <td>0</td>\n",
       "      <td>0</td>\n",
       "      <td>1</td>\n",
       "      <td>1</td>\n",
       "    </tr>\n",
       "    <tr>\n",
       "      <th>90</th>\n",
       "      <td>140114</td>\n",
       "      <td>25</td>\n",
       "      <td>248</td>\n",
       "      <td>13</td>\n",
       "      <td>476</td>\n",
       "      <td>1</td>\n",
       "      <td>0</td>\n",
       "      <td>0</td>\n",
       "      <td>0</td>\n",
       "      <td>1</td>\n",
       "      <td>0</td>\n",
       "      <td>1</td>\n",
       "    </tr>\n",
       "    <tr>\n",
       "      <th>111</th>\n",
       "      <td>150091</td>\n",
       "      <td>13</td>\n",
       "      <td>792</td>\n",
       "      <td>10</td>\n",
       "      <td>1071</td>\n",
       "      <td>0</td>\n",
       "      <td>0</td>\n",
       "      <td>1</td>\n",
       "      <td>1</td>\n",
       "      <td>0</td>\n",
       "      <td>0</td>\n",
       "      <td>1</td>\n",
       "    </tr>\n",
       "    <tr>\n",
       "      <th>115</th>\n",
       "      <td>152873</td>\n",
       "      <td>47</td>\n",
       "      <td>421</td>\n",
       "      <td>4</td>\n",
       "      <td>636</td>\n",
       "      <td>1</td>\n",
       "      <td>0</td>\n",
       "      <td>0</td>\n",
       "      <td>0</td>\n",
       "      <td>0</td>\n",
       "      <td>1</td>\n",
       "      <td>1</td>\n",
       "    </tr>\n",
       "    <tr>\n",
       "      <th>120</th>\n",
       "      <td>155474</td>\n",
       "      <td>30</td>\n",
       "      <td>920</td>\n",
       "      <td>9</td>\n",
       "      <td>486</td>\n",
       "      <td>0</td>\n",
       "      <td>1</td>\n",
       "      <td>0</td>\n",
       "      <td>1</td>\n",
       "      <td>0</td>\n",
       "      <td>0</td>\n",
       "      <td>1</td>\n",
       "    </tr>\n",
       "    <tr>\n",
       "      <th>179</th>\n",
       "      <td>187982</td>\n",
       "      <td>7</td>\n",
       "      <td>330</td>\n",
       "      <td>834</td>\n",
       "      <td>12</td>\n",
       "      <td>0</td>\n",
       "      <td>0</td>\n",
       "      <td>1</td>\n",
       "      <td>0</td>\n",
       "      <td>1</td>\n",
       "      <td>0</td>\n",
       "      <td>1</td>\n",
       "    </tr>\n",
       "    <tr>\n",
       "      <th>184</th>\n",
       "      <td>189644</td>\n",
       "      <td>24</td>\n",
       "      <td>587</td>\n",
       "      <td>6</td>\n",
       "      <td>128</td>\n",
       "      <td>0</td>\n",
       "      <td>0</td>\n",
       "      <td>1</td>\n",
       "      <td>0</td>\n",
       "      <td>0</td>\n",
       "      <td>1</td>\n",
       "      <td>1</td>\n",
       "    </tr>\n",
       "  </tbody>\n",
       "</table>\n",
       "</div>"
      ],
      "text/plain": [
       "      TITLE  CAL_WEEK  SALES  TITLE_WEEK  FUTURE_SALES  FORMAT_HC  FORMAT_MM  \\\n",
       "10   106570        37    342        3397            12          1          0   \n",
       "28   114253        50    921           7           870          0          0   \n",
       "29   114404        38    830           1            21          1          0   \n",
       "45   123504        45    594           6           150          0          0   \n",
       "90   140114        25    248          13           476          1          0   \n",
       "111  150091        13    792          10          1071          0          0   \n",
       "115  152873        47    421           4           636          1          0   \n",
       "120  155474        30    920           9           486          0          1   \n",
       "179  187982         7    330         834            12          0          0   \n",
       "184  189644        24    587           6           128          0          0   \n",
       "\n",
       "     FORMAT_TR  SUBJECT_FIC  SUBJECT_JUV  SUBJECT_NFC  STATUS_IP  \n",
       "10           0            0            1            0          1  \n",
       "28           1            1            0            0          1  \n",
       "29           0            1            0            0          1  \n",
       "45           1            0            0            1          1  \n",
       "90           0            0            1            0          1  \n",
       "111          1            1            0            0          1  \n",
       "115          0            0            0            1          1  \n",
       "120          0            1            0            0          1  \n",
       "179          1            0            1            0          1  \n",
       "184          1            0            0            1          1  "
      ]
     },
     "execution_count": 940,
     "metadata": {},
     "output_type": "execute_result"
    }
   ],
   "source": [
    "test.drop(['CATEGORY', 'DIVISION', 'STATUS'], axis = 1).loc[test['TITLE'].isin(list(titles))]"
   ]
  },
  {
   "cell_type": "markdown",
   "metadata": {},
   "source": [
    "At first sight, these books have nothing in common when it comes to explanatory variables. However, we can notice a huge difference between current and future sales. So, these books experienced an extremely sharp increase/decrease in sales in period N+1 which the model was not able to catch. We already know that other explanatory variables are not as useful in predicting; therefore, they could hardly contribute to the extent of errors.  "
   ]
  },
  {
   "cell_type": "markdown",
   "metadata": {},
   "source": [
    "Having done some research, there are several factors which we suppose could have made a difference in the results.\n",
    "\n",
    "Now we don't know anything about authors. The visibility/popularity might be an important feature. Also, the previous sales of an author (not just one particular book) over a reasonable time span (i.e. a year) can be a good feature. GB model indicated that calendar week is somewhat important. Since the year is unknown, it is difficult to create other time features such as month or season; however, their explanation power is likely to be higher because more books might be sold during holidays. \n"
   ]
  }
 ],
 "metadata": {
  "kernelspec": {
   "display_name": "Python 3",
   "language": "python",
   "name": "python3"
  },
  "language_info": {
   "codemirror_mode": {
    "name": "ipython",
    "version": 3
   },
   "file_extension": ".py",
   "mimetype": "text/x-python",
   "name": "python",
   "nbconvert_exporter": "python",
   "pygments_lexer": "ipython3",
   "version": "3.7.1"
  }
 },
 "nbformat": 4,
 "nbformat_minor": 2
}
