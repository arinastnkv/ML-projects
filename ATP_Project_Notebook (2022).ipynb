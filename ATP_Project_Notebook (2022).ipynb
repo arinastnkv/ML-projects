{
  "nbformat": 4,
  "nbformat_minor": 0,
  "metadata": {
    "kernelspec": {
      "display_name": "Python 3",
      "language": "python",
      "name": "python3"
    },
    "language_info": {
      "codemirror_mode": {
        "name": "ipython",
        "version": 3
      },
      "file_extension": ".py",
      "mimetype": "text/x-python",
      "name": "python",
      "nbconvert_exporter": "python",
      "pygments_lexer": "ipython3",
      "version": "3.7.1"
    },
    "colab": {
      "name": "Copy of ATP_Project_Notebook.ipynb",
      "provenance": [],
      "collapsed_sections": [],
      "toc_visible": true
    }
  },
  "cells": [
    {
      "cell_type": "markdown",
      "metadata": {
        "id": "vkle_s_CWu_x"
      },
      "source": [
        "## ATP Men's Tennis Predictions (2022)"
      ]
    },
    {
      "cell_type": "markdown",
      "metadata": {
        "id": "tWbrWs-aWu_4"
      },
      "source": [
        "In this tennis project, I look at the data containing results for the men’s ATP Tour tournaments as well as a range of ITF-level events (the Olympic Tennis Tournament and the Davis Cup). Those are the most prestgious tennis tournaments which the majority of top-tier athletes take part in.\n",
        "\n",
        "The goal is to learn to predict the outcome of tennis matches based on the available information about players' personal characteristics and previous matches stats. I will try to solve two types of problems: regression and binary classification problems.\n",
        "\n",
        "In regression problem, I aim to predict the difference in final score between the winner and the loser. In classification problem, I will simply try to answer which of the two player is more likely to win and what the odds are. "
      ]
    },
    {
      "cell_type": "markdown",
      "metadata": {
        "id": "XNzf_51EWu_6"
      },
      "source": [
        "Initially, there are 23 yearly datasets that contain the information on all tennis matches taking place from January 2000 to December 2021.\n",
        "\n",
        "Below is the meaning of possibly confusing columns of the dataset:\n",
        "\n",
        "* w/l_ace = absolute number of aces performed by the winner/loser\n",
        "* w/l_df = number of double faults performed by the winner/loser\n",
        "* w/l_svpt = total serve points performed by the winner/loser\n",
        "* w/l_1stin = number of 1st serves in performed by the winner/loser\n",
        "* w/l_1st won = points won on 1st serve by the winner/loser\n",
        "* w/l_2ndwon = points won on 2nd serve by the winner/loser\n",
        "* w/l_SvGms = serve games performed by the winner/loser\n",
        "* w/l_bpSaved = number of break points saved by the winner/loser\n",
        "* w/l_bpFaced = number of break points faced by the winner/loser\n",
        "* winner/loser_entry = indication of whether the winner/loser gained indirect acceptance (i.e. as a qualifier or wild card) into the main draw of a tournament\n",
        "* winner/loser_hand = winner's/loser's dominant hand\n",
        "* winner/loser_ht = winner's/loser's height\n",
        "* winner/loser_ioc = winner's/loser's home country"
      ]
    },
    {
      "cell_type": "markdown",
      "metadata": {
        "id": "l6jWUIqBWu_9"
      },
      "source": [
        "#### Data cleaning and feature engineering "
      ]
    },
    {
      "cell_type": "code",
      "metadata": {
        "id": "2P0jtI8lWvAD"
      },
      "source": [
        "import pandas as pd\n",
        "import numpy as np\n",
        "import sklearn as sk\n",
        "from sklearn.model_selection import train_test_split\n",
        "from sklearn.linear_model import LinearRegression\n",
        "from sklearn.linear_model import LogisticRegression\n",
        "from sklearn import feature_selection\n",
        "from sklearn.ensemble import RandomForestRegressor\n",
        "from sklearn.model_selection import GridSearchCV\n",
        "import matplotlib.pyplot as plt\n",
        "import seaborn as sns\n",
        "import warnings\n",
        "warnings.filterwarnings('ignore')\n",
        "%matplotlib inline"
      ],
      "execution_count": 1,
      "outputs": []
    },
    {
      "cell_type": "code",
      "metadata": {
        "id": "d64V14qTW1k4",
        "outputId": "33e7399f-5eef-435f-ee78-337e948988d4",
        "colab": {
          "base_uri": "https://localhost:8080/"
        }
      },
      "source": [
        "from google.colab import drive\n",
        "drive.mount('/content/gdrive', force_remount=True)"
      ],
      "execution_count": 2,
      "outputs": [
        {
          "output_type": "stream",
          "name": "stdout",
          "text": [
            "Mounted at /content/gdrive\n"
          ]
        }
      ]
    },
    {
      "cell_type": "markdown",
      "metadata": {
        "id": "y4SbTqwjWvAO"
      },
      "source": [
        "Importing the following dataframes and merging them into one dataset:"
      ]
    },
    {
      "cell_type": "code",
      "metadata": {
        "scrolled": false,
        "id": "VssmiOSuWvAR",
        "outputId": "4450fd49-3445-4723-d58f-c654fa04fe27",
        "colab": {
          "base_uri": "https://localhost:8080/"
        }
      },
      "source": [
        "import glob\n",
        "print('All csv files in data directory:', glob.glob('/content/gdrive/My Drive/Brainstation/ATP/atp_matches_*.csv'))"
      ],
      "execution_count": 3,
      "outputs": [
        {
          "output_type": "stream",
          "name": "stdout",
          "text": [
            "All csv files in data directory: []\n"
          ]
        }
      ]
    },
    {
      "cell_type": "code",
      "metadata": {
        "id": "9eU42mlHWvAY"
      },
      "source": [
        "file_name = '/content/gdrive/My Drive/Tennis/ATP/atp_matches_{}.csv'\n",
        "atp_l = []\n",
        "for i in range(2000, 2022):\n",
        "    atp_l.append(pd.read_csv(file_name.format(i)))\n",
        "atp = pd.concat(atp_l)"
      ],
      "execution_count": 4,
      "outputs": []
    },
    {
      "cell_type": "markdown",
      "metadata": {
        "id": "eWsysDzBWvAc"
      },
      "source": [
        "Let's take a look at the fisrt five rows and the information about the dataset. "
      ]
    },
    {
      "cell_type": "code",
      "metadata": {
        "scrolled": false,
        "id": "pybenIs4WvAh",
        "outputId": "8b44cbe7-94da-4e71-bf21-dca6922091b7",
        "colab": {
          "base_uri": "https://localhost:8080/",
          "height": 297
        }
      },
      "source": [
        "atp.head()"
      ],
      "execution_count": 5,
      "outputs": [
        {
          "output_type": "execute_result",
          "data": {
            "text/plain": [
              "  tourney_id tourney_name surface  draw_size tourney_level  tourney_date  \\\n",
              "0   2000-339     Adelaide    Hard        NaN             A      20000103   \n",
              "1   2000-339     Adelaide    Hard        NaN             A      20000103   \n",
              "2   2000-339     Adelaide    Hard        NaN             A      20000103   \n",
              "3   2000-339     Adelaide    Hard        NaN             A      20000103   \n",
              "4   2000-339     Adelaide    Hard        NaN             A      20000103   \n",
              "\n",
              "   match_num  winner_id  winner_seed winner_entry  ... l_1stIn l_1stWon  \\\n",
              "0          1     102358          1.0          NaN  ...    37.0     25.0   \n",
              "1          2     103819          NaN          NaN  ...    15.0     13.0   \n",
              "2          3     102998          NaN          NaN  ...    59.0     49.0   \n",
              "3          4     103206          7.0          NaN  ...    22.0     12.0   \n",
              "4          5     102796          3.0          NaN  ...    40.0     25.0   \n",
              "\n",
              "   l_2ndWon l_SvGms  l_bpSaved  l_bpFaced  winner_rank winner_rank_points  \\\n",
              "0      13.0     9.0        2.0        4.0          4.0             1850.0   \n",
              "1      12.0     8.0        0.0        3.0         64.0              515.0   \n",
              "2      22.0    16.0        4.0        5.0         58.0              544.0   \n",
              "3       8.0     8.0        1.0        6.0         27.0              928.0   \n",
              "4      16.0    10.0        7.0       10.0         15.0             1244.0   \n",
              "\n",
              "  loser_rank loser_rank_points  \n",
              "0       56.0             490.0  \n",
              "1       91.0             404.0  \n",
              "2      105.0             243.0  \n",
              "3       54.0             602.0  \n",
              "4      154.0             219.0  \n",
              "\n",
              "[5 rows x 49 columns]"
            ],
            "text/html": [
              "\n",
              "  <div id=\"df-8c2bd909-4233-4cde-a4af-9276174c1387\">\n",
              "    <div class=\"colab-df-container\">\n",
              "      <div>\n",
              "<style scoped>\n",
              "    .dataframe tbody tr th:only-of-type {\n",
              "        vertical-align: middle;\n",
              "    }\n",
              "\n",
              "    .dataframe tbody tr th {\n",
              "        vertical-align: top;\n",
              "    }\n",
              "\n",
              "    .dataframe thead th {\n",
              "        text-align: right;\n",
              "    }\n",
              "</style>\n",
              "<table border=\"1\" class=\"dataframe\">\n",
              "  <thead>\n",
              "    <tr style=\"text-align: right;\">\n",
              "      <th></th>\n",
              "      <th>tourney_id</th>\n",
              "      <th>tourney_name</th>\n",
              "      <th>surface</th>\n",
              "      <th>draw_size</th>\n",
              "      <th>tourney_level</th>\n",
              "      <th>tourney_date</th>\n",
              "      <th>match_num</th>\n",
              "      <th>winner_id</th>\n",
              "      <th>winner_seed</th>\n",
              "      <th>winner_entry</th>\n",
              "      <th>...</th>\n",
              "      <th>l_1stIn</th>\n",
              "      <th>l_1stWon</th>\n",
              "      <th>l_2ndWon</th>\n",
              "      <th>l_SvGms</th>\n",
              "      <th>l_bpSaved</th>\n",
              "      <th>l_bpFaced</th>\n",
              "      <th>winner_rank</th>\n",
              "      <th>winner_rank_points</th>\n",
              "      <th>loser_rank</th>\n",
              "      <th>loser_rank_points</th>\n",
              "    </tr>\n",
              "  </thead>\n",
              "  <tbody>\n",
              "    <tr>\n",
              "      <th>0</th>\n",
              "      <td>2000-339</td>\n",
              "      <td>Adelaide</td>\n",
              "      <td>Hard</td>\n",
              "      <td>NaN</td>\n",
              "      <td>A</td>\n",
              "      <td>20000103</td>\n",
              "      <td>1</td>\n",
              "      <td>102358</td>\n",
              "      <td>1.0</td>\n",
              "      <td>NaN</td>\n",
              "      <td>...</td>\n",
              "      <td>37.0</td>\n",
              "      <td>25.0</td>\n",
              "      <td>13.0</td>\n",
              "      <td>9.0</td>\n",
              "      <td>2.0</td>\n",
              "      <td>4.0</td>\n",
              "      <td>4.0</td>\n",
              "      <td>1850.0</td>\n",
              "      <td>56.0</td>\n",
              "      <td>490.0</td>\n",
              "    </tr>\n",
              "    <tr>\n",
              "      <th>1</th>\n",
              "      <td>2000-339</td>\n",
              "      <td>Adelaide</td>\n",
              "      <td>Hard</td>\n",
              "      <td>NaN</td>\n",
              "      <td>A</td>\n",
              "      <td>20000103</td>\n",
              "      <td>2</td>\n",
              "      <td>103819</td>\n",
              "      <td>NaN</td>\n",
              "      <td>NaN</td>\n",
              "      <td>...</td>\n",
              "      <td>15.0</td>\n",
              "      <td>13.0</td>\n",
              "      <td>12.0</td>\n",
              "      <td>8.0</td>\n",
              "      <td>0.0</td>\n",
              "      <td>3.0</td>\n",
              "      <td>64.0</td>\n",
              "      <td>515.0</td>\n",
              "      <td>91.0</td>\n",
              "      <td>404.0</td>\n",
              "    </tr>\n",
              "    <tr>\n",
              "      <th>2</th>\n",
              "      <td>2000-339</td>\n",
              "      <td>Adelaide</td>\n",
              "      <td>Hard</td>\n",
              "      <td>NaN</td>\n",
              "      <td>A</td>\n",
              "      <td>20000103</td>\n",
              "      <td>3</td>\n",
              "      <td>102998</td>\n",
              "      <td>NaN</td>\n",
              "      <td>NaN</td>\n",
              "      <td>...</td>\n",
              "      <td>59.0</td>\n",
              "      <td>49.0</td>\n",
              "      <td>22.0</td>\n",
              "      <td>16.0</td>\n",
              "      <td>4.0</td>\n",
              "      <td>5.0</td>\n",
              "      <td>58.0</td>\n",
              "      <td>544.0</td>\n",
              "      <td>105.0</td>\n",
              "      <td>243.0</td>\n",
              "    </tr>\n",
              "    <tr>\n",
              "      <th>3</th>\n",
              "      <td>2000-339</td>\n",
              "      <td>Adelaide</td>\n",
              "      <td>Hard</td>\n",
              "      <td>NaN</td>\n",
              "      <td>A</td>\n",
              "      <td>20000103</td>\n",
              "      <td>4</td>\n",
              "      <td>103206</td>\n",
              "      <td>7.0</td>\n",
              "      <td>NaN</td>\n",
              "      <td>...</td>\n",
              "      <td>22.0</td>\n",
              "      <td>12.0</td>\n",
              "      <td>8.0</td>\n",
              "      <td>8.0</td>\n",
              "      <td>1.0</td>\n",
              "      <td>6.0</td>\n",
              "      <td>27.0</td>\n",
              "      <td>928.0</td>\n",
              "      <td>54.0</td>\n",
              "      <td>602.0</td>\n",
              "    </tr>\n",
              "    <tr>\n",
              "      <th>4</th>\n",
              "      <td>2000-339</td>\n",
              "      <td>Adelaide</td>\n",
              "      <td>Hard</td>\n",
              "      <td>NaN</td>\n",
              "      <td>A</td>\n",
              "      <td>20000103</td>\n",
              "      <td>5</td>\n",
              "      <td>102796</td>\n",
              "      <td>3.0</td>\n",
              "      <td>NaN</td>\n",
              "      <td>...</td>\n",
              "      <td>40.0</td>\n",
              "      <td>25.0</td>\n",
              "      <td>16.0</td>\n",
              "      <td>10.0</td>\n",
              "      <td>7.0</td>\n",
              "      <td>10.0</td>\n",
              "      <td>15.0</td>\n",
              "      <td>1244.0</td>\n",
              "      <td>154.0</td>\n",
              "      <td>219.0</td>\n",
              "    </tr>\n",
              "  </tbody>\n",
              "</table>\n",
              "<p>5 rows × 49 columns</p>\n",
              "</div>\n",
              "      <button class=\"colab-df-convert\" onclick=\"convertToInteractive('df-8c2bd909-4233-4cde-a4af-9276174c1387')\"\n",
              "              title=\"Convert this dataframe to an interactive table.\"\n",
              "              style=\"display:none;\">\n",
              "        \n",
              "  <svg xmlns=\"http://www.w3.org/2000/svg\" height=\"24px\"viewBox=\"0 0 24 24\"\n",
              "       width=\"24px\">\n",
              "    <path d=\"M0 0h24v24H0V0z\" fill=\"none\"/>\n",
              "    <path d=\"M18.56 5.44l.94 2.06.94-2.06 2.06-.94-2.06-.94-.94-2.06-.94 2.06-2.06.94zm-11 1L8.5 8.5l.94-2.06 2.06-.94-2.06-.94L8.5 2.5l-.94 2.06-2.06.94zm10 10l.94 2.06.94-2.06 2.06-.94-2.06-.94-.94-2.06-.94 2.06-2.06.94z\"/><path d=\"M17.41 7.96l-1.37-1.37c-.4-.4-.92-.59-1.43-.59-.52 0-1.04.2-1.43.59L10.3 9.45l-7.72 7.72c-.78.78-.78 2.05 0 2.83L4 21.41c.39.39.9.59 1.41.59.51 0 1.02-.2 1.41-.59l7.78-7.78 2.81-2.81c.8-.78.8-2.07 0-2.86zM5.41 20L4 18.59l7.72-7.72 1.47 1.35L5.41 20z\"/>\n",
              "  </svg>\n",
              "      </button>\n",
              "      \n",
              "  <style>\n",
              "    .colab-df-container {\n",
              "      display:flex;\n",
              "      flex-wrap:wrap;\n",
              "      gap: 12px;\n",
              "    }\n",
              "\n",
              "    .colab-df-convert {\n",
              "      background-color: #E8F0FE;\n",
              "      border: none;\n",
              "      border-radius: 50%;\n",
              "      cursor: pointer;\n",
              "      display: none;\n",
              "      fill: #1967D2;\n",
              "      height: 32px;\n",
              "      padding: 0 0 0 0;\n",
              "      width: 32px;\n",
              "    }\n",
              "\n",
              "    .colab-df-convert:hover {\n",
              "      background-color: #E2EBFA;\n",
              "      box-shadow: 0px 1px 2px rgba(60, 64, 67, 0.3), 0px 1px 3px 1px rgba(60, 64, 67, 0.15);\n",
              "      fill: #174EA6;\n",
              "    }\n",
              "\n",
              "    [theme=dark] .colab-df-convert {\n",
              "      background-color: #3B4455;\n",
              "      fill: #D2E3FC;\n",
              "    }\n",
              "\n",
              "    [theme=dark] .colab-df-convert:hover {\n",
              "      background-color: #434B5C;\n",
              "      box-shadow: 0px 1px 3px 1px rgba(0, 0, 0, 0.15);\n",
              "      filter: drop-shadow(0px 1px 2px rgba(0, 0, 0, 0.3));\n",
              "      fill: #FFFFFF;\n",
              "    }\n",
              "  </style>\n",
              "\n",
              "      <script>\n",
              "        const buttonEl =\n",
              "          document.querySelector('#df-8c2bd909-4233-4cde-a4af-9276174c1387 button.colab-df-convert');\n",
              "        buttonEl.style.display =\n",
              "          google.colab.kernel.accessAllowed ? 'block' : 'none';\n",
              "\n",
              "        async function convertToInteractive(key) {\n",
              "          const element = document.querySelector('#df-8c2bd909-4233-4cde-a4af-9276174c1387');\n",
              "          const dataTable =\n",
              "            await google.colab.kernel.invokeFunction('convertToInteractive',\n",
              "                                                     [key], {});\n",
              "          if (!dataTable) return;\n",
              "\n",
              "          const docLinkHtml = 'Like what you see? Visit the ' +\n",
              "            '<a target=\"_blank\" href=https://colab.research.google.com/notebooks/data_table.ipynb>data table notebook</a>'\n",
              "            + ' to learn more about interactive tables.';\n",
              "          element.innerHTML = '';\n",
              "          dataTable['output_type'] = 'display_data';\n",
              "          await google.colab.output.renderOutput(dataTable, element);\n",
              "          const docLink = document.createElement('div');\n",
              "          docLink.innerHTML = docLinkHtml;\n",
              "          element.appendChild(docLink);\n",
              "        }\n",
              "      </script>\n",
              "    </div>\n",
              "  </div>\n",
              "  "
            ]
          },
          "metadata": {},
          "execution_count": 5
        }
      ]
    },
    {
      "cell_type": "code",
      "metadata": {
        "id": "5WSnZoYJWvAp",
        "outputId": "e431543a-5643-432e-a849-e39a4648014e",
        "colab": {
          "base_uri": "https://localhost:8080/"
        }
      },
      "source": [
        "atp.info()"
      ],
      "execution_count": 6,
      "outputs": [
        {
          "output_type": "stream",
          "name": "stdout",
          "text": [
            "<class 'pandas.core.frame.DataFrame'>\n",
            "Int64Index: 63619 entries, 0 to 2726\n",
            "Data columns (total 49 columns):\n",
            " #   Column              Non-Null Count  Dtype  \n",
            "---  ------              --------------  -----  \n",
            " 0   tourney_id          63619 non-null  object \n",
            " 1   tourney_name        63619 non-null  object \n",
            " 2   surface             63501 non-null  object \n",
            " 3   draw_size           4189 non-null   float64\n",
            " 4   tourney_level       63619 non-null  object \n",
            " 5   tourney_date        63619 non-null  int64  \n",
            " 6   match_num           63619 non-null  int64  \n",
            " 7   winner_id           63619 non-null  int64  \n",
            " 8   winner_seed         26433 non-null  float64\n",
            " 9   winner_entry        7698 non-null   object \n",
            " 10  winner_name         63619 non-null  object \n",
            " 11  winner_hand         63599 non-null  object \n",
            " 12  winner_ht           58744 non-null  float64\n",
            " 13  winner_ioc          63619 non-null  object \n",
            " 14  winner_age          63605 non-null  float64\n",
            " 15  loser_id            63619 non-null  int64  \n",
            " 16  loser_seed          14426 non-null  float64\n",
            " 17  loser_entry         12648 non-null  object \n",
            " 18  loser_name          63619 non-null  object \n",
            " 19  loser_hand          63572 non-null  object \n",
            " 20  loser_ht            55724 non-null  float64\n",
            " 21  loser_ioc           63619 non-null  object \n",
            " 22  loser_age           63589 non-null  float64\n",
            " 23  score               63618 non-null  object \n",
            " 24  best_of             63619 non-null  int64  \n",
            " 25  round               63619 non-null  object \n",
            " 26  minutes             56502 non-null  float64\n",
            " 27  w_ace               57800 non-null  float64\n",
            " 28  w_df                57800 non-null  float64\n",
            " 29  w_svpt              57800 non-null  float64\n",
            " 30  w_1stIn             57800 non-null  float64\n",
            " 31  w_1stWon            57800 non-null  float64\n",
            " 32  w_2ndWon            57800 non-null  float64\n",
            " 33  w_SvGms             57801 non-null  float64\n",
            " 34  w_bpSaved           57800 non-null  float64\n",
            " 35  w_bpFaced           57800 non-null  float64\n",
            " 36  l_ace               57800 non-null  float64\n",
            " 37  l_df                57800 non-null  float64\n",
            " 38  l_svpt              57800 non-null  float64\n",
            " 39  l_1stIn             57800 non-null  float64\n",
            " 40  l_1stWon            57800 non-null  float64\n",
            " 41  l_2ndWon            57800 non-null  float64\n",
            " 42  l_SvGms             57801 non-null  float64\n",
            " 43  l_bpSaved           57800 non-null  float64\n",
            " 44  l_bpFaced           57800 non-null  float64\n",
            " 45  winner_rank         63102 non-null  float64\n",
            " 46  winner_rank_points  63102 non-null  float64\n",
            " 47  loser_rank          62289 non-null  float64\n",
            " 48  loser_rank_points   62289 non-null  float64\n",
            "dtypes: float64(30), int64(5), object(14)\n",
            "memory usage: 24.3+ MB\n"
          ]
        }
      ]
    },
    {
      "cell_type": "markdown",
      "metadata": {
        "id": "Pjm1InLuWvAt"
      },
      "source": [
        "To begin with, I drop several columns which will not be useful in our case, such as tournament ID, the number of match, player's seed (which is obviously correlated with rank), etc. I also drop draw size column which is empty. We can also notice that out of 63,619 observations the majority of variables do not have as many NaN values. The only columns which are lacking observations are 'winner/loser seed' (which will be dropped) and 'winner/loser entry'. The latter one contains quite important information about the players, therefore it will be necessary to transform the variable in order to reduce the number of missing values."
      ]
    },
    {
      "cell_type": "code",
      "metadata": {
        "id": "mj61uM0LWvAt"
      },
      "source": [
        "atp = atp.drop(['draw_size', 'tourney_id', 'match_num', 'winner_seed', 'loser_seed', 'best_of'], axis = 1)"
      ],
      "execution_count": 7,
      "outputs": []
    },
    {
      "cell_type": "markdown",
      "metadata": {
        "id": "fWa0dBzLWvAw"
      },
      "source": [
        "Next I check if there are any duplicates - turns out there are none:"
      ]
    },
    {
      "cell_type": "code",
      "metadata": {
        "id": "ZJsztH5QWvAx",
        "outputId": "0e19f076-8be9-4fb1-bc62-6d9c45c11487",
        "colab": {
          "base_uri": "https://localhost:8080/",
          "height": 142
        }
      },
      "source": [
        "atp[atp.duplicated()]"
      ],
      "execution_count": 8,
      "outputs": [
        {
          "output_type": "execute_result",
          "data": {
            "text/plain": [
              "Empty DataFrame\n",
              "Columns: [tourney_name, surface, tourney_level, tourney_date, winner_id, winner_entry, winner_name, winner_hand, winner_ht, winner_ioc, winner_age, loser_id, loser_entry, loser_name, loser_hand, loser_ht, loser_ioc, loser_age, score, round, minutes, w_ace, w_df, w_svpt, w_1stIn, w_1stWon, w_2ndWon, w_SvGms, w_bpSaved, w_bpFaced, l_ace, l_df, l_svpt, l_1stIn, l_1stWon, l_2ndWon, l_SvGms, l_bpSaved, l_bpFaced, winner_rank, winner_rank_points, loser_rank, loser_rank_points]\n",
              "Index: []\n",
              "\n",
              "[0 rows x 43 columns]"
            ],
            "text/html": [
              "\n",
              "  <div id=\"df-be580d52-bdd1-48d9-89cc-883b4c07d409\">\n",
              "    <div class=\"colab-df-container\">\n",
              "      <div>\n",
              "<style scoped>\n",
              "    .dataframe tbody tr th:only-of-type {\n",
              "        vertical-align: middle;\n",
              "    }\n",
              "\n",
              "    .dataframe tbody tr th {\n",
              "        vertical-align: top;\n",
              "    }\n",
              "\n",
              "    .dataframe thead th {\n",
              "        text-align: right;\n",
              "    }\n",
              "</style>\n",
              "<table border=\"1\" class=\"dataframe\">\n",
              "  <thead>\n",
              "    <tr style=\"text-align: right;\">\n",
              "      <th></th>\n",
              "      <th>tourney_name</th>\n",
              "      <th>surface</th>\n",
              "      <th>tourney_level</th>\n",
              "      <th>tourney_date</th>\n",
              "      <th>winner_id</th>\n",
              "      <th>winner_entry</th>\n",
              "      <th>winner_name</th>\n",
              "      <th>winner_hand</th>\n",
              "      <th>winner_ht</th>\n",
              "      <th>winner_ioc</th>\n",
              "      <th>...</th>\n",
              "      <th>l_1stIn</th>\n",
              "      <th>l_1stWon</th>\n",
              "      <th>l_2ndWon</th>\n",
              "      <th>l_SvGms</th>\n",
              "      <th>l_bpSaved</th>\n",
              "      <th>l_bpFaced</th>\n",
              "      <th>winner_rank</th>\n",
              "      <th>winner_rank_points</th>\n",
              "      <th>loser_rank</th>\n",
              "      <th>loser_rank_points</th>\n",
              "    </tr>\n",
              "  </thead>\n",
              "  <tbody>\n",
              "  </tbody>\n",
              "</table>\n",
              "<p>0 rows × 43 columns</p>\n",
              "</div>\n",
              "      <button class=\"colab-df-convert\" onclick=\"convertToInteractive('df-be580d52-bdd1-48d9-89cc-883b4c07d409')\"\n",
              "              title=\"Convert this dataframe to an interactive table.\"\n",
              "              style=\"display:none;\">\n",
              "        \n",
              "  <svg xmlns=\"http://www.w3.org/2000/svg\" height=\"24px\"viewBox=\"0 0 24 24\"\n",
              "       width=\"24px\">\n",
              "    <path d=\"M0 0h24v24H0V0z\" fill=\"none\"/>\n",
              "    <path d=\"M18.56 5.44l.94 2.06.94-2.06 2.06-.94-2.06-.94-.94-2.06-.94 2.06-2.06.94zm-11 1L8.5 8.5l.94-2.06 2.06-.94-2.06-.94L8.5 2.5l-.94 2.06-2.06.94zm10 10l.94 2.06.94-2.06 2.06-.94-2.06-.94-.94-2.06-.94 2.06-2.06.94z\"/><path d=\"M17.41 7.96l-1.37-1.37c-.4-.4-.92-.59-1.43-.59-.52 0-1.04.2-1.43.59L10.3 9.45l-7.72 7.72c-.78.78-.78 2.05 0 2.83L4 21.41c.39.39.9.59 1.41.59.51 0 1.02-.2 1.41-.59l7.78-7.78 2.81-2.81c.8-.78.8-2.07 0-2.86zM5.41 20L4 18.59l7.72-7.72 1.47 1.35L5.41 20z\"/>\n",
              "  </svg>\n",
              "      </button>\n",
              "      \n",
              "  <style>\n",
              "    .colab-df-container {\n",
              "      display:flex;\n",
              "      flex-wrap:wrap;\n",
              "      gap: 12px;\n",
              "    }\n",
              "\n",
              "    .colab-df-convert {\n",
              "      background-color: #E8F0FE;\n",
              "      border: none;\n",
              "      border-radius: 50%;\n",
              "      cursor: pointer;\n",
              "      display: none;\n",
              "      fill: #1967D2;\n",
              "      height: 32px;\n",
              "      padding: 0 0 0 0;\n",
              "      width: 32px;\n",
              "    }\n",
              "\n",
              "    .colab-df-convert:hover {\n",
              "      background-color: #E2EBFA;\n",
              "      box-shadow: 0px 1px 2px rgba(60, 64, 67, 0.3), 0px 1px 3px 1px rgba(60, 64, 67, 0.15);\n",
              "      fill: #174EA6;\n",
              "    }\n",
              "\n",
              "    [theme=dark] .colab-df-convert {\n",
              "      background-color: #3B4455;\n",
              "      fill: #D2E3FC;\n",
              "    }\n",
              "\n",
              "    [theme=dark] .colab-df-convert:hover {\n",
              "      background-color: #434B5C;\n",
              "      box-shadow: 0px 1px 3px 1px rgba(0, 0, 0, 0.15);\n",
              "      filter: drop-shadow(0px 1px 2px rgba(0, 0, 0, 0.3));\n",
              "      fill: #FFFFFF;\n",
              "    }\n",
              "  </style>\n",
              "\n",
              "      <script>\n",
              "        const buttonEl =\n",
              "          document.querySelector('#df-be580d52-bdd1-48d9-89cc-883b4c07d409 button.colab-df-convert');\n",
              "        buttonEl.style.display =\n",
              "          google.colab.kernel.accessAllowed ? 'block' : 'none';\n",
              "\n",
              "        async function convertToInteractive(key) {\n",
              "          const element = document.querySelector('#df-be580d52-bdd1-48d9-89cc-883b4c07d409');\n",
              "          const dataTable =\n",
              "            await google.colab.kernel.invokeFunction('convertToInteractive',\n",
              "                                                     [key], {});\n",
              "          if (!dataTable) return;\n",
              "\n",
              "          const docLinkHtml = 'Like what you see? Visit the ' +\n",
              "            '<a target=\"_blank\" href=https://colab.research.google.com/notebooks/data_table.ipynb>data table notebook</a>'\n",
              "            + ' to learn more about interactive tables.';\n",
              "          element.innerHTML = '';\n",
              "          dataTable['output_type'] = 'display_data';\n",
              "          await google.colab.output.renderOutput(dataTable, element);\n",
              "          const docLink = document.createElement('div');\n",
              "          docLink.innerHTML = docLinkHtml;\n",
              "          element.appendChild(docLink);\n",
              "        }\n",
              "      </script>\n",
              "    </div>\n",
              "  </div>\n",
              "  "
            ]
          },
          "metadata": {},
          "execution_count": 8
        }
      ]
    },
    {
      "cell_type": "markdown",
      "metadata": {
        "id": "TU3h-dR0WvA0"
      },
      "source": [
        "To check the data for high cardinality, it is necessary to investigate columns and find out whether any of categorical variables has a large number of unique values:"
      ]
    },
    {
      "cell_type": "code",
      "metadata": {
        "id": "a49VZgXrWvA2",
        "outputId": "83309283-be67-4b92-f6a8-49cd4a60aea2",
        "colab": {
          "base_uri": "https://localhost:8080/"
        }
      },
      "source": [
        "atp.select_dtypes(include=[object]).nunique()"
      ],
      "execution_count": 9,
      "outputs": [
        {
          "output_type": "execute_result",
          "data": {
            "text/plain": [
              "tourney_name      1682\n",
              "surface              5\n",
              "tourney_level        5\n",
              "winner_entry         7\n",
              "winner_name       1569\n",
              "winner_hand          3\n",
              "winner_ioc         105\n",
              "loser_entry          8\n",
              "loser_name        2308\n",
              "loser_hand           3\n",
              "loser_ioc          114\n",
              "score            11247\n",
              "round                9\n",
              "dtype: int64"
            ]
          },
          "metadata": {},
          "execution_count": 9
        }
      ]
    },
    {
      "cell_type": "markdown",
      "metadata": {
        "id": "p_U1GZPtWvA5"
      },
      "source": [
        "Apparently, tourney/winner/loser name columns have a high number of unique values - more than one thousand. That's not unexpected, but that's not a problem as these variables won't be used in the analysis. However, there are two variables, both standing for players' nationality, which might be useful. To get rid of a huge number of categories, those will be transformed later. The score column will be transormed as well into a target variable."
      ]
    },
    {
      "cell_type": "markdown",
      "metadata": {
        "id": "mSHm6H8uWvA7"
      },
      "source": [
        "Then it is necessary to convert categorical data to numerical. For 'surface', 1 means the most used surface while 4 means the least used surface according to the frequency below. None values will be dropped as there are only 80 of them:"
      ]
    },
    {
      "cell_type": "code",
      "metadata": {
        "scrolled": true,
        "id": "eP--OkkTWvA9",
        "outputId": "903784c1-103c-4390-a227-1c9a17db96fa",
        "colab": {
          "base_uri": "https://localhost:8080/"
        }
      },
      "source": [
        "atp['surface'].value_counts()"
      ],
      "execution_count": 10,
      "outputs": [
        {
          "output_type": "execute_result",
          "data": {
            "text/plain": [
              "Hard      34323\n",
              "Clay      20685\n",
              "Grass      6389\n",
              "Carpet     2024\n",
              "None         80\n",
              "Name: surface, dtype: int64"
            ]
          },
          "metadata": {},
          "execution_count": 10
        }
      ]
    },
    {
      "cell_type": "code",
      "metadata": {
        "id": "yXgoMBlMWvBA"
      },
      "source": [
        "atp = atp[atp['surface'] != 'None']\n",
        "atp['surface'] = atp['surface'].map({'Hard' : 1, 'Clay': 2, 'Grass': 3, 'Carpet': 4})"
      ],
      "execution_count": 11,
      "outputs": []
    },
    {
      "cell_type": "markdown",
      "metadata": {
        "id": "T_0CsAkJWvBC"
      },
      "source": [
        "Same approach is used for player's dominant hand except for the fact that right hand will be a default characteristic and marked as zero. The tournaments' level variable is converted according to the ranking of the tournaments with Grand Slams as the most prestigious ones."
      ]
    },
    {
      "cell_type": "code",
      "metadata": {
        "id": "dvHtKcAWWvBC"
      },
      "source": [
        "#R - right-handed, L - left-handed, U - ambidextrous\n",
        "atp['winner_hand'] = atp['winner_hand'].map({'R' : 0, 'L' : 1, 'U' : 2})\n",
        "atp['loser_hand'] = atp['loser_hand'].map({'R' : 0, 'L' : 1, 'U' : 2})"
      ],
      "execution_count": 12,
      "outputs": []
    },
    {
      "cell_type": "code",
      "metadata": {
        "id": "zuT8b0ISWvBE"
      },
      "source": [
        "#A - ATP250 & ATP500, M - ATP Masters 1000, G - Grand Slam, D - Davis Cup, F - Finals & Finals Next Gen\n",
        "atp['tourney_level'] = atp['tourney_level'].map({'G': 1, 'F': 2, 'M': 3, 'A': 4, 'D': 5})"
      ],
      "execution_count": 13,
      "outputs": []
    },
    {
      "cell_type": "markdown",
      "metadata": {
        "scrolled": false,
        "id": "Ft4i9sHeWvBG"
      },
      "source": [
        "It was mentioned that 'winner/loser entry' columns contain a lot of null values which is expected since the majority of the players get to the main draw by their rank, and there are not so many exceptions such as wild cards or qualifiers. However, such information is still valuable, and I decided to create new binary columns; each would indicate particular special conditions under which previously unqualified players got a chance to play in the main draw:"
      ]
    },
    {
      "cell_type": "code",
      "metadata": {
        "id": "W63FEZiiWvBH"
      },
      "source": [
        "#Q - qualifier; WC - wild card; LL - lucky loser, ALT - alternate\n",
        "#PR - protected ranking, SE - special extempt\n",
        "for i in ['winner', 'loser']:\n",
        "    atp['{}_Q'.format(i)] = np.where(atp['{}_entry'.format(i)] == 'Q', 1, 0)\n",
        "    atp['{}_WC'.format(i)] = np.where(((atp['{}_entry'.format(i)] == 'WC') | (atp['{}_entry'.format(i)] == 'SE')), 1, 0)\n",
        "    atp['{}_LL'.format(i)] = np.where(((atp['{}_entry'.format(i)] == 'LL') | (atp['{}_entry'.format(i)] == 'ALT')), 1, 0)"
      ],
      "execution_count": 14,
      "outputs": []
    },
    {
      "cell_type": "markdown",
      "metadata": {
        "id": "1ePYfuAa4AeA"
      },
      "source": [
        "Now it's also necessary to start preparing separate dataset for the classification problem. Since now there are columns for winners and losers, we need to shuffle the observations to be able to create binary dependent variable. To make the dataset balanced, I create 45% of 0's and 65% of 1's:"
      ]
    },
    {
      "cell_type": "code",
      "metadata": {
        "id": "RF4ONjacKCSY"
      },
      "source": [
        "df1, df2 = train_test_split(atp, test_size=0.45)"
      ],
      "execution_count": 15,
      "outputs": []
    },
    {
      "cell_type": "code",
      "metadata": {
        "id": "WOVJntfOKIpT"
      },
      "source": [
        "df1.columns = ['tourney_name', 'surface', 'tourney_level', 'tourney_date', 'p1_id',\n",
        "       'p1_entry', 'p1_name', 'p1_hand', 'p1_ht', 'p1_ioc',\n",
        "       'p1_age', 'p2_id', 'p2_entry', 'p2_name', 'p2_hand',\n",
        "       'p2_ht', 'p2_ioc', 'p2_age', 'score', 'round', 'minutes',\n",
        "       'p1_ace', 'p1_df', 'p1_svpt', 'p1_1stIn', 'p1_1stWon', 'p1_2ndWon', 'p1_SvGms',\n",
        "       'p1_bpSaved', 'p1_bpFaced', 'p2_ace', 'p2_df', 'p2_svpt', 'p2_1stIn',\n",
        "       'p2_1stWon', 'p2_2ndWon', 'p2_SvGms', 'p2_bpSaved', 'p2_bpFaced',\n",
        "       'p1_rank', 'p1_rank_points', 'p2_rank', 'p2_rank_points', 'p1_Q', 'p1_WC', 'p1_LL', 'p2_Q', 'p2_WC',\n",
        "       'p2_LL']\n",
        "df1['outcome'] = 1"
      ],
      "execution_count": 16,
      "outputs": []
    },
    {
      "cell_type": "code",
      "metadata": {
        "id": "ygLv_0O1KdN3"
      },
      "source": [
        "df2.columns = ['tourney_name', 'surface', 'tourney_level', 'tourney_date', 'p2_id',\n",
        "       'p2_entry', 'p2_name', 'p2_hand', 'p2_ht', 'p2_ioc',\n",
        "       'p2_age', 'p1_id', 'p1_entry', 'p1_name', 'p1_hand',\n",
        "       'p1_ht', 'p1_ioc', 'p1_age', 'score', 'round', 'minutes',\n",
        "       'p2_ace', 'p2_df', 'p2_svpt', 'p2_1stIn', 'p2_1stWon', 'p2_2ndWon', 'p2_SvGms',\n",
        "       'p2_bpSaved', 'p2_bpFaced', 'p1_ace', 'p1_df', 'p1_svpt', 'p1_1stIn',\n",
        "       'p1_1stWon', 'p1_2ndWon', 'p1_SvGms', 'p1_bpSaved', 'p1_bpFaced',\n",
        "       'p2_rank', 'p2_rank_points', 'p1_rank', 'p1_rank_points', 'p2_Q', 'p2_WC', 'p2_LL', 'p1_Q', 'p1_WC',\n",
        "       'p1_LL']\n",
        "df2['outcome'] = 0"
      ],
      "execution_count": 17,
      "outputs": []
    },
    {
      "cell_type": "code",
      "metadata": {
        "id": "ho_m2eaSKoVo"
      },
      "source": [
        "atp_class = pd.concat([df1, df2])"
      ],
      "execution_count": 18,
      "outputs": []
    },
    {
      "cell_type": "markdown",
      "metadata": {
        "id": "GQtlwcz-WvBI"
      },
      "source": [
        "While age and height are extremely important, it is worth introducing new variables describing the difference in height/age between the two players. In my opinion, those have more explanationary power and will help to get better predictions:"
      ]
    },
    {
      "cell_type": "code",
      "metadata": {
        "id": "ataslR8uWvBJ"
      },
      "source": [
        "atp['ht_diff'] = atp['winner_ht'] - atp['loser_ht']\n",
        "atp['age_diff'] = atp['winner_age'] - atp['loser_age']\n",
        "\n",
        "atp_class['ht_diff'] = atp_class['p1_ht'] - atp_class['p2_ht']\n",
        "atp_class['age_diff'] = atp_class['p1_age'] - atp_class['p2_age']"
      ],
      "execution_count": 19,
      "outputs": []
    },
    {
      "cell_type": "code",
      "metadata": {
        "id": "ZnPZagXOWvBL"
      },
      "source": [
        "atp = atp.dropna(subset=['ht_diff', 'winner_hand', 'loser_hand'])\n",
        "\n",
        "atp_class = atp_class.dropna(subset=['ht_diff', 'p1_hand', 'p2_hand'])"
      ],
      "execution_count": 20,
      "outputs": []
    },
    {
      "cell_type": "markdown",
      "metadata": {
        "id": "GZ8MBA71WvBM"
      },
      "source": [
        "At the beginning I found out that there are two categorical variables with many categories which can be used further. However, it is not that important to know precisely about a player's nationality. What can be informative is whether a player is from a leading tennis nation (i.e. which has huge internal competition, tennis traditions, tennis celebrities). I created a binary varible indicating that. The player is assigned with a value 1 if he is from any of 15 countries with the biggest number of representatives in the ATP tour, and 0 otherwise:"
      ]
    },
    {
      "cell_type": "code",
      "metadata": {
        "id": "kLGyBT77WvBN"
      },
      "source": [
        "big_countries = ['ESP', 'FRA', 'USA', 'ARG', 'GER', 'RUS', 'SUI', 'CZE', 'CRO', \n",
        "                 'AUS', 'SRB', 'ITA', 'SWE', 'GBR', 'BEL']\n",
        "for i in ['winner', 'loser']:\n",
        "    atp['{}_sign_country'.format(i)] = np.where(atp['{}_ioc'.format(i)].isin(big_countries), 1, 0)\n",
        "\n",
        "for i in ['p1', 'p2']:\n",
        "    atp_class['{}_sign_country'.format(i)] = np.where(atp_class['{}_ioc'.format(i)].isin(big_countries), 1, 0)"
      ],
      "execution_count": 21,
      "outputs": []
    },
    {
      "cell_type": "markdown",
      "metadata": {
        "id": "fGkAtxBZWvBP"
      },
      "source": [
        "Below is the format of the score variable:"
      ]
    },
    {
      "cell_type": "code",
      "metadata": {
        "id": "h2l1em49WvBP",
        "outputId": "9052493c-64f3-4fb2-d674-ee2650a939d2",
        "colab": {
          "base_uri": "https://localhost:8080/"
        }
      },
      "source": [
        "atp['score'].head(3)"
      ],
      "execution_count": 22,
      "outputs": [
        {
          "output_type": "execute_result",
          "data": {
            "text/plain": [
              "0           6-3 6-4\n",
              "1           6-1 6-4\n",
              "2    3-6 7-6(5) 6-4\n",
              "Name: score, dtype: object"
            ]
          },
          "metadata": {},
          "execution_count": 22
        }
      ]
    },
    {
      "cell_type": "markdown",
      "metadata": {
        "id": "JcqtlpUrWvBS"
      },
      "source": [
        "Of course, we can't use it to predict the outcome of the match since it's string. Therefore, the scores have been split by sets; NaN values were dropped. The incomplete matches (for example, match could end due to injury of one player) were also dropped. I also got rid of inconsistencies (such as 0-0 in the first/second set which can't be true).  "
      ]
    },
    {
      "cell_type": "code",
      "metadata": {
        "id": "0ZdHc6YsWvBS"
      },
      "source": [
        "atp[['set1', 'set2', 'set3', 'set4', 'set5', 'set6']] = atp.score.str.split(\" \", expand=True,)\n",
        "\n",
        "atp = atp[(atp['set1'] != 'RET') & (atp['set1'] != 'DEF') & (atp['set1'] != '1-Apr') & (atp['set1'] != '3-Jun') & (atp['set1'] != 'W/O') & (atp['set1'] != 'Default')]\n",
        "atp = atp[(atp['set2'] != 'RET') & (atp['set2'] != 'DEF') & (atp['set2'] != 'W/O') & (atp['set2'] != 'Default')]\n",
        "atp = atp[(atp['set3'] != 'RET') & (atp['set3'] != 'Played') & (atp['set3'] != 'DEF') & (atp['set3'] != 'Default') & (atp['set3'] != '[3-10]') & (atp['set3'] != '[7-10]')]\n",
        "atp = atp[(atp['set4'] != 'RET') & (atp['set4'] != 'and') & (atp['set4'] != 'DEF') & (atp['set4'] != 'Default')]\n",
        "atp = atp[(atp['set5'] != 'RET') & (atp['set5'] != 'unfinished') & (atp['set5'] != 'DEF') & (atp['set5'] != 'Default') & (atp['set5'] != 'Def.')]"
      ],
      "execution_count": 23,
      "outputs": []
    },
    {
      "cell_type": "code",
      "metadata": {
        "id": "gfAkuAwGWvBU"
      },
      "source": [
        "for i in range(1,6):\n",
        "    atp['set{}'.format(i)] = np.where(((atp['set{}'.format(i)] == '') | (atp['set{}'.format(i)].isna())), '0-0', atp['set{}'.format(i)])"
      ],
      "execution_count": 24,
      "outputs": []
    },
    {
      "cell_type": "code",
      "metadata": {
        "id": "umenymTrWvBV"
      },
      "source": [
        "atp = atp[(atp['set1'] != '0-0') & (atp['set2'] != '0-0')]"
      ],
      "execution_count": 25,
      "outputs": []
    },
    {
      "cell_type": "code",
      "metadata": {
        "scrolled": true,
        "id": "hKd3pEPFWvBX"
      },
      "source": [
        "for i in range (1,6):\n",
        "    atp[['set{}_w'.format(i), 'set{}_l'.format(i)]] = atp['set{}'.format(i)].str.split(\"-\", expand=True,)"
      ],
      "execution_count": 26,
      "outputs": []
    },
    {
      "cell_type": "code",
      "metadata": {
        "id": "Q2mjELqkWvBZ"
      },
      "source": [
        "atp = atp[(atp['set3_w'] != '[11') & (atp['set3_w'] != '[12')]"
      ],
      "execution_count": 27,
      "outputs": []
    },
    {
      "cell_type": "code",
      "metadata": {
        "id": "bicXzExiWvBb"
      },
      "source": [
        "for i in [1, 2, 4]:\n",
        "    atp['set{}_l'.format(i)] = atp['set{}_l'.format(i)].astype(str).str[:1].astype(int)\n",
        "    \n",
        "for j in [3, 5]:\n",
        "    atp['set{}_l'.format(j)] = atp['set{}_l'.format(j)].astype(str).str[:2].str.replace('(','').astype(int)\n",
        "    \n",
        "for k in range(1, 6):\n",
        "    atp['set{}_w'.format(k)] = atp['set{}_w'.format(k)].astype(int)"
      ],
      "execution_count": 28,
      "outputs": []
    },
    {
      "cell_type": "code",
      "metadata": {
        "id": "t-WdQgK2WvBc"
      },
      "source": [
        "atp = atp.drop(['round', 'winner_rank_points', 'loser_rank_points', 'winner_ioc', 'loser_ioc', 'winner_entry', \n",
        "                'loser_entry','set1', 'set2', 'set3', 'set4', 'set5', 'set6'], axis = 1)"
      ],
      "execution_count": 29,
      "outputs": []
    },
    {
      "cell_type": "markdown",
      "metadata": {
        "id": "k09XkPfdWvBd"
      },
      "source": [
        "Using the absolute numbers of matches' stats (the number of aces, saved breakpoints, successful serves, etc), we can calculate the percentages. Also, the total number of points won by the winner and the loser were calculated."
      ]
    },
    {
      "cell_type": "code",
      "metadata": {
        "id": "qeTTzs7gWvBe"
      },
      "source": [
        "for i in ['w', 'l']:\n",
        "    atp['total_{}_pts'.format(i)] = atp['set1_{}'.format(i)] + atp['set2_{}'.format(i)] + atp['set3_{}'.format(i)] + atp['set4_{}'.format(i)] + atp['set5_{}'.format(i)]\n",
        "    atp['{}_bpsaved_percentage'.format(i)] = np.where(atp['{}_bpFaced'.format(i)] != 0, round((100*atp['{}_bpSaved'.format(i)])/atp['{}_bpFaced'.format(i)], 2), 0)\n",
        "    atp['{}_1stIn_percentage'.format(i)] = round((100*atp['{}_1stIn'.format(i)])/atp['{}_svpt'.format(i)], 2)\n",
        "    atp['{}_1stWon_percentage'.format(i)] = round((100*atp['{}_1stWon'.format(i)])/atp['{}_svpt'.format(i)], 2)\n",
        "    atp['{}_2ndWon_percentage'.format(i)] = round((100*atp['{}_2ndWon'.format(i)])/atp['{}_svpt'.format(i)], 2)\n",
        "\n",
        "for i in ['p1', 'p2']:\n",
        "    atp_class['{}_bpsaved_percentage'.format(i)] = np.where(atp_class['{}_bpFaced'.format(i)] != 0, round((100*atp_class['{}_bpSaved'.format(i)])/atp_class['{}_bpFaced'.format(i)], 2), 0)\n",
        "    atp_class['{}_1stIn_percentage'.format(i)] = round((100*atp_class['{}_1stIn'.format(i)])/atp_class['{}_svpt'.format(i)], 2)\n",
        "    atp_class['{}_1stWon_percentage'.format(i)] = round((100*atp_class['{}_1stWon'.format(i)])/atp_class['{}_svpt'.format(i)], 2)\n",
        "    atp_class['{}_2ndWon_percentage'.format(i)] = round((100*atp_class['{}_2ndWon'.format(i)])/atp_class['{}_svpt'.format(i)], 2)"
      ],
      "execution_count": 30,
      "outputs": []
    },
    {
      "cell_type": "markdown",
      "metadata": {
        "id": "q30RBnhwWvBf"
      },
      "source": [
        "Finally, the target variable was created for the first dataset - score difference. Also, differences in key match stats were calculated - those are expected to be one of the most importants features in the analysis."
      ]
    },
    {
      "cell_type": "code",
      "metadata": {
        "id": "Ur1m6TjlWvBg"
      },
      "source": [
        "atp['pts_diff'] = atp['total_w_pts'] - atp['total_l_pts'] #target variable\n",
        "atp['bpsaved_diff'] = atp['w_bpsaved_percentage'] - atp['l_bpsaved_percentage']\n",
        "atp['aces_diff'] = atp['w_ace'] - atp['l_ace']\n",
        "atp['df_diff'] = atp['w_df'] - atp['l_df']\n",
        "atp['1stIn_diff'] = atp['w_1stIn_percentage'] - atp['l_1stIn_percentage']\n",
        "atp['1stWon_diff'] = atp['w_1stWon_percentage'] - atp['l_1stWon_percentage']\n",
        "atp['2ndWon_diff'] = atp['w_2ndWon_percentage'] - atp['l_2ndWon_percentage']\n",
        "\n",
        "atp_class['bpsaved_diff'] = atp_class['p1_bpsaved_percentage'] - atp_class['p2_bpsaved_percentage']\n",
        "atp_class['aces_diff'] = atp_class['p1_ace'] - atp_class['p2_ace']\n",
        "atp_class['df_diff'] = atp_class['p1_df'] - atp_class['p2_df']\n",
        "atp_class['1stIn_diff'] = atp_class['p1_1stIn_percentage'] - atp_class['p2_1stIn_percentage']\n",
        "atp_class['1stWon_diff'] = atp_class['p1_1stWon_percentage'] - atp_class['p2_1stWon_percentage']\n",
        "atp_class['2ndWon_diff'] = atp_class['p1_2ndWon_percentage'] - atp_class['p2_2ndWon_percentage']"
      ],
      "execution_count": 31,
      "outputs": []
    },
    {
      "cell_type": "markdown",
      "metadata": {
        "id": "7VcYJwigWvBh"
      },
      "source": [
        "Finally, all other NaN values were dropped, and we're left with roughly 48 thousand observations."
      ]
    },
    {
      "cell_type": "code",
      "metadata": {
        "id": "HMDI7RBDWvBi"
      },
      "source": [
        "atp.dropna(inplace=True)"
      ],
      "execution_count": 32,
      "outputs": []
    },
    {
      "cell_type": "code",
      "metadata": {
        "id": "-SFQTQvpfPZo"
      },
      "source": [
        "atp_class = atp_class.drop(['round', 'p1_rank_points', 'p2_rank_points', 'p1_ioc', 'p2_ioc', 'p1_entry', \n",
        "                'p2_entry','score'], axis = 1)"
      ],
      "execution_count": 33,
      "outputs": []
    },
    {
      "cell_type": "code",
      "metadata": {
        "id": "uNMFbtUdM-pY"
      },
      "source": [
        "atp_class.dropna(inplace=True)"
      ],
      "execution_count": 34,
      "outputs": []
    },
    {
      "cell_type": "markdown",
      "metadata": {
        "id": "2g33mPHyWvBj"
      },
      "source": [
        "#### Regression Problem"
      ]
    },
    {
      "cell_type": "markdown",
      "metadata": {
        "id": "dtAei7-VWvBk"
      },
      "source": [
        "Below are the features which might be used in the subsequent analysis. Those are the variables which can greatly affect the outcome of a tennis match. Apparently, previous matches' stats can be used to determine whether any given player has chances to win based on his past performance. Personal characteristics such as age and height are important as well: younger and taller players might have an advantage, though there are some exceptions (i.e. Federer). Surface varible is extremely informative since players generally can't show the same quality of play on all surfaces. Those who hold wild cards or got into the main draw as lucky losers also have lower chances of winning against higher-ranked competitors."
      ]
    },
    {
      "cell_type": "code",
      "metadata": {
        "id": "F8y7xV6_WvBk"
      },
      "source": [
        "features = ['surface', 'tourney_level', \"winner_hand\", \"loser_hand\", \"minutes\", \"winner_rank\", \"loser_rank\",\n",
        "           'winner_Q', 'winner_WC', 'winner_LL', 'loser_Q', 'loser_WC', 'loser_LL', 'ht_diff', 'winner_sign_country',\n",
        "           'loser_sign_country', 'age_diff', 'bpsaved_diff', 'aces_diff', 'df_diff', '1stIn_diff', '1stWon_diff',\n",
        "           '2ndWon_diff', 'pts_diff']"
      ],
      "execution_count": 35,
      "outputs": []
    },
    {
      "cell_type": "markdown",
      "metadata": {
        "id": "QFh14UVKWvBl"
      },
      "source": [
        "My dependent (target) variable is difference in final score between the first and the second player (i.e. winner and loser). Independent variables are listed above. Since the target variable is continuous, we need to apply regression methods. As a first step, I will perform multiple linear regression using all the variables. In general, you do not need to center or standardize your data for multiple regression, so I will not scale my data before performing this method."
      ]
    },
    {
      "cell_type": "code",
      "metadata": {
        "id": "YFyPVaThWvBm"
      },
      "source": [
        "X = atp[features].drop(['pts_diff'], axis = 1)\n",
        "y = atp['pts_diff']"
      ],
      "execution_count": 36,
      "outputs": []
    },
    {
      "cell_type": "code",
      "metadata": {
        "id": "yWwkVlTLWvBn"
      },
      "source": [
        "X_train, X_test, y_train, y_test = train_test_split(X, y, test_size=0.3)"
      ],
      "execution_count": 37,
      "outputs": []
    },
    {
      "cell_type": "code",
      "metadata": {
        "id": "u90udr8VWvBo",
        "outputId": "43f7d071-0770-4529-a034-bc18d50e5913",
        "colab": {
          "base_uri": "https://localhost:8080/"
        }
      },
      "source": [
        "LinReg = LinearRegression()\n",
        "LinReg.fit(X_train, y_train)\n",
        "print(\"The coefficient of determination R^2 for train data is\", round(LinReg.score(X_train, y_train), 4))\n",
        "print(\"The coefficient of determination R^2 for test data is\", round(LinReg.score(X_test, y_test), 4))"
      ],
      "execution_count": 38,
      "outputs": [
        {
          "output_type": "stream",
          "name": "stdout",
          "text": [
            "The coefficient of determination R^2 for train data is 0.7025\n",
            "The coefficient of determination R^2 for test data is 0.7037\n"
          ]
        }
      ]
    },
    {
      "cell_type": "markdown",
      "metadata": {
        "id": "QmTS1om2WvBr"
      },
      "source": [
        "First of all, we can notice that the model is not overfitted since $R^2$ for test data does not differ from the coefficient of $R^2$ for train data. In general, all chosen explanatory variables give us the score of 70%, which is not bad for the simplest regression method."
      ]
    },
    {
      "cell_type": "markdown",
      "metadata": {
        "id": "_3rdK43uWvBs"
      },
      "source": [
        "Of course, the number of features is too big right now (23). It is highly likely that many of them are not as important and we can probably reduce the number of variables. To do so, I perform the feature selection method which evaluates feature importances and selects the most relevant features:"
      ]
    },
    {
      "cell_type": "code",
      "metadata": {
        "id": "_17wBypTWvBs",
        "outputId": "280088a3-c9e1-4fce-934c-c955a3f02cb6",
        "colab": {
          "base_uri": "https://localhost:8080/",
          "height": 359
        }
      },
      "source": [
        "feature_rank = feature_selection.mutual_info_classif(X, y)\n",
        "feature_rank_df = pd.DataFrame(list(zip(features, feature_rank)), columns=['Feature', 'Score'])\n",
        "feature_rank_df.sort_values(by='Score', ascending = False).head(10)"
      ],
      "execution_count": 39,
      "outputs": [
        {
          "output_type": "execute_result",
          "data": {
            "text/plain": [
              "          Feature     Score\n",
              "17   bpsaved_diff  0.295646\n",
              "4         minutes  0.249527\n",
              "21    1stWon_diff  0.148494\n",
              "1   tourney_level  0.065595\n",
              "22    2ndWon_diff  0.045732\n",
              "18      aces_diff  0.029107\n",
              "5     winner_rank  0.018672\n",
              "19        df_diff  0.017048\n",
              "0         surface  0.006528\n",
              "6      loser_rank  0.005724"
            ],
            "text/html": [
              "\n",
              "  <div id=\"df-1d0a63a9-c32c-4882-92fb-84cecb1c4e0b\">\n",
              "    <div class=\"colab-df-container\">\n",
              "      <div>\n",
              "<style scoped>\n",
              "    .dataframe tbody tr th:only-of-type {\n",
              "        vertical-align: middle;\n",
              "    }\n",
              "\n",
              "    .dataframe tbody tr th {\n",
              "        vertical-align: top;\n",
              "    }\n",
              "\n",
              "    .dataframe thead th {\n",
              "        text-align: right;\n",
              "    }\n",
              "</style>\n",
              "<table border=\"1\" class=\"dataframe\">\n",
              "  <thead>\n",
              "    <tr style=\"text-align: right;\">\n",
              "      <th></th>\n",
              "      <th>Feature</th>\n",
              "      <th>Score</th>\n",
              "    </tr>\n",
              "  </thead>\n",
              "  <tbody>\n",
              "    <tr>\n",
              "      <th>17</th>\n",
              "      <td>bpsaved_diff</td>\n",
              "      <td>0.295646</td>\n",
              "    </tr>\n",
              "    <tr>\n",
              "      <th>4</th>\n",
              "      <td>minutes</td>\n",
              "      <td>0.249527</td>\n",
              "    </tr>\n",
              "    <tr>\n",
              "      <th>21</th>\n",
              "      <td>1stWon_diff</td>\n",
              "      <td>0.148494</td>\n",
              "    </tr>\n",
              "    <tr>\n",
              "      <th>1</th>\n",
              "      <td>tourney_level</td>\n",
              "      <td>0.065595</td>\n",
              "    </tr>\n",
              "    <tr>\n",
              "      <th>22</th>\n",
              "      <td>2ndWon_diff</td>\n",
              "      <td>0.045732</td>\n",
              "    </tr>\n",
              "    <tr>\n",
              "      <th>18</th>\n",
              "      <td>aces_diff</td>\n",
              "      <td>0.029107</td>\n",
              "    </tr>\n",
              "    <tr>\n",
              "      <th>5</th>\n",
              "      <td>winner_rank</td>\n",
              "      <td>0.018672</td>\n",
              "    </tr>\n",
              "    <tr>\n",
              "      <th>19</th>\n",
              "      <td>df_diff</td>\n",
              "      <td>0.017048</td>\n",
              "    </tr>\n",
              "    <tr>\n",
              "      <th>0</th>\n",
              "      <td>surface</td>\n",
              "      <td>0.006528</td>\n",
              "    </tr>\n",
              "    <tr>\n",
              "      <th>6</th>\n",
              "      <td>loser_rank</td>\n",
              "      <td>0.005724</td>\n",
              "    </tr>\n",
              "  </tbody>\n",
              "</table>\n",
              "</div>\n",
              "      <button class=\"colab-df-convert\" onclick=\"convertToInteractive('df-1d0a63a9-c32c-4882-92fb-84cecb1c4e0b')\"\n",
              "              title=\"Convert this dataframe to an interactive table.\"\n",
              "              style=\"display:none;\">\n",
              "        \n",
              "  <svg xmlns=\"http://www.w3.org/2000/svg\" height=\"24px\"viewBox=\"0 0 24 24\"\n",
              "       width=\"24px\">\n",
              "    <path d=\"M0 0h24v24H0V0z\" fill=\"none\"/>\n",
              "    <path d=\"M18.56 5.44l.94 2.06.94-2.06 2.06-.94-2.06-.94-.94-2.06-.94 2.06-2.06.94zm-11 1L8.5 8.5l.94-2.06 2.06-.94-2.06-.94L8.5 2.5l-.94 2.06-2.06.94zm10 10l.94 2.06.94-2.06 2.06-.94-2.06-.94-.94-2.06-.94 2.06-2.06.94z\"/><path d=\"M17.41 7.96l-1.37-1.37c-.4-.4-.92-.59-1.43-.59-.52 0-1.04.2-1.43.59L10.3 9.45l-7.72 7.72c-.78.78-.78 2.05 0 2.83L4 21.41c.39.39.9.59 1.41.59.51 0 1.02-.2 1.41-.59l7.78-7.78 2.81-2.81c.8-.78.8-2.07 0-2.86zM5.41 20L4 18.59l7.72-7.72 1.47 1.35L5.41 20z\"/>\n",
              "  </svg>\n",
              "      </button>\n",
              "      \n",
              "  <style>\n",
              "    .colab-df-container {\n",
              "      display:flex;\n",
              "      flex-wrap:wrap;\n",
              "      gap: 12px;\n",
              "    }\n",
              "\n",
              "    .colab-df-convert {\n",
              "      background-color: #E8F0FE;\n",
              "      border: none;\n",
              "      border-radius: 50%;\n",
              "      cursor: pointer;\n",
              "      display: none;\n",
              "      fill: #1967D2;\n",
              "      height: 32px;\n",
              "      padding: 0 0 0 0;\n",
              "      width: 32px;\n",
              "    }\n",
              "\n",
              "    .colab-df-convert:hover {\n",
              "      background-color: #E2EBFA;\n",
              "      box-shadow: 0px 1px 2px rgba(60, 64, 67, 0.3), 0px 1px 3px 1px rgba(60, 64, 67, 0.15);\n",
              "      fill: #174EA6;\n",
              "    }\n",
              "\n",
              "    [theme=dark] .colab-df-convert {\n",
              "      background-color: #3B4455;\n",
              "      fill: #D2E3FC;\n",
              "    }\n",
              "\n",
              "    [theme=dark] .colab-df-convert:hover {\n",
              "      background-color: #434B5C;\n",
              "      box-shadow: 0px 1px 3px 1px rgba(0, 0, 0, 0.15);\n",
              "      filter: drop-shadow(0px 1px 2px rgba(0, 0, 0, 0.3));\n",
              "      fill: #FFFFFF;\n",
              "    }\n",
              "  </style>\n",
              "\n",
              "      <script>\n",
              "        const buttonEl =\n",
              "          document.querySelector('#df-1d0a63a9-c32c-4882-92fb-84cecb1c4e0b button.colab-df-convert');\n",
              "        buttonEl.style.display =\n",
              "          google.colab.kernel.accessAllowed ? 'block' : 'none';\n",
              "\n",
              "        async function convertToInteractive(key) {\n",
              "          const element = document.querySelector('#df-1d0a63a9-c32c-4882-92fb-84cecb1c4e0b');\n",
              "          const dataTable =\n",
              "            await google.colab.kernel.invokeFunction('convertToInteractive',\n",
              "                                                     [key], {});\n",
              "          if (!dataTable) return;\n",
              "\n",
              "          const docLinkHtml = 'Like what you see? Visit the ' +\n",
              "            '<a target=\"_blank\" href=https://colab.research.google.com/notebooks/data_table.ipynb>data table notebook</a>'\n",
              "            + ' to learn more about interactive tables.';\n",
              "          element.innerHTML = '';\n",
              "          dataTable['output_type'] = 'display_data';\n",
              "          await google.colab.output.renderOutput(dataTable, element);\n",
              "          const docLink = document.createElement('div');\n",
              "          docLink.innerHTML = docLinkHtml;\n",
              "          element.appendChild(docLink);\n",
              "        }\n",
              "      </script>\n",
              "    </div>\n",
              "  </div>\n",
              "  "
            ]
          },
          "metadata": {},
          "execution_count": 39
        }
      ]
    },
    {
      "cell_type": "markdown",
      "metadata": {
        "id": "kgpqkMkAWvBu"
      },
      "source": [
        "We can see that the majority of features can be eliminated since they are not as relevant. Fisrt, I put the threshold of 0.05 and performed multiple linear regression again, but $R^2$ dropped significantly. That's why I decided to stick to the threshold of 0.01:"
      ]
    },
    {
      "cell_type": "code",
      "metadata": {
        "id": "vjuPRHriWvBu"
      },
      "source": [
        "selected = [x for x in feature_rank_df[feature_rank_df['Score'] >= 0.01]['Feature']]"
      ],
      "execution_count": 40,
      "outputs": []
    },
    {
      "cell_type": "code",
      "metadata": {
        "id": "QcSYmtrIWvBv"
      },
      "source": [
        "X_train, X_test, y_train, y_test = train_test_split(X[selected], y, test_size=0.3)"
      ],
      "execution_count": 41,
      "outputs": []
    },
    {
      "cell_type": "code",
      "metadata": {
        "id": "-_MGA851WvBw",
        "outputId": "3a6ea301-707a-41db-b288-9066a46c5970",
        "colab": {
          "base_uri": "https://localhost:8080/"
        }
      },
      "source": [
        "LinReg2 = LinearRegression()\n",
        "LinReg2.fit(X_train, y_train)\n",
        "print(\"The coefficient of determination R^2 for train data is\", round(LinReg2.score(X_train, y_train), 4))\n",
        "print(\"The coefficient of determination R^2 for test data is\", round(LinReg2.score(X_test, y_test), 4))"
      ],
      "execution_count": 42,
      "outputs": [
        {
          "output_type": "stream",
          "name": "stdout",
          "text": [
            "The coefficient of determination R^2 for train data is 0.7012\n",
            "The coefficient of determination R^2 for test data is 0.7029\n"
          ]
        }
      ]
    },
    {
      "cell_type": "markdown",
      "metadata": {
        "id": "9gEuWsorWvBy"
      },
      "source": [
        "Now we can see that even though we used only 8 out of 23 initial features, $R^2$ for test data is even just a tiny bit lower (<1%). Thus, I will continue to use these selected features."
      ]
    },
    {
      "cell_type": "markdown",
      "metadata": {
        "id": "AoFIQH-DWvBy"
      },
      "source": [
        "Although there is no overfitting according to $R^2$, it would also be helpful to check whether there is collinearity, which would make estimators inconsistent. To check that, I'll take a look at the correlation between selected dependent variables:"
      ]
    },
    {
      "cell_type": "code",
      "metadata": {
        "scrolled": false,
        "id": "2Me5F4qUWvB0",
        "outputId": "bed5a039-7f39-49a1-b1f0-ae9f5e6c1528",
        "colab": {
          "base_uri": "https://localhost:8080/",
          "height": 428
        }
      },
      "source": [
        "fig = plt.figure(figsize=(7, 7));\n",
        "sns.heatmap(X[selected].corr(), annot = True, cmap='coolwarm');\n",
        "fig.autofmt_xdate()\n",
        "plt.show()"
      ],
      "execution_count": 43,
      "outputs": [
        {
          "output_type": "display_data",
          "data": {
            "text/plain": [
              "<Figure size 504x504 with 2 Axes>"
            ],
            "image/png": "[encoded data removed]"
          },
          "metadata": {
            "needs_background": "light"
          }
        }
      ]
    },
    {
      "cell_type": "markdown",
      "metadata": {
        "id": "DMHXf95_WvB1"
      },
      "source": [
        "The highest coefficient of correlation (in absolute value) is between the tourney level and the length of the matches. However, it does not even exceed -0.5 which means that there should not be multicollinearity. Therefore, there is no need in performing either Ridge or Lasso Regression."
      ]
    },
    {
      "cell_type": "markdown",
      "metadata": {
        "id": "LCZCLRU4WvB2"
      },
      "source": [
        "While linear regression is one of the most common methods, it is not as flexible because it can't follow non-linear dependencies. If we use more complex methods, there is a high chance we'll be able to identify trends and patterns better."
      ]
    },
    {
      "cell_type": "markdown",
      "metadata": {
        "id": "-7PaRk1GWvB2"
      },
      "source": [
        "To begin with, SVM method will be performed. Although it is usually used for classification problems, SVM can also be used as a regression method; it is called the Support Vector Regression, and it uses the same principles as the SVM for classification. Since it is a kernel method, it is based on distance. Therefore, we need to scale the data first."
      ]
    },
    {
      "cell_type": "code",
      "metadata": {
        "id": "H1imR_MAWvB3"
      },
      "source": [
        "from sklearn.preprocessing import StandardScaler\n",
        "scaler = StandardScaler()\n",
        "expdf = pd.concat([X[selected], y], axis = 1)\n",
        "scaler.fit(expdf)\n",
        "df_scaled = scaler.transform(expdf)"
      ],
      "execution_count": 44,
      "outputs": []
    },
    {
      "cell_type": "code",
      "metadata": {
        "id": "WTjuTjBJfvQ5"
      },
      "source": [
        "X_scaled = df_scaled[:, :-1]\n",
        "y_scaled = df_scaled[:, -1]"
      ],
      "execution_count": 45,
      "outputs": []
    },
    {
      "cell_type": "code",
      "metadata": {
        "id": "ARPZIs_IWvB5"
      },
      "source": [
        "Xsc_train, Xsc_test, ysc_train, ysc_test = train_test_split(X_scaled, y_scaled, test_size=0.3)"
      ],
      "execution_count": 46,
      "outputs": []
    },
    {
      "cell_type": "code",
      "metadata": {
        "id": "S26lRgEuWvB7",
        "outputId": "98dc7f96-31f5-4108-efd3-b6b98f25576d",
        "colab": {
          "base_uri": "https://localhost:8080/"
        }
      },
      "source": [
        "from sklearn.svm import SVR\n",
        "svr = SVR(kernel='rbf')\n",
        "svr.fit(Xsc_train, ysc_train)"
      ],
      "execution_count": 47,
      "outputs": [
        {
          "output_type": "execute_result",
          "data": {
            "text/plain": [
              "SVR()"
            ]
          },
          "metadata": {},
          "execution_count": 47
        }
      ]
    },
    {
      "cell_type": "code",
      "metadata": {
        "id": "5T_GztZjhXWq",
        "outputId": "ab4799f7-90ad-44ec-cd5a-324ffedb36ce",
        "colab": {
          "base_uri": "https://localhost:8080/"
        }
      },
      "source": [
        "print(\"The coefficient of determination R^2 for train data is\", round(svr.score(Xsc_train, ysc_train), 4))\n",
        "print(\"The coefficient of determination R^2 for test data is\", round(svr.score(Xsc_test, ysc_test), 4))"
      ],
      "execution_count": 48,
      "outputs": [
        {
          "output_type": "stream",
          "name": "stdout",
          "text": [
            "The coefficient of determination R^2 for train data is 0.7866\n",
            "The coefficient of determination R^2 for test data is 0.7735\n"
          ]
        }
      ]
    },
    {
      "cell_type": "markdown",
      "metadata": {
        "id": "RqcJ5WM3WvCA"
      },
      "source": [
        "Now we can see a substantial increase in the $R^2$ coefficient compared to multiple linear regression - more than 8% for train data and about 7% for test data. This might be explained by the fact that this method used RBF kernel which can track non-linear trends (unlike linear regression). Also, there is no overfitting or underfitting since both coefficients are almost similar. "
      ]
    },
    {
      "cell_type": "markdown",
      "metadata": {
        "id": "HlMR0EKvWvCA"
      },
      "source": [
        "The next widespread but very powerful method is Random Forest. RF is a tree-based model and hence does not require feature scaling. It is quite hard to determine the best parameters for this method; that's why I will use GridSearchCV which search over specified parameters to find the best one."
      ]
    },
    {
      "cell_type": "code",
      "metadata": {
        "id": "e2FS25_mWvCB"
      },
      "source": [
        "parameters = {'max_depth': list(range(1, 15)), 'min_samples_leaf': list(range(1,10))}"
      ],
      "execution_count": 49,
      "outputs": []
    },
    {
      "cell_type": "code",
      "metadata": {
        "id": "D4tVxiuEWvCC"
      },
      "source": [
        "rf = RandomForestRegressor()\n",
        "gcv = GridSearchCV(rf, parameters, n_jobs = -1, cv = 5)"
      ],
      "execution_count": 50,
      "outputs": []
    },
    {
      "cell_type": "code",
      "metadata": {
        "id": "wbnLj0z_WvCE",
        "colab": {
          "base_uri": "https://localhost:8080/"
        },
        "outputId": "275117bc-e1a2-437e-a8e4-4506075d5d13"
      },
      "source": [
        "gcv.fit(X_train, y_train)"
      ],
      "execution_count": 51,
      "outputs": [
        {
          "output_type": "execute_result",
          "data": {
            "text/plain": [
              "GridSearchCV(cv=5, estimator=RandomForestRegressor(), n_jobs=-1,\n",
              "             param_grid={'max_depth': [1, 2, 3, 4, 5, 6, 7, 8, 9, 10, 11, 12,\n",
              "                                       13, 14],\n",
              "                         'min_samples_leaf': [1, 2, 3, 4, 5, 6, 7, 8, 9]})"
            ]
          },
          "metadata": {},
          "execution_count": 51
        }
      ]
    },
    {
      "cell_type": "markdown",
      "metadata": {
        "id": "XxRgZyhN5Ej0"
      },
      "source": [
        "As GridSearch determined, the best score can be reached by using max_depth = 13 and min_samples_leaf = 3:"
      ]
    },
    {
      "cell_type": "code",
      "metadata": {
        "scrolled": true,
        "id": "yrS-vt_DWvCF",
        "colab": {
          "base_uri": "https://localhost:8080/"
        },
        "outputId": "d382bb9c-3b7f-48eb-ddcf-1258b4660622"
      },
      "source": [
        "gcv.best_params_"
      ],
      "execution_count": 52,
      "outputs": [
        {
          "output_type": "execute_result",
          "data": {
            "text/plain": [
              "{'max_depth': 13, 'min_samples_leaf': 3}"
            ]
          },
          "metadata": {},
          "execution_count": 52
        }
      ]
    },
    {
      "cell_type": "code",
      "metadata": {
        "id": "ppMK_So1X1il",
        "colab": {
          "base_uri": "https://localhost:8080/"
        },
        "outputId": "2670d8af-038b-4314-8aad-699e0f61798e"
      },
      "source": [
        "rfm = RandomForestRegressor(max_depth = 13, min_samples_leaf = 3)\n",
        "rfm.fit(X_train, y_train)\n",
        "print('The coefficient of determination R^2 for train data is', round(rfm.score(X_train, y_train), 4))\n",
        "print('The coefficient of determination R^2 for test data is', round(rfm.score(X_test, y_test), 4))"
      ],
      "execution_count": 53,
      "outputs": [
        {
          "output_type": "stream",
          "name": "stdout",
          "text": [
            "The coefficient of determination R^2 for train data is 0.8829\n",
            "The coefficient of determination R^2 for test data is 0.7645\n"
          ]
        }
      ]
    },
    {
      "cell_type": "markdown",
      "metadata": {
        "id": "3eExDL-W5Y6p"
      },
      "source": [
        "Although $R^2$ is higher than in linear regression case, RF regressor does not perform as good as SVR with rbf kernel. Also, we can observe some overfitting since the measure for train data is 12% larger than for test data."
      ]
    },
    {
      "cell_type": "markdown",
      "metadata": {
        "id": "uHawQHxB6fDK"
      },
      "source": [
        "It would also be worth trying another method which is called Gradient Boosting. GB and RF are quite similar to each other in many ways; however, they differ in the way the trees are built, and GB might often perform better."
      ]
    },
    {
      "cell_type": "markdown",
      "metadata": {
        "id": "1LjWk6Yi615w"
      },
      "source": [
        "After parameters tuning, I obtained the following result:"
      ]
    },
    {
      "cell_type": "code",
      "metadata": {
        "id": "_n_QdKmQWvCK"
      },
      "source": [
        "from sklearn.ensemble import GradientBoostingRegressor "
      ],
      "execution_count": 54,
      "outputs": []
    },
    {
      "cell_type": "code",
      "metadata": {
        "id": "UxPKGNvxWvCL",
        "colab": {
          "base_uri": "https://localhost:8080/"
        },
        "outputId": "28b89f40-bff9-47c9-af51-82fda4bc488d"
      },
      "source": [
        "gbrt=GradientBoostingRegressor(n_estimators = 100, max_depth = 7, min_samples_leaf = 2, max_features= 5) \n",
        "gbrt.fit(X_train, y_train)\n",
        "print('The coefficient of determination R^2 for train data is', round(gbrt.score(X_train, y_train), 4)) #836 & 775\n",
        "print('The coefficient of determination R^2 for test data is', round(gbrt.score(X_test, y_test), 4))"
      ],
      "execution_count": 55,
      "outputs": [
        {
          "output_type": "stream",
          "name": "stdout",
          "text": [
            "The coefficient of determination R^2 for train data is 0.8301\n",
            "The coefficient of determination R^2 for test data is 0.7782\n"
          ]
        }
      ]
    },
    {
      "cell_type": "markdown",
      "metadata": {
        "id": "88tdFetO7DDy"
      },
      "source": [
        "What we can see is that this model slightly outperforms SVR and therefore is better than all other models. However, the difference in $R^2$ is quite negligible.\n",
        "\n",
        "There is also one more method which has been developed recently. It takes into account categorical variables and therefore might explain trends better. Since feature selection method indicated that tourney_level variable (which is categorical) is important, we can try this type of Regressor:"
      ]
    },
    {
      "cell_type": "code",
      "metadata": {
        "id": "8kCQNv0oWvCM"
      },
      "source": [
        "from catboost import CatBoostRegressor\n",
        "from catboost import Pool"
      ],
      "execution_count": 58,
      "outputs": []
    },
    {
      "cell_type": "code",
      "metadata": {
        "id": "B5jM-MvVxBuN"
      },
      "source": [
        "categorical_features_indices = np.array([0])"
      ],
      "execution_count": 59,
      "outputs": []
    },
    {
      "cell_type": "code",
      "metadata": {
        "id": "1CWr0OmiWvCN"
      },
      "source": [
        "cbr = CatBoostRegressor(iterations = 93,\n",
        "                          depth = 7 ,\n",
        "                          use_best_model = True, learning_rate = 0.25)"
      ],
      "execution_count": 71,
      "outputs": []
    },
    {
      "cell_type": "code",
      "metadata": {
        "id": "mQFNBqEoWvCN",
        "colab": {
          "base_uri": "https://localhost:8080/"
        },
        "outputId": "16d61efc-0f90-48ac-ce83-fe6efdf41521"
      },
      "source": [
        "cbr.fit(X_train, y_train,\n",
        "          cat_features = categorical_features_indices, eval_set=(X_test, y_test))"
      ],
      "execution_count": 72,
      "outputs": [
        {
          "output_type": "stream",
          "name": "stdout",
          "text": [
            "0:\tlearn: 2.4568802\ttest: 2.4449418\tbest: 2.4449418 (0)\ttotal: 40.2ms\tremaining: 3.7s\n",
            "1:\tlearn: 2.2385802\ttest: 2.2288859\tbest: 2.2288859 (1)\ttotal: 90.7ms\tremaining: 4.13s\n",
            "2:\tlearn: 2.0697791\ttest: 2.0590189\tbest: 2.0590189 (2)\ttotal: 135ms\tremaining: 4.06s\n",
            "3:\tlearn: 1.8622706\ttest: 1.8497164\tbest: 1.8497164 (3)\ttotal: 174ms\tremaining: 3.87s\n",
            "4:\tlearn: 1.7265935\ttest: 1.7126438\tbest: 1.7126438 (4)\ttotal: 215ms\tremaining: 3.79s\n",
            "5:\tlearn: 1.6293898\ttest: 1.6127398\tbest: 1.6127398 (5)\ttotal: 268ms\tremaining: 3.89s\n",
            "6:\tlearn: 1.5646204\ttest: 1.5461551\tbest: 1.5461551 (6)\ttotal: 284ms\tremaining: 3.49s\n",
            "7:\tlearn: 1.5157475\ttest: 1.4962779\tbest: 1.4962779 (7)\ttotal: 323ms\tremaining: 3.43s\n",
            "8:\tlearn: 1.4863741\ttest: 1.4677790\tbest: 1.4677790 (8)\ttotal: 352ms\tremaining: 3.29s\n",
            "9:\tlearn: 1.4583063\ttest: 1.4402360\tbest: 1.4402360 (9)\ttotal: 391ms\tremaining: 3.24s\n",
            "10:\tlearn: 1.4369891\ttest: 1.4199453\tbest: 1.4199453 (10)\ttotal: 425ms\tremaining: 3.17s\n",
            "11:\tlearn: 1.4213175\ttest: 1.4052539\tbest: 1.4052539 (11)\ttotal: 441ms\tremaining: 2.98s\n",
            "12:\tlearn: 1.4071526\ttest: 1.3917139\tbest: 1.3917139 (12)\ttotal: 455ms\tremaining: 2.8s\n",
            "13:\tlearn: 1.3960303\ttest: 1.3808057\tbest: 1.3808057 (13)\ttotal: 475ms\tremaining: 2.68s\n",
            "14:\tlearn: 1.3885900\ttest: 1.3735355\tbest: 1.3735355 (14)\ttotal: 492ms\tremaining: 2.56s\n",
            "15:\tlearn: 1.3820590\ttest: 1.3672221\tbest: 1.3672221 (15)\ttotal: 520ms\tremaining: 2.5s\n",
            "16:\tlearn: 1.3765613\ttest: 1.3624108\tbest: 1.3624108 (16)\ttotal: 561ms\tremaining: 2.51s\n",
            "17:\tlearn: 1.3718833\ttest: 1.3583334\tbest: 1.3583334 (17)\ttotal: 598ms\tremaining: 2.49s\n",
            "18:\tlearn: 1.3672706\ttest: 1.3539466\tbest: 1.3539466 (18)\ttotal: 636ms\tremaining: 2.48s\n",
            "19:\tlearn: 1.3623589\ttest: 1.3488216\tbest: 1.3488216 (19)\ttotal: 671ms\tremaining: 2.45s\n",
            "20:\tlearn: 1.3583020\ttest: 1.3456812\tbest: 1.3456812 (20)\ttotal: 703ms\tremaining: 2.41s\n",
            "21:\tlearn: 1.3542498\ttest: 1.3423175\tbest: 1.3423175 (21)\ttotal: 739ms\tremaining: 2.39s\n",
            "22:\tlearn: 1.3512028\ttest: 1.3400577\tbest: 1.3400577 (22)\ttotal: 777ms\tremaining: 2.37s\n",
            "23:\tlearn: 1.3495426\ttest: 1.3389613\tbest: 1.3389613 (23)\ttotal: 809ms\tremaining: 2.33s\n",
            "24:\tlearn: 1.3455961\ttest: 1.3356019\tbest: 1.3356019 (24)\ttotal: 837ms\tremaining: 2.28s\n",
            "25:\tlearn: 1.3426784\ttest: 1.3336341\tbest: 1.3336341 (25)\ttotal: 856ms\tremaining: 2.21s\n",
            "26:\tlearn: 1.3411935\ttest: 1.3326760\tbest: 1.3326760 (26)\ttotal: 879ms\tremaining: 2.15s\n",
            "27:\tlearn: 1.3398049\ttest: 1.3315849\tbest: 1.3315849 (27)\ttotal: 898ms\tremaining: 2.08s\n",
            "28:\tlearn: 1.3380528\ttest: 1.3306649\tbest: 1.3306649 (28)\ttotal: 917ms\tremaining: 2.02s\n",
            "29:\tlearn: 1.3362026\ttest: 1.3297332\tbest: 1.3297332 (29)\ttotal: 944ms\tremaining: 1.98s\n",
            "30:\tlearn: 1.3348071\ttest: 1.3286449\tbest: 1.3286449 (30)\ttotal: 978ms\tremaining: 1.96s\n",
            "31:\tlearn: 1.3318846\ttest: 1.3264928\tbest: 1.3264928 (31)\ttotal: 1.02s\tremaining: 1.94s\n",
            "32:\tlearn: 1.3308974\ttest: 1.3258455\tbest: 1.3258455 (32)\ttotal: 1.04s\tremaining: 1.9s\n",
            "33:\tlearn: 1.3292262\ttest: 1.3250471\tbest: 1.3250471 (33)\ttotal: 1.08s\tremaining: 1.88s\n",
            "34:\tlearn: 1.3266762\ttest: 1.3235951\tbest: 1.3235951 (34)\ttotal: 1.1s\tremaining: 1.82s\n",
            "35:\tlearn: 1.3257871\ttest: 1.3231790\tbest: 1.3231790 (35)\ttotal: 1.11s\tremaining: 1.76s\n",
            "36:\tlearn: 1.3244251\ttest: 1.3226200\tbest: 1.3226200 (36)\ttotal: 1.13s\tremaining: 1.71s\n",
            "37:\tlearn: 1.3231136\ttest: 1.3215289\tbest: 1.3215289 (37)\ttotal: 1.15s\tremaining: 1.67s\n",
            "38:\tlearn: 1.3218845\ttest: 1.3211403\tbest: 1.3211403 (38)\ttotal: 1.19s\tremaining: 1.64s\n",
            "39:\tlearn: 1.3211095\ttest: 1.3207961\tbest: 1.3207961 (39)\ttotal: 1.22s\tremaining: 1.62s\n",
            "40:\tlearn: 1.3194576\ttest: 1.3197929\tbest: 1.3197929 (40)\ttotal: 1.25s\tremaining: 1.58s\n",
            "41:\tlearn: 1.3182450\ttest: 1.3191796\tbest: 1.3191796 (41)\ttotal: 1.26s\tremaining: 1.54s\n",
            "42:\tlearn: 1.3164529\ttest: 1.3184386\tbest: 1.3184386 (42)\ttotal: 1.31s\tremaining: 1.52s\n",
            "43:\tlearn: 1.3150139\ttest: 1.3176641\tbest: 1.3176641 (43)\ttotal: 1.34s\tremaining: 1.5s\n",
            "44:\tlearn: 1.3140007\ttest: 1.3167633\tbest: 1.3167633 (44)\ttotal: 1.36s\tremaining: 1.46s\n",
            "45:\tlearn: 1.3127830\ttest: 1.3161925\tbest: 1.3161925 (45)\ttotal: 1.39s\tremaining: 1.42s\n",
            "46:\tlearn: 1.3120937\ttest: 1.3157690\tbest: 1.3157690 (46)\ttotal: 1.42s\tremaining: 1.39s\n",
            "47:\tlearn: 1.3105546\ttest: 1.3154257\tbest: 1.3154257 (47)\ttotal: 1.44s\tremaining: 1.35s\n",
            "48:\tlearn: 1.3087661\ttest: 1.3152852\tbest: 1.3152852 (48)\ttotal: 1.48s\tremaining: 1.33s\n",
            "49:\tlearn: 1.3075200\ttest: 1.3146250\tbest: 1.3146250 (49)\ttotal: 1.5s\tremaining: 1.29s\n",
            "50:\tlearn: 1.3059859\ttest: 1.3138766\tbest: 1.3138766 (50)\ttotal: 1.54s\tremaining: 1.27s\n",
            "51:\tlearn: 1.3045903\ttest: 1.3128264\tbest: 1.3128264 (51)\ttotal: 1.57s\tremaining: 1.24s\n",
            "52:\tlearn: 1.3033128\ttest: 1.3122502\tbest: 1.3122502 (52)\ttotal: 1.6s\tremaining: 1.21s\n",
            "53:\tlearn: 1.3026277\ttest: 1.3118885\tbest: 1.3118885 (53)\ttotal: 1.64s\tremaining: 1.18s\n",
            "54:\tlearn: 1.3017588\ttest: 1.3120472\tbest: 1.3118885 (53)\ttotal: 1.67s\tremaining: 1.15s\n",
            "55:\tlearn: 1.3006755\ttest: 1.3113109\tbest: 1.3113109 (55)\ttotal: 1.7s\tremaining: 1.13s\n",
            "56:\tlearn: 1.2996673\ttest: 1.3110212\tbest: 1.3110212 (56)\ttotal: 1.73s\tremaining: 1.09s\n",
            "57:\tlearn: 1.2988497\ttest: 1.3106313\tbest: 1.3106313 (57)\ttotal: 1.74s\tremaining: 1.05s\n",
            "58:\tlearn: 1.2967311\ttest: 1.3100694\tbest: 1.3100694 (58)\ttotal: 1.75s\tremaining: 1.01s\n",
            "59:\tlearn: 1.2950372\ttest: 1.3100828\tbest: 1.3100694 (58)\ttotal: 1.79s\tremaining: 983ms\n",
            "60:\tlearn: 1.2944119\ttest: 1.3100047\tbest: 1.3100047 (60)\ttotal: 1.81s\tremaining: 951ms\n",
            "61:\tlearn: 1.2933941\ttest: 1.3095960\tbest: 1.3095960 (61)\ttotal: 1.84s\tremaining: 922ms\n",
            "62:\tlearn: 1.2919411\ttest: 1.3090399\tbest: 1.3090399 (62)\ttotal: 1.86s\tremaining: 888ms\n",
            "63:\tlearn: 1.2910589\ttest: 1.3083526\tbest: 1.3083526 (63)\ttotal: 1.88s\tremaining: 852ms\n",
            "64:\tlearn: 1.2904240\ttest: 1.3086077\tbest: 1.3083526 (63)\ttotal: 1.89s\tremaining: 815ms\n",
            "65:\tlearn: 1.2895395\ttest: 1.3085792\tbest: 1.3083526 (63)\ttotal: 1.92s\tremaining: 785ms\n",
            "66:\tlearn: 1.2889441\ttest: 1.3081991\tbest: 1.3081991 (66)\ttotal: 1.94s\tremaining: 754ms\n",
            "67:\tlearn: 1.2875364\ttest: 1.3076597\tbest: 1.3076597 (67)\ttotal: 1.98s\tremaining: 727ms\n",
            "68:\tlearn: 1.2870691\ttest: 1.3076253\tbest: 1.3076253 (68)\ttotal: 2s\tremaining: 695ms\n",
            "69:\tlearn: 1.2856736\ttest: 1.3070131\tbest: 1.3070131 (69)\ttotal: 2.03s\tremaining: 668ms\n",
            "70:\tlearn: 1.2852141\ttest: 1.3068109\tbest: 1.3068109 (70)\ttotal: 2.07s\tremaining: 642ms\n",
            "71:\tlearn: 1.2843764\ttest: 1.3067669\tbest: 1.3067669 (71)\ttotal: 2.11s\tremaining: 616ms\n",
            "72:\tlearn: 1.2833240\ttest: 1.3066905\tbest: 1.3066905 (72)\ttotal: 2.13s\tremaining: 585ms\n",
            "73:\tlearn: 1.2819812\ttest: 1.3067368\tbest: 1.3066905 (72)\ttotal: 2.17s\tremaining: 557ms\n",
            "74:\tlearn: 1.2806802\ttest: 1.3065013\tbest: 1.3065013 (74)\ttotal: 2.2s\tremaining: 527ms\n",
            "75:\tlearn: 1.2795102\ttest: 1.3063778\tbest: 1.3063778 (75)\ttotal: 2.24s\tremaining: 501ms\n",
            "76:\tlearn: 1.2792273\ttest: 1.3062471\tbest: 1.3062471 (76)\ttotal: 2.25s\tremaining: 468ms\n",
            "77:\tlearn: 1.2781831\ttest: 1.3056795\tbest: 1.3056795 (77)\ttotal: 2.28s\tremaining: 438ms\n",
            "78:\tlearn: 1.2768804\ttest: 1.3053261\tbest: 1.3053261 (78)\ttotal: 2.32s\tremaining: 411ms\n",
            "79:\tlearn: 1.2758285\ttest: 1.3049125\tbest: 1.3049125 (79)\ttotal: 2.34s\tremaining: 381ms\n",
            "80:\tlearn: 1.2748039\ttest: 1.3044896\tbest: 1.3044896 (80)\ttotal: 2.38s\tremaining: 353ms\n",
            "81:\tlearn: 1.2739918\ttest: 1.3041736\tbest: 1.3041736 (81)\ttotal: 2.42s\tremaining: 325ms\n",
            "82:\tlearn: 1.2733548\ttest: 1.3042137\tbest: 1.3041736 (81)\ttotal: 2.46s\tremaining: 296ms\n",
            "83:\tlearn: 1.2722158\ttest: 1.3038668\tbest: 1.3038668 (83)\ttotal: 2.49s\tremaining: 267ms\n",
            "84:\tlearn: 1.2714685\ttest: 1.3038876\tbest: 1.3038668 (83)\ttotal: 2.52s\tremaining: 237ms\n",
            "85:\tlearn: 1.2708924\ttest: 1.3036273\tbest: 1.3036273 (85)\ttotal: 2.55s\tremaining: 207ms\n",
            "86:\tlearn: 1.2702282\ttest: 1.3035361\tbest: 1.3035361 (86)\ttotal: 2.58s\tremaining: 178ms\n",
            "87:\tlearn: 1.2691735\ttest: 1.3032206\tbest: 1.3032206 (87)\ttotal: 2.61s\tremaining: 148ms\n",
            "88:\tlearn: 1.2686434\ttest: 1.3029854\tbest: 1.3029854 (88)\ttotal: 2.63s\tremaining: 118ms\n",
            "89:\tlearn: 1.2674534\ttest: 1.3026194\tbest: 1.3026194 (89)\ttotal: 2.67s\tremaining: 88.9ms\n",
            "90:\tlearn: 1.2666885\ttest: 1.3026103\tbest: 1.3026103 (90)\ttotal: 2.7s\tremaining: 59.3ms\n",
            "91:\tlearn: 1.2657956\ttest: 1.3025228\tbest: 1.3025228 (91)\ttotal: 2.71s\tremaining: 29.5ms\n",
            "92:\tlearn: 1.2643401\ttest: 1.3020381\tbest: 1.3020381 (92)\ttotal: 2.73s\tremaining: 0us\n",
            "\n",
            "bestTest = 1.302038128\n",
            "bestIteration = 92\n",
            "\n"
          ]
        },
        {
          "output_type": "execute_result",
          "data": {
            "text/plain": [
              "<catboost.core.CatBoostRegressor at 0x7fcc6076d790>"
            ]
          },
          "metadata": {},
          "execution_count": 72
        }
      ]
    },
    {
      "cell_type": "code",
      "metadata": {
        "id": "K3891X7foYgE",
        "colab": {
          "base_uri": "https://localhost:8080/"
        },
        "outputId": "6c971399-6dc6-4e1b-935c-6dc1e4759213"
      },
      "source": [
        "print(cbr.score(X_train, y_train))\n",
        "print(cbr.score(X_test, y_test))"
      ],
      "execution_count": 73,
      "outputs": [
        {
          "output_type": "stream",
          "name": "stdout",
          "text": [
            "0.7919417573733079\n",
            "0.7778822534692107\n"
          ]
        }
      ]
    },
    {
      "cell_type": "markdown",
      "metadata": {
        "id": "GUDzlrij8MG0"
      },
      "source": [
        "Having performed 100 itirations, the algorithm detected that the highest $R^2$ could be achieved at the 97th itiration. This model performs as well as the GB model; however, it doesn't add any value on top of it as the score is identical.\n",
        "\n",
        "Finally, I check the performance of ANN. I chose MSE as a loss function as it is the default loss to use for regression problems. In the hidden layers, the activation function is ReLu - it is considered to be one of the best functions for neural nets. In the output layer with one node, I use linear activation function because the target variable is continuous:  "
      ]
    },
    {
      "cell_type": "code",
      "metadata": {
        "id": "jg2YqSO_WvCO"
      },
      "source": [
        "from keras.models import Sequential\n",
        "from keras.layers import Dense, Activation\n",
        "from tensorflow.keras.optimizers import Adam, SGD\n",
        "from keras.callbacks import EarlyStopping\n",
        "from keras.layers.core import Dropout"
      ],
      "execution_count": 76,
      "outputs": []
    },
    {
      "cell_type": "code",
      "metadata": {
        "id": "lX2ZmnJ-x_Em"
      },
      "source": [
        "epoc = 50 #@param {type:\"slider\", min:0, max:100, step:1}"
      ],
      "execution_count": 77,
      "outputs": []
    },
    {
      "cell_type": "code",
      "metadata": {
        "id": "Qdjt-IBhWvCP",
        "colab": {
          "base_uri": "https://localhost:8080/"
        },
        "outputId": "6255b0fc-4ab1-4963-d77a-a73eb7f7e494"
      },
      "source": [
        "model = Sequential()\n",
        "model.add(Dense(32, input_shape=(X_train.shape[1],), activation='relu', kernel_initializer='normal'))\n",
        "model.add(Dense(28,activation='relu'))\n",
        "model.add(Dense(1, activation='linear'))\n",
        "model.compile(optimizer = 'Adam', loss = 'mean_squared_error', metrics = ['mse'])\n",
        "model.fit(X_train, y_train, epochs=epoc, callbacks = [EarlyStopping(monitor='mse', patience=2)])"
      ],
      "execution_count": 78,
      "outputs": [
        {
          "output_type": "stream",
          "name": "stdout",
          "text": [
            "Epoch 1/50\n",
            "1051/1051 [==============================] - 5s 3ms/step - loss: 3.2031 - mse: 3.2031\n",
            "Epoch 2/50\n",
            "1051/1051 [==============================] - 2s 2ms/step - loss: 2.3237 - mse: 2.3237\n",
            "Epoch 3/50\n",
            "1051/1051 [==============================] - 2s 2ms/step - loss: 2.1272 - mse: 2.1272\n",
            "Epoch 4/50\n",
            "1051/1051 [==============================] - 2s 2ms/step - loss: 2.0109 - mse: 2.0109\n",
            "Epoch 5/50\n",
            "1051/1051 [==============================] - 2s 2ms/step - loss: 1.9597 - mse: 1.9597\n",
            "Epoch 6/50\n",
            "1051/1051 [==============================] - 2s 2ms/step - loss: 1.9353 - mse: 1.9353\n",
            "Epoch 7/50\n",
            "1051/1051 [==============================] - 2s 2ms/step - loss: 1.9116 - mse: 1.9116\n",
            "Epoch 8/50\n",
            "1051/1051 [==============================] - 2s 2ms/step - loss: 1.8988 - mse: 1.8988\n",
            "Epoch 9/50\n",
            "1051/1051 [==============================] - 2s 2ms/step - loss: 1.8879 - mse: 1.8879\n",
            "Epoch 10/50\n",
            "1051/1051 [==============================] - 2s 2ms/step - loss: 1.8771 - mse: 1.8771\n",
            "Epoch 11/50\n",
            "1051/1051 [==============================] - 2s 2ms/step - loss: 1.8651 - mse: 1.8651\n",
            "Epoch 12/50\n",
            "1051/1051 [==============================] - 2s 2ms/step - loss: 1.8589 - mse: 1.8589\n",
            "Epoch 13/50\n",
            "1051/1051 [==============================] - 2s 2ms/step - loss: 1.8453 - mse: 1.8453\n",
            "Epoch 14/50\n",
            "1051/1051 [==============================] - 2s 2ms/step - loss: 1.8460 - mse: 1.8460\n",
            "Epoch 15/50\n",
            "1051/1051 [==============================] - 2s 2ms/step - loss: 1.8444 - mse: 1.8444\n",
            "Epoch 16/50\n",
            "1051/1051 [==============================] - 2s 2ms/step - loss: 1.8365 - mse: 1.8365\n",
            "Epoch 17/50\n",
            "1051/1051 [==============================] - 2s 2ms/step - loss: 1.8302 - mse: 1.8302\n",
            "Epoch 18/50\n",
            "1051/1051 [==============================] - 2s 2ms/step - loss: 1.8214 - mse: 1.8214\n",
            "Epoch 19/50\n",
            "1051/1051 [==============================] - 2s 2ms/step - loss: 1.8178 - mse: 1.8178\n",
            "Epoch 20/50\n",
            "1051/1051 [==============================] - 2s 2ms/step - loss: 1.8239 - mse: 1.8239\n",
            "Epoch 21/50\n",
            "1051/1051 [==============================] - 2s 2ms/step - loss: 1.8219 - mse: 1.8219\n"
          ]
        },
        {
          "output_type": "execute_result",
          "data": {
            "text/plain": [
              "<keras.callbacks.History at 0x7fcbdabda110>"
            ]
          },
          "metadata": {},
          "execution_count": 78
        }
      ]
    },
    {
      "cell_type": "code",
      "metadata": {
        "id": "oYK-3YutWvCQ"
      },
      "source": [
        "y_train_pred = model.predict(X_train)\n",
        "y_test_pred = model.predict(X_test)"
      ],
      "execution_count": 79,
      "outputs": []
    },
    {
      "cell_type": "code",
      "metadata": {
        "id": "CNuLZssttRJv"
      },
      "source": [
        "from sklearn.metrics import r2_score"
      ],
      "execution_count": 80,
      "outputs": []
    },
    {
      "cell_type": "code",
      "metadata": {
        "id": "ChfabSGpWvCR",
        "colab": {
          "base_uri": "https://localhost:8080/"
        },
        "outputId": "e88df2be-5d0b-4700-cdfc-f09853f8ad8f"
      },
      "source": [
        "print(\"The R2 score on the Train set is:\\t{:0.3f}\".format(r2_score(y_train, y_train_pred)))\n",
        "print(\"The R2 score on the Test set is:\\t{:0.3f}\".format(r2_score(y_test, y_test_pred)))"
      ],
      "execution_count": 81,
      "outputs": [
        {
          "output_type": "stream",
          "name": "stdout",
          "text": [
            "The R2 score on the Train set is:\t0.770\n",
            "The R2 score on the Test set is:\t0.770\n"
          ]
        }
      ]
    },
    {
      "cell_type": "markdown",
      "metadata": {
        "id": "7_qyZIvt_VhY"
      },
      "source": [
        "This model performs a bit worse than GB and catboost but better than others. Since we use linear activation function, the last layer will be a linear function of the first layer. So probably hidden layers are not as useful in this case, that's why we didn't observe significant improvement of the score."
      ]
    },
    {
      "cell_type": "markdown",
      "metadata": {
        "id": "cDr4C7t63pfT"
      },
      "source": [
        "#### Classification Problem"
      ]
    },
    {
      "cell_type": "markdown",
      "metadata": {
        "id": "PrqjoL5qARqZ"
      },
      "source": [
        "In this part, I will try to predict whether a particular player will win if he plays agains some other player. So, it's a binary classification problem. The features used for this task are similar to ones used in the regression analysis."
      ]
    },
    {
      "cell_type": "code",
      "metadata": {
        "id": "nt4Oeen0WvCW"
      },
      "source": [
        "features = ['surface', 'tourney_level', \"p1_hand\", \"p2_hand\", \"minutes\", \"p1_rank\", \"p2_rank\",\n",
        "           'p1_Q', 'p1_WC', 'p1_LL', 'p2_Q', 'p2_WC', 'p2_LL', 'ht_diff', 'p1_sign_country',\n",
        "           'p2_sign_country', 'age_diff', 'bpsaved_diff', 'aces_diff', 'df_diff', '1stIn_diff', '1stWon_diff',\n",
        "           '2ndWon_diff', 'outcome']"
      ],
      "execution_count": 82,
      "outputs": []
    },
    {
      "cell_type": "code",
      "metadata": {
        "id": "LtlcGtxFWvCX"
      },
      "source": [
        "X = atp_class[features].drop(['outcome'], axis = 1)\n",
        "y = atp_class['outcome']"
      ],
      "execution_count": 83,
      "outputs": []
    },
    {
      "cell_type": "code",
      "metadata": {
        "id": "ytzXAtDmWvCX"
      },
      "source": [
        "X_train, X_test, y_train, y_test = train_test_split(X, y, test_size=0.3)"
      ],
      "execution_count": 84,
      "outputs": []
    },
    {
      "cell_type": "markdown",
      "metadata": {
        "id": "QUmh1aN4ArP1"
      },
      "source": [
        "First of all, the most common, easiest and sometimes most efficient approach is logistic regression:"
      ]
    },
    {
      "cell_type": "code",
      "metadata": {
        "id": "5JumYvzfPY81",
        "colab": {
          "base_uri": "https://localhost:8080/"
        },
        "outputId": "b53d7c02-1e18-46f9-8c33-5724df0e37b1"
      },
      "source": [
        "LogReg = LogisticRegression()\n",
        "LogReg.fit(X_train, y_train)\n",
        "print(\"The accuracy for train data is\", round(LogReg.score(X_train, y_train), 4))\n",
        "print(\"The accuracy for test data is\", round(LogReg.score(X_test, y_test), 4))"
      ],
      "execution_count": 85,
      "outputs": [
        {
          "output_type": "stream",
          "name": "stdout",
          "text": [
            "The accuracy for train data is 0.9346\n",
            "The accuracy for test data is 0.9357\n"
          ]
        }
      ]
    },
    {
      "cell_type": "markdown",
      "metadata": {
        "id": "citOXhdEBA5W"
      },
      "source": [
        "Apparently, this methods works fine with our data, giving the accuracy of more than 93% for both train and test sets. To make sure that the model is correct, let's take a look at the classification report and confusion matrix:"
      ]
    },
    {
      "cell_type": "code",
      "metadata": {
        "id": "lzV7mAtjsqwp"
      },
      "source": [
        "y_test_preds = LogReg.predict(X_test)"
      ],
      "execution_count": 86,
      "outputs": []
    },
    {
      "cell_type": "code",
      "metadata": {
        "id": "YJnpj5dYs17o",
        "colab": {
          "base_uri": "https://localhost:8080/"
        },
        "outputId": "5d0c87b6-3d7b-4219-bf41-deacb81f62bb"
      },
      "source": [
        "from sklearn.metrics import classification_report\n",
        "print(classification_report(y_test, y_test_preds))"
      ],
      "execution_count": 87,
      "outputs": [
        {
          "output_type": "stream",
          "name": "stdout",
          "text": [
            "              precision    recall  f1-score   support\n",
            "\n",
            "           0       0.93      0.93      0.93      6644\n",
            "           1       0.94      0.94      0.94      8234\n",
            "\n",
            "    accuracy                           0.94     14878\n",
            "   macro avg       0.93      0.94      0.94     14878\n",
            "weighted avg       0.94      0.94      0.94     14878\n",
            "\n"
          ]
        }
      ]
    },
    {
      "cell_type": "markdown",
      "metadata": {
        "id": "X2NTXMhuBU-q"
      },
      "source": [
        "Here we can notice that both precision and recall measures are high for two classes. That is supported by high values of F1 score. Therefore, the classifier works well in both directions."
      ]
    },
    {
      "cell_type": "code",
      "metadata": {
        "id": "mv-cogRxs-67",
        "colab": {
          "base_uri": "https://localhost:8080/"
        },
        "outputId": "302a8d59-ec44-4667-e944-a52b56973d6e"
      },
      "source": [
        "from sklearn.metrics import confusion_matrix\n",
        "print(confusion_matrix(y_test, y_test_preds))"
      ],
      "execution_count": 88,
      "outputs": [
        {
          "output_type": "stream",
          "name": "stdout",
          "text": [
            "[[6167  477]\n",
            " [ 479 7755]]\n"
          ]
        }
      ]
    },
    {
      "cell_type": "markdown",
      "metadata": {
        "id": "IsrZq-CUBTiX"
      },
      "source": [
        "The confusion matrix is a way of tabulating the number of misclassifications, i.e. the number of predicted classes which ended up in a wrong classification bin based on the true classes.\n",
        "\n",
        "The diagonal elements show the number of correct classifications for each class. The off-diagonal elements provides the misclassifications: 477 of the class 0 were misclassified as 1; 479 of the class 1 were misclassified as 0. In total, it makes 956 misclassifications out of roughly 15 thousand, which is obviously a good result.\n",
        "\n",
        "As a next step, I want to check whether it is possible to reduce the dimensions of the data since now there are quite a lot of explanatory variables which makes the model complicated. So, it is necessary to scale data first and then apply PCA and see if some of the components explain the vast majority of the variance:"
      ]
    },
    {
      "cell_type": "code",
      "metadata": {
        "id": "AcKxy_o0WvCb"
      },
      "source": [
        "from sklearn.preprocessing import StandardScaler\n",
        "scaler = StandardScaler()\n",
        "scaler.fit(X)\n",
        "X_scaled = scaler.transform(X)"
      ],
      "execution_count": 89,
      "outputs": []
    },
    {
      "cell_type": "code",
      "metadata": {
        "id": "CgumI4E7sF58"
      },
      "source": [
        "from sklearn.decomposition import PCA\n",
        "model_pca = PCA().fit(X_scaled)"
      ],
      "execution_count": 90,
      "outputs": []
    },
    {
      "cell_type": "markdown",
      "metadata": {
        "id": "MUXuSEYWDGql"
      },
      "source": [
        "Below is the graph showing how much of the variance each component explains:"
      ]
    },
    {
      "cell_type": "code",
      "metadata": {
        "id": "tEjhCiwXt06-",
        "colab": {
          "base_uri": "https://localhost:8080/",
          "height": 456
        },
        "outputId": "e949769b-b0a1-4452-aa31-27b5fc125750"
      },
      "source": [
        "sns.set()\n",
        "fig = plt.figure(figsize=(8, 8));\n",
        "PCA_components = [\"PCA \" + str(i) for i in np.arange(1,24)]\n",
        "plt.bar(PCA_components,model_pca.explained_variance_)\n",
        "plt.gcf().autofmt_xdate()\n",
        "plt.xticks(fontsize=9)\n",
        "plt.show()"
      ],
      "execution_count": 91,
      "outputs": [
        {
          "output_type": "display_data",
          "data": {
            "text/plain": [
              "<Figure size 576x576 with 1 Axes>"
            ],
            "image/png": "[encoded data removed]"
          },
          "metadata": {}
        }
      ]
    },
    {
      "cell_type": "markdown",
      "metadata": {
        "id": "W2aozYthDQiv"
      },
      "source": [
        "Many of the components are quite important and explain a huge part of the total variance. Therefore, it's not that easy to drop even a small number of them. Even if we stick to the first 10 components, the accuracy will drop significantly (by 10%):"
      ]
    },
    {
      "cell_type": "code",
      "metadata": {
        "id": "e0lsRWWouEqn"
      },
      "source": [
        "pca = PCA(n_components= 10).fit(X_scaled)\n",
        "X_pca = pca.transform(X_scaled)"
      ],
      "execution_count": 92,
      "outputs": []
    },
    {
      "cell_type": "code",
      "metadata": {
        "id": "kTx3umXasQNx",
        "colab": {
          "base_uri": "https://localhost:8080/"
        },
        "outputId": "006beee2-cb14-479f-83d6-e9883db57c35"
      },
      "source": [
        "LogReg3 = LogisticRegression()\n",
        "LogReg3.fit(X_pca, y)\n",
        "print(\"The accuracy for train data is\", round(LogReg3.score(X_pca, y), 4))"
      ],
      "execution_count": 93,
      "outputs": [
        {
          "output_type": "stream",
          "name": "stdout",
          "text": [
            "The accuracy for train data is 0.8429\n"
          ]
        }
      ]
    },
    {
      "cell_type": "markdown",
      "metadata": {
        "id": "K_ZqV3RLD4T8"
      },
      "source": [
        "In the regression problem, SVR method (which is analog of SVM) showed one of the best results. For the classification purposes, SVM might be efficient as well. RBF kernel outperformed all other kernels, so I include the output for RBF below:"
      ]
    },
    {
      "cell_type": "code",
      "metadata": {
        "id": "m7zooRmCQ3Cq"
      },
      "source": [
        "Xsc_train, Xsc_test, y_train, y_test = train_test_split(X_scaled, y, test_size=0.3)"
      ],
      "execution_count": 94,
      "outputs": []
    },
    {
      "cell_type": "code",
      "metadata": {
        "id": "KptgotpeQ55R",
        "colab": {
          "base_uri": "https://localhost:8080/"
        },
        "outputId": "756af8c3-ea5f-4c62-ed3d-c8704c0ee9fc"
      },
      "source": [
        "from sklearn.svm import SVC\n",
        "svm = SVC(kernel = 'rbf', C = 0.5)\n",
        "svm.fit(Xsc_train, y_train)"
      ],
      "execution_count": 95,
      "outputs": [
        {
          "output_type": "execute_result",
          "data": {
            "text/plain": [
              "SVC(C=0.5)"
            ]
          },
          "metadata": {},
          "execution_count": 95
        }
      ]
    },
    {
      "cell_type": "code",
      "metadata": {
        "id": "cQAAN5MNREzf",
        "colab": {
          "base_uri": "https://localhost:8080/"
        },
        "outputId": "8286917a-3f48-417c-a5ac-f0b9c04e5d82"
      },
      "source": [
        "print(\"The accuracy for train data is\", round(svm.score(Xsc_train, y_train), 4))\n",
        "print(\"The accuracy for test data is\", round(svm.score(Xsc_test, y_test), 4))"
      ],
      "execution_count": 96,
      "outputs": [
        {
          "output_type": "stream",
          "name": "stdout",
          "text": [
            "The accuracy for train data is 0.9406\n",
            "The accuracy for test data is 0.9305\n"
          ]
        }
      ]
    },
    {
      "cell_type": "markdown",
      "metadata": {
        "id": "EgGxMlzRFijt"
      },
      "source": [
        "The method performed well but nevertheless did not outperform logistic regression in terms of the test data score. Nevertheless, the accuracy is close enough. "
      ]
    },
    {
      "cell_type": "markdown",
      "metadata": {
        "id": "mKzKOVRvHTZT"
      },
      "source": [
        "#### Conclusion"
      ]
    },
    {
      "cell_type": "markdown",
      "metadata": {
        "id": "y4ZuvwvqHZx0"
      },
      "source": [
        "To sum up, the best result for the regression problem was showed by the Gradien Boosting model, reaching $R^2$ of 77.82%. \n",
        "\n",
        "Cat Boost, Neural Nets and SVR performed a bit worse but still satisfactory. Each of the algorithms got $R^2$ above 77%. On the contrary, multiple linear regression performed poorly (the score was lower by ~7-8%). \n",
        "\n",
        "The results for the classification problem are quite different. The accuracy of more than 93% was reached by Logistic Regression and SVM with rbf kernel. "
      ]
    }
  ]
}