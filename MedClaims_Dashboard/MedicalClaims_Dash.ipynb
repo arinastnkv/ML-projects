{
 "cells": [
  {
   "cell_type": "markdown",
   "metadata": {},
   "source": [
    "### Creating a Reporting Dashboard using Dash\n",
    "#### Arina Sitnikova"
   ]
  },
  {
   "cell_type": "code",
   "execution_count": 1,
   "metadata": {},
   "outputs": [],
   "source": [
    "import pandas as pd\n",
    "import numpy as np\n",
    "import matplotlib.pyplot as plt\n",
    "import sklearn as sk\n",
    "%matplotlib inline\n",
    "import warnings\n",
    "warnings.filterwarnings(\"ignore\")\n",
    "import seaborn as sns\n",
    "from millify import prettify\n",
    "from datetime import datetime as dt"
   ]
  },
  {
   "cell_type": "markdown",
   "metadata": {},
   "source": [
    "Loading data and converting all column names to lowercase for convenience:"
   ]
  },
  {
   "cell_type": "code",
   "execution_count": 2,
   "metadata": {
    "scrolled": true
   },
   "outputs": [],
   "source": [
    "df = pd.read_csv('claims_test.csv')\n",
    "df.columns = map(str.lower, df.columns)"
   ]
  },
  {
   "cell_type": "markdown",
   "metadata": {},
   "source": [
    "There seem to be some NA values which we need to handle before creating a dashboard:"
   ]
  },
  {
   "cell_type": "code",
   "execution_count": 3,
   "metadata": {
    "scrolled": true
   },
   "outputs": [
    {
     "data": {
      "text/html": [
       "<div>\n",
       "<style scoped>\n",
       "    .dataframe tbody tr th:only-of-type {\n",
       "        vertical-align: middle;\n",
       "    }\n",
       "\n",
       "    .dataframe tbody tr th {\n",
       "        vertical-align: top;\n",
       "    }\n",
       "\n",
       "    .dataframe thead th {\n",
       "        text-align: right;\n",
       "    }\n",
       "</style>\n",
       "<table border=\"1\" class=\"dataframe\">\n",
       "  <thead>\n",
       "    <tr style=\"text-align: right;\">\n",
       "      <th></th>\n",
       "      <th>month</th>\n",
       "      <th>service_category</th>\n",
       "      <th>claim_specialty</th>\n",
       "      <th>payer</th>\n",
       "      <th>paid_amount</th>\n",
       "    </tr>\n",
       "  </thead>\n",
       "  <tbody>\n",
       "    <tr>\n",
       "      <th>0</th>\n",
       "      <td>201801</td>\n",
       "      <td>AncillaryFFS</td>\n",
       "      <td>NaN</td>\n",
       "      <td>Payer F</td>\n",
       "      <td>128438</td>\n",
       "    </tr>\n",
       "    <tr>\n",
       "      <th>1</th>\n",
       "      <td>201801</td>\n",
       "      <td>AncillaryFFS</td>\n",
       "      <td>NaN</td>\n",
       "      <td>Payer H</td>\n",
       "      <td>66624</td>\n",
       "    </tr>\n",
       "    <tr>\n",
       "      <th>2</th>\n",
       "      <td>201801</td>\n",
       "      <td>AncillaryFFS</td>\n",
       "      <td>NaN</td>\n",
       "      <td>Payer O</td>\n",
       "      <td>118108</td>\n",
       "    </tr>\n",
       "    <tr>\n",
       "      <th>3</th>\n",
       "      <td>201801</td>\n",
       "      <td>AncillaryFFS</td>\n",
       "      <td>NaN</td>\n",
       "      <td>Payer W</td>\n",
       "      <td>1073</td>\n",
       "    </tr>\n",
       "    <tr>\n",
       "      <th>4</th>\n",
       "      <td>201801</td>\n",
       "      <td>AncillaryFFS</td>\n",
       "      <td>ACH</td>\n",
       "      <td>Payer W</td>\n",
       "      <td>604</td>\n",
       "    </tr>\n",
       "  </tbody>\n",
       "</table>\n",
       "</div>"
      ],
      "text/plain": [
       "    month service_category claim_specialty    payer  paid_amount\n",
       "0  201801     AncillaryFFS             NaN  Payer F       128438\n",
       "1  201801     AncillaryFFS             NaN  Payer H        66624\n",
       "2  201801     AncillaryFFS             NaN  Payer O       118108\n",
       "3  201801     AncillaryFFS             NaN  Payer W         1073\n",
       "4  201801     AncillaryFFS             ACH  Payer W          604"
      ]
     },
     "execution_count": 3,
     "metadata": {},
     "output_type": "execute_result"
    }
   ],
   "source": [
    "df.head()"
   ]
  },
  {
   "cell_type": "markdown",
   "metadata": {},
   "source": [
    "In addition, some of the categorical variables can be transformed. That is, 'SpecialistsFFS' and 'SpecialistFFS' are highly likely to belong to the same category. I will address that further."
   ]
  },
  {
   "cell_type": "code",
   "execution_count": 4,
   "metadata": {
    "scrolled": true
   },
   "outputs": [
    {
     "data": {
      "text/plain": [
       "SpecialistsFFS        12296\n",
       "AncillaryFFS           9701\n",
       "InpatientServices      9424\n",
       "OutpatientServices     7582\n",
       "ERServices             3696\n",
       "ASCServices            2643\n",
       "SNFServices            2501\n",
       "SpecialistFFS          1684\n",
       "PCPFFS                 1403\n",
       "PCPEncounter           1222\n",
       "Name: service_category, dtype: int64"
      ]
     },
     "execution_count": 4,
     "metadata": {},
     "output_type": "execute_result"
    }
   ],
   "source": [
    "df['service_category'].value_counts()"
   ]
  },
  {
   "cell_type": "markdown",
   "metadata": {},
   "source": [
    "To normalize text values, I followed a standard procedure: converting a string to lowercase, removing non-alphabetical characters, punctuation and extra white spaces.  "
   ]
  },
  {
   "cell_type": "code",
   "execution_count": 5,
   "metadata": {},
   "outputs": [],
   "source": [
    "def normalize(text):\n",
    "    text = text.str.lower()\n",
    "    text = text.str.replace('\\t', '')\n",
    "    text = text.str.replace('\\W', ' ')\n",
    "    text = text.apply(lambda x: ' '.join(str(x).split()))\n",
    "    return text"
   ]
  },
  {
   "cell_type": "markdown",
   "metadata": {},
   "source": [
    "In addition, the preprocessing part included converting the 'month' variable into the datetime format, transforming several categorical variables (such as the one I mentioned above) and dropping some NA values:"
   ]
  },
  {
   "cell_type": "code",
   "execution_count": 6,
   "metadata": {},
   "outputs": [],
   "source": [
    "def preprocessing(df):\n",
    "    df['year'] = df['month'].astype(str).str[:4].astype(int)\n",
    "    df['month_only'] = df['month'].astype(str).str[4:].astype(int)\n",
    "    df = df[(df['month_only'] > 0) & (df['month_only'] < 13)] #there was a month with a value of 0\n",
    "    df['date'] = df['month'].apply(lambda x: pd.to_datetime(str(x), format='%Y%m'))\n",
    "    df['service_category'] = np.where(df['service_category'] == 'SpecialistFFS', 'SpecialistsFFS', df['service_category'])\n",
    "    df = df.dropna(subset=['claim_specialty'])\n",
    "    df['claim_specialty'] = normalize(df['claim_specialty'])\n",
    "    df = df[df['paid_amount'] > 0]\n",
    "    df = df.drop(['month', 'year', 'month_only'], axis = 1)\n",
    "    return df"
   ]
  },
  {
   "cell_type": "code",
   "execution_count": 7,
   "metadata": {
    "scrolled": true
   },
   "outputs": [
    {
     "data": {
      "text/html": [
       "<div>\n",
       "<style scoped>\n",
       "    .dataframe tbody tr th:only-of-type {\n",
       "        vertical-align: middle;\n",
       "    }\n",
       "\n",
       "    .dataframe tbody tr th {\n",
       "        vertical-align: top;\n",
       "    }\n",
       "\n",
       "    .dataframe thead th {\n",
       "        text-align: right;\n",
       "    }\n",
       "</style>\n",
       "<table border=\"1\" class=\"dataframe\">\n",
       "  <thead>\n",
       "    <tr style=\"text-align: right;\">\n",
       "      <th></th>\n",
       "      <th>service_category</th>\n",
       "      <th>claim_specialty</th>\n",
       "      <th>payer</th>\n",
       "      <th>paid_amount</th>\n",
       "      <th>date</th>\n",
       "    </tr>\n",
       "  </thead>\n",
       "  <tbody>\n",
       "    <tr>\n",
       "      <th>4</th>\n",
       "      <td>AncillaryFFS</td>\n",
       "      <td>ach</td>\n",
       "      <td>Payer W</td>\n",
       "      <td>604</td>\n",
       "      <td>2018-01-01</td>\n",
       "    </tr>\n",
       "    <tr>\n",
       "      <th>6</th>\n",
       "      <td>AncillaryFFS</td>\n",
       "      <td>advanced rn pract</td>\n",
       "      <td>Payer CA</td>\n",
       "      <td>1772</td>\n",
       "      <td>2018-01-01</td>\n",
       "    </tr>\n",
       "    <tr>\n",
       "      <th>7</th>\n",
       "      <td>AncillaryFFS</td>\n",
       "      <td>ambulance</td>\n",
       "      <td>Payer CA</td>\n",
       "      <td>446698</td>\n",
       "      <td>2018-01-01</td>\n",
       "    </tr>\n",
       "    <tr>\n",
       "      <th>8</th>\n",
       "      <td>AncillaryFFS</td>\n",
       "      <td>ambulance</td>\n",
       "      <td>Payer CO</td>\n",
       "      <td>51664</td>\n",
       "      <td>2018-01-01</td>\n",
       "    </tr>\n",
       "    <tr>\n",
       "      <th>9</th>\n",
       "      <td>AncillaryFFS</td>\n",
       "      <td>ambulance</td>\n",
       "      <td>Payer F</td>\n",
       "      <td>1083232</td>\n",
       "      <td>2018-01-01</td>\n",
       "    </tr>\n",
       "  </tbody>\n",
       "</table>\n",
       "</div>"
      ],
      "text/plain": [
       "  service_category    claim_specialty     payer  paid_amount       date\n",
       "4     AncillaryFFS                ach   Payer W          604 2018-01-01\n",
       "6     AncillaryFFS  advanced rn pract  Payer CA         1772 2018-01-01\n",
       "7     AncillaryFFS          ambulance  Payer CA       446698 2018-01-01\n",
       "8     AncillaryFFS          ambulance  Payer CO        51664 2018-01-01\n",
       "9     AncillaryFFS          ambulance   Payer F      1083232 2018-01-01"
      ]
     },
     "execution_count": 7,
     "metadata": {},
     "output_type": "execute_result"
    }
   ],
   "source": [
    "df = preprocessing(df)\n",
    "df.head() #looks much better now!"
   ]
  },
  {
   "cell_type": "markdown",
   "metadata": {},
   "source": [
    "Now I am ready to create a web dashboard. For that purpose, I decided to use Plotly/Dash."
   ]
  },
  {
   "cell_type": "code",
   "execution_count": 9,
   "metadata": {},
   "outputs": [],
   "source": [
    "import dash\n",
    "from dash.dependencies import Input, Output\n",
    "import dash_core_components as dcc\n",
    "import dash_html_components as html\n",
    "import plotly.express as px\n",
    "import plotly.graph_objs as go"
   ]
  },
  {
   "cell_type": "markdown",
   "metadata": {},
   "source": [
    "My final dashboard contains three figures: two charts and one table. The top-left chart allows us to understand how much money each service category has brought in total since the beginning of 2018. For example, we can easily notice that FFS Specialists are by far the most high-paying compared to other services. It is also possible to filter data by categories so we won't lose any small numbers whatsoever.\n",
    "\n",
    "The top-right table provides a better insight into the specialty claims. A dropdown gives us a possibility to explore a wide range of specialty claims. Each selection will help us find out which service categories are more in demand when it comes to some particular claim - based on the total number of claims as well as the total amount of money each service received.\n",
    "\n",
    "Finally, the graph on the bottom shows how much different payers have contributed in the past 2.5 years. The graph has an option of filering data based on both date/period of time and payers."
   ]
  },
  {
   "cell_type": "code",
   "execution_count": 10,
   "metadata": {
    "scrolled": true
   },
   "outputs": [
    {
     "name": "stdout",
     "output_type": "stream",
     "text": [
      "Dash is running on http://127.0.0.1:8050/\n",
      "\n",
      " * Serving Flask app \"__main__\" (lazy loading)\n",
      " * Environment: production\n",
      "\u001b[31m   WARNING: This is a development server. Do not use it in a production deployment.\u001b[0m\n",
      "\u001b[2m   Use a production WSGI server instead.\u001b[0m\n",
      " * Debug mode: off\n"
     ]
    },
    {
     "name": "stderr",
     "output_type": "stream",
     "text": [
      " * Running on http://127.0.0.1:8050/ (Press CTRL+C to quit)\n",
      "127.0.0.1 - - [30/Sep/2020 16:04:11] \"\u001b[37mGET / HTTP/1.1\u001b[0m\" 200 -\n",
      "127.0.0.1 - - [30/Sep/2020 16:04:12] \"\u001b[37mGET /_dash-component-suites/dash_renderer/react@16.v1_7_0m1598690383.13.0.min.js HTTP/1.1\u001b[0m\" 200 -\n",
      "127.0.0.1 - - [30/Sep/2020 16:04:12] \"\u001b[37mGET /_dash-component-suites/dash_renderer/polyfill@7.v1_7_0m1598690383.8.7.min.js HTTP/1.1\u001b[0m\" 200 -\n",
      "127.0.0.1 - - [30/Sep/2020 16:04:12] \"\u001b[37mGET /_dash-component-suites/dash_renderer/react-dom@16.v1_7_0m1598690383.13.0.min.js HTTP/1.1\u001b[0m\" 200 -\n",
      "127.0.0.1 - - [30/Sep/2020 16:04:12] \"\u001b[37mGET /_dash-component-suites/dash_renderer/prop-types@15.v1_7_0m1598690383.7.2.min.js HTTP/1.1\u001b[0m\" 200 -\n",
      "127.0.0.1 - - [30/Sep/2020 16:04:12] \"\u001b[37mGET /_dash-component-suites/dash_core_components/dash_core_components-shared.v1_11_0m1598690383.js HTTP/1.1\u001b[0m\" 200 -\n",
      "127.0.0.1 - - [30/Sep/2020 16:04:12] \"\u001b[37mGET /_dash-component-suites/dash_html_components/dash_html_components.v1_1_0m1598690383.min.js HTTP/1.1\u001b[0m\" 200 -\n",
      "127.0.0.1 - - [30/Sep/2020 16:04:12] \"\u001b[37mGET /_dash-component-suites/dash_core_components/dash_core_components.v1_11_0m1598690383.min.js HTTP/1.1\u001b[0m\" 200 -\n",
      "127.0.0.1 - - [30/Sep/2020 16:04:12] \"\u001b[37mGET /_dash-component-suites/dash_renderer/dash_renderer.v1_7_0m1598690383.min.js HTTP/1.1\u001b[0m\" 200 -\n",
      "127.0.0.1 - - [30/Sep/2020 16:04:13] \"\u001b[37mGET /_favicon.ico?v=1.15.0 HTTP/1.1\u001b[0m\" 200 -\n",
      "127.0.0.1 - - [30/Sep/2020 16:04:13] \"\u001b[37mGET /_dash-dependencies HTTP/1.1\u001b[0m\" 200 -\n",
      "127.0.0.1 - - [30/Sep/2020 16:04:13] \"\u001b[37mGET /_dash-layout HTTP/1.1\u001b[0m\" 200 -\n",
      "127.0.0.1 - - [30/Sep/2020 16:04:13] \"\u001b[37mGET /_dash-component-suites/dash_core_components/async-graph.v1_11_0m1598373133.js HTTP/1.1\u001b[0m\" 200 -\n",
      "127.0.0.1 - - [30/Sep/2020 16:04:13] \"\u001b[37mGET /_dash-component-suites/dash_core_components/async-dropdown.v1_11_0m1598373133.js HTTP/1.1\u001b[0m\" 200 -\n",
      "127.0.0.1 - - [30/Sep/2020 16:04:13] \"\u001b[37mGET /_dash-component-suites/dash_core_components/async-markdown.v1_11_0m1598373133.js HTTP/1.1\u001b[0m\" 200 -\n",
      "127.0.0.1 - - [30/Sep/2020 16:04:14] \"\u001b[37mGET /_dash-component-suites/dash_core_components/async-datepicker.v1_11_0m1598373133.js HTTP/1.1\u001b[0m\" 200 -\n",
      "127.0.0.1 - - [30/Sep/2020 16:04:14] \"\u001b[37mPOST /_dash-update-component HTTP/1.1\u001b[0m\" 200 -\n",
      "127.0.0.1 - - [30/Sep/2020 16:04:14] \"\u001b[37mGET /_dash-component-suites/dash_core_components/async-highlight.v1_11_0m1598373133.js HTTP/1.1\u001b[0m\" 200 -\n",
      "127.0.0.1 - - [30/Sep/2020 16:04:14] \"\u001b[37mPOST /_dash-update-component HTTP/1.1\u001b[0m\" 200 -\n",
      "127.0.0.1 - - [30/Sep/2020 16:04:14] \"\u001b[37mPOST /_dash-update-component HTTP/1.1\u001b[0m\" 200 -\n",
      "127.0.0.1 - - [30/Sep/2020 16:04:14] \"\u001b[37mGET /_dash-component-suites/dash_core_components/async-plotlyjs.v1_11_0m1598373133.js HTTP/1.1\u001b[0m\" 200 -\n"
     ]
    }
   ],
   "source": [
    "external_stylesheets = ['https://codepen.io/chriddyp/pen/bWLwgP.css']\n",
    "\n",
    "app = dash.Dash(__name__, external_stylesheets=external_stylesheets)\n",
    "server = app.server\n",
    "\n",
    "def create_dict_list_of_service():\n",
    "    dictlist = []\n",
    "    unique_list = df['service_category'].unique()\n",
    "    for service in unique_list:\n",
    "        dictlist.append({'value': service, 'label': service})\n",
    "    return dictlist\n",
    "\n",
    "dict_services = create_dict_list_of_service()\n",
    "\n",
    "def create_dict_list_of_payers():\n",
    "    dictlist = []\n",
    "    unique_list = df['payer'].unique()\n",
    "    for payer in unique_list:\n",
    "        dictlist.append({'value': payer, 'label': payer})\n",
    "    return dictlist\n",
    "\n",
    "dict_payers = create_dict_list_of_payers()\n",
    "\n",
    "def create_dict_list_of_claims():\n",
    "    dictlist = []\n",
    "    unique_list = df['claim_specialty'].unique()\n",
    "    for claim in unique_list:\n",
    "        dictlist.append({'value': claim, 'label': claim})\n",
    "    return dictlist\n",
    "\n",
    "dict_claims = create_dict_list_of_claims()\n",
    "\n",
    "app.layout = html.Div([\n",
    "    #Layout and components of the bar chart\n",
    "    html.Div([\n",
    "        html.H4('Total amount paid, by service category'),\n",
    "        dcc.Dropdown(\n",
    "            id = 'service-dropdown',\n",
    "            options = dict_services,\n",
    "            multi = True,\n",
    "            value = list(df.service_category.unique())\n",
    "        ),\n",
    "        dcc.Graph(\n",
    "            id='service-bar'\n",
    "        )\n",
    "    ], style={'width': '48%', 'display': 'inline-block'}),\n",
    "    \n",
    "    ##Layout and components of the html table\n",
    "    html.Div([\n",
    "        html.H4('Focusing on the specialty claims'),\n",
    "        html.P(''),\n",
    "        dcc.Markdown('*Please select a claim below:*'),\n",
    "        dcc.Dropdown(\n",
    "            id = 'claims-dropdown',\n",
    "            options = dict_claims,\n",
    "            value = 'anesthesiology',\n",
    "        ),        \n",
    "        html.Table(id = 'claims-table'),\n",
    "        html.P(''),\n",
    "    ], style = {'width': '48%', 'float': 'right', 'display': 'inline-block'}),\n",
    "\n",
    "    ##Layout and components of the line chart\n",
    "    html.Div([\n",
    "        html.H4('Total amount paid by selected payers, 2018-2020'),\n",
    "        dcc.Dropdown(\n",
    "            id = 'payer-dropdown',\n",
    "            options = dict_payers,\n",
    "            multi = True,\n",
    "            value = list(df.payer.unique())\n",
    "        ),\n",
    "        #parameter to filter data by date range\n",
    "        dcc.DatePickerRange(\n",
    "            id = 'my-date-picker-range',\n",
    "            min_date_allowed = dt(2018, 1, 1),\n",
    "            max_date_allowed = dt(2050, 1, 1),\n",
    "            initial_visible_month=dt(2018, 1, 1),\n",
    "            #end_date=dt(2020, 7, 1).date(),\n",
    "            start_date_placeholder_text = 'MM/DD/YYYY'\n",
    "        ),\n",
    "        dcc.Graph(\n",
    "            id = 'timeseries', animate = True\n",
    "        ), html.P(''),\n",
    "    ], style={'width': '100%', 'display': 'inline-block'})\n",
    "])\n",
    "\n",
    "#Bar chart\n",
    "@app.callback(Output('service-bar', 'figure'), [Input('service-dropdown', 'value')])\n",
    "def update_graph(selected_dropdown_value):\n",
    "    df_filtered = df[(df['service_category'].isin(selected_dropdown_value))]\n",
    "    \n",
    "    group2 = df_filtered.groupby('service_category')['paid_amount'].sum().reset_index()\n",
    "    group2.index = group2['service_category']\n",
    "    \n",
    "    figure = {\n",
    "        'data': [go.Bar(\n",
    "            x = sorted(group2.paid_amount),\n",
    "            y = group2.index,\n",
    "            orientation = 'h'\n",
    "        )],\n",
    "        'layout':go.Layout(\n",
    "            yaxis = dict(\n",
    "                autorange=True,\n",
    "                automargin=True\n",
    "            ),\n",
    "            xaxis = dict(\n",
    "                autorange=True,\n",
    "                automargin = True,\n",
    "                title = 'Total amount, $'\n",
    "            )\n",
    "        )\n",
    "    }\n",
    "    return figure    \n",
    "\n",
    "#Line chart with DatePickerRange & slicers\n",
    "@app.callback(Output('timeseries', 'figure'), [Input('payer-dropdown', 'value'),\n",
    "                                               Input('my-date-picker-range', 'start_date'),\n",
    "                                               Input('my-date-picker-range', 'end_date')])\n",
    "\n",
    "def update_graph(selected_dropdown_value, start_date, end_date):\n",
    "    group1 = df.groupby(['payer', 'date'])['paid_amount'].sum().reset_index()\n",
    "    group1.index = pd.to_datetime(group1['date'])\n",
    "    \n",
    "    trace = []\n",
    "    df_sub = group1\n",
    "    \n",
    "    if start_date is not None:\n",
    "        df_sub = df_sub.loc[start_date:]\n",
    "    \n",
    "    if end_date is not None:\n",
    "        df_sub = df_sub.loc[:end_date]\n",
    "    \n",
    "    for payer in selected_dropdown_value:\n",
    "        trace.append(go.Scatter(x=df_sub[df_sub['payer'] == payer]['date'],\n",
    "                                 y=df_sub[df_sub['payer'] == payer]['paid_amount'],\n",
    "                                 mode='lines',\n",
    "                                 opacity=0.7,\n",
    "                                 name=payer,\n",
    "                                 textposition='bottom center'))\n",
    "    traces = [trace]\n",
    "    data = [val for sublist in traces for val in sublist]\n",
    "\n",
    "\n",
    "    figure = {'data': data,\n",
    "              'layout': go.Layout(\n",
    "                  colorway=[\"#5E0DAC\", '#FF4F00', '#375CB1', '#FF7400', '#FFF400', '#FF0056'],\n",
    "                  paper_bgcolor='rgba(0, 0, 0, 0)',\n",
    "                  plot_bgcolor='rgba(0, 0, 0, 0)',\n",
    "                  margin={'b': 15},\n",
    "                  hovermode='x',\n",
    "                  autosize=True,\n",
    "                  xaxis={'range': [df_sub.index.min(), df_sub.index.max()]}\n",
    "              )}\n",
    "    \n",
    "    return figure\n",
    "\n",
    "#Html table\n",
    "@app.callback(Output('claims-table', 'children'), [Input('claims-dropdown', 'value')])\n",
    "def generate_table(selected_dropdown_value, max_rows = 10):\n",
    "    claims_filter = df[(df['claim_specialty'] == selected_dropdown_value)]\n",
    "    \n",
    "    service_count = pd.DataFrame(claims_filter['service_category'].value_counts()).reset_index()\n",
    "    service_count.columns = ['service_category', 'claims_number']\n",
    "    \n",
    "    frequent_payer = pd.DataFrame(claims_filter.groupby('service_category')['payer'].apply(lambda x: x.value_counts().head(1))).reset_index()\n",
    "    frequent_payer.columns = ['service_category', 'most_frequent_payer', 'total_no_payer']\n",
    "    frequent_payer = frequent_payer.drop('total_no_payer', axis = 1)\n",
    "    \n",
    "    service_pay = claims_filter.groupby('service_category')['paid_amount'].sum().reset_index()\n",
    "    \n",
    "    some_df = service_pay.merge(service_count.merge(frequent_payer)).sort_values(['paid_amount', 'claims_number'], ascending = False)\n",
    "    some_df.columns = ['Service category', 'Total amount paid', 'Total number of claims', 'Most frequent payer']\n",
    "    some_df['Total amount paid'] = some_df['Total amount paid'].apply(lambda x: '$' + str(prettify(x)))\n",
    "    \n",
    "    return html.Table([html.Tr([html.Th(col) for col in some_df.columns])] + [html.Tr([\n",
    "        html.Td(some_df.iloc[i][col]) for col in some_df.columns\n",
    "    ]) for i in range(min(len(some_df), max_rows))])\n",
    "\n",
    "\n",
    "if __name__ == '__main__':\n",
    "    app.run_server()"
   ]
  },
  {
   "cell_type": "code",
   "execution_count": null,
   "metadata": {},
   "outputs": [],
   "source": []
  }
 ],
 "metadata": {
  "kernelspec": {
   "display_name": "Python 3",
   "language": "python",
   "name": "python3"
  },
  "language_info": {
   "codemirror_mode": {
    "name": "ipython",
    "version": 3
   },
   "file_extension": ".py",
   "mimetype": "text/x-python",
   "name": "python",
   "nbconvert_exporter": "python",
   "pygments_lexer": "ipython3",
   "version": "3.7.1"
  }
 },
 "nbformat": 4,
 "nbformat_minor": 2
}
